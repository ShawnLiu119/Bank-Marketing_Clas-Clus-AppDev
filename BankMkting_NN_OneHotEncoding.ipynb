{
  "nbformat": 4,
  "nbformat_minor": 0,
  "metadata": {
    "colab": {
      "name": "BankMkting_featureengineering.ipynb",
      "provenance": [],
      "authorship_tag": "ABX9TyPP239Rjy/A0QyJXf7Hix5L",
      "include_colab_link": true
    },
    "kernelspec": {
      "name": "python3",
      "display_name": "Python 3"
    },
    "language_info": {
      "name": "python"
    }
  },
  "cells": [
    {
      "cell_type": "markdown",
      "metadata": {
        "id": "view-in-github",
        "colab_type": "text"
      },
      "source": [
        "<a href=\"https://colab.research.google.com/github/ShawnLiu119/CapstoneProject_BankingMarketing/blob/main/BankMkting_NN_OneHotEncoding.ipynb\" target=\"_parent\"><img src=\"https://colab.research.google.com/assets/colab-badge.svg\" alt=\"Open In Colab\"/></a>"
      ]
    },
    {
      "cell_type": "code",
      "source": [
        "from sklearn.metrics import accuracy_score\n",
        "from sklearn.metrics import roc_auc_score\n",
        "import numpy as np\n",
        "import pandas as pd \n",
        "import os\n",
        "from sklearn.tree import DecisionTreeClassifier\n",
        "from sklearn.tree import plot_tree\n",
        "from sklearn.model_selection import train_test_split\n",
        "from sklearn.model_selection import cross_val_score\n",
        "from sklearn.metrics import confusion_matrix\n",
        "from sklearn.metrics import plot_confusion_matrix\n",
        "from sklearn.model_selection import train_test_split\n",
        "from sklearn.model_selection import RandomizedSearchCV\n",
        "from sklearn.neighbors import KNeighborsClassifier\n",
        "from sklearn.preprocessing import StandardScaler\n",
        "from sklearn.ensemble import RandomForestClassifier\n",
        "import seaborn as sns\n",
        "import matplotlib.pyplot as plt \n",
        "from sklearn import metrics\n",
        "from sklearn.metrics import accuracy_score, f1_score, precision_score, recall_score, classification_report, confusion_matrix,r2_score\n",
        "from sklearn import model_selection\n",
        "from sklearn.ensemble import BaggingClassifier\n",
        "import warnings\n",
        "from imblearn.over_sampling import SMOTE\n",
        "warnings.filterwarnings('ignore')\n",
        "import tensorflow as tf\n",
        "from tensorflow import keras \n",
        "from tensorflow import keras\n",
        "from tensorflow.keras.models import Sequential\n",
        "from tensorflow.keras.layers import Dense, Dropout, Flatten\n",
        "from tensorflow.keras.optimizers import Adam \n",
        "from sklearn.metrics import accuracy_score\n",
        "from sklearn.metrics import confusion_matrix"
      ],
      "metadata": {
        "id": "8TvW0SUbKssy"
      },
      "execution_count": 28,
      "outputs": []
    },
    {
      "cell_type": "code",
      "source": [
        "url = 'https://raw.githubusercontent.com/ShawnLiu119/CapstoneProject_BankingMarketing/main/rawdata/bank-additional-full.csv'\n",
        "data = pd.read_csv(url, sep=';')"
      ],
      "metadata": {
        "id": "1FiIE4lzcJcW"
      },
      "execution_count": 3,
      "outputs": []
    },
    {
      "cell_type": "markdown",
      "source": [
        "### General Function Setup"
      ],
      "metadata": {
        "id": "n1y0CKAMzN4C"
      }
    },
    {
      "cell_type": "code",
      "source": [
        "#one hot encoding function\n",
        "def one_hot(df):\n",
        "    y = df['y'].apply(lambda x: 0 if x=='no' else (1 if x=='yes' else -1))\n",
        "    x = df.drop('y', axis=1)\n",
        "    x_dum = pd.get_dummies(x)\n",
        "    return x, y\n",
        "\n",
        "\n",
        "#train_test_split\n",
        "def scale_split(x, y, test_size):\n",
        "    scaler = MinMaxScaler()\n",
        "    df_sca = scaler.fit_transform(x)\n",
        "    x_train,x_test,y_train,y_test = train_test_split(x, y, test_size = test_size, random_state=42)\n",
        "    print(x_train.shape, x_test.shape,y_train.shape,y_test.shape)\n",
        "    return x_train,x_test,y_train,y_test\n"
      ],
      "metadata": {
        "id": "XatZocuozMSm"
      },
      "execution_count": 4,
      "outputs": []
    },
    {
      "cell_type": "markdown",
      "source": [
        "### Data Transformation - V1 (Agreed on Team Discussion)"
      ],
      "metadata": {
        "id": "BeRBJ8ZMc345"
      }
    },
    {
      "cell_type": "code",
      "source": [
        "data['education'].value_counts()\n",
        "\n",
        "data_1 = data.copy()\n",
        "data_1 = data_1[data_1['education'] != 'illiterate']\n",
        "\n",
        "data_1['edu_new'] = data_1['education'].map({'basic.4y': 'pre_high', \n",
        "                                         'basic.9y': 'pre_high',\n",
        "                                         'basic.6y': 'pre_high',\n",
        "                                         'university.degree' : 'post_high',\n",
        "                                         'professional.course':'post_high',\n",
        "                                         'high.school' : 'high',\n",
        "                                         'unknown' :'unknown' })"
      ],
      "metadata": {
        "id": "bbhSCh5ncQmI"
      },
      "execution_count": 5,
      "outputs": []
    },
    {
      "cell_type": "code",
      "source": [
        "def map_job(row):\n",
        "    if row['job'] in ['admin.', 'management', 'entrepreneur','self-employed']:\n",
        "        cat = 'white_collar'\n",
        "    elif row['job'] in ['housemaid', 'blue-collar', 'technician', 'services']:\n",
        "        cat = 'blue_collar'\n",
        "    elif row['job'] in ['student', 'retired', 'unemployed']:\n",
        "        cat = 'not_working'\n",
        "    else:\n",
        "        cat = 'unknown'\n",
        "    return cat\n",
        "\n",
        "data_1['job_new'] = data_1.apply(map_job, axis=1)\n",
        "data_1['job_new'].value_counts(dropna = False)"
      ],
      "metadata": {
        "colab": {
          "base_uri": "https://localhost:8080/"
        },
        "id": "eHGAdfSkcS5b",
        "outputId": "4aefeec0-e529-4b4e-f212-fb7dbd1c9ff0"
      },
      "execution_count": 6,
      "outputs": [
        {
          "output_type": "execute_result",
          "data": {
            "text/plain": [
              "blue_collar     21017\n",
              "white_collar    16217\n",
              "not_working      3606\n",
              "unknown           330\n",
              "Name: job_new, dtype: int64"
            ]
          },
          "metadata": {},
          "execution_count": 6
        }
      ]
    },
    {
      "cell_type": "code",
      "source": [
        "def map_month(row):\n",
        "    if row['month'] in ['mar', 'apr', 'may']:\n",
        "        cat = 'spring'\n",
        "    elif row['month'] in ['jun', 'jul', 'aug']:\n",
        "        cat = 'summer'\n",
        "    elif row['month'] in ['sep', 'oct', 'nov']:\n",
        "        cat = 'fall'\n",
        "    else:\n",
        "        cat = 'winter'\n",
        "    return cat\n",
        "\n",
        "data_1['season'] = data_1.apply(map_month, axis=1)\n",
        "data_1['season'].value_counts(dropna = False)"
      ],
      "metadata": {
        "colab": {
          "base_uri": "https://localhost:8080/"
        },
        "id": "94-u-jWxcU_5",
        "outputId": "70e5cf61-a0a6-4a71-9a9e-0c6eab0c8fb2"
      },
      "execution_count": 7,
      "outputs": [
        {
          "output_type": "execute_result",
          "data": {
            "text/plain": [
              "summer    18660\n",
              "spring    16942\n",
              "fall       5386\n",
              "winter      182\n",
              "Name: season, dtype: int64"
            ]
          },
          "metadata": {},
          "execution_count": 7
        }
      ]
    },
    {
      "cell_type": "code",
      "source": [
        "data_1.columns"
      ],
      "metadata": {
        "colab": {
          "base_uri": "https://localhost:8080/"
        },
        "id": "MTQZAXjLcXVU",
        "outputId": "cf12395b-525d-43f8-e171-d1c71001e8e3"
      },
      "execution_count": 8,
      "outputs": [
        {
          "output_type": "execute_result",
          "data": {
            "text/plain": [
              "Index(['age', 'job', 'marital', 'education', 'default', 'housing', 'loan',\n",
              "       'contact', 'month', 'day_of_week', 'duration', 'campaign', 'pdays',\n",
              "       'previous', 'poutcome', 'emp.var.rate', 'cons.price.idx',\n",
              "       'cons.conf.idx', 'euribor3m', 'nr.employed', 'y', 'edu_new', 'job_new',\n",
              "       'season'],\n",
              "      dtype='object')"
            ]
          },
          "metadata": {},
          "execution_count": 8
        }
      ]
    },
    {
      "cell_type": "code",
      "source": [
        "#This transformed dataframe is based on group discussion on 7/23\n",
        "# - keep all numerical features as they are\n",
        "# - consolidate categorical features (education, job, season) and drop originial ones\n",
        "\n",
        "df_tran_1 = data_1[['age', 'marital', 'default', 'housing', 'loan',\n",
        "       'contact', 'day_of_week', 'duration', 'campaign', 'pdays',\n",
        "       'previous', 'poutcome', 'emp.var.rate', 'cons.price.idx',\n",
        "       'cons.conf.idx', 'euribor3m', 'nr.employed', 'y', 'edu_new', 'job_new', 'season']]"
      ],
      "metadata": {
        "id": "AdtaLk4ycY_5"
      },
      "execution_count": 9,
      "outputs": []
    },
    {
      "cell_type": "code",
      "source": [
        "df_tran_1.shape\n",
        "#this is because we removed illiterate"
      ],
      "metadata": {
        "colab": {
          "base_uri": "https://localhost:8080/"
        },
        "id": "glqegqalI_rs",
        "outputId": "1b56fb2b-c624-476d-8bea-a27e867ee0cd"
      },
      "execution_count": 10,
      "outputs": [
        {
          "output_type": "execute_result",
          "data": {
            "text/plain": [
              "(41170, 21)"
            ]
          },
          "metadata": {},
          "execution_count": 10
        }
      ]
    },
    {
      "cell_type": "code",
      "source": [
        "df_tran_1 = df_tran_1.drop(['duration'], axis=1)\n",
        "df_tran_1.columns"
      ],
      "metadata": {
        "colab": {
          "base_uri": "https://localhost:8080/"
        },
        "id": "FfhleyPscknX",
        "outputId": "7377ca66-2679-4b8b-d505-d53add5d4c3d"
      },
      "execution_count": 11,
      "outputs": [
        {
          "output_type": "execute_result",
          "data": {
            "text/plain": [
              "Index(['age', 'marital', 'default', 'housing', 'loan', 'contact',\n",
              "       'day_of_week', 'campaign', 'pdays', 'previous', 'poutcome',\n",
              "       'emp.var.rate', 'cons.price.idx', 'cons.conf.idx', 'euribor3m',\n",
              "       'nr.employed', 'y', 'edu_new', 'job_new', 'season'],\n",
              "      dtype='object')"
            ]
          },
          "metadata": {},
          "execution_count": 11
        }
      ]
    },
    {
      "cell_type": "markdown",
      "source": [
        "### One Hot Encoding For Categorical Features"
      ],
      "metadata": {
        "id": "2F1p0tiPHKJC"
      }
    },
    {
      "cell_type": "code",
      "source": [
        "y = df_tran_1['y'].apply(lambda x: 0 if x=='no' else (1 if x=='yes' else -1))\n",
        "y.value_counts()"
      ],
      "metadata": {
        "colab": {
          "base_uri": "https://localhost:8080/"
        },
        "id": "9C3ghJDEIJYU",
        "outputId": "b8344984-421a-44a3-994c-8c49d281ccaf"
      },
      "execution_count": 12,
      "outputs": [
        {
          "output_type": "execute_result",
          "data": {
            "text/plain": [
              "0    36534\n",
              "1     4636\n",
              "Name: y, dtype: int64"
            ]
          },
          "metadata": {},
          "execution_count": 12
        }
      ]
    },
    {
      "cell_type": "code",
      "source": [
        "x = df_tran_1.drop('y', axis=1)"
      ],
      "metadata": {
        "id": "8k4PWWzGIuaQ"
      },
      "execution_count": 13,
      "outputs": []
    },
    {
      "cell_type": "code",
      "source": [
        "df_raw = pd.get_dummies(x)\n",
        "df_raw.columns"
      ],
      "metadata": {
        "colab": {
          "base_uri": "https://localhost:8080/"
        },
        "id": "H4k_fjhNHJPi",
        "outputId": "38d50776-9695-4c7c-990b-b32ccb27035d"
      },
      "execution_count": 17,
      "outputs": [
        {
          "output_type": "execute_result",
          "data": {
            "text/plain": [
              "Index(['age', 'campaign', 'pdays', 'previous', 'emp.var.rate',\n",
              "       'cons.price.idx', 'cons.conf.idx', 'euribor3m', 'nr.employed',\n",
              "       'marital_divorced', 'marital_married', 'marital_single',\n",
              "       'marital_unknown', 'default_no', 'default_unknown', 'default_yes',\n",
              "       'housing_no', 'housing_unknown', 'housing_yes', 'loan_no',\n",
              "       'loan_unknown', 'loan_yes', 'contact_cellular', 'contact_telephone',\n",
              "       'day_of_week_fri', 'day_of_week_mon', 'day_of_week_thu',\n",
              "       'day_of_week_tue', 'day_of_week_wed', 'poutcome_failure',\n",
              "       'poutcome_nonexistent', 'poutcome_success', 'edu_new_high',\n",
              "       'edu_new_post_high', 'edu_new_pre_high', 'edu_new_unknown',\n",
              "       'job_new_blue_collar', 'job_new_not_working', 'job_new_unknown',\n",
              "       'job_new_white_collar', 'season_fall', 'season_spring', 'season_summer',\n",
              "       'season_winter'],\n",
              "      dtype='object')"
            ]
          },
          "metadata": {},
          "execution_count": 17
        }
      ]
    },
    {
      "cell_type": "code",
      "source": [
        "#drop the unknow columns to resolve the multicollinearity\n",
        "\n",
        "df_raw = df_raw.drop(['marital_unknown', 'default_unknown', 'housing_unknown', 'loan_unknown', 'edu_new_unknown', 'job_new_unknown'], axis=1)\n",
        "df_raw.shape"
      ],
      "metadata": {
        "colab": {
          "base_uri": "https://localhost:8080/"
        },
        "id": "gq3rt2OsHrSS",
        "outputId": "f81a9a9b-df49-4743-e6dc-92f0172ff404"
      },
      "execution_count": 18,
      "outputs": [
        {
          "output_type": "execute_result",
          "data": {
            "text/plain": [
              "(41170, 38)"
            ]
          },
          "metadata": {},
          "execution_count": 18
        }
      ]
    },
    {
      "cell_type": "markdown",
      "source": [
        "### Train-Test Split & Data Normalization"
      ],
      "metadata": {
        "id": "7ieyi_1SKBZX"
      }
    },
    {
      "cell_type": "code",
      "source": [
        "from sklearn.preprocessing import MinMaxScaler\n",
        "\n",
        "scaler = MinMaxScaler()\n",
        "df_raw = scaler.fit_transform(df_raw)"
      ],
      "metadata": {
        "id": "Y6xc2akgNZCK"
      },
      "execution_count": 19,
      "outputs": []
    },
    {
      "cell_type": "code",
      "source": [
        "df_raw"
      ],
      "metadata": {
        "colab": {
          "base_uri": "https://localhost:8080/"
        },
        "id": "g7Qo1fvEXtGW",
        "outputId": "23f09ce7-f82b-417e-a110-bf5777ece173"
      },
      "execution_count": 20,
      "outputs": [
        {
          "output_type": "execute_result",
          "data": {
            "text/plain": [
              "array([[0.48148148, 0.        , 1.        , ..., 1.        , 0.        ,\n",
              "        0.        ],\n",
              "       [0.49382716, 0.        , 1.        , ..., 1.        , 0.        ,\n",
              "        0.        ],\n",
              "       [0.24691358, 0.        , 1.        , ..., 1.        , 0.        ,\n",
              "        0.        ],\n",
              "       ...,\n",
              "       [0.48148148, 0.01818182, 1.        , ..., 0.        , 0.        ,\n",
              "        0.        ],\n",
              "       [0.33333333, 0.        , 1.        , ..., 0.        , 0.        ,\n",
              "        0.        ],\n",
              "       [0.7037037 , 0.03636364, 1.        , ..., 0.        , 0.        ,\n",
              "        0.        ]])"
            ]
          },
          "metadata": {},
          "execution_count": 20
        }
      ]
    },
    {
      "cell_type": "code",
      "source": [
        "#here i used stratified sampling approach, since the raw data is not balanced distributed\n",
        "x_train,x_test,y_train,y_test = train_test_split(df_raw, y, test_size = 0.2, stratify=y, random_state=42)\n",
        "print(x_train.shape,\n",
        "      x_test.shape,\n",
        "      y_train.shape,\n",
        "      y_test.shape)"
      ],
      "metadata": {
        "colab": {
          "base_uri": "https://localhost:8080/"
        },
        "id": "BrdyrKTrHrPd",
        "outputId": "907c8ba5-c44c-40b2-d643-2fc02b39cd25"
      },
      "execution_count": 21,
      "outputs": [
        {
          "output_type": "stream",
          "name": "stdout",
          "text": [
            "(32936, 38) (8234, 38) (32936,) (8234,)\n"
          ]
        }
      ]
    },
    {
      "cell_type": "markdown",
      "source": [
        "### Balancing the data using SMOTE\n",
        "\n",
        "https://towardsdatascience.com/all-about-imbalanced-machine-learning-classifiers-60563014d2b3\n"
      ],
      "metadata": {
        "id": "7MQKTaWlzPA3"
      }
    },
    {
      "cell_type": "code",
      "source": [
        "pip install -U imbalanced-learn"
      ],
      "metadata": {
        "colab": {
          "base_uri": "https://localhost:8080/",
          "height": 439
        },
        "id": "tbj26liCxuxL",
        "outputId": "e12b2c9f-5e7a-4b81-83f9-287707bc60d6"
      },
      "execution_count": null,
      "outputs": [
        {
          "output_type": "stream",
          "name": "stdout",
          "text": [
            "Looking in indexes: https://pypi.org/simple, https://us-python.pkg.dev/colab-wheels/public/simple/\n",
            "Requirement already satisfied: imbalanced-learn in /usr/local/lib/python3.7/dist-packages (0.8.1)\n",
            "Collecting imbalanced-learn\n",
            "  Downloading imbalanced_learn-0.9.1-py3-none-any.whl (199 kB)\n",
            "\u001b[K     |████████████████████████████████| 199 kB 16.0 MB/s \n",
            "\u001b[?25h  Downloading imbalanced_learn-0.9.0-py3-none-any.whl (199 kB)\n",
            "\u001b[K     |████████████████████████████████| 199 kB 41.3 MB/s \n",
            "\u001b[?25hRequirement already satisfied: numpy>=1.14.6 in /usr/local/lib/python3.7/dist-packages (from imbalanced-learn) (1.21.6)\n",
            "Requirement already satisfied: scipy>=1.1.0 in /usr/local/lib/python3.7/dist-packages (from imbalanced-learn) (1.7.3)\n",
            "Requirement already satisfied: scikit-learn>=1.0.1 in /usr/local/lib/python3.7/dist-packages (from imbalanced-learn) (1.0.2)\n",
            "Requirement already satisfied: joblib>=0.11 in /usr/local/lib/python3.7/dist-packages (from imbalanced-learn) (1.1.0)\n",
            "Requirement already satisfied: threadpoolctl>=2.0.0 in /usr/local/lib/python3.7/dist-packages (from imbalanced-learn) (3.1.0)\n",
            "Installing collected packages: imbalanced-learn\n",
            "  Attempting uninstall: imbalanced-learn\n",
            "    Found existing installation: imbalanced-learn 0.8.1\n",
            "    Uninstalling imbalanced-learn-0.8.1:\n",
            "      Successfully uninstalled imbalanced-learn-0.8.1\n",
            "Successfully installed imbalanced-learn-0.9.0\n"
          ]
        },
        {
          "output_type": "display_data",
          "data": {
            "application/vnd.colab-display-data+json": {
              "pip_warning": {
                "packages": [
                  "imblearn"
                ]
              }
            }
          },
          "metadata": {}
        }
      ]
    },
    {
      "cell_type": "code",
      "source": [
        "import imblearn\n",
        "\n",
        "smote = SMOTE()\n",
        "\n",
        "x_s, y_s = smote.fit_resample(x_train, y_train)\n",
        "\n",
        "print('Original dataset shape', len(x_train))\n",
        "print('Resampled dataset shape', len(x_s))"
      ],
      "metadata": {
        "colab": {
          "base_uri": "https://localhost:8080/"
        },
        "id": "oNyXi6IBxuum",
        "outputId": "0aa5eb5d-ca25-45a0-a678-1c3c5067181d"
      },
      "execution_count": 22,
      "outputs": [
        {
          "output_type": "stream",
          "name": "stdout",
          "text": [
            "Original dataset shape 32936\n",
            "Resampled dataset shape 58454\n"
          ]
        }
      ]
    },
    {
      "cell_type": "code",
      "source": [
        "y_s.value_counts()"
      ],
      "metadata": {
        "colab": {
          "base_uri": "https://localhost:8080/"
        },
        "id": "eSwRKjw5Nvjo",
        "outputId": "660e2b00-cf44-4cbf-e385-43e7bcae1173"
      },
      "execution_count": 23,
      "outputs": [
        {
          "output_type": "execute_result",
          "data": {
            "text/plain": [
              "0    29227\n",
              "1    29227\n",
              "Name: y, dtype: int64"
            ]
          },
          "metadata": {},
          "execution_count": 23
        }
      ]
    },
    {
      "cell_type": "markdown",
      "source": [
        "### Classification with Neural Network"
      ],
      "metadata": {
        "id": "bTJhsSl5N3Fl"
      }
    },
    {
      "cell_type": "code",
      "source": [
        "#use the same model architecture as NN based on one-hot encoding\n",
        "model = Sequential()\n",
        "model.add(Flatten(input_shape=( x_s.shape[1],)))\n",
        "model.add(Dense(units = 64, kernel_initializer = 'he_uniform',activation='relu'))\n",
        "model.add(Dense(units = 16, kernel_initializer = 'he_uniform',activation='relu', kernel_regularizer=tf.keras.regularizers.L2(0.01)))\n",
        "model.add(Dropout(0.2))\n",
        "model.add(Dense(units = 1, kernel_initializer = 'glorot_uniform', activation = 'sigmoid'))"
      ],
      "metadata": {
        "id": "ZfR0lfaFMZWW"
      },
      "execution_count": 29,
      "outputs": []
    },
    {
      "cell_type": "markdown",
      "source": [
        "may need to revisit the kernel initialization and tweaking the model\n",
        "here is the reference:https://www.kaggle.com/code/trolukovich/glorot-vs-he-weight-initialization-experiment/notebook"
      ],
      "metadata": {
        "id": "N2hLHHLlUmD2"
      }
    },
    {
      "cell_type": "code",
      "source": [
        "model.compile(optimizer = 'adamax', loss = 'binary_crossentropy', metrics = ['accuracy'])\n",
        "model.summary()"
      ],
      "metadata": {
        "colab": {
          "base_uri": "https://localhost:8080/"
        },
        "id": "uhdkDf94U3Bp",
        "outputId": "72e7c0bd-e9fa-4b53-d6d4-e692e361fc7e"
      },
      "execution_count": 30,
      "outputs": [
        {
          "output_type": "stream",
          "name": "stdout",
          "text": [
            "Model: \"sequential_2\"\n",
            "_________________________________________________________________\n",
            " Layer (type)                Output Shape              Param #   \n",
            "=================================================================\n",
            " flatten (Flatten)           (None, 38)                0         \n",
            "                                                                 \n",
            " dense_6 (Dense)             (None, 64)                2496      \n",
            "                                                                 \n",
            " dense_7 (Dense)             (None, 16)                1040      \n",
            "                                                                 \n",
            " dropout_2 (Dropout)         (None, 16)                0         \n",
            "                                                                 \n",
            " dense_8 (Dense)             (None, 1)                 17        \n",
            "                                                                 \n",
            "=================================================================\n",
            "Total params: 3,553\n",
            "Trainable params: 3,553\n",
            "Non-trainable params: 0\n",
            "_________________________________________________________________\n"
          ]
        }
      ]
    },
    {
      "cell_type": "code",
      "source": [
        "model_history = model.fit(x_s, y_s,validation_split=0.33, batch_size = 100, epochs = 100)"
      ],
      "metadata": {
        "colab": {
          "base_uri": "https://localhost:8080/"
        },
        "id": "ZP5G2rjdxurw",
        "outputId": "1022f540-fc17-4eb3-bce3-f7e5c767e98e"
      },
      "execution_count": 32,
      "outputs": [
        {
          "output_type": "stream",
          "name": "stdout",
          "text": [
            "Epoch 1/100\n",
            "392/392 [==============================] - 1s 3ms/step - loss: 0.5123 - accuracy: 0.8037 - val_loss: 1.1175 - val_accuracy: 0.4101\n",
            "Epoch 2/100\n",
            "392/392 [==============================] - 1s 3ms/step - loss: 0.4997 - accuracy: 0.8040 - val_loss: 1.0914 - val_accuracy: 0.4254\n",
            "Epoch 3/100\n",
            "392/392 [==============================] - 1s 3ms/step - loss: 0.4869 - accuracy: 0.8060 - val_loss: 1.0909 - val_accuracy: 0.4249\n",
            "Epoch 4/100\n",
            "392/392 [==============================] - 1s 3ms/step - loss: 0.4772 - accuracy: 0.8070 - val_loss: 1.1497 - val_accuracy: 0.3824\n",
            "Epoch 5/100\n",
            "392/392 [==============================] - 1s 3ms/step - loss: 0.4709 - accuracy: 0.8079 - val_loss: 1.0661 - val_accuracy: 0.4154\n",
            "Epoch 6/100\n",
            "392/392 [==============================] - 1s 3ms/step - loss: 0.4636 - accuracy: 0.8094 - val_loss: 1.0385 - val_accuracy: 0.4286\n",
            "Epoch 7/100\n",
            "392/392 [==============================] - 1s 3ms/step - loss: 0.4613 - accuracy: 0.8089 - val_loss: 1.0293 - val_accuracy: 0.4438\n",
            "Epoch 8/100\n",
            "392/392 [==============================] - 1s 3ms/step - loss: 0.4584 - accuracy: 0.8096 - val_loss: 1.0259 - val_accuracy: 0.4419\n",
            "Epoch 9/100\n",
            "392/392 [==============================] - 1s 3ms/step - loss: 0.4551 - accuracy: 0.8110 - val_loss: 1.0278 - val_accuracy: 0.4507\n",
            "Epoch 10/100\n",
            "392/392 [==============================] - 1s 3ms/step - loss: 0.4547 - accuracy: 0.8087 - val_loss: 1.0146 - val_accuracy: 0.4437\n",
            "Epoch 11/100\n",
            "392/392 [==============================] - 1s 3ms/step - loss: 0.4530 - accuracy: 0.8110 - val_loss: 1.0375 - val_accuracy: 0.4413\n",
            "Epoch 12/100\n",
            "392/392 [==============================] - 1s 3ms/step - loss: 0.4520 - accuracy: 0.8116 - val_loss: 1.0355 - val_accuracy: 0.4363\n",
            "Epoch 13/100\n",
            "392/392 [==============================] - 1s 3ms/step - loss: 0.4519 - accuracy: 0.8119 - val_loss: 1.0608 - val_accuracy: 0.4235\n",
            "Epoch 14/100\n",
            "392/392 [==============================] - 1s 3ms/step - loss: 0.4494 - accuracy: 0.8123 - val_loss: 1.0660 - val_accuracy: 0.4157\n",
            "Epoch 15/100\n",
            "392/392 [==============================] - 1s 3ms/step - loss: 0.4491 - accuracy: 0.8139 - val_loss: 1.0001 - val_accuracy: 0.4743\n",
            "Epoch 16/100\n",
            "392/392 [==============================] - 1s 3ms/step - loss: 0.4476 - accuracy: 0.8114 - val_loss: 0.9963 - val_accuracy: 0.4613\n",
            "Epoch 17/100\n",
            "392/392 [==============================] - 1s 3ms/step - loss: 0.4478 - accuracy: 0.8131 - val_loss: 0.9882 - val_accuracy: 0.4541\n",
            "Epoch 18/100\n",
            "392/392 [==============================] - 1s 3ms/step - loss: 0.4456 - accuracy: 0.8137 - val_loss: 1.0278 - val_accuracy: 0.4428\n",
            "Epoch 19/100\n",
            "392/392 [==============================] - 1s 3ms/step - loss: 0.4466 - accuracy: 0.8132 - val_loss: 1.0074 - val_accuracy: 0.4606\n",
            "Epoch 20/100\n",
            "392/392 [==============================] - 1s 3ms/step - loss: 0.4449 - accuracy: 0.8136 - val_loss: 0.9593 - val_accuracy: 0.4957\n",
            "Epoch 21/100\n",
            "392/392 [==============================] - 1s 3ms/step - loss: 0.4438 - accuracy: 0.8134 - val_loss: 1.0119 - val_accuracy: 0.4544\n",
            "Epoch 22/100\n",
            "392/392 [==============================] - 2s 5ms/step - loss: 0.4437 - accuracy: 0.8138 - val_loss: 0.9721 - val_accuracy: 0.4937\n",
            "Epoch 23/100\n",
            "392/392 [==============================] - 1s 3ms/step - loss: 0.4422 - accuracy: 0.8149 - val_loss: 1.0257 - val_accuracy: 0.4609\n",
            "Epoch 24/100\n",
            "392/392 [==============================] - 1s 3ms/step - loss: 0.4421 - accuracy: 0.8151 - val_loss: 1.0288 - val_accuracy: 0.4592\n",
            "Epoch 25/100\n",
            "392/392 [==============================] - 1s 3ms/step - loss: 0.4406 - accuracy: 0.8165 - val_loss: 0.9983 - val_accuracy: 0.4660\n",
            "Epoch 26/100\n",
            "392/392 [==============================] - 1s 3ms/step - loss: 0.4415 - accuracy: 0.8148 - val_loss: 0.9596 - val_accuracy: 0.4882\n",
            "Epoch 27/100\n",
            "392/392 [==============================] - 1s 3ms/step - loss: 0.4399 - accuracy: 0.8158 - val_loss: 0.9436 - val_accuracy: 0.5059\n",
            "Epoch 28/100\n",
            "392/392 [==============================] - 1s 3ms/step - loss: 0.4399 - accuracy: 0.8160 - val_loss: 1.1237 - val_accuracy: 0.4109\n",
            "Epoch 29/100\n",
            "392/392 [==============================] - 1s 3ms/step - loss: 0.4381 - accuracy: 0.8173 - val_loss: 1.0195 - val_accuracy: 0.4588\n",
            "Epoch 30/100\n",
            "392/392 [==============================] - 1s 3ms/step - loss: 0.4377 - accuracy: 0.8170 - val_loss: 0.9840 - val_accuracy: 0.4764\n",
            "Epoch 31/100\n",
            "392/392 [==============================] - 1s 3ms/step - loss: 0.4375 - accuracy: 0.8172 - val_loss: 0.9685 - val_accuracy: 0.4982\n",
            "Epoch 32/100\n",
            "392/392 [==============================] - 1s 3ms/step - loss: 0.4376 - accuracy: 0.8184 - val_loss: 0.9641 - val_accuracy: 0.4960\n",
            "Epoch 33/100\n",
            "392/392 [==============================] - 1s 3ms/step - loss: 0.4364 - accuracy: 0.8166 - val_loss: 0.9656 - val_accuracy: 0.4914\n",
            "Epoch 34/100\n",
            "392/392 [==============================] - 1s 3ms/step - loss: 0.4362 - accuracy: 0.8181 - val_loss: 0.9656 - val_accuracy: 0.4861\n",
            "Epoch 35/100\n",
            "392/392 [==============================] - 1s 3ms/step - loss: 0.4356 - accuracy: 0.8173 - val_loss: 0.9474 - val_accuracy: 0.4978\n",
            "Epoch 36/100\n",
            "392/392 [==============================] - 1s 3ms/step - loss: 0.4358 - accuracy: 0.8179 - val_loss: 0.9480 - val_accuracy: 0.5012\n",
            "Epoch 37/100\n",
            "392/392 [==============================] - 1s 3ms/step - loss: 0.4335 - accuracy: 0.8198 - val_loss: 1.0099 - val_accuracy: 0.4712\n",
            "Epoch 38/100\n",
            "392/392 [==============================] - 1s 3ms/step - loss: 0.4339 - accuracy: 0.8198 - val_loss: 0.9757 - val_accuracy: 0.4740\n",
            "Epoch 39/100\n",
            "392/392 [==============================] - 1s 3ms/step - loss: 0.4331 - accuracy: 0.8199 - val_loss: 0.9611 - val_accuracy: 0.5110\n",
            "Epoch 40/100\n",
            "392/392 [==============================] - 1s 3ms/step - loss: 0.4320 - accuracy: 0.8194 - val_loss: 0.9166 - val_accuracy: 0.5155\n",
            "Epoch 41/100\n",
            "392/392 [==============================] - 1s 3ms/step - loss: 0.4321 - accuracy: 0.8194 - val_loss: 0.9668 - val_accuracy: 0.4992\n",
            "Epoch 42/100\n",
            "392/392 [==============================] - 1s 3ms/step - loss: 0.4307 - accuracy: 0.8207 - val_loss: 0.9266 - val_accuracy: 0.5153\n",
            "Epoch 43/100\n",
            "392/392 [==============================] - 1s 3ms/step - loss: 0.4313 - accuracy: 0.8199 - val_loss: 0.8940 - val_accuracy: 0.5234\n",
            "Epoch 44/100\n",
            "392/392 [==============================] - 1s 3ms/step - loss: 0.4304 - accuracy: 0.8209 - val_loss: 1.0049 - val_accuracy: 0.4755\n",
            "Epoch 45/100\n",
            "392/392 [==============================] - 1s 3ms/step - loss: 0.4291 - accuracy: 0.8218 - val_loss: 1.0158 - val_accuracy: 0.4754\n",
            "Epoch 46/100\n",
            "392/392 [==============================] - 1s 3ms/step - loss: 0.4287 - accuracy: 0.8206 - val_loss: 1.0480 - val_accuracy: 0.4552\n",
            "Epoch 47/100\n",
            "392/392 [==============================] - 1s 3ms/step - loss: 0.4278 - accuracy: 0.8219 - val_loss: 0.8641 - val_accuracy: 0.5386\n",
            "Epoch 48/100\n",
            "392/392 [==============================] - 1s 3ms/step - loss: 0.4280 - accuracy: 0.8219 - val_loss: 1.0542 - val_accuracy: 0.4575\n",
            "Epoch 49/100\n",
            "392/392 [==============================] - 1s 3ms/step - loss: 0.4267 - accuracy: 0.8229 - val_loss: 0.9758 - val_accuracy: 0.4905\n",
            "Epoch 50/100\n",
            "392/392 [==============================] - 1s 3ms/step - loss: 0.4267 - accuracy: 0.8221 - val_loss: 0.9453 - val_accuracy: 0.5077\n",
            "Epoch 51/100\n",
            "392/392 [==============================] - 1s 3ms/step - loss: 0.4261 - accuracy: 0.8230 - val_loss: 0.9245 - val_accuracy: 0.5095\n",
            "Epoch 52/100\n",
            "392/392 [==============================] - 1s 3ms/step - loss: 0.4249 - accuracy: 0.8245 - val_loss: 0.9245 - val_accuracy: 0.5214\n",
            "Epoch 53/100\n",
            "392/392 [==============================] - 1s 3ms/step - loss: 0.4254 - accuracy: 0.8238 - val_loss: 0.9292 - val_accuracy: 0.5049\n",
            "Epoch 54/100\n",
            "392/392 [==============================] - 1s 3ms/step - loss: 0.4248 - accuracy: 0.8234 - val_loss: 0.9052 - val_accuracy: 0.5163\n",
            "Epoch 55/100\n",
            "392/392 [==============================] - 1s 3ms/step - loss: 0.4245 - accuracy: 0.8244 - val_loss: 1.0795 - val_accuracy: 0.4421\n",
            "Epoch 56/100\n",
            "392/392 [==============================] - 2s 5ms/step - loss: 0.4243 - accuracy: 0.8250 - val_loss: 0.9884 - val_accuracy: 0.5040\n",
            "Epoch 57/100\n",
            "392/392 [==============================] - 1s 4ms/step - loss: 0.4236 - accuracy: 0.8247 - val_loss: 0.9963 - val_accuracy: 0.4823\n",
            "Epoch 58/100\n",
            "392/392 [==============================] - 1s 3ms/step - loss: 0.4223 - accuracy: 0.8263 - val_loss: 0.9458 - val_accuracy: 0.5134\n",
            "Epoch 59/100\n",
            "392/392 [==============================] - 1s 3ms/step - loss: 0.4219 - accuracy: 0.8252 - val_loss: 0.8918 - val_accuracy: 0.5292\n",
            "Epoch 60/100\n",
            "392/392 [==============================] - 1s 3ms/step - loss: 0.4217 - accuracy: 0.8263 - val_loss: 1.0266 - val_accuracy: 0.4579\n",
            "Epoch 61/100\n",
            "392/392 [==============================] - 1s 3ms/step - loss: 0.4220 - accuracy: 0.8265 - val_loss: 0.9907 - val_accuracy: 0.4911\n",
            "Epoch 62/100\n",
            "392/392 [==============================] - 1s 3ms/step - loss: 0.4214 - accuracy: 0.8260 - val_loss: 0.9691 - val_accuracy: 0.5002\n",
            "Epoch 63/100\n",
            "392/392 [==============================] - 1s 3ms/step - loss: 0.4206 - accuracy: 0.8265 - val_loss: 0.9676 - val_accuracy: 0.4837\n",
            "Epoch 64/100\n",
            "392/392 [==============================] - 1s 3ms/step - loss: 0.4190 - accuracy: 0.8283 - val_loss: 1.0483 - val_accuracy: 0.4609\n",
            "Epoch 65/100\n",
            "392/392 [==============================] - 1s 3ms/step - loss: 0.4200 - accuracy: 0.8263 - val_loss: 0.9301 - val_accuracy: 0.5082\n",
            "Epoch 66/100\n",
            "392/392 [==============================] - 1s 3ms/step - loss: 0.4187 - accuracy: 0.8265 - val_loss: 0.9707 - val_accuracy: 0.4967\n",
            "Epoch 67/100\n",
            "392/392 [==============================] - 1s 3ms/step - loss: 0.4178 - accuracy: 0.8268 - val_loss: 0.9409 - val_accuracy: 0.5080\n",
            "Epoch 68/100\n",
            "392/392 [==============================] - 1s 3ms/step - loss: 0.4184 - accuracy: 0.8281 - val_loss: 0.8450 - val_accuracy: 0.5569\n",
            "Epoch 69/100\n",
            "392/392 [==============================] - 1s 3ms/step - loss: 0.4174 - accuracy: 0.8287 - val_loss: 0.9332 - val_accuracy: 0.5132\n",
            "Epoch 70/100\n",
            "392/392 [==============================] - 1s 3ms/step - loss: 0.4176 - accuracy: 0.8274 - val_loss: 1.0054 - val_accuracy: 0.4733\n",
            "Epoch 71/100\n",
            "392/392 [==============================] - 1s 3ms/step - loss: 0.4159 - accuracy: 0.8291 - val_loss: 0.8491 - val_accuracy: 0.5541\n",
            "Epoch 72/100\n",
            "392/392 [==============================] - 1s 3ms/step - loss: 0.4156 - accuracy: 0.8289 - val_loss: 0.9952 - val_accuracy: 0.4893\n",
            "Epoch 73/100\n",
            "392/392 [==============================] - 1s 3ms/step - loss: 0.4159 - accuracy: 0.8304 - val_loss: 0.9642 - val_accuracy: 0.4832\n",
            "Epoch 74/100\n",
            "392/392 [==============================] - 1s 3ms/step - loss: 0.4158 - accuracy: 0.8295 - val_loss: 0.9039 - val_accuracy: 0.5303\n",
            "Epoch 75/100\n",
            "392/392 [==============================] - 1s 3ms/step - loss: 0.4153 - accuracy: 0.8301 - val_loss: 0.8516 - val_accuracy: 0.5354\n",
            "Epoch 76/100\n",
            "392/392 [==============================] - 1s 3ms/step - loss: 0.4138 - accuracy: 0.8311 - val_loss: 0.9727 - val_accuracy: 0.5054\n",
            "Epoch 77/100\n",
            "392/392 [==============================] - 1s 3ms/step - loss: 0.4141 - accuracy: 0.8304 - val_loss: 0.9648 - val_accuracy: 0.4912\n",
            "Epoch 78/100\n",
            "392/392 [==============================] - 1s 3ms/step - loss: 0.4129 - accuracy: 0.8302 - val_loss: 1.0024 - val_accuracy: 0.4835\n",
            "Epoch 79/100\n",
            "392/392 [==============================] - 1s 3ms/step - loss: 0.4127 - accuracy: 0.8299 - val_loss: 0.9117 - val_accuracy: 0.5245\n",
            "Epoch 80/100\n",
            "392/392 [==============================] - 1s 3ms/step - loss: 0.4133 - accuracy: 0.8307 - val_loss: 0.8324 - val_accuracy: 0.5509\n",
            "Epoch 81/100\n",
            "392/392 [==============================] - 1s 3ms/step - loss: 0.4111 - accuracy: 0.8318 - val_loss: 0.9092 - val_accuracy: 0.5238\n",
            "Epoch 82/100\n",
            "392/392 [==============================] - 1s 3ms/step - loss: 0.4120 - accuracy: 0.8305 - val_loss: 0.9804 - val_accuracy: 0.5055\n",
            "Epoch 83/100\n",
            "392/392 [==============================] - 1s 3ms/step - loss: 0.4117 - accuracy: 0.8307 - val_loss: 0.9197 - val_accuracy: 0.5255\n",
            "Epoch 84/100\n",
            "392/392 [==============================] - 1s 3ms/step - loss: 0.4112 - accuracy: 0.8312 - val_loss: 0.9704 - val_accuracy: 0.4833\n",
            "Epoch 85/100\n",
            "392/392 [==============================] - 1s 3ms/step - loss: 0.4097 - accuracy: 0.8318 - val_loss: 0.9476 - val_accuracy: 0.5024\n",
            "Epoch 86/100\n",
            "392/392 [==============================] - 1s 3ms/step - loss: 0.4096 - accuracy: 0.8321 - val_loss: 0.8742 - val_accuracy: 0.5484\n",
            "Epoch 87/100\n",
            "392/392 [==============================] - 1s 3ms/step - loss: 0.4096 - accuracy: 0.8327 - val_loss: 0.8529 - val_accuracy: 0.5448\n",
            "Epoch 88/100\n",
            "392/392 [==============================] - 1s 3ms/step - loss: 0.4086 - accuracy: 0.8318 - val_loss: 0.8665 - val_accuracy: 0.5398\n",
            "Epoch 89/100\n",
            "392/392 [==============================] - 1s 3ms/step - loss: 0.4083 - accuracy: 0.8324 - val_loss: 0.9418 - val_accuracy: 0.5177\n",
            "Epoch 90/100\n",
            "392/392 [==============================] - 1s 3ms/step - loss: 0.4071 - accuracy: 0.8322 - val_loss: 0.8424 - val_accuracy: 0.5525\n",
            "Epoch 91/100\n",
            "392/392 [==============================] - 1s 3ms/step - loss: 0.4064 - accuracy: 0.8325 - val_loss: 0.8467 - val_accuracy: 0.5411\n",
            "Epoch 92/100\n",
            "392/392 [==============================] - 1s 3ms/step - loss: 0.4067 - accuracy: 0.8331 - val_loss: 0.9479 - val_accuracy: 0.5046\n",
            "Epoch 93/100\n",
            "392/392 [==============================] - 1s 3ms/step - loss: 0.4059 - accuracy: 0.8331 - val_loss: 1.0064 - val_accuracy: 0.4857\n",
            "Epoch 94/100\n",
            "392/392 [==============================] - 1s 3ms/step - loss: 0.4054 - accuracy: 0.8340 - val_loss: 0.9022 - val_accuracy: 0.5088\n",
            "Epoch 95/100\n",
            "392/392 [==============================] - 1s 3ms/step - loss: 0.4061 - accuracy: 0.8344 - val_loss: 0.9156 - val_accuracy: 0.5087\n",
            "Epoch 96/100\n",
            "392/392 [==============================] - 1s 3ms/step - loss: 0.4044 - accuracy: 0.8359 - val_loss: 0.8915 - val_accuracy: 0.5341\n",
            "Epoch 97/100\n",
            "392/392 [==============================] - 1s 3ms/step - loss: 0.4043 - accuracy: 0.8346 - val_loss: 0.7473 - val_accuracy: 0.6200\n",
            "Epoch 98/100\n",
            "392/392 [==============================] - 1s 3ms/step - loss: 0.4046 - accuracy: 0.8343 - val_loss: 0.9921 - val_accuracy: 0.4939\n",
            "Epoch 99/100\n",
            "392/392 [==============================] - 1s 3ms/step - loss: 0.4022 - accuracy: 0.8358 - val_loss: 0.8020 - val_accuracy: 0.5775\n",
            "Epoch 100/100\n",
            "392/392 [==============================] - 1s 3ms/step - loss: 0.4028 - accuracy: 0.8347 - val_loss: 0.8505 - val_accuracy: 0.5572\n"
          ]
        }
      ]
    },
    {
      "cell_type": "code",
      "source": [
        "from sklearn.metrics import cohen_kappa_score,  average_precision_score\n",
        "\n",
        "\n",
        "# define functions for model performance evaluation\n",
        "def print_validation_report(y_test, predictions):\n",
        "    print(\"Classification Report\")\n",
        "    print(classification_report(y_test, predictions))\n",
        "    print('Accuracy Score: {}'.format(accuracy_score(y_test, predictions)))\n",
        "    print(\"Kappa- \", cohen_kappa_score(y_test, predictions))\n",
        "    print(\"F1- \", f1_score(y_test, predictions))\n",
        "    print(\"ROC_AUC_score- \", roc_auc_score(y_test, predictions))\n",
        "    print(\"PR AUC- \", average_precision_score(y_test, predictions))\n",
        "\n",
        "\n",
        "def plot_confusion_matrix(y_true, y_pred):\n",
        "    mtx = confusion_matrix(y_true, y_pred)\n",
        "    fig, ax = plt.subplots(figsize=(8,8))\n",
        "    sns.heatmap(mtx, annot=True, fmt='d', linewidths=.75,  cbar=False, ax=ax,cmap='Blues',linecolor='white')\n",
        "    #  square=True,\n",
        "    plt.ylabel('true label')\n",
        "    plt.xlabel('predicted label')\n",
        "\n",
        "def plot_curve(y_test, predictions):\n",
        "    fig, (ax1, ax2) = plt.subplots(1, 2, figsize=(13,5))\n",
        "    fig.tight_layout()\n",
        "    fpr, tpr, threshold = metrics.roc_curve(y_test, predictions)\n",
        "    roc_auc = metrics.auc(fpr, tpr)\n",
        "    ax1.set_title('Receiver Operating Characteristic')\n",
        "    ax1.plot(fpr, tpr, 'b', label = 'AUC = %0.2f' % roc_auc)\n",
        "    ax1.legend(loc = 'lower right')\n",
        "    ax1.plot([0, 1], [0, 1],'r--')\n",
        "    ax1.set_xlim([0, 1])\n",
        "    ax1.set_ylim([0, 1])\n",
        "    ax1.set_ylabel('True Positive Rate')\n",
        "    ax1.set_xlabel('False Positive Rate')\n",
        "\n",
        "    lr_precision, lr_recall, _ = metrics.precision_recall_curve(y_test, predictions)\n",
        "    ax2.set_title('Precision-Recall AUC Curve')\n",
        "    ax2.plot(lr_recall, lr_precision, marker='.')\n",
        "    ax2.set_xlabel('Recall')\n",
        "    ax2.set_ylabel('Precision')\n",
        "    ax2.set_xlim([0, 1])\n",
        "    ax2.set_ylim([0, 1])\n",
        "\n",
        "    plt.show()"
      ],
      "metadata": {
        "id": "8HWA6hOPiKvC"
      },
      "execution_count": 33,
      "outputs": []
    },
    {
      "cell_type": "code",
      "source": [
        "preds_50 = model.predict(x_test)\n",
        "preds_50 =  [1 if i>0.5 else 0 for i in preds_50]"
      ],
      "metadata": {
        "id": "k1VOfiRSZldd"
      },
      "execution_count": 34,
      "outputs": []
    },
    {
      "cell_type": "code",
      "source": [
        "print_validation_report(y_test, preds_50)"
      ],
      "metadata": {
        "colab": {
          "base_uri": "https://localhost:8080/"
        },
        "id": "hhPj8BfYmhs5",
        "outputId": "b107f205-dcfc-4602-e2e4-c8c0bc49e560"
      },
      "execution_count": 35,
      "outputs": [
        {
          "output_type": "stream",
          "name": "stdout",
          "text": [
            "Classification Report\n",
            "              precision    recall  f1-score   support\n",
            "\n",
            "           0       0.93      0.94      0.93      7307\n",
            "           1       0.47      0.46      0.46       927\n",
            "\n",
            "    accuracy                           0.88      8234\n",
            "   macro avg       0.70      0.70      0.70      8234\n",
            "weighted avg       0.88      0.88      0.88      8234\n",
            "\n",
            "Accuracy Score: 0.8812241923730872\n",
            "Kappa-  0.3970510740744567\n",
            "F1-  0.46381578947368424\n",
            "ROC_AUC_score-  0.6957206881019796\n",
            "PR AUC-  0.27639291572875035\n"
          ]
        }
      ]
    },
    {
      "cell_type": "code",
      "source": [
        "plot_confusion_matrix(y_test, preds_50)"
      ],
      "metadata": {
        "colab": {
          "base_uri": "https://localhost:8080/",
          "height": 497
        },
        "id": "OJltCiOAmvX7",
        "outputId": "61036a32-54b0-4cc1-9d15-78b445911fed"
      },
      "execution_count": 37,
      "outputs": [
        {
          "output_type": "display_data",
          "data": {
            "text/plain": [
              "<Figure size 576x576 with 1 Axes>"
            ],
            "image/png": "[encoded data removed]"
          },
          "metadata": {
            "needs_background": "light"
          }
        }
      ]
    },
    {
      "cell_type": "code",
      "source": [
        "plot_curve(y_test, preds_50)"
      ],
      "metadata": {
        "colab": {
          "base_uri": "https://localhost:8080/",
          "height": 395
        },
        "id": "x0O8P7Z0p3ua",
        "outputId": "00c9f269-9041-46de-c7f3-5685e01222a0"
      },
      "execution_count": 38,
      "outputs": [
        {
          "output_type": "display_data",
          "data": {
            "text/plain": [
              "<Figure size 936x360 with 2 Axes>"
            ],
            "image/png": "[encoded data removed]"
          },
          "metadata": {
            "needs_background": "light"
          }
        }
      ]
    },
    {
      "cell_type": "code",
      "source": [
        "plt.plot(model_history.history['accuracy'])\n",
        "plt.plot(model_history.history['val_accuracy'])\n",
        "plt.title('Model accuracy Vs Epochs')\n",
        "plt.ylabel('Accuracy')\n",
        "plt.xlabel('Epoch')\n",
        "plt.legend(['Train', 'Validation'], loc='upper left')\n",
        "plt.show()\n",
        "\n",
        "# summarize history for loss\n",
        "plt.plot(model_history.history['loss'])\n",
        "plt.plot(model_history.history['val_loss'])\n",
        "plt.title('Model loss Vs Loss')\n",
        "plt.ylabel('Loss')\n",
        "plt.xlabel('Epoch')\n",
        "plt.legend(['Train', 'Validation'], loc='upper left')\n",
        "plt.show()"
      ],
      "metadata": {
        "colab": {
          "base_uri": "https://localhost:8080/",
          "height": 573
        },
        "id": "laylygLdKv-4",
        "outputId": "b1aea10f-bff0-476c-f64b-8cd8038d8296"
      },
      "execution_count": 39,
      "outputs": [
        {
          "output_type": "display_data",
          "data": {
            "text/plain": [
              "<Figure size 432x288 with 1 Axes>"
            ],
            "image/png": "[encoded data removed]"
          },
          "metadata": {
            "needs_background": "light"
          }
        },
        {
          "output_type": "display_data",
          "data": {
            "text/plain": [
              "<Figure size 432x288 with 1 Axes>"
            ],
            "image/png": "[encoded data removed]"
          },
          "metadata": {
            "needs_background": "light"
          }
        }
      ]
    },
    {
      "cell_type": "code",
      "source": [
        "loss, accuracy = model.evaluate(x_test, y_test)"
      ],
      "metadata": {
        "colab": {
          "base_uri": "https://localhost:8080/"
        },
        "id": "LiW2cV7ZhcjF",
        "outputId": "438a5d43-ea7d-43ea-861d-5a6a022fa5da"
      },
      "execution_count": 40,
      "outputs": [
        {
          "output_type": "stream",
          "name": "stdout",
          "text": [
            "258/258 [==============================] - 1s 3ms/step - loss: 0.3392 - accuracy: 0.8812\n"
          ]
        }
      ]
    },
    {
      "cell_type": "markdown",
      "source": [
        "### train NN on the dataset by removing unknowns and days-of-week"
      ],
      "metadata": {
        "id": "p7d0wbt-pD31"
      }
    },
    {
      "cell_type": "code",
      "source": [
        "df_raw_2 = pd.get_dummies(x)\n",
        "\n",
        "df_raw_2 = df_raw_2.drop(['marital_unknown', 'default_unknown', 'housing_unknown', \n",
        "                        'loan_unknown', 'edu_new_unknown', 'job_new_unknown',\n",
        "                        'day_of_week_fri', 'day_of_week_mon', 'day_of_week_thu',\n",
        "                        'day_of_week_tue', 'day_of_week_wed', 'season_winter'], axis=1)\n",
        "df_raw_2.shape"
      ],
      "metadata": {
        "id": "wgVWz8JnxupQ",
        "colab": {
          "base_uri": "https://localhost:8080/"
        },
        "outputId": "6d5f3c13-c706-44d0-86a9-4932c487768d"
      },
      "execution_count": 41,
      "outputs": [
        {
          "output_type": "execute_result",
          "data": {
            "text/plain": [
              "(41170, 32)"
            ]
          },
          "metadata": {},
          "execution_count": 41
        }
      ]
    },
    {
      "cell_type": "code",
      "source": [
        "scaler = MinMaxScaler()\n",
        "x_2 = scaler.fit_transform(df_raw_2)"
      ],
      "metadata": {
        "id": "3IYAMEnuxuh7"
      },
      "execution_count": 42,
      "outputs": []
    },
    {
      "cell_type": "code",
      "source": [
        "x_train2,x_test2,y_train2,y_test2 = train_test_split(x_2, y, test_size = 0.2, random_state=42)\n",
        "#take out stratify approach\n",
        "print(x_train2.shape,\n",
        "      x_test2.shape,\n",
        "      y_train2.shape,\n",
        "      y_test2.shape)"
      ],
      "metadata": {
        "id": "6A9S3Bw8xufV",
        "colab": {
          "base_uri": "https://localhost:8080/"
        },
        "outputId": "69a36d1c-8617-486d-f1c7-eed54a892d10"
      },
      "execution_count": 43,
      "outputs": [
        {
          "output_type": "stream",
          "name": "stdout",
          "text": [
            "(32936, 32) (8234, 32) (32936,) (8234,)\n"
          ]
        }
      ]
    },
    {
      "cell_type": "code",
      "source": [
        "smote = SMOTE()\n",
        "\n",
        "x_s2, y_s2 = smote.fit_resample(x_train2, y_train2)\n",
        "\n",
        "print('Original dataset shape', len(x_train2))\n",
        "print('Resampled dataset shape', len(x_s2))"
      ],
      "metadata": {
        "id": "Ik5Knb6cxucf",
        "colab": {
          "base_uri": "https://localhost:8080/"
        },
        "outputId": "f64b7338-05f3-45e3-c0ba-91a1bc767da9"
      },
      "execution_count": 44,
      "outputs": [
        {
          "output_type": "stream",
          "name": "stdout",
          "text": [
            "Original dataset shape 32936\n",
            "Resampled dataset shape 58454\n"
          ]
        }
      ]
    },
    {
      "cell_type": "code",
      "source": [
        "model2 = Sequential()\n",
        "model2.add(Flatten(input_shape=( x_s2.shape[1],)))\n",
        "model2.add(Dense(units = 64, kernel_initializer = 'he_uniform',activation='relu'))\n",
        "model2.add(Dense(units = 16, kernel_initializer = 'he_uniform',activation='relu', kernel_regularizer=tf.keras.regularizers.L2(0.01)))\n",
        "model2.add(Dropout(0.2))\n",
        "model2.add(Dense(units = 1, kernel_initializer = 'glorot_uniform', activation = 'sigmoid'))"
      ],
      "metadata": {
        "id": "HWka2I2XxuSp"
      },
      "execution_count": 48,
      "outputs": []
    },
    {
      "cell_type": "code",
      "source": [
        "model2.compile(optimizer = 'rmsprop', loss = 'binary_crossentropy', metrics = ['accuracy'])\n",
        "model2.summary()"
      ],
      "metadata": {
        "colab": {
          "base_uri": "https://localhost:8080/"
        },
        "id": "FDkIWEyUPLJL",
        "outputId": "c1b7597c-c129-4841-bc14-a8854b51253b"
      },
      "execution_count": 49,
      "outputs": [
        {
          "output_type": "stream",
          "name": "stdout",
          "text": [
            "Model: \"sequential_4\"\n",
            "_________________________________________________________________\n",
            " Layer (type)                Output Shape              Param #   \n",
            "=================================================================\n",
            " flatten_1 (Flatten)         (None, 32)                0         \n",
            "                                                                 \n",
            " dense_12 (Dense)            (None, 64)                2112      \n",
            "                                                                 \n",
            " dense_13 (Dense)            (None, 16)                1040      \n",
            "                                                                 \n",
            " dropout_4 (Dropout)         (None, 16)                0         \n",
            "                                                                 \n",
            " dense_14 (Dense)            (None, 1)                 17        \n",
            "                                                                 \n",
            "=================================================================\n",
            "Total params: 3,169\n",
            "Trainable params: 3,169\n",
            "Non-trainable params: 0\n",
            "_________________________________________________________________\n"
          ]
        }
      ]
    },
    {
      "cell_type": "code",
      "source": [
        "model2_history = model2.fit(x_s2, y_s2,validation_split=0.33, batch_size = 100, epochs = 100)"
      ],
      "metadata": {
        "colab": {
          "base_uri": "https://localhost:8080/"
        },
        "id": "CzNsCGG1PLGl",
        "outputId": "abad3a27-d56f-42c0-d62d-420c29ddd86e"
      },
      "execution_count": 51,
      "outputs": [
        {
          "output_type": "stream",
          "name": "stdout",
          "text": [
            "Epoch 1/100\n",
            "392/392 [==============================] - 2s 6ms/step - loss: 0.4784 - accuracy: 0.8079 - val_loss: 1.1262 - val_accuracy: 0.3727\n",
            "Epoch 2/100\n",
            "392/392 [==============================] - 3s 7ms/step - loss: 0.4641 - accuracy: 0.8111 - val_loss: 1.0343 - val_accuracy: 0.4412\n",
            "Epoch 3/100\n",
            "392/392 [==============================] - 1s 3ms/step - loss: 0.4592 - accuracy: 0.8112 - val_loss: 1.1275 - val_accuracy: 0.4178\n",
            "Epoch 4/100\n",
            "392/392 [==============================] - 1s 3ms/step - loss: 0.4560 - accuracy: 0.8121 - val_loss: 1.0380 - val_accuracy: 0.4595\n",
            "Epoch 5/100\n",
            "392/392 [==============================] - 1s 3ms/step - loss: 0.4545 - accuracy: 0.8129 - val_loss: 0.9467 - val_accuracy: 0.5127\n",
            "Epoch 6/100\n",
            "392/392 [==============================] - 1s 3ms/step - loss: 0.4519 - accuracy: 0.8128 - val_loss: 0.9512 - val_accuracy: 0.4857\n",
            "Epoch 7/100\n",
            "392/392 [==============================] - 1s 3ms/step - loss: 0.4491 - accuracy: 0.8134 - val_loss: 1.0401 - val_accuracy: 0.4793\n",
            "Epoch 8/100\n",
            "392/392 [==============================] - 1s 3ms/step - loss: 0.4495 - accuracy: 0.8132 - val_loss: 1.2135 - val_accuracy: 0.3277\n",
            "Epoch 9/100\n",
            "392/392 [==============================] - 1s 3ms/step - loss: 0.4487 - accuracy: 0.8132 - val_loss: 0.9560 - val_accuracy: 0.4980\n",
            "Epoch 10/100\n",
            "392/392 [==============================] - 1s 3ms/step - loss: 0.4474 - accuracy: 0.8147 - val_loss: 1.0324 - val_accuracy: 0.5125\n",
            "Epoch 11/100\n",
            "392/392 [==============================] - 1s 3ms/step - loss: 0.4472 - accuracy: 0.8130 - val_loss: 0.9937 - val_accuracy: 0.4709\n",
            "Epoch 12/100\n",
            "392/392 [==============================] - 1s 3ms/step - loss: 0.4452 - accuracy: 0.8158 - val_loss: 1.0087 - val_accuracy: 0.4798\n",
            "Epoch 13/100\n",
            "392/392 [==============================] - 1s 3ms/step - loss: 0.4445 - accuracy: 0.8140 - val_loss: 0.9560 - val_accuracy: 0.5106\n",
            "Epoch 14/100\n",
            "392/392 [==============================] - 1s 3ms/step - loss: 0.4442 - accuracy: 0.8150 - val_loss: 1.0359 - val_accuracy: 0.4593\n",
            "Epoch 15/100\n",
            "392/392 [==============================] - 1s 3ms/step - loss: 0.4434 - accuracy: 0.8151 - val_loss: 0.9966 - val_accuracy: 0.4786\n",
            "Epoch 16/100\n",
            "392/392 [==============================] - 1s 3ms/step - loss: 0.4426 - accuracy: 0.8150 - val_loss: 1.0152 - val_accuracy: 0.4483\n",
            "Epoch 17/100\n",
            "392/392 [==============================] - 1s 3ms/step - loss: 0.4419 - accuracy: 0.8161 - val_loss: 1.0110 - val_accuracy: 0.4812\n",
            "Epoch 18/100\n",
            "392/392 [==============================] - 1s 3ms/step - loss: 0.4415 - accuracy: 0.8162 - val_loss: 1.0271 - val_accuracy: 0.4677\n",
            "Epoch 19/100\n",
            "392/392 [==============================] - 1s 3ms/step - loss: 0.4405 - accuracy: 0.8153 - val_loss: 1.1160 - val_accuracy: 0.4350\n",
            "Epoch 20/100\n",
            "392/392 [==============================] - 1s 3ms/step - loss: 0.4406 - accuracy: 0.8165 - val_loss: 1.1358 - val_accuracy: 0.4233\n",
            "Epoch 21/100\n",
            "392/392 [==============================] - 1s 3ms/step - loss: 0.4397 - accuracy: 0.8170 - val_loss: 1.0392 - val_accuracy: 0.4491\n",
            "Epoch 22/100\n",
            "392/392 [==============================] - 1s 3ms/step - loss: 0.4395 - accuracy: 0.8172 - val_loss: 1.0824 - val_accuracy: 0.4361\n",
            "Epoch 23/100\n",
            "392/392 [==============================] - 1s 3ms/step - loss: 0.4379 - accuracy: 0.8175 - val_loss: 1.0156 - val_accuracy: 0.4802\n",
            "Epoch 24/100\n",
            "392/392 [==============================] - 1s 3ms/step - loss: 0.4390 - accuracy: 0.8173 - val_loss: 1.0032 - val_accuracy: 0.4990\n",
            "Epoch 25/100\n",
            "392/392 [==============================] - 1s 3ms/step - loss: 0.4381 - accuracy: 0.8192 - val_loss: 1.1901 - val_accuracy: 0.3355\n",
            "Epoch 26/100\n",
            "392/392 [==============================] - 1s 3ms/step - loss: 0.4377 - accuracy: 0.8184 - val_loss: 1.0048 - val_accuracy: 0.4756\n",
            "Epoch 27/100\n",
            "392/392 [==============================] - 1s 3ms/step - loss: 0.4377 - accuracy: 0.8173 - val_loss: 0.9982 - val_accuracy: 0.4835\n",
            "Epoch 28/100\n",
            "392/392 [==============================] - 1s 3ms/step - loss: 0.4367 - accuracy: 0.8186 - val_loss: 0.9810 - val_accuracy: 0.4863\n",
            "Epoch 29/100\n",
            "392/392 [==============================] - 1s 3ms/step - loss: 0.4372 - accuracy: 0.8180 - val_loss: 0.9388 - val_accuracy: 0.5093\n",
            "Epoch 30/100\n",
            "392/392 [==============================] - 1s 3ms/step - loss: 0.4371 - accuracy: 0.8189 - val_loss: 0.9361 - val_accuracy: 0.5166\n",
            "Epoch 31/100\n",
            "392/392 [==============================] - 1s 3ms/step - loss: 0.4369 - accuracy: 0.8194 - val_loss: 1.0439 - val_accuracy: 0.4448\n",
            "Epoch 32/100\n",
            "392/392 [==============================] - 1s 3ms/step - loss: 0.4356 - accuracy: 0.8199 - val_loss: 0.9554 - val_accuracy: 0.4874\n",
            "Epoch 33/100\n",
            "392/392 [==============================] - 1s 3ms/step - loss: 0.4366 - accuracy: 0.8197 - val_loss: 1.0100 - val_accuracy: 0.4561\n",
            "Epoch 34/100\n",
            "392/392 [==============================] - 1s 3ms/step - loss: 0.4340 - accuracy: 0.8195 - val_loss: 1.0083 - val_accuracy: 0.4731\n",
            "Epoch 35/100\n",
            "392/392 [==============================] - 1s 3ms/step - loss: 0.4345 - accuracy: 0.8201 - val_loss: 0.9765 - val_accuracy: 0.5063\n",
            "Epoch 36/100\n",
            "392/392 [==============================] - 1s 3ms/step - loss: 0.4340 - accuracy: 0.8208 - val_loss: 0.8803 - val_accuracy: 0.5339\n",
            "Epoch 37/100\n",
            "392/392 [==============================] - 1s 3ms/step - loss: 0.4339 - accuracy: 0.8209 - val_loss: 1.0018 - val_accuracy: 0.4877\n",
            "Epoch 38/100\n",
            "392/392 [==============================] - 1s 3ms/step - loss: 0.4322 - accuracy: 0.8227 - val_loss: 1.0121 - val_accuracy: 0.4509\n",
            "Epoch 39/100\n",
            "392/392 [==============================] - 1s 3ms/step - loss: 0.4334 - accuracy: 0.8203 - val_loss: 0.9986 - val_accuracy: 0.4665\n",
            "Epoch 40/100\n",
            "392/392 [==============================] - 1s 3ms/step - loss: 0.4327 - accuracy: 0.8215 - val_loss: 0.9808 - val_accuracy: 0.5027\n",
            "Epoch 41/100\n",
            "392/392 [==============================] - 1s 3ms/step - loss: 0.4322 - accuracy: 0.8230 - val_loss: 1.0552 - val_accuracy: 0.4490\n",
            "Epoch 42/100\n",
            "392/392 [==============================] - 1s 3ms/step - loss: 0.4322 - accuracy: 0.8226 - val_loss: 0.9429 - val_accuracy: 0.5249\n",
            "Epoch 43/100\n",
            "392/392 [==============================] - 1s 3ms/step - loss: 0.4313 - accuracy: 0.8228 - val_loss: 0.9979 - val_accuracy: 0.5060\n",
            "Epoch 44/100\n",
            "392/392 [==============================] - 1s 3ms/step - loss: 0.4316 - accuracy: 0.8237 - val_loss: 0.8855 - val_accuracy: 0.5321\n",
            "Epoch 45/100\n",
            "392/392 [==============================] - 1s 3ms/step - loss: 0.4313 - accuracy: 0.8216 - val_loss: 1.0767 - val_accuracy: 0.4683\n",
            "Epoch 46/100\n",
            "392/392 [==============================] - 1s 3ms/step - loss: 0.4310 - accuracy: 0.8240 - val_loss: 0.9710 - val_accuracy: 0.4812\n",
            "Epoch 47/100\n",
            "392/392 [==============================] - 1s 3ms/step - loss: 0.4310 - accuracy: 0.8227 - val_loss: 0.8602 - val_accuracy: 0.5402\n",
            "Epoch 48/100\n",
            "392/392 [==============================] - 1s 3ms/step - loss: 0.4300 - accuracy: 0.8245 - val_loss: 1.1365 - val_accuracy: 0.4007\n",
            "Epoch 49/100\n",
            "392/392 [==============================] - 1s 3ms/step - loss: 0.4303 - accuracy: 0.8233 - val_loss: 0.9763 - val_accuracy: 0.5038\n",
            "Epoch 50/100\n",
            "392/392 [==============================] - 1s 3ms/step - loss: 0.4296 - accuracy: 0.8247 - val_loss: 0.9692 - val_accuracy: 0.4816\n",
            "Epoch 51/100\n",
            "392/392 [==============================] - 2s 5ms/step - loss: 0.4304 - accuracy: 0.8245 - val_loss: 0.9303 - val_accuracy: 0.5073\n",
            "Epoch 52/100\n",
            "392/392 [==============================] - 1s 3ms/step - loss: 0.4294 - accuracy: 0.8246 - val_loss: 0.9792 - val_accuracy: 0.4886\n",
            "Epoch 53/100\n",
            "392/392 [==============================] - 1s 3ms/step - loss: 0.4273 - accuracy: 0.8245 - val_loss: 0.8984 - val_accuracy: 0.5720\n",
            "Epoch 54/100\n",
            "392/392 [==============================] - 1s 3ms/step - loss: 0.4282 - accuracy: 0.8251 - val_loss: 1.0132 - val_accuracy: 0.4943\n",
            "Epoch 55/100\n",
            "392/392 [==============================] - 1s 3ms/step - loss: 0.4268 - accuracy: 0.8259 - val_loss: 0.9076 - val_accuracy: 0.5370\n",
            "Epoch 56/100\n",
            "392/392 [==============================] - 1s 3ms/step - loss: 0.4274 - accuracy: 0.8252 - val_loss: 1.1298 - val_accuracy: 0.4566\n",
            "Epoch 57/100\n",
            "392/392 [==============================] - 1s 3ms/step - loss: 0.4276 - accuracy: 0.8248 - val_loss: 0.9304 - val_accuracy: 0.5348\n",
            "Epoch 58/100\n",
            "392/392 [==============================] - 1s 3ms/step - loss: 0.4264 - accuracy: 0.8274 - val_loss: 0.9856 - val_accuracy: 0.5037\n",
            "Epoch 59/100\n",
            "392/392 [==============================] - 1s 3ms/step - loss: 0.4267 - accuracy: 0.8249 - val_loss: 1.0270 - val_accuracy: 0.4646\n",
            "Epoch 60/100\n",
            "392/392 [==============================] - 1s 3ms/step - loss: 0.4250 - accuracy: 0.8258 - val_loss: 0.9527 - val_accuracy: 0.5029\n",
            "Epoch 61/100\n",
            "392/392 [==============================] - 1s 3ms/step - loss: 0.4252 - accuracy: 0.8271 - val_loss: 0.8979 - val_accuracy: 0.5267\n",
            "Epoch 62/100\n",
            "392/392 [==============================] - 1s 3ms/step - loss: 0.4244 - accuracy: 0.8286 - val_loss: 0.9787 - val_accuracy: 0.4932\n",
            "Epoch 63/100\n",
            "392/392 [==============================] - 1s 3ms/step - loss: 0.4240 - accuracy: 0.8266 - val_loss: 1.0257 - val_accuracy: 0.4506\n",
            "Epoch 64/100\n",
            "392/392 [==============================] - 1s 3ms/step - loss: 0.4253 - accuracy: 0.8265 - val_loss: 0.9777 - val_accuracy: 0.4866\n",
            "Epoch 65/100\n",
            "392/392 [==============================] - 1s 3ms/step - loss: 0.4249 - accuracy: 0.8273 - val_loss: 1.0977 - val_accuracy: 0.4341\n",
            "Epoch 66/100\n",
            "392/392 [==============================] - 2s 5ms/step - loss: 0.4247 - accuracy: 0.8279 - val_loss: 0.9697 - val_accuracy: 0.4960\n",
            "Epoch 67/100\n",
            "392/392 [==============================] - 1s 3ms/step - loss: 0.4233 - accuracy: 0.8279 - val_loss: 1.1337 - val_accuracy: 0.4128\n",
            "Epoch 68/100\n",
            "392/392 [==============================] - 1s 3ms/step - loss: 0.4227 - accuracy: 0.8280 - val_loss: 1.0859 - val_accuracy: 0.4826\n",
            "Epoch 69/100\n",
            "392/392 [==============================] - 1s 3ms/step - loss: 0.4234 - accuracy: 0.8269 - val_loss: 0.9487 - val_accuracy: 0.5205\n",
            "Epoch 70/100\n",
            "392/392 [==============================] - 1s 3ms/step - loss: 0.4224 - accuracy: 0.8284 - val_loss: 0.9925 - val_accuracy: 0.4570\n",
            "Epoch 71/100\n",
            "392/392 [==============================] - 1s 3ms/step - loss: 0.4215 - accuracy: 0.8296 - val_loss: 0.8633 - val_accuracy: 0.5722\n",
            "Epoch 72/100\n",
            "392/392 [==============================] - 1s 3ms/step - loss: 0.4219 - accuracy: 0.8292 - val_loss: 1.0400 - val_accuracy: 0.4446\n",
            "Epoch 73/100\n",
            "392/392 [==============================] - 1s 3ms/step - loss: 0.4212 - accuracy: 0.8285 - val_loss: 1.1079 - val_accuracy: 0.4498\n",
            "Epoch 74/100\n",
            "392/392 [==============================] - 2s 4ms/step - loss: 0.4223 - accuracy: 0.8300 - val_loss: 0.9197 - val_accuracy: 0.5258\n",
            "Epoch 75/100\n",
            "392/392 [==============================] - 2s 4ms/step - loss: 0.4208 - accuracy: 0.8281 - val_loss: 0.9469 - val_accuracy: 0.5016\n",
            "Epoch 76/100\n",
            "392/392 [==============================] - 1s 3ms/step - loss: 0.4205 - accuracy: 0.8300 - val_loss: 1.0437 - val_accuracy: 0.4890\n",
            "Epoch 77/100\n",
            "392/392 [==============================] - 1s 3ms/step - loss: 0.4208 - accuracy: 0.8295 - val_loss: 0.9587 - val_accuracy: 0.5195\n",
            "Epoch 78/100\n",
            "392/392 [==============================] - 1s 3ms/step - loss: 0.4201 - accuracy: 0.8296 - val_loss: 0.9995 - val_accuracy: 0.4923\n",
            "Epoch 79/100\n",
            "392/392 [==============================] - 1s 3ms/step - loss: 0.4209 - accuracy: 0.8298 - val_loss: 0.9378 - val_accuracy: 0.4830\n",
            "Epoch 80/100\n",
            "392/392 [==============================] - 1s 3ms/step - loss: 0.4203 - accuracy: 0.8307 - val_loss: 1.1921 - val_accuracy: 0.4129\n",
            "Epoch 81/100\n",
            "392/392 [==============================] - 1s 3ms/step - loss: 0.4202 - accuracy: 0.8305 - val_loss: 0.8920 - val_accuracy: 0.5686\n",
            "Epoch 82/100\n",
            "392/392 [==============================] - 1s 3ms/step - loss: 0.4193 - accuracy: 0.8311 - val_loss: 0.9557 - val_accuracy: 0.5204\n",
            "Epoch 83/100\n",
            "392/392 [==============================] - 1s 3ms/step - loss: 0.4192 - accuracy: 0.8313 - val_loss: 1.0797 - val_accuracy: 0.4429\n",
            "Epoch 84/100\n",
            "392/392 [==============================] - 1s 3ms/step - loss: 0.4190 - accuracy: 0.8307 - val_loss: 0.8834 - val_accuracy: 0.5794\n",
            "Epoch 85/100\n",
            "392/392 [==============================] - 1s 3ms/step - loss: 0.4180 - accuracy: 0.8305 - val_loss: 0.9428 - val_accuracy: 0.4998\n",
            "Epoch 86/100\n",
            "392/392 [==============================] - 1s 3ms/step - loss: 0.4185 - accuracy: 0.8307 - val_loss: 0.8660 - val_accuracy: 0.5483\n",
            "Epoch 87/100\n",
            "392/392 [==============================] - 1s 3ms/step - loss: 0.4187 - accuracy: 0.8294 - val_loss: 0.7918 - val_accuracy: 0.5703\n",
            "Epoch 88/100\n",
            "392/392 [==============================] - 1s 3ms/step - loss: 0.4175 - accuracy: 0.8317 - val_loss: 1.0228 - val_accuracy: 0.4800\n",
            "Epoch 89/100\n",
            "392/392 [==============================] - 1s 3ms/step - loss: 0.4169 - accuracy: 0.8312 - val_loss: 0.9847 - val_accuracy: 0.5010\n",
            "Epoch 90/100\n",
            "392/392 [==============================] - 1s 3ms/step - loss: 0.4161 - accuracy: 0.8317 - val_loss: 0.8690 - val_accuracy: 0.5369\n",
            "Epoch 91/100\n",
            "392/392 [==============================] - 1s 3ms/step - loss: 0.4167 - accuracy: 0.8308 - val_loss: 0.9434 - val_accuracy: 0.5238\n",
            "Epoch 92/100\n",
            "392/392 [==============================] - 1s 3ms/step - loss: 0.4168 - accuracy: 0.8311 - val_loss: 0.9489 - val_accuracy: 0.4981\n",
            "Epoch 93/100\n",
            "392/392 [==============================] - 1s 3ms/step - loss: 0.4164 - accuracy: 0.8322 - val_loss: 0.8921 - val_accuracy: 0.5569\n",
            "Epoch 94/100\n",
            "392/392 [==============================] - 1s 2ms/step - loss: 0.4163 - accuracy: 0.8321 - val_loss: 0.7728 - val_accuracy: 0.5900\n",
            "Epoch 95/100\n",
            "392/392 [==============================] - 1s 3ms/step - loss: 0.4160 - accuracy: 0.8321 - val_loss: 0.9621 - val_accuracy: 0.5039\n",
            "Epoch 96/100\n",
            "392/392 [==============================] - 1s 3ms/step - loss: 0.4144 - accuracy: 0.8332 - val_loss: 0.8201 - val_accuracy: 0.5635\n",
            "Epoch 97/100\n",
            "392/392 [==============================] - 1s 3ms/step - loss: 0.4147 - accuracy: 0.8329 - val_loss: 0.8243 - val_accuracy: 0.5698\n",
            "Epoch 98/100\n",
            "392/392 [==============================] - 1s 3ms/step - loss: 0.4150 - accuracy: 0.8328 - val_loss: 1.1383 - val_accuracy: 0.4382\n",
            "Epoch 99/100\n",
            "392/392 [==============================] - 1s 3ms/step - loss: 0.4148 - accuracy: 0.8336 - val_loss: 0.8145 - val_accuracy: 0.5975\n",
            "Epoch 100/100\n",
            "392/392 [==============================] - 1s 3ms/step - loss: 0.4145 - accuracy: 0.8328 - val_loss: 0.7881 - val_accuracy: 0.6071\n"
          ]
        }
      ]
    },
    {
      "cell_type": "code",
      "source": [
        "preds_2 = model2.predict(x_test2)\n",
        "preds_2 =  [1 if i>0.5 else 0 for i in preds_2]"
      ],
      "metadata": {
        "id": "WzrZZC5VbaQe"
      },
      "execution_count": 57,
      "outputs": []
    },
    {
      "cell_type": "code",
      "source": [
        "print_validation_report(y_test2, preds_2)"
      ],
      "metadata": {
        "colab": {
          "base_uri": "https://localhost:8080/"
        },
        "outputId": "adf1f4dd-796d-4bce-f0cd-ec326d668ed0",
        "id": "gi82j1_-baQe"
      },
      "execution_count": 59,
      "outputs": [
        {
          "output_type": "stream",
          "name": "stdout",
          "text": [
            "Classification Report\n",
            "              precision    recall  f1-score   support\n",
            "\n",
            "           0       0.94      0.91      0.93      7307\n",
            "           1       0.43      0.52      0.47       927\n",
            "\n",
            "    accuracy                           0.87      8234\n",
            "   macro avg       0.69      0.72      0.70      8234\n",
            "weighted avg       0.88      0.87      0.87      8234\n",
            "\n",
            "Accuracy Score: 0.8690794267670634\n",
            "Kappa-  0.3986025698372926\n",
            "F1-  0.4726027397260274\n",
            "ROC_AUC_score-  0.7171347420104762\n",
            "PR AUC-  0.27922284360118194\n"
          ]
        }
      ]
    },
    {
      "cell_type": "code",
      "source": [
        "plot_confusion_matrix(y_test2, preds_2)"
      ],
      "metadata": {
        "colab": {
          "base_uri": "https://localhost:8080/",
          "height": 497
        },
        "outputId": "0461a4bc-bf94-435d-c817-22da84dc85f5",
        "id": "NSJo9eD6baQe"
      },
      "execution_count": 61,
      "outputs": [
        {
          "output_type": "display_data",
          "data": {
            "text/plain": [
              "<Figure size 576x576 with 1 Axes>"
            ],
            "image/png": "[encoded data removed]"
          },
          "metadata": {
            "needs_background": "light"
          }
        }
      ]
    },
    {
      "cell_type": "code",
      "source": [
        "plot_curve(y_test2, preds_2)"
      ],
      "metadata": {
        "colab": {
          "base_uri": "https://localhost:8080/",
          "height": 395
        },
        "outputId": "f1398063-818d-4320-994d-cbaad75c5bf0",
        "id": "QVHvzquYbaQe"
      },
      "execution_count": 62,
      "outputs": [
        {
          "output_type": "display_data",
          "data": {
            "text/plain": [
              "<Figure size 936x360 with 2 Axes>"
            ],
            "image/png": "[encoded data removed]"
          },
          "metadata": {
            "needs_background": "light"
          }
        }
      ]
    },
    {
      "cell_type": "code",
      "source": [
        "plt.plot(model2_history.history['accuracy'])\n",
        "plt.plot(model2_history.history['val_accuracy'])\n",
        "plt.title('Model accuracy Vs Epochs')\n",
        "plt.ylabel('Accuracy')\n",
        "plt.xlabel('Epoch')\n",
        "plt.legend(['Train', 'Validation'], loc='upper left')\n",
        "plt.show()\n",
        "\n",
        "# summarize history for loss\n",
        "plt.plot(model2_history.history['loss'])\n",
        "plt.plot(model2_history.history['val_loss'])\n",
        "plt.title('Model loss Vs Loss')\n",
        "plt.ylabel('Loss')\n",
        "plt.xlabel('Epoch')\n",
        "plt.legend(['Train', 'Validation'], loc='upper left')\n",
        "plt.show()"
      ],
      "metadata": {
        "colab": {
          "base_uri": "https://localhost:8080/",
          "height": 573
        },
        "id": "bK77u8LpPLDq",
        "outputId": "fd27af18-9fa6-408c-9fb0-37bca1bd3368"
      },
      "execution_count": 63,
      "outputs": [
        {
          "output_type": "display_data",
          "data": {
            "text/plain": [
              "<Figure size 432x288 with 1 Axes>"
            ],
            "image/png": "[encoded data removed]"
          },
          "metadata": {
            "needs_background": "light"
          }
        },
        {
          "output_type": "display_data",
          "data": {
            "text/plain": [
              "<Figure size 432x288 with 1 Axes>"
            ],
            "image/png": "[encoded data removed]"
          },
          "metadata": {
            "needs_background": "light"
          }
        }
      ]
    },
    {
      "cell_type": "markdown",
      "source": [
        "###Train the model with duration feature - comparison purpose"
      ],
      "metadata": {
        "id": "4d3HgKIZoyuL"
      }
    },
    {
      "cell_type": "code",
      "source": [
        "data_dur = data_1.copy()"
      ],
      "metadata": {
        "id": "vcVhlgDjTi_N"
      },
      "execution_count": null,
      "outputs": []
    },
    {
      "cell_type": "code",
      "source": [
        "df_dur = data_dur[['age', 'marital', 'default', 'housing', 'loan',\n",
        "       'contact', 'day_of_week', 'duration', 'campaign', 'pdays',\n",
        "       'previous', 'poutcome', 'emp.var.rate', 'cons.price.idx',\n",
        "       'cons.conf.idx', 'euribor3m', 'nr.employed', 'y', 'edu_new', 'job_new', 'season']]"
      ],
      "metadata": {
        "id": "wLXfPrt-VJvb"
      },
      "execution_count": null,
      "outputs": []
    },
    {
      "cell_type": "code",
      "source": [
        "y = df_dur['y'].apply(lambda x: 0 if x=='no' else (1 if x=='yes' else -1))\n",
        "y.value_counts()"
      ],
      "metadata": {
        "id": "MbeVWpWkUE0T"
      },
      "execution_count": null,
      "outputs": []
    },
    {
      "cell_type": "code",
      "source": [
        "x = df_dur.drop('y', axis=1)"
      ],
      "metadata": {
        "id": "mzDat0xBUE0Y"
      },
      "execution_count": null,
      "outputs": []
    },
    {
      "cell_type": "code",
      "source": [
        "df_raw_3 = pd.get_dummies(x)\n",
        "df_raw_3.columns"
      ],
      "metadata": {
        "colab": {
          "base_uri": "https://localhost:8080/"
        },
        "outputId": "de1bfe75-f5d3-45aa-c83f-303e12029f3e",
        "id": "NFqU45YXUE0Y"
      },
      "execution_count": null,
      "outputs": [
        {
          "output_type": "execute_result",
          "data": {
            "text/plain": [
              "Index(['age', 'duration', 'campaign', 'pdays', 'previous', 'emp.var.rate',\n",
              "       'cons.price.idx', 'cons.conf.idx', 'euribor3m', 'nr.employed',\n",
              "       'marital_divorced', 'marital_married', 'marital_single',\n",
              "       'marital_unknown', 'default_no', 'default_unknown', 'default_yes',\n",
              "       'housing_no', 'housing_unknown', 'housing_yes', 'loan_no',\n",
              "       'loan_unknown', 'loan_yes', 'contact_cellular', 'contact_telephone',\n",
              "       'day_of_week_fri', 'day_of_week_mon', 'day_of_week_thu',\n",
              "       'day_of_week_tue', 'day_of_week_wed', 'poutcome_failure',\n",
              "       'poutcome_nonexistent', 'poutcome_success', 'edu_new_high',\n",
              "       'edu_new_post_high', 'edu_new_pre_high', 'edu_new_unknown',\n",
              "       'job_new_blue_collar', 'job_new_not_working', 'job_new_unknown',\n",
              "       'job_new_white_collar', 'season_fall', 'season_spring', 'season_summer',\n",
              "       'season_winter'],\n",
              "      dtype='object')"
            ]
          },
          "metadata": {},
          "execution_count": 68
        }
      ]
    },
    {
      "cell_type": "code",
      "source": [
        "#drop the unknow columns as they are correlated to other categories\n",
        "\n",
        "df_raw_3 = df_raw_3.drop(['marital_unknown', 'default_unknown', 'housing_unknown', \n",
        "                        'loan_unknown', 'edu_new_unknown', 'job_new_unknown',\n",
        "                        'day_of_week_fri', 'day_of_week_mon', 'day_of_week_thu',\n",
        "                        'day_of_week_tue', 'day_of_week_wed', 'season_winter'], axis=1)\n",
        "df_raw_3.shape"
      ],
      "metadata": {
        "colab": {
          "base_uri": "https://localhost:8080/"
        },
        "outputId": "c21d40fd-461a-401a-c7f6-c4dc87044615",
        "id": "wO62Mes-UE0Y"
      },
      "execution_count": null,
      "outputs": [
        {
          "output_type": "execute_result",
          "data": {
            "text/plain": [
              "(41170, 33)"
            ]
          },
          "metadata": {},
          "execution_count": 69
        }
      ]
    },
    {
      "cell_type": "code",
      "source": [
        "from sklearn.preprocessing import MinMaxScaler\n",
        "\n",
        "scaler = MinMaxScaler()\n",
        "x_3 = scaler.fit_transform(df_raw_3)"
      ],
      "metadata": {
        "id": "neeP31eoUE0Y"
      },
      "execution_count": null,
      "outputs": []
    },
    {
      "cell_type": "code",
      "source": [
        "x_3"
      ],
      "metadata": {
        "colab": {
          "base_uri": "https://localhost:8080/"
        },
        "outputId": "aa14bf51-eb7c-4175-db54-6581b7836410",
        "id": "kQ6VYWXvUE0Y"
      },
      "execution_count": null,
      "outputs": [
        {
          "output_type": "execute_result",
          "data": {
            "text/plain": [
              "array([[0.48148148, 0.05307035, 0.        , ..., 0.        , 1.        ,\n",
              "        0.        ],\n",
              "       [0.49382716, 0.03029687, 0.        , ..., 0.        , 1.        ,\n",
              "        0.        ],\n",
              "       [0.24691358, 0.04595364, 0.        , ..., 0.        , 1.        ,\n",
              "        0.        ],\n",
              "       ...,\n",
              "       [0.48148148, 0.03843026, 0.01818182, ..., 1.        , 0.        ,\n",
              "        0.        ],\n",
              "       [0.33333333, 0.08987393, 0.        , ..., 1.        , 0.        ,\n",
              "        0.        ],\n",
              "       [0.7037037 , 0.04859699, 0.03636364, ..., 1.        , 0.        ,\n",
              "        0.        ]])"
            ]
          },
          "metadata": {},
          "execution_count": 71
        }
      ]
    },
    {
      "cell_type": "code",
      "source": [
        "#here i used stratified sampling approach, since the raw data is not balanced distributed\n",
        "x_train3,x_test3,y_train3,y_test3 = train_test_split(x_3, y, test_size = 0.2, stratify=y, random_state=42)\n",
        "print(x_train3.shape,\n",
        "      x_test3.shape,\n",
        "      y_train3.shape,\n",
        "      y_test3.shape)"
      ],
      "metadata": {
        "colab": {
          "base_uri": "https://localhost:8080/"
        },
        "outputId": "885ffa4d-fa30-493b-9679-ec6c8db3b17d",
        "id": "saWxXeLYUE0Y"
      },
      "execution_count": null,
      "outputs": [
        {
          "output_type": "stream",
          "name": "stdout",
          "text": [
            "(32936, 33) (8234, 33) (32936,) (8234,)\n"
          ]
        }
      ]
    },
    {
      "cell_type": "code",
      "source": [
        "import imblearn\n",
        "\n",
        "smote = SMOTE()\n",
        "\n",
        "x_s3, y_s3 = smote.fit_resample(x_train3, y_train3)\n",
        "\n",
        "print('Original dataset shape', len(x_train3))\n",
        "print('Resampled dataset shape', len(x_s3))"
      ],
      "metadata": {
        "colab": {
          "base_uri": "https://localhost:8080/"
        },
        "outputId": "848a75cb-72bd-46e4-d5ac-ea31f8c75942",
        "id": "uO6WCWboUE0Y"
      },
      "execution_count": null,
      "outputs": [
        {
          "output_type": "stream",
          "name": "stdout",
          "text": [
            "Original dataset shape 32936\n",
            "Resampled dataset shape 58454\n"
          ]
        }
      ]
    },
    {
      "cell_type": "code",
      "source": [
        "y_s3.value_counts()"
      ],
      "metadata": {
        "colab": {
          "base_uri": "https://localhost:8080/"
        },
        "outputId": "66de5839-b721-4011-a135-c361e4a8643a",
        "id": "JTql9XhgUE0Z"
      },
      "execution_count": null,
      "outputs": [
        {
          "output_type": "execute_result",
          "data": {
            "text/plain": [
              "0    29227\n",
              "1    29227\n",
              "Name: y, dtype: int64"
            ]
          },
          "metadata": {},
          "execution_count": 74
        }
      ]
    },
    {
      "cell_type": "code",
      "source": [
        "model3 = Sequential()\n",
        "model3.add(Dense(units = 16, kernel_initializer = 'he_uniform',activation='relu',input_dim = x_s3.shape[1]))\n",
        "model3.add(Dense(units = 8, kernel_initializer = 'he_uniform',activation='relu', kernel_regularizer=tf.keras.regularizers.L2(0.001)))\n",
        "model3.add(Dropout(0.2))\n",
        "model3.add(Dense(units = 1, kernel_initializer = 'glorot_uniform', activation = 'sigmoid'))"
      ],
      "metadata": {
        "id": "0S1ZU2mSUE0Z"
      },
      "execution_count": null,
      "outputs": []
    },
    {
      "cell_type": "code",
      "source": [
        "model3.compile(optimizer = 'adamax', loss = 'binary_crossentropy', metrics = ['accuracy'])\n",
        "model3.summary()"
      ],
      "metadata": {
        "colab": {
          "base_uri": "https://localhost:8080/"
        },
        "outputId": "fe2fc04e-1981-472a-82e1-47cb821460f3",
        "id": "SSC4xbnoUE0Z"
      },
      "execution_count": null,
      "outputs": [
        {
          "output_type": "stream",
          "name": "stdout",
          "text": [
            "Model: \"sequential_6\"\n",
            "_________________________________________________________________\n",
            " Layer (type)                Output Shape              Param #   \n",
            "=================================================================\n",
            " dense_17 (Dense)            (None, 16)                544       \n",
            "                                                                 \n",
            " dense_18 (Dense)            (None, 8)                 136       \n",
            "                                                                 \n",
            " dropout_2 (Dropout)         (None, 8)                 0         \n",
            "                                                                 \n",
            " dense_19 (Dense)            (None, 1)                 9         \n",
            "                                                                 \n",
            "=================================================================\n",
            "Total params: 689\n",
            "Trainable params: 689\n",
            "Non-trainable params: 0\n",
            "_________________________________________________________________\n"
          ]
        }
      ]
    },
    {
      "cell_type": "code",
      "source": [
        "model_history = model3.fit(x_s3, y_s3,validation_split=0.33, batch_size = 10, epochs = 100)"
      ],
      "metadata": {
        "colab": {
          "base_uri": "https://localhost:8080/"
        },
        "outputId": "e9c05fc3-8a00-4b8f-df7f-38479d95f9cb",
        "id": "l3NcDBIeUE0Z"
      },
      "execution_count": null,
      "outputs": [
        {
          "output_type": "stream",
          "name": "stdout",
          "text": [
            "Epoch 1/100\n",
            "3917/3917 [==============================] - 9s 2ms/step - loss: 0.4902 - accuracy: 0.7890 - val_loss: 0.9856 - val_accuracy: 0.4475\n",
            "Epoch 2/100\n",
            "3917/3917 [==============================] - 9s 2ms/step - loss: 0.4224 - accuracy: 0.8160 - val_loss: 0.8085 - val_accuracy: 0.5251\n",
            "Epoch 3/100\n",
            "3917/3917 [==============================] - 9s 2ms/step - loss: 0.3583 - accuracy: 0.8400 - val_loss: 0.6859 - val_accuracy: 0.6417\n",
            "Epoch 4/100\n",
            "3917/3917 [==============================] - 9s 2ms/step - loss: 0.3228 - accuracy: 0.8588 - val_loss: 0.6096 - val_accuracy: 0.7239\n",
            "Epoch 5/100\n",
            "3917/3917 [==============================] - 9s 2ms/step - loss: 0.3100 - accuracy: 0.8656 - val_loss: 0.6349 - val_accuracy: 0.7250\n",
            "Epoch 6/100\n",
            "3917/3917 [==============================] - 10s 3ms/step - loss: 0.3033 - accuracy: 0.8698 - val_loss: 0.5197 - val_accuracy: 0.8158\n",
            "Epoch 7/100\n",
            "3917/3917 [==============================] - 8s 2ms/step - loss: 0.2993 - accuracy: 0.8706 - val_loss: 0.6350 - val_accuracy: 0.7471\n",
            "Epoch 8/100\n",
            "3917/3917 [==============================] - 8s 2ms/step - loss: 0.2968 - accuracy: 0.8717 - val_loss: 0.4894 - val_accuracy: 0.8516\n",
            "Epoch 9/100\n",
            "3917/3917 [==============================] - 8s 2ms/step - loss: 0.2934 - accuracy: 0.8716 - val_loss: 0.5525 - val_accuracy: 0.8064\n",
            "Epoch 10/100\n",
            "3917/3917 [==============================] - 9s 2ms/step - loss: 0.2908 - accuracy: 0.8740 - val_loss: 0.5581 - val_accuracy: 0.8082\n",
            "Epoch 11/100\n",
            "3917/3917 [==============================] - 8s 2ms/step - loss: 0.2885 - accuracy: 0.8729 - val_loss: 0.5546 - val_accuracy: 0.8073\n",
            "Epoch 12/100\n",
            "3917/3917 [==============================] - 9s 2ms/step - loss: 0.2876 - accuracy: 0.8735 - val_loss: 0.5602 - val_accuracy: 0.8062\n",
            "Epoch 13/100\n",
            "3917/3917 [==============================] - 11s 3ms/step - loss: 0.2859 - accuracy: 0.8747 - val_loss: 0.5234 - val_accuracy: 0.8317\n",
            "Epoch 14/100\n",
            "3917/3917 [==============================] - 18s 5ms/step - loss: 0.2842 - accuracy: 0.8743 - val_loss: 0.4924 - val_accuracy: 0.8531\n",
            "Epoch 15/100\n",
            "3917/3917 [==============================] - 16s 4ms/step - loss: 0.2815 - accuracy: 0.8751 - val_loss: 0.4596 - val_accuracy: 0.8720\n",
            "Epoch 16/100\n",
            "3917/3917 [==============================] - 15s 4ms/step - loss: 0.2790 - accuracy: 0.8761 - val_loss: 0.5334 - val_accuracy: 0.8086\n",
            "Epoch 17/100\n",
            "3917/3917 [==============================] - 12s 3ms/step - loss: 0.2785 - accuracy: 0.8758 - val_loss: 0.5471 - val_accuracy: 0.8012\n",
            "Epoch 18/100\n",
            "3917/3917 [==============================] - 9s 2ms/step - loss: 0.2771 - accuracy: 0.8758 - val_loss: 0.5147 - val_accuracy: 0.8309\n",
            "Epoch 19/100\n",
            "3917/3917 [==============================] - 8s 2ms/step - loss: 0.2747 - accuracy: 0.8786 - val_loss: 0.5833 - val_accuracy: 0.7941\n",
            "Epoch 20/100\n",
            "3917/3917 [==============================] - 8s 2ms/step - loss: 0.2743 - accuracy: 0.8771 - val_loss: 0.5260 - val_accuracy: 0.8304\n",
            "Epoch 21/100\n",
            "3917/3917 [==============================] - 8s 2ms/step - loss: 0.2727 - accuracy: 0.8773 - val_loss: 0.5319 - val_accuracy: 0.8204\n",
            "Epoch 22/100\n",
            "3917/3917 [==============================] - 9s 2ms/step - loss: 0.2722 - accuracy: 0.8780 - val_loss: 0.4837 - val_accuracy: 0.8455\n",
            "Epoch 23/100\n",
            "3917/3917 [==============================] - 9s 2ms/step - loss: 0.2713 - accuracy: 0.8777 - val_loss: 0.5025 - val_accuracy: 0.8282\n",
            "Epoch 24/100\n",
            "3917/3917 [==============================] - 9s 2ms/step - loss: 0.2709 - accuracy: 0.8774 - val_loss: 0.4545 - val_accuracy: 0.8785\n",
            "Epoch 25/100\n",
            "3917/3917 [==============================] - 8s 2ms/step - loss: 0.2697 - accuracy: 0.8780 - val_loss: 0.5837 - val_accuracy: 0.7872\n",
            "Epoch 26/100\n",
            "3917/3917 [==============================] - 9s 2ms/step - loss: 0.2683 - accuracy: 0.8784 - val_loss: 0.6015 - val_accuracy: 0.7832\n",
            "Epoch 27/100\n",
            "3917/3917 [==============================] - 9s 2ms/step - loss: 0.2688 - accuracy: 0.8801 - val_loss: 0.4533 - val_accuracy: 0.8665\n",
            "Epoch 28/100\n",
            "3917/3917 [==============================] - 8s 2ms/step - loss: 0.2675 - accuracy: 0.8788 - val_loss: 0.3987 - val_accuracy: 0.9040\n",
            "Epoch 29/100\n",
            "3917/3917 [==============================] - 8s 2ms/step - loss: 0.2661 - accuracy: 0.8787 - val_loss: 0.4872 - val_accuracy: 0.8441\n",
            "Epoch 30/100\n",
            "3917/3917 [==============================] - 8s 2ms/step - loss: 0.2652 - accuracy: 0.8810 - val_loss: 0.5247 - val_accuracy: 0.8208\n",
            "Epoch 31/100\n",
            "3917/3917 [==============================] - 8s 2ms/step - loss: 0.2667 - accuracy: 0.8793 - val_loss: 0.5834 - val_accuracy: 0.7783\n",
            "Epoch 32/100\n",
            "3917/3917 [==============================] - 9s 2ms/step - loss: 0.2652 - accuracy: 0.8787 - val_loss: 0.4989 - val_accuracy: 0.8378\n",
            "Epoch 33/100\n",
            "3917/3917 [==============================] - 9s 2ms/step - loss: 0.2647 - accuracy: 0.8799 - val_loss: 0.5193 - val_accuracy: 0.8202\n",
            "Epoch 34/100\n",
            "3917/3917 [==============================] - 8s 2ms/step - loss: 0.2662 - accuracy: 0.8779 - val_loss: 0.4447 - val_accuracy: 0.8737\n",
            "Epoch 35/100\n",
            "3917/3917 [==============================] - 8s 2ms/step - loss: 0.2646 - accuracy: 0.8786 - val_loss: 0.4451 - val_accuracy: 0.8729\n",
            "Epoch 36/100\n",
            "3917/3917 [==============================] - 9s 2ms/step - loss: 0.2637 - accuracy: 0.8814 - val_loss: 0.4609 - val_accuracy: 0.8533\n",
            "Epoch 37/100\n",
            "3917/3917 [==============================] - 9s 2ms/step - loss: 0.2630 - accuracy: 0.8793 - val_loss: 0.4253 - val_accuracy: 0.8819\n",
            "Epoch 38/100\n",
            "3917/3917 [==============================] - 9s 2ms/step - loss: 0.2636 - accuracy: 0.8799 - val_loss: 0.4322 - val_accuracy: 0.8774\n",
            "Epoch 39/100\n",
            "3917/3917 [==============================] - 9s 2ms/step - loss: 0.2637 - accuracy: 0.8799 - val_loss: 0.4388 - val_accuracy: 0.8681\n",
            "Epoch 40/100\n",
            "3917/3917 [==============================] - 8s 2ms/step - loss: 0.2625 - accuracy: 0.8794 - val_loss: 0.4918 - val_accuracy: 0.8328\n",
            "Epoch 41/100\n",
            "3917/3917 [==============================] - 8s 2ms/step - loss: 0.2623 - accuracy: 0.8809 - val_loss: 0.4516 - val_accuracy: 0.8597\n",
            "Epoch 42/100\n",
            "3917/3917 [==============================] - 8s 2ms/step - loss: 0.2625 - accuracy: 0.8796 - val_loss: 0.4050 - val_accuracy: 0.9075\n",
            "Epoch 43/100\n",
            "3917/3917 [==============================] - 8s 2ms/step - loss: 0.2619 - accuracy: 0.8806 - val_loss: 0.4518 - val_accuracy: 0.8720\n",
            "Epoch 44/100\n",
            "3917/3917 [==============================] - 8s 2ms/step - loss: 0.2607 - accuracy: 0.8811 - val_loss: 0.4676 - val_accuracy: 0.8533\n",
            "Epoch 45/100\n",
            "3917/3917 [==============================] - 9s 2ms/step - loss: 0.2609 - accuracy: 0.8807 - val_loss: 0.4594 - val_accuracy: 0.8685\n",
            "Epoch 46/100\n",
            "3917/3917 [==============================] - 8s 2ms/step - loss: 0.2606 - accuracy: 0.8802 - val_loss: 0.4343 - val_accuracy: 0.8844\n",
            "Epoch 47/100\n",
            "3917/3917 [==============================] - 9s 2ms/step - loss: 0.2618 - accuracy: 0.8804 - val_loss: 0.4307 - val_accuracy: 0.8882\n",
            "Epoch 48/100\n",
            "3917/3917 [==============================] - 8s 2ms/step - loss: 0.2611 - accuracy: 0.8799 - val_loss: 0.4346 - val_accuracy: 0.8866\n",
            "Epoch 49/100\n",
            "3917/3917 [==============================] - 8s 2ms/step - loss: 0.2601 - accuracy: 0.8823 - val_loss: 0.5272 - val_accuracy: 0.8289\n",
            "Epoch 50/100\n",
            "3917/3917 [==============================] - 8s 2ms/step - loss: 0.2605 - accuracy: 0.8812 - val_loss: 0.5470 - val_accuracy: 0.8135\n",
            "Epoch 51/100\n",
            "3917/3917 [==============================] - 9s 2ms/step - loss: 0.2611 - accuracy: 0.8812 - val_loss: 0.4564 - val_accuracy: 0.8657\n",
            "Epoch 52/100\n",
            "3917/3917 [==============================] - 9s 2ms/step - loss: 0.2596 - accuracy: 0.8818 - val_loss: 0.4953 - val_accuracy: 0.8488\n",
            "Epoch 53/100\n",
            "3917/3917 [==============================] - 9s 2ms/step - loss: 0.2585 - accuracy: 0.8828 - val_loss: 0.5051 - val_accuracy: 0.8356\n",
            "Epoch 54/100\n",
            "3917/3917 [==============================] - 9s 2ms/step - loss: 0.2605 - accuracy: 0.8805 - val_loss: 0.5133 - val_accuracy: 0.8323\n",
            "Epoch 55/100\n",
            "3917/3917 [==============================] - 8s 2ms/step - loss: 0.2603 - accuracy: 0.8794 - val_loss: 0.5143 - val_accuracy: 0.8131\n",
            "Epoch 56/100\n",
            "3917/3917 [==============================] - 8s 2ms/step - loss: 0.2590 - accuracy: 0.8809 - val_loss: 0.4244 - val_accuracy: 0.8788\n",
            "Epoch 57/100\n",
            "3917/3917 [==============================] - 8s 2ms/step - loss: 0.2595 - accuracy: 0.8813 - val_loss: 0.4534 - val_accuracy: 0.8597\n",
            "Epoch 58/100\n",
            "3917/3917 [==============================] - 9s 2ms/step - loss: 0.2574 - accuracy: 0.8825 - val_loss: 0.4536 - val_accuracy: 0.8707\n",
            "Epoch 59/100\n",
            "3917/3917 [==============================] - 8s 2ms/step - loss: 0.2579 - accuracy: 0.8812 - val_loss: 0.4518 - val_accuracy: 0.8701\n",
            "Epoch 60/100\n",
            "3917/3917 [==============================] - 8s 2ms/step - loss: 0.2584 - accuracy: 0.8832 - val_loss: 0.4634 - val_accuracy: 0.8657\n",
            "Epoch 61/100\n",
            "3917/3917 [==============================] - 8s 2ms/step - loss: 0.2583 - accuracy: 0.8828 - val_loss: 0.5863 - val_accuracy: 0.7868\n",
            "Epoch 62/100\n",
            "3917/3917 [==============================] - 9s 2ms/step - loss: 0.2579 - accuracy: 0.8848 - val_loss: 0.4243 - val_accuracy: 0.8785\n",
            "Epoch 63/100\n",
            "3917/3917 [==============================] - 8s 2ms/step - loss: 0.2574 - accuracy: 0.8832 - val_loss: 0.4364 - val_accuracy: 0.8757\n",
            "Epoch 64/100\n",
            "3917/3917 [==============================] - 10s 2ms/step - loss: 0.2588 - accuracy: 0.8810 - val_loss: 0.4150 - val_accuracy: 0.8838\n",
            "Epoch 65/100\n",
            "3917/3917 [==============================] - 8s 2ms/step - loss: 0.2578 - accuracy: 0.8819 - val_loss: 0.5272 - val_accuracy: 0.8221\n",
            "Epoch 66/100\n",
            "3917/3917 [==============================] - 9s 2ms/step - loss: 0.2574 - accuracy: 0.8829 - val_loss: 0.4671 - val_accuracy: 0.8636\n",
            "Epoch 67/100\n",
            "3917/3917 [==============================] - 8s 2ms/step - loss: 0.2573 - accuracy: 0.8817 - val_loss: 0.4672 - val_accuracy: 0.8416\n",
            "Epoch 68/100\n",
            "3917/3917 [==============================] - 9s 2ms/step - loss: 0.2572 - accuracy: 0.8819 - val_loss: 0.4681 - val_accuracy: 0.8667\n",
            "Epoch 69/100\n",
            "3917/3917 [==============================] - 9s 2ms/step - loss: 0.2563 - accuracy: 0.8823 - val_loss: 0.4360 - val_accuracy: 0.8866\n",
            "Epoch 70/100\n",
            "3917/3917 [==============================] - 8s 2ms/step - loss: 0.2571 - accuracy: 0.8824 - val_loss: 0.4470 - val_accuracy: 0.8749\n",
            "Epoch 71/100\n",
            "3917/3917 [==============================] - 9s 2ms/step - loss: 0.2572 - accuracy: 0.8823 - val_loss: 0.3949 - val_accuracy: 0.9047\n",
            "Epoch 72/100\n",
            "3917/3917 [==============================] - 8s 2ms/step - loss: 0.2551 - accuracy: 0.8820 - val_loss: 0.4352 - val_accuracy: 0.8805\n",
            "Epoch 73/100\n",
            "3917/3917 [==============================] - 9s 2ms/step - loss: 0.2567 - accuracy: 0.8808 - val_loss: 0.4273 - val_accuracy: 0.8863\n",
            "Epoch 74/100\n",
            "3917/3917 [==============================] - 8s 2ms/step - loss: 0.2570 - accuracy: 0.8822 - val_loss: 0.4179 - val_accuracy: 0.8837\n",
            "Epoch 75/100\n",
            "3917/3917 [==============================] - 9s 2ms/step - loss: 0.2556 - accuracy: 0.8829 - val_loss: 0.6104 - val_accuracy: 0.7516\n",
            "Epoch 76/100\n",
            "3917/3917 [==============================] - 8s 2ms/step - loss: 0.2561 - accuracy: 0.8826 - val_loss: 0.4589 - val_accuracy: 0.8689\n",
            "Epoch 77/100\n",
            "3917/3917 [==============================] - 9s 2ms/step - loss: 0.2558 - accuracy: 0.8832 - val_loss: 0.4269 - val_accuracy: 0.8765\n",
            "Epoch 78/100\n",
            "3917/3917 [==============================] - 9s 2ms/step - loss: 0.2557 - accuracy: 0.8818 - val_loss: 0.4958 - val_accuracy: 0.8284\n",
            "Epoch 79/100\n",
            "3917/3917 [==============================] - 9s 2ms/step - loss: 0.2565 - accuracy: 0.8833 - val_loss: 0.4723 - val_accuracy: 0.8594\n",
            "Epoch 80/100\n",
            "3917/3917 [==============================] - 8s 2ms/step - loss: 0.2550 - accuracy: 0.8828 - val_loss: 0.4203 - val_accuracy: 0.8822\n",
            "Epoch 81/100\n",
            "3917/3917 [==============================] - 9s 2ms/step - loss: 0.2548 - accuracy: 0.8825 - val_loss: 0.4276 - val_accuracy: 0.8731\n",
            "Epoch 82/100\n",
            "3917/3917 [==============================] - 9s 2ms/step - loss: 0.2559 - accuracy: 0.8821 - val_loss: 0.4938 - val_accuracy: 0.8474\n",
            "Epoch 83/100\n",
            "3917/3917 [==============================] - 9s 2ms/step - loss: 0.2556 - accuracy: 0.8824 - val_loss: 0.4983 - val_accuracy: 0.8405\n",
            "Epoch 84/100\n",
            "3917/3917 [==============================] - 8s 2ms/step - loss: 0.2561 - accuracy: 0.8823 - val_loss: 0.4349 - val_accuracy: 0.8766\n",
            "Epoch 85/100\n",
            "3917/3917 [==============================] - 8s 2ms/step - loss: 0.2543 - accuracy: 0.8829 - val_loss: 0.5387 - val_accuracy: 0.8062\n",
            "Epoch 86/100\n",
            "3917/3917 [==============================] - 8s 2ms/step - loss: 0.2556 - accuracy: 0.8833 - val_loss: 0.3778 - val_accuracy: 0.9109\n",
            "Epoch 87/100\n",
            "3917/3917 [==============================] - 9s 2ms/step - loss: 0.2545 - accuracy: 0.8813 - val_loss: 0.4132 - val_accuracy: 0.8889\n",
            "Epoch 88/100\n",
            "3917/3917 [==============================] - 8s 2ms/step - loss: 0.2550 - accuracy: 0.8829 - val_loss: 0.3986 - val_accuracy: 0.8961\n",
            "Epoch 89/100\n",
            "3917/3917 [==============================] - 8s 2ms/step - loss: 0.2546 - accuracy: 0.8825 - val_loss: 0.4827 - val_accuracy: 0.8418\n",
            "Epoch 90/100\n",
            "3917/3917 [==============================] - 8s 2ms/step - loss: 0.2548 - accuracy: 0.8825 - val_loss: 0.4208 - val_accuracy: 0.8887\n",
            "Epoch 91/100\n",
            "3917/3917 [==============================] - 9s 2ms/step - loss: 0.2547 - accuracy: 0.8836 - val_loss: 0.4709 - val_accuracy: 0.8460\n",
            "Epoch 92/100\n",
            "3917/3917 [==============================] - 8s 2ms/step - loss: 0.2541 - accuracy: 0.8833 - val_loss: 0.4632 - val_accuracy: 0.8484\n",
            "Epoch 93/100\n",
            "3917/3917 [==============================] - 9s 2ms/step - loss: 0.2540 - accuracy: 0.8834 - val_loss: 0.4605 - val_accuracy: 0.8586\n",
            "Epoch 94/100\n",
            "3917/3917 [==============================] - 8s 2ms/step - loss: 0.2549 - accuracy: 0.8830 - val_loss: 0.4916 - val_accuracy: 0.8328\n",
            "Epoch 95/100\n",
            "3917/3917 [==============================] - 9s 2ms/step - loss: 0.2541 - accuracy: 0.8839 - val_loss: 0.5048 - val_accuracy: 0.8294\n",
            "Epoch 96/100\n",
            "3917/3917 [==============================] - 8s 2ms/step - loss: 0.2540 - accuracy: 0.8837 - val_loss: 0.4815 - val_accuracy: 0.8348\n",
            "Epoch 97/100\n",
            "3917/3917 [==============================] - 8s 2ms/step - loss: 0.2542 - accuracy: 0.8846 - val_loss: 0.4659 - val_accuracy: 0.8514\n",
            "Epoch 98/100\n",
            "3917/3917 [==============================] - 8s 2ms/step - loss: 0.2536 - accuracy: 0.8836 - val_loss: 0.3959 - val_accuracy: 0.9061\n",
            "Epoch 99/100\n",
            "3917/3917 [==============================] - 9s 2ms/step - loss: 0.2536 - accuracy: 0.8838 - val_loss: 0.5224 - val_accuracy: 0.7930\n",
            "Epoch 100/100\n",
            "3917/3917 [==============================] - 9s 2ms/step - loss: 0.2544 - accuracy: 0.8830 - val_loss: 0.4415 - val_accuracy: 0.8581\n"
          ]
        }
      ]
    },
    {
      "cell_type": "code",
      "source": [
        "plt.plot(model_history.history['accuracy'])\n",
        "plt.plot(model_history.history['val_accuracy'])\n",
        "plt.title('Model accuracy Vs Epochs')\n",
        "plt.ylabel('Accuracy')\n",
        "plt.xlabel('Epoch')\n",
        "plt.legend(['Train', 'Validation'], loc='upper left')\n",
        "plt.show()\n",
        "\n",
        "# summarize history for loss\n",
        "plt.plot(model_history.history['loss'])\n",
        "plt.plot(model_history.history['val_loss'])\n",
        "plt.title('Model loss Vs Loss')\n",
        "plt.ylabel('Loss')\n",
        "plt.xlabel('Epoch')\n",
        "plt.legend(['Train', 'Validation'], loc='upper left')\n",
        "plt.show()"
      ],
      "metadata": {
        "colab": {
          "base_uri": "https://localhost:8080/",
          "height": 573
        },
        "id": "V7Vvo2WBZFXJ",
        "outputId": "688e7f40-ba82-4fea-fffa-e37558c5eab4"
      },
      "execution_count": null,
      "outputs": [
        {
          "output_type": "display_data",
          "data": {
            "text/plain": [
              "<Figure size 432x288 with 1 Axes>"
            ],
            "image/png": "[encoded data removed]"
          },
          "metadata": {
            "needs_background": "light"
          }
        },
        {
          "output_type": "display_data",
          "data": {
            "text/plain": [
              "<Figure size 432x288 with 1 Axes>"
            ],
            "image/png": "[encoded data removed]"
          },
          "metadata": {
            "needs_background": "light"
          }
        }
      ]
    },
    {
      "cell_type": "code",
      "source": [
        "loss, accuracy = model3.evaluate(x_test3, y_test3)"
      ],
      "metadata": {
        "outputId": "99d39078-b41b-4c65-b8a6-4d7915447cba",
        "colab": {
          "base_uri": "https://localhost:8080/"
        },
        "id": "SFpLXdDvs7jQ"
      },
      "execution_count": null,
      "outputs": [
        {
          "output_type": "stream",
          "name": "stdout",
          "text": [
            "258/258 [==============================] - 1s 4ms/step - loss: 0.2146 - accuracy: 0.8911\n"
          ]
        }
      ]
    },
    {
      "cell_type": "code",
      "source": [
        "preds3 = model3.predict(x_test3)\n",
        "preds3=np.argmax(preds3, axis=1)\n",
        "print('shape of preds: ', preds.shape)"
      ],
      "metadata": {
        "outputId": "b1b5ee08-58c3-4a9b-e109-2950b47c364d",
        "colab": {
          "base_uri": "https://localhost:8080/"
        },
        "id": "nKwf7HoMs7jR"
      },
      "execution_count": null,
      "outputs": [
        {
          "output_type": "stream",
          "name": "stdout",
          "text": [
            "shape of preds:  (8234,)\n"
          ]
        }
      ]
    },
    {
      "cell_type": "code",
      "source": [
        "print_validation_report(y_test3, preds3)"
      ],
      "metadata": {
        "outputId": "dec739c7-2056-4d7b-c690-694be9d2c7bd",
        "colab": {
          "base_uri": "https://localhost:8080/"
        },
        "id": "xgrfkZfYs7jR"
      },
      "execution_count": null,
      "outputs": [
        {
          "output_type": "stream",
          "name": "stdout",
          "text": [
            "Classification Report\n",
            "              precision    recall  f1-score   support\n",
            "\n",
            "           0       0.89      1.00      0.94      7307\n",
            "           1       0.00      0.00      0.00       927\n",
            "\n",
            "    accuracy                           0.89      8234\n",
            "   macro avg       0.44      0.50      0.47      8234\n",
            "weighted avg       0.79      0.89      0.83      8234\n",
            "\n",
            "Accuracy Score: 0.8874180228321593\n",
            "Root Mean Square Error: 0.33553237871752506\n"
          ]
        }
      ]
    },
    {
      "cell_type": "code",
      "source": [
        "plot_confusion_matrix(y_test3,preds3)"
      ],
      "metadata": {
        "outputId": "0067afa9-8ae9-43b4-dc76-30a3e1d32e4f",
        "colab": {
          "base_uri": "https://localhost:8080/",
          "height": 497
        },
        "id": "KY3YRcHDs7jR"
      },
      "execution_count": null,
      "outputs": [
        {
          "output_type": "display_data",
          "data": {
            "text/plain": [
              "<Figure size 576x576 with 1 Axes>"
            ],
            "image/png": "[encoded data removed]"
          },
          "metadata": {
            "needs_background": "light"
          }
        }
      ]
    },
    {
      "cell_type": "markdown",
      "source": [
        "### Train NN based on original dataset for comparison purpose without duration"
      ],
      "metadata": {
        "id": "A0QnNl1twaz1"
      }
    },
    {
      "cell_type": "code",
      "source": [
        "data_2 = data.copy()\n",
        "df_tran_2 = data_2.drop(['duration'], axis=1)\n",
        "df_tran_2.columns"
      ],
      "metadata": {
        "id": "5JyihGxnwaeg",
        "outputId": "a283f7cb-8638-4b73-a162-89921e4a1b5b",
        "colab": {
          "base_uri": "https://localhost:8080/"
        }
      },
      "execution_count": 64,
      "outputs": [
        {
          "output_type": "execute_result",
          "data": {
            "text/plain": [
              "Index(['age', 'job', 'marital', 'education', 'default', 'housing', 'loan',\n",
              "       'contact', 'month', 'day_of_week', 'campaign', 'pdays', 'previous',\n",
              "       'poutcome', 'emp.var.rate', 'cons.price.idx', 'cons.conf.idx',\n",
              "       'euribor3m', 'nr.employed', 'y'],\n",
              "      dtype='object')"
            ]
          },
          "metadata": {},
          "execution_count": 64
        }
      ]
    },
    {
      "cell_type": "code",
      "source": [
        "y = df_tran_2['y'].apply(lambda x: 0 if x=='no' else (1 if x=='yes' else -1))\n",
        "y.value_counts()"
      ],
      "metadata": {
        "id": "JHrpF_QNwabr",
        "outputId": "1d9a20a4-4d83-403f-f9b3-ad3c4ec44f0f",
        "colab": {
          "base_uri": "https://localhost:8080/"
        }
      },
      "execution_count": 65,
      "outputs": [
        {
          "output_type": "execute_result",
          "data": {
            "text/plain": [
              "0    36548\n",
              "1     4640\n",
              "Name: y, dtype: int64"
            ]
          },
          "metadata": {},
          "execution_count": 65
        }
      ]
    },
    {
      "cell_type": "code",
      "source": [
        "x = df_tran_2.drop('y', axis=1)"
      ],
      "metadata": {
        "id": "QdniRrnlymRr"
      },
      "execution_count": 66,
      "outputs": []
    },
    {
      "cell_type": "code",
      "source": [
        "df_raw_3 = pd.get_dummies(x)\n",
        "df_raw_3.columns"
      ],
      "metadata": {
        "id": "gMemO39fymRr",
        "outputId": "c90bd3a4-b0d9-46c8-94f7-ccc9fe45e3a2",
        "colab": {
          "base_uri": "https://localhost:8080/"
        }
      },
      "execution_count": 67,
      "outputs": [
        {
          "output_type": "execute_result",
          "data": {
            "text/plain": [
              "Index(['age', 'campaign', 'pdays', 'previous', 'emp.var.rate',\n",
              "       'cons.price.idx', 'cons.conf.idx', 'euribor3m', 'nr.employed',\n",
              "       'job_admin.', 'job_blue-collar', 'job_entrepreneur', 'job_housemaid',\n",
              "       'job_management', 'job_retired', 'job_self-employed', 'job_services',\n",
              "       'job_student', 'job_technician', 'job_unemployed', 'job_unknown',\n",
              "       'marital_divorced', 'marital_married', 'marital_single',\n",
              "       'marital_unknown', 'education_basic.4y', 'education_basic.6y',\n",
              "       'education_basic.9y', 'education_high.school', 'education_illiterate',\n",
              "       'education_professional.course', 'education_university.degree',\n",
              "       'education_unknown', 'default_no', 'default_unknown', 'default_yes',\n",
              "       'housing_no', 'housing_unknown', 'housing_yes', 'loan_no',\n",
              "       'loan_unknown', 'loan_yes', 'contact_cellular', 'contact_telephone',\n",
              "       'month_apr', 'month_aug', 'month_dec', 'month_jul', 'month_jun',\n",
              "       'month_mar', 'month_may', 'month_nov', 'month_oct', 'month_sep',\n",
              "       'day_of_week_fri', 'day_of_week_mon', 'day_of_week_thu',\n",
              "       'day_of_week_tue', 'day_of_week_wed', 'poutcome_failure',\n",
              "       'poutcome_nonexistent', 'poutcome_success'],\n",
              "      dtype='object')"
            ]
          },
          "metadata": {},
          "execution_count": 67
        }
      ]
    },
    {
      "cell_type": "code",
      "source": [
        "#drop the unknow columns as they are correlated to other categories\n",
        "\n",
        "df_raw_3 = df_raw_3.drop(['job_unknown','marital_unknown','education_unknown', 'default_unknown', 'housing_unknown', 'loan_unknown'], axis=1)\n",
        "df_raw_3.shape"
      ],
      "metadata": {
        "id": "jMqOY6S9ymRr",
        "outputId": "b7ec0dfb-05b8-4c81-c355-167885968a85",
        "colab": {
          "base_uri": "https://localhost:8080/"
        }
      },
      "execution_count": 68,
      "outputs": [
        {
          "output_type": "execute_result",
          "data": {
            "text/plain": [
              "(41188, 56)"
            ]
          },
          "metadata": {},
          "execution_count": 68
        }
      ]
    },
    {
      "cell_type": "code",
      "source": [
        "from sklearn.preprocessing import MinMaxScaler\n",
        "\n",
        "scaler = MinMaxScaler()\n",
        "df_raw_3 = scaler.fit_transform(df_raw_3)"
      ],
      "metadata": {
        "id": "PHbQA_H-ymRr"
      },
      "execution_count": 69,
      "outputs": []
    },
    {
      "cell_type": "code",
      "source": [
        "df_raw_3"
      ],
      "metadata": {
        "id": "vcnF1W_lymRr",
        "outputId": "f3367ea9-bcc8-4d56-fbcf-bfec6f9822a9",
        "colab": {
          "base_uri": "https://localhost:8080/"
        }
      },
      "execution_count": 70,
      "outputs": [
        {
          "output_type": "execute_result",
          "data": {
            "text/plain": [
              "array([[0.48148148, 0.        , 1.        , ..., 0.        , 1.        ,\n",
              "        0.        ],\n",
              "       [0.49382716, 0.        , 1.        , ..., 0.        , 1.        ,\n",
              "        0.        ],\n",
              "       [0.24691358, 0.        , 1.        , ..., 0.        , 1.        ,\n",
              "        0.        ],\n",
              "       ...,\n",
              "       [0.48148148, 0.01818182, 1.        , ..., 0.        , 1.        ,\n",
              "        0.        ],\n",
              "       [0.33333333, 0.        , 1.        , ..., 0.        , 1.        ,\n",
              "        0.        ],\n",
              "       [0.7037037 , 0.03636364, 1.        , ..., 1.        , 0.        ,\n",
              "        0.        ]])"
            ]
          },
          "metadata": {},
          "execution_count": 70
        }
      ]
    },
    {
      "cell_type": "code",
      "source": [
        "#here i used stratified sampling approach, since the raw data is not balanced distributed\n",
        "x_train3,x_test3,y_train3,y_test3 = train_test_split(df_raw_3, y, test_size = 0.2, stratify=y, random_state=42)\n",
        "print(x_train3.shape,\n",
        "      x_test3.shape,\n",
        "      y_train3.shape,\n",
        "      y_test3.shape)"
      ],
      "metadata": {
        "id": "hpeRIBRnymRr",
        "outputId": "1f530592-a88a-4274-8da2-ae9709287f64",
        "colab": {
          "base_uri": "https://localhost:8080/"
        }
      },
      "execution_count": 71,
      "outputs": [
        {
          "output_type": "stream",
          "name": "stdout",
          "text": [
            "(32950, 56) (8238, 56) (32950,) (8238,)\n"
          ]
        }
      ]
    },
    {
      "cell_type": "code",
      "source": [
        "import imblearn\n",
        "\n",
        "smote = SMOTE()\n",
        "\n",
        "x_s3, y_s3 = smote.fit_resample(x_train3, y_train3)\n",
        "\n",
        "print('Original dataset shape', len(x_train3))\n",
        "print('Resampled dataset shape', len(x_s3))"
      ],
      "metadata": {
        "id": "r2mTKlZMVIpY",
        "outputId": "1b13cc9e-51c9-4382-e146-4030704e9e52",
        "colab": {
          "base_uri": "https://localhost:8080/"
        }
      },
      "execution_count": 72,
      "outputs": [
        {
          "output_type": "stream",
          "name": "stdout",
          "text": [
            "Original dataset shape 32950\n",
            "Resampled dataset shape 58476\n"
          ]
        }
      ]
    },
    {
      "cell_type": "code",
      "source": [
        "model3 = Sequential()\n",
        "model3.add(Flatten(input_shape=( x_s3.shape[1],)))\n",
        "model3.add(Dense(units = 64, kernel_initializer = 'he_uniform',activation='relu'))\n",
        "model3.add(Dense(units = 16, kernel_initializer = 'he_uniform',activation='relu', kernel_regularizer=tf.keras.regularizers.L2(0.01)))\n",
        "model3.add(Dropout(0.2))\n",
        "model3.add(Dense(units = 1, kernel_initializer = 'glorot_uniform', activation = 'sigmoid'))"
      ],
      "metadata": {
        "id": "gaSYJZMVVIpc"
      },
      "execution_count": 73,
      "outputs": []
    },
    {
      "cell_type": "code",
      "source": [
        "model3.compile(optimizer = 'adamax', loss = 'binary_crossentropy', metrics = ['accuracy'])\n",
        "model3.summary()"
      ],
      "metadata": {
        "id": "mvE8DwyUVIpc",
        "outputId": "1a741d42-888f-4dc1-86ef-b99b0eeb16fc",
        "colab": {
          "base_uri": "https://localhost:8080/"
        }
      },
      "execution_count": 74,
      "outputs": [
        {
          "output_type": "stream",
          "name": "stdout",
          "text": [
            "Model: \"sequential_5\"\n",
            "_________________________________________________________________\n",
            " Layer (type)                Output Shape              Param #   \n",
            "=================================================================\n",
            " flatten_2 (Flatten)         (None, 56)                0         \n",
            "                                                                 \n",
            " dense_15 (Dense)            (None, 64)                3648      \n",
            "                                                                 \n",
            " dense_16 (Dense)            (None, 16)                1040      \n",
            "                                                                 \n",
            " dropout_5 (Dropout)         (None, 16)                0         \n",
            "                                                                 \n",
            " dense_17 (Dense)            (None, 1)                 17        \n",
            "                                                                 \n",
            "=================================================================\n",
            "Total params: 4,705\n",
            "Trainable params: 4,705\n",
            "Non-trainable params: 0\n",
            "_________________________________________________________________\n"
          ]
        }
      ]
    },
    {
      "cell_type": "code",
      "source": [
        "model3_history = model3.fit(x_s3, y_s3,validation_split=0.33, batch_size = 100, epochs = 100)"
      ],
      "metadata": {
        "id": "DrbFY6UsVIpc",
        "outputId": "e7629edc-7217-4a29-b9a5-5d83f152aa1e",
        "colab": {
          "base_uri": "https://localhost:8080/"
        }
      },
      "execution_count": 75,
      "outputs": [
        {
          "output_type": "stream",
          "name": "stdout",
          "text": [
            "Epoch 1/100\n",
            "392/392 [==============================] - 6s 10ms/step - loss: 0.7030 - accuracy: 0.7544 - val_loss: 1.2525 - val_accuracy: 0.3403\n",
            "Epoch 2/100\n",
            "392/392 [==============================] - 3s 7ms/step - loss: 0.5437 - accuracy: 0.8036 - val_loss: 1.1400 - val_accuracy: 0.4307\n",
            "Epoch 3/100\n",
            "392/392 [==============================] - 1s 3ms/step - loss: 0.4961 - accuracy: 0.8105 - val_loss: 1.0124 - val_accuracy: 0.4955\n",
            "Epoch 4/100\n",
            "392/392 [==============================] - 1s 3ms/step - loss: 0.4750 - accuracy: 0.8111 - val_loss: 1.1058 - val_accuracy: 0.4484\n",
            "Epoch 5/100\n",
            "392/392 [==============================] - 1s 3ms/step - loss: 0.4631 - accuracy: 0.8126 - val_loss: 1.0172 - val_accuracy: 0.4962\n",
            "Epoch 6/100\n",
            "392/392 [==============================] - 1s 3ms/step - loss: 0.4560 - accuracy: 0.8132 - val_loss: 1.1322 - val_accuracy: 0.4520\n",
            "Epoch 7/100\n",
            "392/392 [==============================] - 1s 3ms/step - loss: 0.4516 - accuracy: 0.8156 - val_loss: 0.9833 - val_accuracy: 0.5047\n",
            "Epoch 8/100\n",
            "392/392 [==============================] - 1s 3ms/step - loss: 0.4478 - accuracy: 0.8153 - val_loss: 1.0389 - val_accuracy: 0.4784\n",
            "Epoch 9/100\n",
            "392/392 [==============================] - 1s 3ms/step - loss: 0.4455 - accuracy: 0.8160 - val_loss: 1.0540 - val_accuracy: 0.4863\n",
            "Epoch 10/100\n",
            "392/392 [==============================] - 1s 3ms/step - loss: 0.4434 - accuracy: 0.8175 - val_loss: 1.0770 - val_accuracy: 0.4738\n",
            "Epoch 11/100\n",
            "392/392 [==============================] - 1s 3ms/step - loss: 0.4409 - accuracy: 0.8195 - val_loss: 1.0070 - val_accuracy: 0.5017\n",
            "Epoch 12/100\n",
            "392/392 [==============================] - 1s 3ms/step - loss: 0.4395 - accuracy: 0.8200 - val_loss: 1.0229 - val_accuracy: 0.5117\n",
            "Epoch 13/100\n",
            "392/392 [==============================] - 1s 3ms/step - loss: 0.4377 - accuracy: 0.8211 - val_loss: 1.0337 - val_accuracy: 0.4831\n",
            "Epoch 14/100\n",
            "392/392 [==============================] - 1s 3ms/step - loss: 0.4363 - accuracy: 0.8223 - val_loss: 1.0558 - val_accuracy: 0.4951\n",
            "Epoch 15/100\n",
            "392/392 [==============================] - 1s 3ms/step - loss: 0.4338 - accuracy: 0.8232 - val_loss: 0.9016 - val_accuracy: 0.5430\n",
            "Epoch 16/100\n",
            "392/392 [==============================] - 1s 3ms/step - loss: 0.4324 - accuracy: 0.8237 - val_loss: 1.0026 - val_accuracy: 0.5010\n",
            "Epoch 17/100\n",
            "392/392 [==============================] - 1s 3ms/step - loss: 0.4313 - accuracy: 0.8251 - val_loss: 1.0521 - val_accuracy: 0.4951\n",
            "Epoch 18/100\n",
            "392/392 [==============================] - 1s 3ms/step - loss: 0.4301 - accuracy: 0.8246 - val_loss: 1.0003 - val_accuracy: 0.5125\n",
            "Epoch 19/100\n",
            "392/392 [==============================] - 1s 3ms/step - loss: 0.4285 - accuracy: 0.8251 - val_loss: 1.0561 - val_accuracy: 0.4980\n",
            "Epoch 20/100\n",
            "392/392 [==============================] - 1s 3ms/step - loss: 0.4272 - accuracy: 0.8259 - val_loss: 0.9135 - val_accuracy: 0.5477\n",
            "Epoch 21/100\n",
            "392/392 [==============================] - 1s 3ms/step - loss: 0.4268 - accuracy: 0.8275 - val_loss: 1.0318 - val_accuracy: 0.5074\n",
            "Epoch 22/100\n",
            "392/392 [==============================] - 1s 3ms/step - loss: 0.4255 - accuracy: 0.8274 - val_loss: 0.9522 - val_accuracy: 0.5338\n",
            "Epoch 23/100\n",
            "392/392 [==============================] - 1s 3ms/step - loss: 0.4237 - accuracy: 0.8285 - val_loss: 0.9586 - val_accuracy: 0.5304\n",
            "Epoch 24/100\n",
            "392/392 [==============================] - 1s 3ms/step - loss: 0.4214 - accuracy: 0.8281 - val_loss: 0.9554 - val_accuracy: 0.5312\n",
            "Epoch 25/100\n",
            "392/392 [==============================] - 1s 3ms/step - loss: 0.4212 - accuracy: 0.8292 - val_loss: 1.0069 - val_accuracy: 0.5192\n",
            "Epoch 26/100\n",
            "392/392 [==============================] - 1s 3ms/step - loss: 0.4198 - accuracy: 0.8307 - val_loss: 0.8819 - val_accuracy: 0.5510\n",
            "Epoch 27/100\n",
            "392/392 [==============================] - 1s 3ms/step - loss: 0.4190 - accuracy: 0.8302 - val_loss: 1.0060 - val_accuracy: 0.5247\n",
            "Epoch 28/100\n",
            "392/392 [==============================] - 1s 3ms/step - loss: 0.4186 - accuracy: 0.8306 - val_loss: 0.9256 - val_accuracy: 0.5425\n",
            "Epoch 29/100\n",
            "392/392 [==============================] - 1s 3ms/step - loss: 0.4159 - accuracy: 0.8315 - val_loss: 0.9506 - val_accuracy: 0.5372\n",
            "Epoch 30/100\n",
            "392/392 [==============================] - 1s 3ms/step - loss: 0.4159 - accuracy: 0.8309 - val_loss: 0.9603 - val_accuracy: 0.5290\n",
            "Epoch 31/100\n",
            "392/392 [==============================] - 1s 3ms/step - loss: 0.4145 - accuracy: 0.8316 - val_loss: 0.9956 - val_accuracy: 0.5297\n",
            "Epoch 32/100\n",
            "392/392 [==============================] - 1s 3ms/step - loss: 0.4135 - accuracy: 0.8318 - val_loss: 0.8965 - val_accuracy: 0.5508\n",
            "Epoch 33/100\n",
            "392/392 [==============================] - 1s 3ms/step - loss: 0.4127 - accuracy: 0.8331 - val_loss: 0.9573 - val_accuracy: 0.5257\n",
            "Epoch 34/100\n",
            "392/392 [==============================] - 1s 3ms/step - loss: 0.4109 - accuracy: 0.8333 - val_loss: 0.9536 - val_accuracy: 0.5182\n",
            "Epoch 35/100\n",
            "392/392 [==============================] - 1s 3ms/step - loss: 0.4091 - accuracy: 0.8345 - val_loss: 0.9377 - val_accuracy: 0.5360\n",
            "Epoch 36/100\n",
            "392/392 [==============================] - 1s 3ms/step - loss: 0.4087 - accuracy: 0.8341 - val_loss: 0.9037 - val_accuracy: 0.5453\n",
            "Epoch 37/100\n",
            "392/392 [==============================] - 1s 3ms/step - loss: 0.4078 - accuracy: 0.8346 - val_loss: 0.9777 - val_accuracy: 0.5268\n",
            "Epoch 38/100\n",
            "392/392 [==============================] - 1s 3ms/step - loss: 0.4072 - accuracy: 0.8357 - val_loss: 0.9290 - val_accuracy: 0.5319\n",
            "Epoch 39/100\n",
            "392/392 [==============================] - 1s 3ms/step - loss: 0.4058 - accuracy: 0.8363 - val_loss: 0.8094 - val_accuracy: 0.5759\n",
            "Epoch 40/100\n",
            "392/392 [==============================] - 1s 3ms/step - loss: 0.4042 - accuracy: 0.8365 - val_loss: 0.9445 - val_accuracy: 0.5259\n",
            "Epoch 41/100\n",
            "392/392 [==============================] - 1s 3ms/step - loss: 0.4032 - accuracy: 0.8367 - val_loss: 0.8225 - val_accuracy: 0.5748\n",
            "Epoch 42/100\n",
            "392/392 [==============================] - 1s 3ms/step - loss: 0.4017 - accuracy: 0.8371 - val_loss: 0.8617 - val_accuracy: 0.5666\n",
            "Epoch 43/100\n",
            "392/392 [==============================] - 1s 3ms/step - loss: 0.4010 - accuracy: 0.8381 - val_loss: 0.8888 - val_accuracy: 0.5553\n",
            "Epoch 44/100\n",
            "392/392 [==============================] - 2s 5ms/step - loss: 0.3991 - accuracy: 0.8384 - val_loss: 0.8948 - val_accuracy: 0.5508\n",
            "Epoch 45/100\n",
            "392/392 [==============================] - 2s 5ms/step - loss: 0.3990 - accuracy: 0.8386 - val_loss: 0.8805 - val_accuracy: 0.5602\n",
            "Epoch 46/100\n",
            "392/392 [==============================] - 4s 10ms/step - loss: 0.3977 - accuracy: 0.8396 - val_loss: 0.8379 - val_accuracy: 0.5770\n",
            "Epoch 47/100\n",
            "392/392 [==============================] - 2s 6ms/step - loss: 0.3962 - accuracy: 0.8392 - val_loss: 0.8977 - val_accuracy: 0.5580\n",
            "Epoch 48/100\n",
            "392/392 [==============================] - 2s 6ms/step - loss: 0.3959 - accuracy: 0.8401 - val_loss: 0.9186 - val_accuracy: 0.5427\n",
            "Epoch 49/100\n",
            "392/392 [==============================] - 2s 5ms/step - loss: 0.3926 - accuracy: 0.8415 - val_loss: 0.7914 - val_accuracy: 0.5811\n",
            "Epoch 50/100\n",
            "392/392 [==============================] - 2s 5ms/step - loss: 0.3923 - accuracy: 0.8409 - val_loss: 0.8192 - val_accuracy: 0.5749\n",
            "Epoch 51/100\n",
            "392/392 [==============================] - 2s 6ms/step - loss: 0.3912 - accuracy: 0.8417 - val_loss: 0.8052 - val_accuracy: 0.5872\n",
            "Epoch 52/100\n",
            "392/392 [==============================] - 3s 8ms/step - loss: 0.3904 - accuracy: 0.8428 - val_loss: 0.8357 - val_accuracy: 0.5733\n",
            "Epoch 53/100\n",
            "392/392 [==============================] - 3s 8ms/step - loss: 0.3893 - accuracy: 0.8437 - val_loss: 0.7998 - val_accuracy: 0.5868\n",
            "Epoch 54/100\n",
            "392/392 [==============================] - 3s 8ms/step - loss: 0.3871 - accuracy: 0.8438 - val_loss: 0.8208 - val_accuracy: 0.5784\n",
            "Epoch 55/100\n",
            "392/392 [==============================] - 2s 6ms/step - loss: 0.3865 - accuracy: 0.8437 - val_loss: 0.8241 - val_accuracy: 0.5785\n",
            "Epoch 56/100\n",
            "392/392 [==============================] - 2s 5ms/step - loss: 0.3865 - accuracy: 0.8457 - val_loss: 0.8301 - val_accuracy: 0.5765\n",
            "Epoch 57/100\n",
            "392/392 [==============================] - 1s 3ms/step - loss: 0.3839 - accuracy: 0.8464 - val_loss: 0.9061 - val_accuracy: 0.5705\n",
            "Epoch 58/100\n",
            "392/392 [==============================] - 1s 3ms/step - loss: 0.3825 - accuracy: 0.8472 - val_loss: 0.7428 - val_accuracy: 0.6105\n",
            "Epoch 59/100\n",
            "392/392 [==============================] - 2s 6ms/step - loss: 0.3823 - accuracy: 0.8469 - val_loss: 0.8535 - val_accuracy: 0.5653\n",
            "Epoch 60/100\n",
            "392/392 [==============================] - 3s 8ms/step - loss: 0.3802 - accuracy: 0.8479 - val_loss: 0.7571 - val_accuracy: 0.6105\n",
            "Epoch 61/100\n",
            "392/392 [==============================] - 3s 8ms/step - loss: 0.3795 - accuracy: 0.8481 - val_loss: 0.7888 - val_accuracy: 0.6014\n",
            "Epoch 62/100\n",
            "392/392 [==============================] - 3s 7ms/step - loss: 0.3784 - accuracy: 0.8497 - val_loss: 0.7357 - val_accuracy: 0.6081\n",
            "Epoch 63/100\n",
            "392/392 [==============================] - 2s 6ms/step - loss: 0.3793 - accuracy: 0.8489 - val_loss: 0.6781 - val_accuracy: 0.6519\n",
            "Epoch 64/100\n",
            "392/392 [==============================] - 2s 5ms/step - loss: 0.3759 - accuracy: 0.8501 - val_loss: 0.8845 - val_accuracy: 0.5662\n",
            "Epoch 65/100\n",
            "392/392 [==============================] - 2s 5ms/step - loss: 0.3754 - accuracy: 0.8516 - val_loss: 0.7492 - val_accuracy: 0.6031\n",
            "Epoch 66/100\n",
            "392/392 [==============================] - 2s 5ms/step - loss: 0.3726 - accuracy: 0.8514 - val_loss: 0.7887 - val_accuracy: 0.5987\n",
            "Epoch 67/100\n",
            "392/392 [==============================] - 2s 6ms/step - loss: 0.3730 - accuracy: 0.8519 - val_loss: 0.7563 - val_accuracy: 0.6139\n",
            "Epoch 68/100\n",
            "392/392 [==============================] - 2s 5ms/step - loss: 0.3704 - accuracy: 0.8525 - val_loss: 0.7795 - val_accuracy: 0.6047\n",
            "Epoch 69/100\n",
            "392/392 [==============================] - 1s 3ms/step - loss: 0.3696 - accuracy: 0.8513 - val_loss: 0.8194 - val_accuracy: 0.5999\n",
            "Epoch 70/100\n",
            "392/392 [==============================] - 1s 3ms/step - loss: 0.3693 - accuracy: 0.8534 - val_loss: 0.6083 - val_accuracy: 0.7009\n",
            "Epoch 71/100\n",
            "392/392 [==============================] - 1s 3ms/step - loss: 0.3675 - accuracy: 0.8549 - val_loss: 0.8532 - val_accuracy: 0.5649\n",
            "Epoch 72/100\n",
            "392/392 [==============================] - 1s 3ms/step - loss: 0.3668 - accuracy: 0.8555 - val_loss: 0.7432 - val_accuracy: 0.6346\n",
            "Epoch 73/100\n",
            "392/392 [==============================] - 1s 3ms/step - loss: 0.3659 - accuracy: 0.8559 - val_loss: 0.7433 - val_accuracy: 0.6249\n",
            "Epoch 74/100\n",
            "392/392 [==============================] - 1s 3ms/step - loss: 0.3661 - accuracy: 0.8566 - val_loss: 0.7474 - val_accuracy: 0.6303\n",
            "Epoch 75/100\n",
            "392/392 [==============================] - 1s 3ms/step - loss: 0.3635 - accuracy: 0.8577 - val_loss: 0.7377 - val_accuracy: 0.6417\n",
            "Epoch 76/100\n",
            "392/392 [==============================] - 1s 3ms/step - loss: 0.3623 - accuracy: 0.8584 - val_loss: 0.7975 - val_accuracy: 0.6001\n",
            "Epoch 77/100\n",
            "392/392 [==============================] - 1s 3ms/step - loss: 0.3615 - accuracy: 0.8579 - val_loss: 0.8500 - val_accuracy: 0.5848\n",
            "Epoch 78/100\n",
            "392/392 [==============================] - 1s 3ms/step - loss: 0.3605 - accuracy: 0.8598 - val_loss: 0.6318 - val_accuracy: 0.6885\n",
            "Epoch 79/100\n",
            "392/392 [==============================] - 1s 3ms/step - loss: 0.3598 - accuracy: 0.8584 - val_loss: 0.6869 - val_accuracy: 0.6523\n",
            "Epoch 80/100\n",
            "392/392 [==============================] - 1s 3ms/step - loss: 0.3564 - accuracy: 0.8618 - val_loss: 0.6552 - val_accuracy: 0.6779\n",
            "Epoch 81/100\n",
            "392/392 [==============================] - 1s 3ms/step - loss: 0.3570 - accuracy: 0.8612 - val_loss: 0.7458 - val_accuracy: 0.6264\n",
            "Epoch 82/100\n",
            "392/392 [==============================] - 1s 3ms/step - loss: 0.3559 - accuracy: 0.8615 - val_loss: 0.6293 - val_accuracy: 0.6906\n",
            "Epoch 83/100\n",
            "392/392 [==============================] - 1s 3ms/step - loss: 0.3553 - accuracy: 0.8626 - val_loss: 0.7315 - val_accuracy: 0.6285\n",
            "Epoch 84/100\n",
            "392/392 [==============================] - 1s 3ms/step - loss: 0.3546 - accuracy: 0.8624 - val_loss: 0.6764 - val_accuracy: 0.6651\n",
            "Epoch 85/100\n",
            "392/392 [==============================] - 1s 3ms/step - loss: 0.3534 - accuracy: 0.8632 - val_loss: 0.7472 - val_accuracy: 0.6359\n",
            "Epoch 86/100\n",
            "392/392 [==============================] - 2s 5ms/step - loss: 0.3522 - accuracy: 0.8650 - val_loss: 0.6643 - val_accuracy: 0.6855\n",
            "Epoch 87/100\n",
            "392/392 [==============================] - 2s 5ms/step - loss: 0.3512 - accuracy: 0.8632 - val_loss: 0.6306 - val_accuracy: 0.7057\n",
            "Epoch 88/100\n",
            "392/392 [==============================] - 2s 5ms/step - loss: 0.3514 - accuracy: 0.8646 - val_loss: 0.5942 - val_accuracy: 0.7183\n",
            "Epoch 89/100\n",
            "392/392 [==============================] - 2s 5ms/step - loss: 0.3502 - accuracy: 0.8654 - val_loss: 0.6320 - val_accuracy: 0.6972\n",
            "Epoch 90/100\n",
            "392/392 [==============================] - 2s 5ms/step - loss: 0.3500 - accuracy: 0.8668 - val_loss: 0.6564 - val_accuracy: 0.6802\n",
            "Epoch 91/100\n",
            "392/392 [==============================] - 2s 5ms/step - loss: 0.3488 - accuracy: 0.8665 - val_loss: 0.5846 - val_accuracy: 0.7290\n",
            "Epoch 92/100\n",
            "392/392 [==============================] - 2s 5ms/step - loss: 0.3483 - accuracy: 0.8670 - val_loss: 0.6950 - val_accuracy: 0.6551\n",
            "Epoch 93/100\n",
            "392/392 [==============================] - 2s 5ms/step - loss: 0.3460 - accuracy: 0.8682 - val_loss: 0.6524 - val_accuracy: 0.6864\n",
            "Epoch 94/100\n",
            "392/392 [==============================] - 2s 5ms/step - loss: 0.3461 - accuracy: 0.8671 - val_loss: 0.6835 - val_accuracy: 0.6641\n",
            "Epoch 95/100\n",
            "392/392 [==============================] - 2s 5ms/step - loss: 0.3453 - accuracy: 0.8675 - val_loss: 0.7597 - val_accuracy: 0.6253\n",
            "Epoch 96/100\n",
            "392/392 [==============================] - 2s 6ms/step - loss: 0.3443 - accuracy: 0.8690 - val_loss: 0.7622 - val_accuracy: 0.6285\n",
            "Epoch 97/100\n",
            "392/392 [==============================] - 1s 3ms/step - loss: 0.3427 - accuracy: 0.8689 - val_loss: 0.5966 - val_accuracy: 0.7189\n",
            "Epoch 98/100\n",
            "392/392 [==============================] - 1s 3ms/step - loss: 0.3429 - accuracy: 0.8694 - val_loss: 0.6038 - val_accuracy: 0.7197\n",
            "Epoch 99/100\n",
            "392/392 [==============================] - 1s 3ms/step - loss: 0.3426 - accuracy: 0.8706 - val_loss: 0.6877 - val_accuracy: 0.6684\n",
            "Epoch 100/100\n",
            "392/392 [==============================] - 1s 3ms/step - loss: 0.3415 - accuracy: 0.8708 - val_loss: 0.7732 - val_accuracy: 0.6302\n"
          ]
        }
      ]
    },
    {
      "cell_type": "code",
      "source": [
        "preds_3 = model3.predict(x_test3)\n",
        "preds_3 =  [1 if i>0.5 else 0 for i in preds_3]"
      ],
      "metadata": {
        "id": "_fRG8szzc0CH"
      },
      "execution_count": 76,
      "outputs": []
    },
    {
      "cell_type": "code",
      "source": [
        "print_validation_report(y_test3, preds_3)"
      ],
      "metadata": {
        "colab": {
          "base_uri": "https://localhost:8080/"
        },
        "outputId": "d159fd8b-cba5-4f33-a103-cdc3fe613ea2",
        "id": "Lagfwzrcc0CH"
      },
      "execution_count": 77,
      "outputs": [
        {
          "output_type": "stream",
          "name": "stdout",
          "text": [
            "Classification Report\n",
            "              precision    recall  f1-score   support\n",
            "\n",
            "           0       0.93      0.95      0.94      7310\n",
            "           1       0.53      0.41      0.46       928\n",
            "\n",
            "    accuracy                           0.89      8238\n",
            "   macro avg       0.73      0.68      0.70      8238\n",
            "weighted avg       0.88      0.89      0.89      8238\n",
            "\n",
            "Accuracy Score: 0.8932993445010925\n",
            "Kappa-  0.40622669683146606\n",
            "F1-  0.4643510054844607\n",
            "ROC_AUC_score-  0.6825715540827397\n",
            "PR AUC-  0.28578739750193977\n"
          ]
        }
      ]
    },
    {
      "cell_type": "code",
      "source": [
        "plot_confusion_matrix(y_test3, preds_3)"
      ],
      "metadata": {
        "colab": {
          "base_uri": "https://localhost:8080/",
          "height": 497
        },
        "outputId": "e5820803-8af9-46a4-ce74-56b08d9b790d",
        "id": "fJUz8XtIc0CH"
      },
      "execution_count": 78,
      "outputs": [
        {
          "output_type": "display_data",
          "data": {
            "text/plain": [
              "<Figure size 576x576 with 1 Axes>"
            ],
            "image/png": "[encoded data removed]"
          },
          "metadata": {
            "needs_background": "light"
          }
        }
      ]
    },
    {
      "cell_type": "code",
      "source": [
        "plot_curve(y_test3, preds_3)"
      ],
      "metadata": {
        "colab": {
          "base_uri": "https://localhost:8080/",
          "height": 395
        },
        "outputId": "f1398063-818d-4320-994d-cbaad75c5bf0",
        "id": "Yq5RnySuc0CH"
      },
      "execution_count": null,
      "outputs": [
        {
          "output_type": "display_data",
          "data": {
            "text/plain": [
              "<Figure size 936x360 with 2 Axes>"
            ],
            "image/png": "[encoded data removed]"
          },
          "metadata": {
            "needs_background": "light"
          }
        }
      ]
    },
    {
      "cell_type": "code",
      "source": [
        "plt.plot(model3_history.history['accuracy'])\n",
        "plt.plot(model3_history.history['val_accuracy'])\n",
        "plt.title('Model accuracy Vs Epochs')\n",
        "plt.ylabel('Accuracy')\n",
        "plt.xlabel('Epoch')\n",
        "plt.legend(['Train', 'Validation'], loc='upper left')\n",
        "plt.show()\n",
        "\n",
        "# summarize history for loss\n",
        "plt.plot(model3_history.history['loss'])\n",
        "plt.plot(model3_history.history['val_loss'])\n",
        "plt.title('Model loss Vs Loss')\n",
        "plt.ylabel('Loss')\n",
        "plt.xlabel('Epoch')\n",
        "plt.legend(['Train', 'Validation'], loc='upper left')\n",
        "plt.show()"
      ],
      "metadata": {
        "id": "3Xb3nVVsVIpd",
        "outputId": "98f8384c-a124-4023-de13-42c9ddb6804e",
        "colab": {
          "base_uri": "https://localhost:8080/",
          "height": 573
        }
      },
      "execution_count": 79,
      "outputs": [
        {
          "output_type": "display_data",
          "data": {
            "text/plain": [
              "<Figure size 432x288 with 1 Axes>"
            ],
            "image/png": "[encoded data removed]"
          },
          "metadata": {
            "needs_background": "light"
          }
        },
        {
          "output_type": "display_data",
          "data": {
            "text/plain": [
              "<Figure size 432x288 with 1 Axes>"
            ],
            "image/png": "[encoded data removed]"
          },
          "metadata": {
            "needs_background": "light"
          }
        }
      ]
    }
  ]
}