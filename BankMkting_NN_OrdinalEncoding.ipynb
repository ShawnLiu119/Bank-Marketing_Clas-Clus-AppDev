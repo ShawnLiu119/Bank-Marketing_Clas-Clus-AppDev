{
  "nbformat": 4,
  "nbformat_minor": 0,
  "metadata": {
    "colab": {
      "name": "BankMkting_NN_OrdinalEncoding.ipynb",
      "provenance": [],
      "authorship_tag": "ABX9TyN4OewXrldlpO3BUelIYLc3",
      "include_colab_link": true
    },
    "kernelspec": {
      "name": "python3",
      "display_name": "Python 3"
    },
    "language_info": {
      "name": "python"
    }
  },
  "cells": [
    {
      "cell_type": "markdown",
      "metadata": {
        "id": "view-in-github",
        "colab_type": "text"
      },
      "source": [
        "<a href=\"https://colab.research.google.com/github/ShawnLiu119/CapstoneProject_BankingMarketing/blob/main/BankMkting_NN_OrdinalEncoding.ipynb\" target=\"_parent\"><img src=\"https://colab.research.google.com/assets/colab-badge.svg\" alt=\"Open In Colab\"/></a>"
      ]
    },
    {
      "cell_type": "code",
      "source": [
        "from sklearn.metrics import accuracy_score\n",
        "from sklearn.metrics import roc_auc_score\n",
        "import numpy as np\n",
        "import pandas as pd \n",
        "import os\n",
        "from sklearn.tree import DecisionTreeClassifier\n",
        "from sklearn.tree import plot_tree\n",
        "from sklearn.model_selection import train_test_split\n",
        "from sklearn.model_selection import cross_val_score\n",
        "from sklearn.metrics import confusion_matrix\n",
        "from sklearn.metrics import plot_confusion_matrix\n",
        "from sklearn.model_selection import train_test_split\n",
        "from sklearn.model_selection import RandomizedSearchCV\n",
        "from sklearn.neighbors import KNeighborsClassifier\n",
        "from sklearn.preprocessing import StandardScaler\n",
        "from sklearn.ensemble import RandomForestClassifier\n",
        "import seaborn as sns\n",
        "import matplotlib.pyplot as plt \n",
        "from sklearn import metrics\n",
        "from sklearn.metrics import accuracy_score, f1_score, precision_score, recall_score, classification_report, confusion_matrix,r2_score\n",
        "from sklearn import model_selection\n",
        "from sklearn.ensemble import BaggingClassifier\n",
        "import warnings\n",
        "from imblearn.over_sampling import SMOTE\n",
        "warnings.filterwarnings('ignore')\n",
        "import tensorflow as tf\n",
        "from tensorflow import keras \n",
        "from tensorflow import keras\n",
        "from tensorflow.keras.models import Sequential\n",
        "from tensorflow.keras.layers import Dense, Dropout, Flatten\n",
        "from tensorflow.keras.optimizers import Adam \n",
        "from sklearn.metrics import accuracy_score\n",
        "from sklearn.metrics import confusion_matrix"
      ],
      "metadata": {
        "id": "8TvW0SUbKssy"
      },
      "execution_count": 34,
      "outputs": []
    },
    {
      "cell_type": "code",
      "execution_count": 2,
      "metadata": {
        "id": "fRRsWXUecCNl"
      },
      "outputs": [],
      "source": [
        "import pandas as pd"
      ]
    },
    {
      "cell_type": "code",
      "source": [
        "url = 'https://raw.githubusercontent.com/ShawnLiu119/CapstoneProject_BankingMarketing/main/rawdata/bank-additional-full.csv'\n",
        "data = pd.read_csv(url, sep=';')"
      ],
      "metadata": {
        "id": "1FiIE4lzcJcW"
      },
      "execution_count": 3,
      "outputs": []
    },
    {
      "cell_type": "markdown",
      "source": [
        "### Data Transformation - Feature Engineer"
      ],
      "metadata": {
        "id": "BeRBJ8ZMc345"
      }
    },
    {
      "cell_type": "code",
      "source": [
        "data['education'].value_counts()\n",
        "\n",
        "data_1 = data.copy()\n",
        "data_1 = data_1[data_1['education'] != 'illiterate']\n",
        "\n",
        "data_1['edu_new'] = data_1['education'].map({'basic.4y': 'pre_high', \n",
        "                                         'basic.9y': 'pre_high',\n",
        "                                         'basic.6y': 'pre_high',\n",
        "                                         'university.degree' : 'post_high',\n",
        "                                         'professional.course':'post_high',\n",
        "                                         'high.school' : 'high',\n",
        "                                         'unknown' :'unknown' })"
      ],
      "metadata": {
        "id": "bbhSCh5ncQmI"
      },
      "execution_count": 4,
      "outputs": []
    },
    {
      "cell_type": "code",
      "source": [
        "def map_job(row):\n",
        "    if row['job'] in ['admin.', 'management', 'entrepreneur','self-employed']:\n",
        "        cat = 'white_collar'\n",
        "    elif row['job'] in ['housemaid', 'blue-collar', 'technician', 'services']:\n",
        "        cat = 'blue_collar'\n",
        "    elif row['job'] in ['student', 'retired', 'unemployed']:\n",
        "        cat = 'not_working'\n",
        "    else:\n",
        "        cat = 'unknown'\n",
        "    return cat\n",
        "\n",
        "data_1['job_new'] = data_1.apply(map_job, axis=1)\n",
        "data_1['job_new'].value_counts(dropna = False)"
      ],
      "metadata": {
        "colab": {
          "base_uri": "https://localhost:8080/"
        },
        "id": "eHGAdfSkcS5b",
        "outputId": "2ffdbf46-f0ca-4429-eba4-61bd28819ef7"
      },
      "execution_count": 5,
      "outputs": [
        {
          "output_type": "execute_result",
          "data": {
            "text/plain": [
              "blue_collar     21017\n",
              "white_collar    16217\n",
              "not_working      3606\n",
              "unknown           330\n",
              "Name: job_new, dtype: int64"
            ]
          },
          "metadata": {},
          "execution_count": 5
        }
      ]
    },
    {
      "cell_type": "code",
      "source": [
        "def map_month(row):\n",
        "    if row['month'] in ['mar', 'apr', 'may']:\n",
        "        cat = 'spring'\n",
        "    elif row['month'] in ['jun', 'jul', 'aug']:\n",
        "        cat = 'summer'\n",
        "    elif row['month'] in ['sep', 'oct', 'nov']:\n",
        "        cat = 'fall'\n",
        "    else:\n",
        "        cat = 'winter'\n",
        "    return cat\n",
        "\n",
        "data_1['season'] = data_1.apply(map_month, axis=1)\n",
        "data_1['season'].value_counts(dropna = False)"
      ],
      "metadata": {
        "colab": {
          "base_uri": "https://localhost:8080/"
        },
        "id": "94-u-jWxcU_5",
        "outputId": "61a00648-8df3-449c-c949-b984411b63fc"
      },
      "execution_count": 6,
      "outputs": [
        {
          "output_type": "execute_result",
          "data": {
            "text/plain": [
              "summer    18660\n",
              "spring    16942\n",
              "fall       5386\n",
              "winter      182\n",
              "Name: season, dtype: int64"
            ]
          },
          "metadata": {},
          "execution_count": 6
        }
      ]
    },
    {
      "cell_type": "code",
      "source": [
        "data_1.columns"
      ],
      "metadata": {
        "colab": {
          "base_uri": "https://localhost:8080/"
        },
        "id": "MTQZAXjLcXVU",
        "outputId": "142eaa0c-1953-4a9d-a291-5c17ba37c6c4"
      },
      "execution_count": 7,
      "outputs": [
        {
          "output_type": "execute_result",
          "data": {
            "text/plain": [
              "Index(['age', 'job', 'marital', 'education', 'default', 'housing', 'loan',\n",
              "       'contact', 'month', 'day_of_week', 'duration', 'campaign', 'pdays',\n",
              "       'previous', 'poutcome', 'emp.var.rate', 'cons.price.idx',\n",
              "       'cons.conf.idx', 'euribor3m', 'nr.employed', 'y', 'edu_new', 'job_new',\n",
              "       'season'],\n",
              "      dtype='object')"
            ]
          },
          "metadata": {},
          "execution_count": 7
        }
      ]
    },
    {
      "cell_type": "code",
      "source": [
        "#This transformed dataframe is based on group discussion on 7/23\n",
        "# - keep all numerical features as they are\n",
        "# - consolidate categorical features (education, job, season) and drop originial ones\n",
        "\n",
        "df_tran_1 = data_1[['age', 'marital', 'default', 'housing', 'loan',\n",
        "       'contact', 'day_of_week', 'duration', 'campaign', 'pdays',\n",
        "       'previous', 'poutcome', 'emp.var.rate', 'cons.price.idx',\n",
        "       'cons.conf.idx', 'euribor3m', 'nr.employed', 'y', 'edu_new', 'job_new', 'season']]"
      ],
      "metadata": {
        "id": "AdtaLk4ycY_5"
      },
      "execution_count": 8,
      "outputs": []
    },
    {
      "cell_type": "code",
      "source": [
        "df_tran_1.shape\n",
        "#this is because we removed illiterate"
      ],
      "metadata": {
        "colab": {
          "base_uri": "https://localhost:8080/"
        },
        "id": "glqegqalI_rs",
        "outputId": "bde9a595-198a-41d2-a26f-fcc38aa16be9"
      },
      "execution_count": 9,
      "outputs": [
        {
          "output_type": "execute_result",
          "data": {
            "text/plain": [
              "(41170, 21)"
            ]
          },
          "metadata": {},
          "execution_count": 9
        }
      ]
    },
    {
      "cell_type": "code",
      "source": [
        "df_tran_1 = df_tran_1.drop(['duration'], axis=1)\n",
        "df_tran_1.columns"
      ],
      "metadata": {
        "colab": {
          "base_uri": "https://localhost:8080/"
        },
        "id": "FfhleyPscknX",
        "outputId": "5f916300-527b-4b49-8d62-9bbf69804779"
      },
      "execution_count": 10,
      "outputs": [
        {
          "output_type": "execute_result",
          "data": {
            "text/plain": [
              "Index(['age', 'marital', 'default', 'housing', 'loan', 'contact',\n",
              "       'day_of_week', 'campaign', 'pdays', 'previous', 'poutcome',\n",
              "       'emp.var.rate', 'cons.price.idx', 'cons.conf.idx', 'euribor3m',\n",
              "       'nr.employed', 'y', 'edu_new', 'job_new', 'season'],\n",
              "      dtype='object')"
            ]
          },
          "metadata": {},
          "execution_count": 10
        }
      ]
    },
    {
      "cell_type": "markdown",
      "source": [
        "### Ordinal Encoding For Categorical Features"
      ],
      "metadata": {
        "id": "2F1p0tiPHKJC"
      }
    },
    {
      "cell_type": "code",
      "source": [
        "df_tran_1.head()"
      ],
      "metadata": {
        "colab": {
          "base_uri": "https://localhost:8080/",
          "height": 206
        },
        "id": "6mkfMf8fRm33",
        "outputId": "2cb9bbdb-7e16-4393-9186-4809c0a85aad"
      },
      "execution_count": 11,
      "outputs": [
        {
          "output_type": "execute_result",
          "data": {
            "text/plain": [
              "   age  marital  default housing loan    contact day_of_week  campaign  pdays  \\\n",
              "0   56  married       no      no   no  telephone         mon         1    999   \n",
              "1   57  married  unknown      no   no  telephone         mon         1    999   \n",
              "2   37  married       no     yes   no  telephone         mon         1    999   \n",
              "3   40  married       no      no   no  telephone         mon         1    999   \n",
              "4   56  married       no      no  yes  telephone         mon         1    999   \n",
              "\n",
              "   previous     poutcome  emp.var.rate  cons.price.idx  cons.conf.idx  \\\n",
              "0         0  nonexistent           1.1          93.994          -36.4   \n",
              "1         0  nonexistent           1.1          93.994          -36.4   \n",
              "2         0  nonexistent           1.1          93.994          -36.4   \n",
              "3         0  nonexistent           1.1          93.994          -36.4   \n",
              "4         0  nonexistent           1.1          93.994          -36.4   \n",
              "\n",
              "   euribor3m  nr.employed   y   edu_new       job_new  season  \n",
              "0      4.857       5191.0  no  pre_high   blue_collar  spring  \n",
              "1      4.857       5191.0  no      high   blue_collar  spring  \n",
              "2      4.857       5191.0  no      high   blue_collar  spring  \n",
              "3      4.857       5191.0  no  pre_high  white_collar  spring  \n",
              "4      4.857       5191.0  no      high   blue_collar  spring  "
            ],
            "text/html": [
              "\n",
              "  <div id=\"df-1f8bd946-8368-462b-8496-5fad47dd8bdd\">\n",
              "    <div class=\"colab-df-container\">\n",
              "      <div>\n",
              "<style scoped>\n",
              "    .dataframe tbody tr th:only-of-type {\n",
              "        vertical-align: middle;\n",
              "    }\n",
              "\n",
              "    .dataframe tbody tr th {\n",
              "        vertical-align: top;\n",
              "    }\n",
              "\n",
              "    .dataframe thead th {\n",
              "        text-align: right;\n",
              "    }\n",
              "</style>\n",
              "<table border=\"1\" class=\"dataframe\">\n",
              "  <thead>\n",
              "    <tr style=\"text-align: right;\">\n",
              "      <th></th>\n",
              "      <th>age</th>\n",
              "      <th>marital</th>\n",
              "      <th>default</th>\n",
              "      <th>housing</th>\n",
              "      <th>loan</th>\n",
              "      <th>contact</th>\n",
              "      <th>day_of_week</th>\n",
              "      <th>campaign</th>\n",
              "      <th>pdays</th>\n",
              "      <th>previous</th>\n",
              "      <th>poutcome</th>\n",
              "      <th>emp.var.rate</th>\n",
              "      <th>cons.price.idx</th>\n",
              "      <th>cons.conf.idx</th>\n",
              "      <th>euribor3m</th>\n",
              "      <th>nr.employed</th>\n",
              "      <th>y</th>\n",
              "      <th>edu_new</th>\n",
              "      <th>job_new</th>\n",
              "      <th>season</th>\n",
              "    </tr>\n",
              "  </thead>\n",
              "  <tbody>\n",
              "    <tr>\n",
              "      <th>0</th>\n",
              "      <td>56</td>\n",
              "      <td>married</td>\n",
              "      <td>no</td>\n",
              "      <td>no</td>\n",
              "      <td>no</td>\n",
              "      <td>telephone</td>\n",
              "      <td>mon</td>\n",
              "      <td>1</td>\n",
              "      <td>999</td>\n",
              "      <td>0</td>\n",
              "      <td>nonexistent</td>\n",
              "      <td>1.1</td>\n",
              "      <td>93.994</td>\n",
              "      <td>-36.4</td>\n",
              "      <td>4.857</td>\n",
              "      <td>5191.0</td>\n",
              "      <td>no</td>\n",
              "      <td>pre_high</td>\n",
              "      <td>blue_collar</td>\n",
              "      <td>spring</td>\n",
              "    </tr>\n",
              "    <tr>\n",
              "      <th>1</th>\n",
              "      <td>57</td>\n",
              "      <td>married</td>\n",
              "      <td>unknown</td>\n",
              "      <td>no</td>\n",
              "      <td>no</td>\n",
              "      <td>telephone</td>\n",
              "      <td>mon</td>\n",
              "      <td>1</td>\n",
              "      <td>999</td>\n",
              "      <td>0</td>\n",
              "      <td>nonexistent</td>\n",
              "      <td>1.1</td>\n",
              "      <td>93.994</td>\n",
              "      <td>-36.4</td>\n",
              "      <td>4.857</td>\n",
              "      <td>5191.0</td>\n",
              "      <td>no</td>\n",
              "      <td>high</td>\n",
              "      <td>blue_collar</td>\n",
              "      <td>spring</td>\n",
              "    </tr>\n",
              "    <tr>\n",
              "      <th>2</th>\n",
              "      <td>37</td>\n",
              "      <td>married</td>\n",
              "      <td>no</td>\n",
              "      <td>yes</td>\n",
              "      <td>no</td>\n",
              "      <td>telephone</td>\n",
              "      <td>mon</td>\n",
              "      <td>1</td>\n",
              "      <td>999</td>\n",
              "      <td>0</td>\n",
              "      <td>nonexistent</td>\n",
              "      <td>1.1</td>\n",
              "      <td>93.994</td>\n",
              "      <td>-36.4</td>\n",
              "      <td>4.857</td>\n",
              "      <td>5191.0</td>\n",
              "      <td>no</td>\n",
              "      <td>high</td>\n",
              "      <td>blue_collar</td>\n",
              "      <td>spring</td>\n",
              "    </tr>\n",
              "    <tr>\n",
              "      <th>3</th>\n",
              "      <td>40</td>\n",
              "      <td>married</td>\n",
              "      <td>no</td>\n",
              "      <td>no</td>\n",
              "      <td>no</td>\n",
              "      <td>telephone</td>\n",
              "      <td>mon</td>\n",
              "      <td>1</td>\n",
              "      <td>999</td>\n",
              "      <td>0</td>\n",
              "      <td>nonexistent</td>\n",
              "      <td>1.1</td>\n",
              "      <td>93.994</td>\n",
              "      <td>-36.4</td>\n",
              "      <td>4.857</td>\n",
              "      <td>5191.0</td>\n",
              "      <td>no</td>\n",
              "      <td>pre_high</td>\n",
              "      <td>white_collar</td>\n",
              "      <td>spring</td>\n",
              "    </tr>\n",
              "    <tr>\n",
              "      <th>4</th>\n",
              "      <td>56</td>\n",
              "      <td>married</td>\n",
              "      <td>no</td>\n",
              "      <td>no</td>\n",
              "      <td>yes</td>\n",
              "      <td>telephone</td>\n",
              "      <td>mon</td>\n",
              "      <td>1</td>\n",
              "      <td>999</td>\n",
              "      <td>0</td>\n",
              "      <td>nonexistent</td>\n",
              "      <td>1.1</td>\n",
              "      <td>93.994</td>\n",
              "      <td>-36.4</td>\n",
              "      <td>4.857</td>\n",
              "      <td>5191.0</td>\n",
              "      <td>no</td>\n",
              "      <td>high</td>\n",
              "      <td>blue_collar</td>\n",
              "      <td>spring</td>\n",
              "    </tr>\n",
              "  </tbody>\n",
              "</table>\n",
              "</div>\n",
              "      <button class=\"colab-df-convert\" onclick=\"convertToInteractive('df-1f8bd946-8368-462b-8496-5fad47dd8bdd')\"\n",
              "              title=\"Convert this dataframe to an interactive table.\"\n",
              "              style=\"display:none;\">\n",
              "        \n",
              "  <svg xmlns=\"http://www.w3.org/2000/svg\" height=\"24px\"viewBox=\"0 0 24 24\"\n",
              "       width=\"24px\">\n",
              "    <path d=\"M0 0h24v24H0V0z\" fill=\"none\"/>\n",
              "    <path d=\"M18.56 5.44l.94 2.06.94-2.06 2.06-.94-2.06-.94-.94-2.06-.94 2.06-2.06.94zm-11 1L8.5 8.5l.94-2.06 2.06-.94-2.06-.94L8.5 2.5l-.94 2.06-2.06.94zm10 10l.94 2.06.94-2.06 2.06-.94-2.06-.94-.94-2.06-.94 2.06-2.06.94z\"/><path d=\"M17.41 7.96l-1.37-1.37c-.4-.4-.92-.59-1.43-.59-.52 0-1.04.2-1.43.59L10.3 9.45l-7.72 7.72c-.78.78-.78 2.05 0 2.83L4 21.41c.39.39.9.59 1.41.59.51 0 1.02-.2 1.41-.59l7.78-7.78 2.81-2.81c.8-.78.8-2.07 0-2.86zM5.41 20L4 18.59l7.72-7.72 1.47 1.35L5.41 20z\"/>\n",
              "  </svg>\n",
              "      </button>\n",
              "      \n",
              "  <style>\n",
              "    .colab-df-container {\n",
              "      display:flex;\n",
              "      flex-wrap:wrap;\n",
              "      gap: 12px;\n",
              "    }\n",
              "\n",
              "    .colab-df-convert {\n",
              "      background-color: #E8F0FE;\n",
              "      border: none;\n",
              "      border-radius: 50%;\n",
              "      cursor: pointer;\n",
              "      display: none;\n",
              "      fill: #1967D2;\n",
              "      height: 32px;\n",
              "      padding: 0 0 0 0;\n",
              "      width: 32px;\n",
              "    }\n",
              "\n",
              "    .colab-df-convert:hover {\n",
              "      background-color: #E2EBFA;\n",
              "      box-shadow: 0px 1px 2px rgba(60, 64, 67, 0.3), 0px 1px 3px 1px rgba(60, 64, 67, 0.15);\n",
              "      fill: #174EA6;\n",
              "    }\n",
              "\n",
              "    [theme=dark] .colab-df-convert {\n",
              "      background-color: #3B4455;\n",
              "      fill: #D2E3FC;\n",
              "    }\n",
              "\n",
              "    [theme=dark] .colab-df-convert:hover {\n",
              "      background-color: #434B5C;\n",
              "      box-shadow: 0px 1px 3px 1px rgba(0, 0, 0, 0.15);\n",
              "      filter: drop-shadow(0px 1px 2px rgba(0, 0, 0, 0.3));\n",
              "      fill: #FFFFFF;\n",
              "    }\n",
              "  </style>\n",
              "\n",
              "      <script>\n",
              "        const buttonEl =\n",
              "          document.querySelector('#df-1f8bd946-8368-462b-8496-5fad47dd8bdd button.colab-df-convert');\n",
              "        buttonEl.style.display =\n",
              "          google.colab.kernel.accessAllowed ? 'block' : 'none';\n",
              "\n",
              "        async function convertToInteractive(key) {\n",
              "          const element = document.querySelector('#df-1f8bd946-8368-462b-8496-5fad47dd8bdd');\n",
              "          const dataTable =\n",
              "            await google.colab.kernel.invokeFunction('convertToInteractive',\n",
              "                                                     [key], {});\n",
              "          if (!dataTable) return;\n",
              "\n",
              "          const docLinkHtml = 'Like what you see? Visit the ' +\n",
              "            '<a target=\"_blank\" href=https://colab.research.google.com/notebooks/data_table.ipynb>data table notebook</a>'\n",
              "            + ' to learn more about interactive tables.';\n",
              "          element.innerHTML = '';\n",
              "          dataTable['output_type'] = 'display_data';\n",
              "          await google.colab.output.renderOutput(dataTable, element);\n",
              "          const docLink = document.createElement('div');\n",
              "          docLink.innerHTML = docLinkHtml;\n",
              "          element.appendChild(docLink);\n",
              "        }\n",
              "      </script>\n",
              "    </div>\n",
              "  </div>\n",
              "  "
            ]
          },
          "metadata": {},
          "execution_count": 11
        }
      ]
    },
    {
      "cell_type": "code",
      "source": [
        "y = df_tran_1['y'].apply(lambda x: 0 if x=='no' else (1 if x=='yes' else -1))\n",
        "y.value_counts()"
      ],
      "metadata": {
        "colab": {
          "base_uri": "https://localhost:8080/"
        },
        "id": "9C3ghJDEIJYU",
        "outputId": "0ba66423-3197-41f4-b7f0-1a1ec5547816"
      },
      "execution_count": 12,
      "outputs": [
        {
          "output_type": "execute_result",
          "data": {
            "text/plain": [
              "0    36534\n",
              "1     4636\n",
              "Name: y, dtype: int64"
            ]
          },
          "metadata": {},
          "execution_count": 12
        }
      ]
    },
    {
      "cell_type": "code",
      "source": [
        "x = df_tran_1.drop('y', axis=1)"
      ],
      "metadata": {
        "id": "8k4PWWzGIuaQ"
      },
      "execution_count": 13,
      "outputs": []
    },
    {
      "cell_type": "code",
      "source": [
        "x['poutcome'].value_counts()"
      ],
      "metadata": {
        "colab": {
          "base_uri": "https://localhost:8080/"
        },
        "id": "ApfiMx_yV_GQ",
        "outputId": "e8e37f25-ee57-43c8-ce14-b1fcb3d74fef"
      },
      "execution_count": 14,
      "outputs": [
        {
          "output_type": "execute_result",
          "data": {
            "text/plain": [
              "nonexistent    35547\n",
              "failure         4251\n",
              "success         1372\n",
              "Name: poutcome, dtype: int64"
            ]
          },
          "metadata": {},
          "execution_count": 14
        }
      ]
    },
    {
      "cell_type": "code",
      "source": [
        "fig = plt.figure(figsize =(10, 7))\n",
        "plt.boxplot(x['pdays'])\n",
        "plt.show()"
      ],
      "metadata": {
        "colab": {
          "base_uri": "https://localhost:8080/",
          "height": 428
        },
        "id": "LTz7EIJ8WRqW",
        "outputId": "f7893db7-6ffb-460d-d37d-24725f686e50"
      },
      "execution_count": 15,
      "outputs": [
        {
          "output_type": "display_data",
          "data": {
            "text/plain": [
              "<Figure size 720x504 with 1 Axes>"
            ],
            "image/png": "[encoded data removed]"
          },
          "metadata": {
            "needs_background": "light"
          }
        }
      ]
    },
    {
      "cell_type": "code",
      "source": [
        "#since the neural network does work very well with sparse matrix, one hot encoding might be suitable, here i will test ordinal encoding\n",
        "\n",
        "x['housing'] = x['housing'].apply(lambda t: 0 if t =='no' else (1 if t=='yes' else -1))\n",
        "x['default'] = x['default'].apply(lambda t: 0 if t =='no' else (1 if t=='yes' else -1))\n",
        "\n",
        "#higher weight is assinged to success result of previous campaign\n",
        "x['poutcome'] = x['poutcome'].apply(lambda t: 0 if t=='failure' else (2 if t=='success' else 1))\n",
        "\n",
        "#the further it is from the date when the customer was contacted, the lower the value assigned\n",
        "x['pdays'] = x['pdays'].apply(lambda t: 0 if t==999 else (3 if t<=10 else (2 if t<= 20 else 1)))\n",
        "\n",
        "x['loan'] = x['loan'].apply(lambda t: 0 if t=='no' else (1 if t=='yes' else -1))\n",
        "\n",
        "x['contact'] = x['contact'].apply(lambda t: 0 if t=='telephone' else 1)\n",
        "x['marital'] = x['marital'].apply(lambda t: 1 if t=='married' else 0)\n",
        "\n",
        "x['edu_new'] = x['edu_new'].apply(lambda t: 3 if t=='post_high' else (2 if t=='high' else (1 if t=='pre_high' else 0)))\n",
        "x['season'] = x['edu_new'].apply(lambda t: 3 if t=='summer' else (2 if t=='spring' else (1 if t=='fall' else 0)))\n",
        "x['job_new'] = x['job_new'].apply(lambda t: 3 if t=='blue_collar' else (2 if t=='white_collar' else (1 if t=='not_working' else 0)))\n",
        "\n",
        "x.head()"
      ],
      "metadata": {
        "colab": {
          "base_uri": "https://localhost:8080/",
          "height": 206
        },
        "id": "H4k_fjhNHJPi",
        "outputId": "70959d2f-737b-4977-bafd-a03c63c3fa06"
      },
      "execution_count": 16,
      "outputs": [
        {
          "output_type": "execute_result",
          "data": {
            "text/plain": [
              "   age  marital  default  housing  loan  contact day_of_week  campaign  pdays  \\\n",
              "0   56        1        0        0     0        0         mon         1      0   \n",
              "1   57        1       -1        0     0        0         mon         1      0   \n",
              "2   37        1        0        1     0        0         mon         1      0   \n",
              "3   40        1        0        0     0        0         mon         1      0   \n",
              "4   56        1        0        0     1        0         mon         1      0   \n",
              "\n",
              "   previous  poutcome  emp.var.rate  cons.price.idx  cons.conf.idx  euribor3m  \\\n",
              "0         0         1           1.1          93.994          -36.4      4.857   \n",
              "1         0         1           1.1          93.994          -36.4      4.857   \n",
              "2         0         1           1.1          93.994          -36.4      4.857   \n",
              "3         0         1           1.1          93.994          -36.4      4.857   \n",
              "4         0         1           1.1          93.994          -36.4      4.857   \n",
              "\n",
              "   nr.employed  edu_new  job_new  season  \n",
              "0       5191.0        1        3       0  \n",
              "1       5191.0        2        3       0  \n",
              "2       5191.0        2        3       0  \n",
              "3       5191.0        1        2       0  \n",
              "4       5191.0        2        3       0  "
            ],
            "text/html": [
              "\n",
              "  <div id=\"df-93b329e6-4b16-4db2-b2c1-01c7ce061ef1\">\n",
              "    <div class=\"colab-df-container\">\n",
              "      <div>\n",
              "<style scoped>\n",
              "    .dataframe tbody tr th:only-of-type {\n",
              "        vertical-align: middle;\n",
              "    }\n",
              "\n",
              "    .dataframe tbody tr th {\n",
              "        vertical-align: top;\n",
              "    }\n",
              "\n",
              "    .dataframe thead th {\n",
              "        text-align: right;\n",
              "    }\n",
              "</style>\n",
              "<table border=\"1\" class=\"dataframe\">\n",
              "  <thead>\n",
              "    <tr style=\"text-align: right;\">\n",
              "      <th></th>\n",
              "      <th>age</th>\n",
              "      <th>marital</th>\n",
              "      <th>default</th>\n",
              "      <th>housing</th>\n",
              "      <th>loan</th>\n",
              "      <th>contact</th>\n",
              "      <th>day_of_week</th>\n",
              "      <th>campaign</th>\n",
              "      <th>pdays</th>\n",
              "      <th>previous</th>\n",
              "      <th>poutcome</th>\n",
              "      <th>emp.var.rate</th>\n",
              "      <th>cons.price.idx</th>\n",
              "      <th>cons.conf.idx</th>\n",
              "      <th>euribor3m</th>\n",
              "      <th>nr.employed</th>\n",
              "      <th>edu_new</th>\n",
              "      <th>job_new</th>\n",
              "      <th>season</th>\n",
              "    </tr>\n",
              "  </thead>\n",
              "  <tbody>\n",
              "    <tr>\n",
              "      <th>0</th>\n",
              "      <td>56</td>\n",
              "      <td>1</td>\n",
              "      <td>0</td>\n",
              "      <td>0</td>\n",
              "      <td>0</td>\n",
              "      <td>0</td>\n",
              "      <td>mon</td>\n",
              "      <td>1</td>\n",
              "      <td>0</td>\n",
              "      <td>0</td>\n",
              "      <td>1</td>\n",
              "      <td>1.1</td>\n",
              "      <td>93.994</td>\n",
              "      <td>-36.4</td>\n",
              "      <td>4.857</td>\n",
              "      <td>5191.0</td>\n",
              "      <td>1</td>\n",
              "      <td>3</td>\n",
              "      <td>0</td>\n",
              "    </tr>\n",
              "    <tr>\n",
              "      <th>1</th>\n",
              "      <td>57</td>\n",
              "      <td>1</td>\n",
              "      <td>-1</td>\n",
              "      <td>0</td>\n",
              "      <td>0</td>\n",
              "      <td>0</td>\n",
              "      <td>mon</td>\n",
              "      <td>1</td>\n",
              "      <td>0</td>\n",
              "      <td>0</td>\n",
              "      <td>1</td>\n",
              "      <td>1.1</td>\n",
              "      <td>93.994</td>\n",
              "      <td>-36.4</td>\n",
              "      <td>4.857</td>\n",
              "      <td>5191.0</td>\n",
              "      <td>2</td>\n",
              "      <td>3</td>\n",
              "      <td>0</td>\n",
              "    </tr>\n",
              "    <tr>\n",
              "      <th>2</th>\n",
              "      <td>37</td>\n",
              "      <td>1</td>\n",
              "      <td>0</td>\n",
              "      <td>1</td>\n",
              "      <td>0</td>\n",
              "      <td>0</td>\n",
              "      <td>mon</td>\n",
              "      <td>1</td>\n",
              "      <td>0</td>\n",
              "      <td>0</td>\n",
              "      <td>1</td>\n",
              "      <td>1.1</td>\n",
              "      <td>93.994</td>\n",
              "      <td>-36.4</td>\n",
              "      <td>4.857</td>\n",
              "      <td>5191.0</td>\n",
              "      <td>2</td>\n",
              "      <td>3</td>\n",
              "      <td>0</td>\n",
              "    </tr>\n",
              "    <tr>\n",
              "      <th>3</th>\n",
              "      <td>40</td>\n",
              "      <td>1</td>\n",
              "      <td>0</td>\n",
              "      <td>0</td>\n",
              "      <td>0</td>\n",
              "      <td>0</td>\n",
              "      <td>mon</td>\n",
              "      <td>1</td>\n",
              "      <td>0</td>\n",
              "      <td>0</td>\n",
              "      <td>1</td>\n",
              "      <td>1.1</td>\n",
              "      <td>93.994</td>\n",
              "      <td>-36.4</td>\n",
              "      <td>4.857</td>\n",
              "      <td>5191.0</td>\n",
              "      <td>1</td>\n",
              "      <td>2</td>\n",
              "      <td>0</td>\n",
              "    </tr>\n",
              "    <tr>\n",
              "      <th>4</th>\n",
              "      <td>56</td>\n",
              "      <td>1</td>\n",
              "      <td>0</td>\n",
              "      <td>0</td>\n",
              "      <td>1</td>\n",
              "      <td>0</td>\n",
              "      <td>mon</td>\n",
              "      <td>1</td>\n",
              "      <td>0</td>\n",
              "      <td>0</td>\n",
              "      <td>1</td>\n",
              "      <td>1.1</td>\n",
              "      <td>93.994</td>\n",
              "      <td>-36.4</td>\n",
              "      <td>4.857</td>\n",
              "      <td>5191.0</td>\n",
              "      <td>2</td>\n",
              "      <td>3</td>\n",
              "      <td>0</td>\n",
              "    </tr>\n",
              "  </tbody>\n",
              "</table>\n",
              "</div>\n",
              "      <button class=\"colab-df-convert\" onclick=\"convertToInteractive('df-93b329e6-4b16-4db2-b2c1-01c7ce061ef1')\"\n",
              "              title=\"Convert this dataframe to an interactive table.\"\n",
              "              style=\"display:none;\">\n",
              "        \n",
              "  <svg xmlns=\"http://www.w3.org/2000/svg\" height=\"24px\"viewBox=\"0 0 24 24\"\n",
              "       width=\"24px\">\n",
              "    <path d=\"M0 0h24v24H0V0z\" fill=\"none\"/>\n",
              "    <path d=\"M18.56 5.44l.94 2.06.94-2.06 2.06-.94-2.06-.94-.94-2.06-.94 2.06-2.06.94zm-11 1L8.5 8.5l.94-2.06 2.06-.94-2.06-.94L8.5 2.5l-.94 2.06-2.06.94zm10 10l.94 2.06.94-2.06 2.06-.94-2.06-.94-.94-2.06-.94 2.06-2.06.94z\"/><path d=\"M17.41 7.96l-1.37-1.37c-.4-.4-.92-.59-1.43-.59-.52 0-1.04.2-1.43.59L10.3 9.45l-7.72 7.72c-.78.78-.78 2.05 0 2.83L4 21.41c.39.39.9.59 1.41.59.51 0 1.02-.2 1.41-.59l7.78-7.78 2.81-2.81c.8-.78.8-2.07 0-2.86zM5.41 20L4 18.59l7.72-7.72 1.47 1.35L5.41 20z\"/>\n",
              "  </svg>\n",
              "      </button>\n",
              "      \n",
              "  <style>\n",
              "    .colab-df-container {\n",
              "      display:flex;\n",
              "      flex-wrap:wrap;\n",
              "      gap: 12px;\n",
              "    }\n",
              "\n",
              "    .colab-df-convert {\n",
              "      background-color: #E8F0FE;\n",
              "      border: none;\n",
              "      border-radius: 50%;\n",
              "      cursor: pointer;\n",
              "      display: none;\n",
              "      fill: #1967D2;\n",
              "      height: 32px;\n",
              "      padding: 0 0 0 0;\n",
              "      width: 32px;\n",
              "    }\n",
              "\n",
              "    .colab-df-convert:hover {\n",
              "      background-color: #E2EBFA;\n",
              "      box-shadow: 0px 1px 2px rgba(60, 64, 67, 0.3), 0px 1px 3px 1px rgba(60, 64, 67, 0.15);\n",
              "      fill: #174EA6;\n",
              "    }\n",
              "\n",
              "    [theme=dark] .colab-df-convert {\n",
              "      background-color: #3B4455;\n",
              "      fill: #D2E3FC;\n",
              "    }\n",
              "\n",
              "    [theme=dark] .colab-df-convert:hover {\n",
              "      background-color: #434B5C;\n",
              "      box-shadow: 0px 1px 3px 1px rgba(0, 0, 0, 0.15);\n",
              "      filter: drop-shadow(0px 1px 2px rgba(0, 0, 0, 0.3));\n",
              "      fill: #FFFFFF;\n",
              "    }\n",
              "  </style>\n",
              "\n",
              "      <script>\n",
              "        const buttonEl =\n",
              "          document.querySelector('#df-93b329e6-4b16-4db2-b2c1-01c7ce061ef1 button.colab-df-convert');\n",
              "        buttonEl.style.display =\n",
              "          google.colab.kernel.accessAllowed ? 'block' : 'none';\n",
              "\n",
              "        async function convertToInteractive(key) {\n",
              "          const element = document.querySelector('#df-93b329e6-4b16-4db2-b2c1-01c7ce061ef1');\n",
              "          const dataTable =\n",
              "            await google.colab.kernel.invokeFunction('convertToInteractive',\n",
              "                                                     [key], {});\n",
              "          if (!dataTable) return;\n",
              "\n",
              "          const docLinkHtml = 'Like what you see? Visit the ' +\n",
              "            '<a target=\"_blank\" href=https://colab.research.google.com/notebooks/data_table.ipynb>data table notebook</a>'\n",
              "            + ' to learn more about interactive tables.';\n",
              "          element.innerHTML = '';\n",
              "          dataTable['output_type'] = 'display_data';\n",
              "          await google.colab.output.renderOutput(dataTable, element);\n",
              "          const docLink = document.createElement('div');\n",
              "          docLink.innerHTML = docLinkHtml;\n",
              "          element.appendChild(docLink);\n",
              "        }\n",
              "      </script>\n",
              "    </div>\n",
              "  </div>\n",
              "  "
            ]
          },
          "metadata": {},
          "execution_count": 16
        }
      ]
    },
    {
      "cell_type": "code",
      "source": [
        "x = x.drop(['day_of_week'], axis=1)"
      ],
      "metadata": {
        "id": "gq3rt2OsHrSS"
      },
      "execution_count": 17,
      "outputs": []
    },
    {
      "cell_type": "markdown",
      "source": [
        "### Train-Test Split & Data Normalization"
      ],
      "metadata": {
        "id": "7ieyi_1SKBZX"
      }
    },
    {
      "cell_type": "code",
      "source": [
        "from sklearn.preprocessing import MinMaxScaler\n",
        "\n",
        "scaler = MinMaxScaler()\n",
        "x_mm = scaler.fit_transform(x)"
      ],
      "metadata": {
        "id": "Y6xc2akgNZCK"
      },
      "execution_count": 18,
      "outputs": []
    },
    {
      "cell_type": "code",
      "source": [
        "#here i used stratified sampling approach, since the raw data is not balanced distributed\n",
        "x_train,x_test,y_train,y_test = train_test_split(x_mm, y, test_size = 0.2, stratify=y, random_state=42)\n",
        "print(x_train.shape,\n",
        "      x_test.shape,\n",
        "      y_train.shape,\n",
        "      y_test.shape)"
      ],
      "metadata": {
        "colab": {
          "base_uri": "https://localhost:8080/"
        },
        "id": "BrdyrKTrHrPd",
        "outputId": "da1dc9b4-b854-4458-882a-b3944c4241ea"
      },
      "execution_count": 19,
      "outputs": [
        {
          "output_type": "stream",
          "name": "stdout",
          "text": [
            "(32936, 18) (8234, 18) (32936,) (8234,)\n"
          ]
        }
      ]
    },
    {
      "cell_type": "markdown",
      "source": [
        "### Balancing the data using SMOTE\n",
        "\n",
        "https://towardsdatascience.com/all-about-imbalanced-machine-learning-classifiers-60563014d2b3\n"
      ],
      "metadata": {
        "id": "7MQKTaWlzPA3"
      }
    },
    {
      "cell_type": "code",
      "source": [
        "pip install -U imbalanced-learn"
      ],
      "metadata": {
        "colab": {
          "base_uri": "https://localhost:8080/"
        },
        "id": "tbj26liCxuxL",
        "outputId": "2905e70c-f496-43e2-906c-9bcc328b9871"
      },
      "execution_count": 20,
      "outputs": [
        {
          "output_type": "stream",
          "name": "stdout",
          "text": [
            "Looking in indexes: https://pypi.org/simple, https://us-python.pkg.dev/colab-wheels/public/simple/\n",
            "Requirement already satisfied: imbalanced-learn in /usr/local/lib/python3.7/dist-packages (0.9.0)\n",
            "Collecting imbalanced-learn\n",
            "  Using cached imbalanced_learn-0.9.1-py3-none-any.whl (199 kB)\n",
            "Requirement already satisfied: numpy>=1.17.3 in /usr/local/lib/python3.7/dist-packages (from imbalanced-learn) (1.21.6)\n",
            "Requirement already satisfied: threadpoolctl>=2.0.0 in /usr/local/lib/python3.7/dist-packages (from imbalanced-learn) (3.1.0)\n",
            "Requirement already satisfied: scipy>=1.3.2 in /usr/local/lib/python3.7/dist-packages (from imbalanced-learn) (1.7.3)\n",
            "Requirement already satisfied: joblib>=1.0.0 in /usr/local/lib/python3.7/dist-packages (from imbalanced-learn) (1.1.0)\n",
            "Requirement already satisfied: scikit-learn>=1.0.1 in /usr/local/lib/python3.7/dist-packages (from imbalanced-learn) (1.0.2)\n"
          ]
        }
      ]
    },
    {
      "cell_type": "code",
      "source": [
        "import imblearn\n",
        "\n",
        "smote = SMOTE()\n",
        "\n",
        "x_s, y_s = smote.fit_resample(x_train, y_train)\n",
        "\n",
        "print('Original dataset shape', len(x_train))\n",
        "print('Resampled dataset shape', len(x_s))"
      ],
      "metadata": {
        "colab": {
          "base_uri": "https://localhost:8080/"
        },
        "id": "oNyXi6IBxuum",
        "outputId": "3cffd79d-65bc-4d7c-8e9d-880914846199"
      },
      "execution_count": 21,
      "outputs": [
        {
          "output_type": "stream",
          "name": "stdout",
          "text": [
            "Original dataset shape 32936\n",
            "Resampled dataset shape 58454\n"
          ]
        }
      ]
    },
    {
      "cell_type": "markdown",
      "source": [
        "### Classification with Neural Network"
      ],
      "metadata": {
        "id": "bTJhsSl5N3Fl"
      }
    },
    {
      "cell_type": "code",
      "source": [
        "model = Sequential()\n",
        "model.add(Flatten(input_shape=( x_s.shape[1],)))\n",
        "model.add(Dense(units = 64, kernel_initializer = 'he_uniform',activation='relu'))\n",
        "model.add(Dense(units = 16, kernel_initializer = 'he_uniform',activation='relu', kernel_regularizer=tf.keras.regularizers.L2(0.01)))\n",
        "model.add(Dropout(0.2))\n",
        "model.add(Dense(units = 1, kernel_initializer = 'glorot_uniform', activation = 'sigmoid'))"
      ],
      "metadata": {
        "id": "ZfR0lfaFMZWW"
      },
      "execution_count": 35,
      "outputs": []
    },
    {
      "cell_type": "markdown",
      "source": [
        "may need to revisit the kernel initialization and tweaking the model\n",
        "here is the reference:https://www.kaggle.com/code/trolukovich/glorot-vs-he-weight-initialization-experiment/notebook"
      ],
      "metadata": {
        "id": "N2hLHHLlUmD2"
      }
    },
    {
      "cell_type": "code",
      "source": [
        "model.compile(optimizer = 'adamax', loss = 'binary_crossentropy', metrics = ['AUC'])\n",
        "model.summary()"
      ],
      "metadata": {
        "colab": {
          "base_uri": "https://localhost:8080/"
        },
        "id": "uhdkDf94U3Bp",
        "outputId": "86ad1e00-816e-48a1-fde9-06c47964c2d8"
      },
      "execution_count": 37,
      "outputs": [
        {
          "output_type": "stream",
          "name": "stdout",
          "text": [
            "Model: \"sequential_1\"\n",
            "_________________________________________________________________\n",
            " Layer (type)                Output Shape              Param #   \n",
            "=================================================================\n",
            " flatten (Flatten)           (None, 18)                0         \n",
            "                                                                 \n",
            " dense_3 (Dense)             (None, 64)                1216      \n",
            "                                                                 \n",
            " dense_4 (Dense)             (None, 16)                1040      \n",
            "                                                                 \n",
            " dropout_1 (Dropout)         (None, 16)                0         \n",
            "                                                                 \n",
            " dense_5 (Dense)             (None, 1)                 17        \n",
            "                                                                 \n",
            "=================================================================\n",
            "Total params: 2,273\n",
            "Trainable params: 2,273\n",
            "Non-trainable params: 0\n",
            "_________________________________________________________________\n"
          ]
        }
      ]
    },
    {
      "cell_type": "code",
      "source": [
        "keras.utils.plot_model(model, \"CIFAR10.png\", show_shapes=True) "
      ],
      "metadata": {
        "colab": {
          "base_uri": "https://localhost:8080/",
          "height": 644
        },
        "id": "dZ402MA8ERfX",
        "outputId": "264b4410-9da8-4b8f-bf83-ddf1c02de992"
      },
      "execution_count": 38,
      "outputs": [
        {
          "output_type": "execute_result",
          "data": {
            "text/plain": [
              "<IPython.core.display.Image object>"
            ],
            "image/png": "[encoded data removed]"
          },
          "metadata": {},
          "execution_count": 38
        }
      ]
    },
    {
      "cell_type": "code",
      "source": [
        "model_history = model.fit(x_s, y_s,validation_split=0.33, batch_size = 32, epochs = 100)"
      ],
      "metadata": {
        "colab": {
          "base_uri": "https://localhost:8080/"
        },
        "id": "ZP5G2rjdxurw",
        "outputId": "42a87d57-2264-4589-c867-f141e7973ddb"
      },
      "execution_count": 39,
      "outputs": [
        {
          "output_type": "stream",
          "name": "stdout",
          "text": [
            "Epoch 1/100\n",
            "1224/1224 [==============================] - 5s 4ms/step - loss: 0.5946 - auc: 0.7448 - val_loss: 1.1249 - val_auc: 0.0000e+00\n",
            "Epoch 2/100\n",
            "1224/1224 [==============================] - 4s 3ms/step - loss: 0.4960 - auc: 0.7633 - val_loss: 1.0621 - val_auc: 0.0000e+00\n",
            "Epoch 3/100\n",
            "1224/1224 [==============================] - 4s 3ms/step - loss: 0.4756 - auc: 0.7663 - val_loss: 1.0433 - val_auc: 0.0000e+00\n",
            "Epoch 4/100\n",
            "1224/1224 [==============================] - 4s 4ms/step - loss: 0.4697 - auc: 0.7650 - val_loss: 1.1376 - val_auc: 0.0000e+00\n",
            "Epoch 5/100\n",
            "1224/1224 [==============================] - 4s 3ms/step - loss: 0.4639 - auc: 0.7695 - val_loss: 1.0695 - val_auc: 0.0000e+00\n",
            "Epoch 6/100\n",
            "1224/1224 [==============================] - 4s 3ms/step - loss: 0.4612 - auc: 0.7699 - val_loss: 1.0823 - val_auc: 0.0000e+00\n",
            "Epoch 7/100\n",
            "1224/1224 [==============================] - 4s 3ms/step - loss: 0.4593 - auc: 0.7721 - val_loss: 1.0504 - val_auc: 0.0000e+00\n",
            "Epoch 8/100\n",
            "1224/1224 [==============================] - 3s 3ms/step - loss: 0.4591 - auc: 0.7718 - val_loss: 1.1348 - val_auc: 0.0000e+00\n",
            "Epoch 9/100\n",
            "1224/1224 [==============================] - 3s 3ms/step - loss: 0.4586 - auc: 0.7713 - val_loss: 1.0187 - val_auc: 0.0000e+00\n",
            "Epoch 10/100\n",
            "1224/1224 [==============================] - 4s 3ms/step - loss: 0.4575 - auc: 0.7731 - val_loss: 1.0871 - val_auc: 0.0000e+00\n",
            "Epoch 11/100\n",
            "1224/1224 [==============================] - 4s 3ms/step - loss: 0.4555 - auc: 0.7753 - val_loss: 1.1677 - val_auc: 0.0000e+00\n",
            "Epoch 12/100\n",
            "1224/1224 [==============================] - 3s 3ms/step - loss: 0.4568 - auc: 0.7714 - val_loss: 1.0542 - val_auc: 0.0000e+00\n",
            "Epoch 13/100\n",
            "1224/1224 [==============================] - 5s 4ms/step - loss: 0.4554 - auc: 0.7741 - val_loss: 1.0907 - val_auc: 0.0000e+00\n",
            "Epoch 14/100\n",
            "1224/1224 [==============================] - 3s 3ms/step - loss: 0.4551 - auc: 0.7751 - val_loss: 1.0419 - val_auc: 0.0000e+00\n",
            "Epoch 15/100\n",
            "1224/1224 [==============================] - 3s 3ms/step - loss: 0.4548 - auc: 0.7759 - val_loss: 1.1425 - val_auc: 0.0000e+00\n",
            "Epoch 16/100\n",
            "1224/1224 [==============================] - 4s 3ms/step - loss: 0.4546 - auc: 0.7743 - val_loss: 1.0453 - val_auc: 0.0000e+00\n",
            "Epoch 17/100\n",
            "1224/1224 [==============================] - 4s 3ms/step - loss: 0.4542 - auc: 0.7759 - val_loss: 1.0538 - val_auc: 0.0000e+00\n",
            "Epoch 18/100\n",
            "1224/1224 [==============================] - 4s 3ms/step - loss: 0.4540 - auc: 0.7760 - val_loss: 1.0614 - val_auc: 0.0000e+00\n",
            "Epoch 19/100\n",
            "1224/1224 [==============================] - 4s 3ms/step - loss: 0.4528 - auc: 0.7786 - val_loss: 1.0833 - val_auc: 0.0000e+00\n",
            "Epoch 20/100\n",
            "1224/1224 [==============================] - 5s 4ms/step - loss: 0.4534 - auc: 0.7769 - val_loss: 0.9954 - val_auc: 0.0000e+00\n",
            "Epoch 21/100\n",
            "1224/1224 [==============================] - 4s 3ms/step - loss: 0.4516 - auc: 0.7803 - val_loss: 1.0887 - val_auc: 0.0000e+00\n",
            "Epoch 22/100\n",
            "1224/1224 [==============================] - 4s 3ms/step - loss: 0.4512 - auc: 0.7796 - val_loss: 1.0717 - val_auc: 0.0000e+00\n",
            "Epoch 23/100\n",
            "1224/1224 [==============================] - 3s 3ms/step - loss: 0.4530 - auc: 0.7791 - val_loss: 1.0575 - val_auc: 0.0000e+00\n",
            "Epoch 24/100\n",
            "1224/1224 [==============================] - 4s 3ms/step - loss: 0.4512 - auc: 0.7802 - val_loss: 1.0151 - val_auc: 0.0000e+00\n",
            "Epoch 25/100\n",
            "1224/1224 [==============================] - 3s 3ms/step - loss: 0.4511 - auc: 0.7802 - val_loss: 1.1465 - val_auc: 0.0000e+00\n",
            "Epoch 26/100\n",
            "1224/1224 [==============================] - 3s 3ms/step - loss: 0.4526 - auc: 0.7795 - val_loss: 1.0376 - val_auc: 0.0000e+00\n",
            "Epoch 27/100\n",
            "1224/1224 [==============================] - 5s 4ms/step - loss: 0.4508 - auc: 0.7808 - val_loss: 1.0926 - val_auc: 0.0000e+00\n",
            "Epoch 28/100\n",
            "1224/1224 [==============================] - 3s 3ms/step - loss: 0.4510 - auc: 0.7809 - val_loss: 1.1144 - val_auc: 0.0000e+00\n",
            "Epoch 29/100\n",
            "1224/1224 [==============================] - 3s 3ms/step - loss: 0.4496 - auc: 0.7832 - val_loss: 0.9271 - val_auc: 0.0000e+00\n",
            "Epoch 30/100\n",
            "1224/1224 [==============================] - 3s 3ms/step - loss: 0.4502 - auc: 0.7818 - val_loss: 1.0419 - val_auc: 0.0000e+00\n",
            "Epoch 31/100\n",
            "1224/1224 [==============================] - 5s 4ms/step - loss: 0.4500 - auc: 0.7817 - val_loss: 1.0163 - val_auc: 0.0000e+00\n",
            "Epoch 32/100\n",
            "1224/1224 [==============================] - 3s 3ms/step - loss: 0.4507 - auc: 0.7817 - val_loss: 1.0751 - val_auc: 0.0000e+00\n",
            "Epoch 33/100\n",
            "1224/1224 [==============================] - 4s 3ms/step - loss: 0.4495 - auc: 0.7830 - val_loss: 0.9897 - val_auc: 0.0000e+00\n",
            "Epoch 34/100\n",
            "1224/1224 [==============================] - 4s 3ms/step - loss: 0.4495 - auc: 0.7837 - val_loss: 1.0942 - val_auc: 0.0000e+00\n",
            "Epoch 35/100\n",
            "1224/1224 [==============================] - 3s 2ms/step - loss: 0.4495 - auc: 0.7830 - val_loss: 1.0657 - val_auc: 0.0000e+00\n",
            "Epoch 36/100\n",
            "1224/1224 [==============================] - 3s 3ms/step - loss: 0.4484 - auc: 0.7853 - val_loss: 1.0484 - val_auc: 0.0000e+00\n",
            "Epoch 37/100\n",
            "1224/1224 [==============================] - 3s 3ms/step - loss: 0.4487 - auc: 0.7844 - val_loss: 1.0422 - val_auc: 0.0000e+00\n",
            "Epoch 38/100\n",
            "1224/1224 [==============================] - 3s 3ms/step - loss: 0.4495 - auc: 0.7838 - val_loss: 1.0445 - val_auc: 0.0000e+00\n",
            "Epoch 39/100\n",
            "1224/1224 [==============================] - 4s 3ms/step - loss: 0.4487 - auc: 0.7847 - val_loss: 1.1815 - val_auc: 0.0000e+00\n",
            "Epoch 40/100\n",
            "1224/1224 [==============================] - 3s 3ms/step - loss: 0.4486 - auc: 0.7843 - val_loss: 0.9547 - val_auc: 0.0000e+00\n",
            "Epoch 41/100\n",
            "1224/1224 [==============================] - 4s 3ms/step - loss: 0.4478 - auc: 0.7866 - val_loss: 1.0732 - val_auc: 0.0000e+00\n",
            "Epoch 42/100\n",
            "1224/1224 [==============================] - 4s 3ms/step - loss: 0.4475 - auc: 0.7871 - val_loss: 1.0873 - val_auc: 0.0000e+00\n",
            "Epoch 43/100\n",
            "1224/1224 [==============================] - 4s 3ms/step - loss: 0.4469 - auc: 0.7866 - val_loss: 1.0116 - val_auc: 0.0000e+00\n",
            "Epoch 44/100\n",
            "1224/1224 [==============================] - 4s 3ms/step - loss: 0.4473 - auc: 0.7877 - val_loss: 1.1101 - val_auc: 0.0000e+00\n",
            "Epoch 45/100\n",
            "1224/1224 [==============================] - 4s 3ms/step - loss: 0.4466 - auc: 0.7875 - val_loss: 1.0966 - val_auc: 0.0000e+00\n",
            "Epoch 46/100\n",
            "1224/1224 [==============================] - 3s 2ms/step - loss: 0.4480 - auc: 0.7861 - val_loss: 1.0183 - val_auc: 0.0000e+00\n",
            "Epoch 47/100\n",
            "1224/1224 [==============================] - 4s 3ms/step - loss: 0.4466 - auc: 0.7868 - val_loss: 1.1113 - val_auc: 0.0000e+00\n",
            "Epoch 48/100\n",
            "1224/1224 [==============================] - 3s 3ms/step - loss: 0.4463 - auc: 0.7886 - val_loss: 1.1158 - val_auc: 0.0000e+00\n",
            "Epoch 49/100\n",
            "1224/1224 [==============================] - 4s 3ms/step - loss: 0.4463 - auc: 0.7895 - val_loss: 1.0708 - val_auc: 0.0000e+00\n",
            "Epoch 50/100\n",
            "1224/1224 [==============================] - 3s 3ms/step - loss: 0.4463 - auc: 0.7879 - val_loss: 1.1117 - val_auc: 0.0000e+00\n",
            "Epoch 51/100\n",
            "1224/1224 [==============================] - 4s 3ms/step - loss: 0.4469 - auc: 0.7884 - val_loss: 1.0341 - val_auc: 0.0000e+00\n",
            "Epoch 52/100\n",
            "1224/1224 [==============================] - 4s 3ms/step - loss: 0.4461 - auc: 0.7878 - val_loss: 1.0609 - val_auc: 0.0000e+00\n",
            "Epoch 53/100\n",
            "1224/1224 [==============================] - 4s 3ms/step - loss: 0.4452 - auc: 0.7899 - val_loss: 0.9753 - val_auc: 0.0000e+00\n",
            "Epoch 54/100\n",
            "1224/1224 [==============================] - 3s 3ms/step - loss: 0.4460 - auc: 0.7886 - val_loss: 1.0643 - val_auc: 0.0000e+00\n",
            "Epoch 55/100\n",
            "1224/1224 [==============================] - 4s 3ms/step - loss: 0.4451 - auc: 0.7898 - val_loss: 1.0208 - val_auc: 0.0000e+00\n",
            "Epoch 56/100\n",
            "1224/1224 [==============================] - 3s 3ms/step - loss: 0.4456 - auc: 0.7899 - val_loss: 1.1106 - val_auc: 0.0000e+00\n",
            "Epoch 57/100\n",
            "1224/1224 [==============================] - 4s 3ms/step - loss: 0.4463 - auc: 0.7888 - val_loss: 1.0867 - val_auc: 0.0000e+00\n",
            "Epoch 58/100\n",
            "1224/1224 [==============================] - 4s 3ms/step - loss: 0.4445 - auc: 0.7911 - val_loss: 0.9868 - val_auc: 0.0000e+00\n",
            "Epoch 59/100\n",
            "1224/1224 [==============================] - 4s 3ms/step - loss: 0.4459 - auc: 0.7898 - val_loss: 1.1077 - val_auc: 0.0000e+00\n",
            "Epoch 60/100\n",
            "1224/1224 [==============================] - 4s 3ms/step - loss: 0.4446 - auc: 0.7911 - val_loss: 1.0033 - val_auc: 0.0000e+00\n",
            "Epoch 61/100\n",
            "1224/1224 [==============================] - 3s 3ms/step - loss: 0.4447 - auc: 0.7914 - val_loss: 1.0911 - val_auc: 0.0000e+00\n",
            "Epoch 62/100\n",
            "1224/1224 [==============================] - 4s 3ms/step - loss: 0.4449 - auc: 0.7917 - val_loss: 1.1218 - val_auc: 0.0000e+00\n",
            "Epoch 63/100\n",
            "1224/1224 [==============================] - 5s 4ms/step - loss: 0.4448 - auc: 0.7902 - val_loss: 1.0212 - val_auc: 0.0000e+00\n",
            "Epoch 64/100\n",
            "1224/1224 [==============================] - 3s 3ms/step - loss: 0.4439 - auc: 0.7911 - val_loss: 1.0692 - val_auc: 0.0000e+00\n",
            "Epoch 65/100\n",
            "1224/1224 [==============================] - 3s 2ms/step - loss: 0.4450 - auc: 0.7907 - val_loss: 1.0941 - val_auc: 0.0000e+00\n",
            "Epoch 66/100\n",
            "1224/1224 [==============================] - 3s 3ms/step - loss: 0.4441 - auc: 0.7913 - val_loss: 1.1390 - val_auc: 0.0000e+00\n",
            "Epoch 67/100\n",
            "1224/1224 [==============================] - 4s 3ms/step - loss: 0.4441 - auc: 0.7919 - val_loss: 1.0772 - val_auc: 0.0000e+00\n",
            "Epoch 68/100\n",
            "1224/1224 [==============================] - 4s 3ms/step - loss: 0.4443 - auc: 0.7929 - val_loss: 1.0672 - val_auc: 0.0000e+00\n",
            "Epoch 69/100\n",
            "1224/1224 [==============================] - 4s 3ms/step - loss: 0.4441 - auc: 0.7924 - val_loss: 1.0900 - val_auc: 0.0000e+00\n",
            "Epoch 70/100\n",
            "1224/1224 [==============================] - 4s 3ms/step - loss: 0.4431 - auc: 0.7931 - val_loss: 1.0860 - val_auc: 0.0000e+00\n",
            "Epoch 71/100\n",
            "1224/1224 [==============================] - 3s 3ms/step - loss: 0.4444 - auc: 0.7916 - val_loss: 1.0246 - val_auc: 0.0000e+00\n",
            "Epoch 72/100\n",
            "1224/1224 [==============================] - 4s 3ms/step - loss: 0.4429 - auc: 0.7933 - val_loss: 0.9822 - val_auc: 0.0000e+00\n",
            "Epoch 73/100\n",
            "1224/1224 [==============================] - 4s 3ms/step - loss: 0.4437 - auc: 0.7926 - val_loss: 1.0218 - val_auc: 0.0000e+00\n",
            "Epoch 74/100\n",
            "1224/1224 [==============================] - 4s 3ms/step - loss: 0.4428 - auc: 0.7938 - val_loss: 1.0376 - val_auc: 0.0000e+00\n",
            "Epoch 75/100\n",
            "1224/1224 [==============================] - 4s 3ms/step - loss: 0.4438 - auc: 0.7922 - val_loss: 1.0218 - val_auc: 0.0000e+00\n",
            "Epoch 76/100\n",
            "1224/1224 [==============================] - 3s 3ms/step - loss: 0.4436 - auc: 0.7917 - val_loss: 1.0623 - val_auc: 0.0000e+00\n",
            "Epoch 77/100\n",
            "1224/1224 [==============================] - 3s 3ms/step - loss: 0.4433 - auc: 0.7938 - val_loss: 1.0824 - val_auc: 0.0000e+00\n",
            "Epoch 78/100\n",
            "1224/1224 [==============================] - 4s 3ms/step - loss: 0.4426 - auc: 0.7933 - val_loss: 1.0685 - val_auc: 0.0000e+00\n",
            "Epoch 79/100\n",
            "1224/1224 [==============================] - 4s 3ms/step - loss: 0.4429 - auc: 0.7937 - val_loss: 1.0069 - val_auc: 0.0000e+00\n",
            "Epoch 80/100\n",
            "1224/1224 [==============================] - 4s 3ms/step - loss: 0.4436 - auc: 0.7932 - val_loss: 1.0512 - val_auc: 0.0000e+00\n",
            "Epoch 81/100\n",
            "1224/1224 [==============================] - 3s 3ms/step - loss: 0.4434 - auc: 0.7929 - val_loss: 0.9697 - val_auc: 0.0000e+00\n",
            "Epoch 82/100\n",
            "1224/1224 [==============================] - 3s 3ms/step - loss: 0.4427 - auc: 0.7935 - val_loss: 0.9832 - val_auc: 0.0000e+00\n",
            "Epoch 83/100\n",
            "1224/1224 [==============================] - 4s 3ms/step - loss: 0.4434 - auc: 0.7929 - val_loss: 1.1160 - val_auc: 0.0000e+00\n",
            "Epoch 84/100\n",
            "1224/1224 [==============================] - 4s 4ms/step - loss: 0.4420 - auc: 0.7952 - val_loss: 1.0080 - val_auc: 0.0000e+00\n",
            "Epoch 85/100\n",
            "1224/1224 [==============================] - 4s 3ms/step - loss: 0.4424 - auc: 0.7941 - val_loss: 1.1047 - val_auc: 0.0000e+00\n",
            "Epoch 86/100\n",
            "1224/1224 [==============================] - 3s 3ms/step - loss: 0.4421 - auc: 0.7955 - val_loss: 1.0219 - val_auc: 0.0000e+00\n",
            "Epoch 87/100\n",
            "1224/1224 [==============================] - 3s 3ms/step - loss: 0.4427 - auc: 0.7940 - val_loss: 1.0664 - val_auc: 0.0000e+00\n",
            "Epoch 88/100\n",
            "1224/1224 [==============================] - 3s 3ms/step - loss: 0.4422 - auc: 0.7950 - val_loss: 1.0459 - val_auc: 0.0000e+00\n",
            "Epoch 89/100\n",
            "1224/1224 [==============================] - 3s 3ms/step - loss: 0.4413 - auc: 0.7957 - val_loss: 1.0857 - val_auc: 0.0000e+00\n",
            "Epoch 90/100\n",
            "1224/1224 [==============================] - 4s 3ms/step - loss: 0.4417 - auc: 0.7951 - val_loss: 1.1150 - val_auc: 0.0000e+00\n",
            "Epoch 91/100\n",
            "1224/1224 [==============================] - 4s 3ms/step - loss: 0.4407 - auc: 0.7949 - val_loss: 1.0402 - val_auc: 0.0000e+00\n",
            "Epoch 92/100\n",
            "1224/1224 [==============================] - 3s 3ms/step - loss: 0.4410 - auc: 0.7958 - val_loss: 1.0494 - val_auc: 0.0000e+00\n",
            "Epoch 93/100\n",
            "1224/1224 [==============================] - 3s 3ms/step - loss: 0.4403 - auc: 0.7973 - val_loss: 1.0585 - val_auc: 0.0000e+00\n",
            "Epoch 94/100\n",
            "1224/1224 [==============================] - 3s 3ms/step - loss: 0.4409 - auc: 0.7960 - val_loss: 0.9832 - val_auc: 0.0000e+00\n",
            "Epoch 95/100\n",
            "1224/1224 [==============================] - 3s 3ms/step - loss: 0.4410 - auc: 0.7968 - val_loss: 1.0281 - val_auc: 0.0000e+00\n",
            "Epoch 96/100\n",
            "1224/1224 [==============================] - 3s 3ms/step - loss: 0.4408 - auc: 0.7955 - val_loss: 1.0516 - val_auc: 0.0000e+00\n",
            "Epoch 97/100\n",
            "1224/1224 [==============================] - 3s 3ms/step - loss: 0.4416 - auc: 0.7956 - val_loss: 0.9897 - val_auc: 0.0000e+00\n",
            "Epoch 98/100\n",
            "1224/1224 [==============================] - 4s 3ms/step - loss: 0.4413 - auc: 0.7960 - val_loss: 0.9966 - val_auc: 0.0000e+00\n",
            "Epoch 99/100\n",
            "1224/1224 [==============================] - 3s 3ms/step - loss: 0.4384 - auc: 0.8001 - val_loss: 1.0702 - val_auc: 0.0000e+00\n",
            "Epoch 100/100\n",
            "1224/1224 [==============================] - 4s 3ms/step - loss: 0.4408 - auc: 0.7972 - val_loss: 0.9953 - val_auc: 0.0000e+00\n"
          ]
        }
      ]
    },
    {
      "cell_type": "code",
      "source": [
        "from sklearn.metrics import cohen_kappa_score,  average_precision_score\n",
        "\n",
        "\n",
        "# define functions for model performance evaluation\n",
        "def print_validation_report(y_test, predictions):\n",
        "    print(\"Classification Report\")\n",
        "    print(classification_report(y_test, predictions))\n",
        "    print('Accuracy Score: {}'.format(accuracy_score(y_test, predictions)))\n",
        "    print(\"Kappa- \", cohen_kappa_score(y_test, predictions))\n",
        "    print(\"F1- \", f1_score(y_test, predictions))\n",
        "    print(\"ROC_AUC_score- \", roc_auc_score(y_test, predictions))\n",
        "    print(\"PR AUC- \", average_precision_score(y_test, predictions))\n",
        "\n",
        "\n",
        "def plot_confusion_matrix(y_true, y_pred):\n",
        "    mtx = confusion_matrix(y_true, y_pred)\n",
        "    fig, ax = plt.subplots(figsize=(8,8))\n",
        "    sns.heatmap(mtx, annot=True, fmt='d', linewidths=.75,  cbar=False, ax=ax,cmap='Blues',linecolor='white')\n",
        "    #  square=True,\n",
        "    plt.ylabel('true label')\n",
        "    plt.xlabel('predicted label')\n",
        "\n",
        "def plot_curve(y_test, predictions):\n",
        "    fig, (ax1, ax2) = plt.subplots(1, 2, figsize=(13,5))\n",
        "    fig.tight_layout()\n",
        "    fpr, tpr, threshold = metrics.roc_curve(y_test, predictions)\n",
        "    roc_auc = metrics.auc(fpr, tpr)\n",
        "    ax1.set_title('Receiver Operating Characteristic')\n",
        "    ax1.plot(fpr, tpr, 'b', label = 'AUC = %0.2f' % roc_auc)\n",
        "    ax1.legend(loc = 'lower right')\n",
        "    ax1.plot([0, 1], [0, 1],'r--')\n",
        "    ax1.set_xlim([0, 1])\n",
        "    ax1.set_ylim([0, 1])\n",
        "    ax1.set_ylabel('True Positive Rate')\n",
        "    ax1.set_xlabel('False Positive Rate')\n",
        "\n",
        "    lr_precision, lr_recall, _ = metrics.precision_recall_curve(y_test, predictions)\n",
        "    ax2.set_title('Precision-Recall AUC Curve')\n",
        "    ax2.plot(lr_recall, lr_precision, marker='.')\n",
        "    ax2.set_xlabel('Recall')\n",
        "    ax2.set_ylabel('Precision')\n",
        "    ax2.set_xlim([0, 1])\n",
        "    ax2.set_ylim([0, 1])\n",
        "\n",
        "    plt.show()"
      ],
      "metadata": {
        "id": "8HWA6hOPiKvC"
      },
      "execution_count": 45,
      "outputs": []
    },
    {
      "cell_type": "code",
      "source": [
        "preds = model.predict(x_test)\n",
        "preds=np.argmax(preds, axis=1)\n",
        "print('shape of preds: ', preds.shape)"
      ],
      "metadata": {
        "colab": {
          "base_uri": "https://localhost:8080/"
        },
        "id": "LWB8jKmVho2n",
        "outputId": "df51e50e-3611-494d-84dc-8fe260ff56ab"
      },
      "execution_count": 40,
      "outputs": [
        {
          "output_type": "stream",
          "name": "stdout",
          "text": [
            "shape of preds:  (8234,)\n"
          ]
        }
      ]
    },
    {
      "cell_type": "code",
      "source": [
        "print_validation_report(y_test, preds)"
      ],
      "metadata": {
        "colab": {
          "base_uri": "https://localhost:8080/"
        },
        "id": "hhPj8BfYmhs5",
        "outputId": "94dd2597-bfa5-4b0b-c8ea-803b6c75f130"
      },
      "execution_count": 41,
      "outputs": [
        {
          "output_type": "stream",
          "name": "stdout",
          "text": [
            "Classification Report\n",
            "              precision    recall  f1-score   support\n",
            "\n",
            "           0       0.89      1.00      0.94      7307\n",
            "           1       0.00      0.00      0.00       927\n",
            "\n",
            "    accuracy                           0.89      8234\n",
            "   macro avg       0.44      0.50      0.47      8234\n",
            "weighted avg       0.79      0.89      0.83      8234\n",
            "\n",
            "Accuracy Score: 0.8874180228321593\n",
            "Kappa-  0.0\n",
            "F1-  0.0\n",
            "ROC_AUC_score-  0.5\n",
            "PR AUC-  0.11258197716784066\n"
          ]
        }
      ]
    },
    {
      "cell_type": "code",
      "source": [
        "plot_confusion_matrix(y_test, preds)"
      ],
      "metadata": {
        "colab": {
          "base_uri": "https://localhost:8080/",
          "height": 497
        },
        "id": "OJltCiOAmvX7",
        "outputId": "6c9d227b-942c-475f-9f3c-9aa6a8b55be1"
      },
      "execution_count": 46,
      "outputs": [
        {
          "output_type": "display_data",
          "data": {
            "text/plain": [
              "<Figure size 576x576 with 1 Axes>"
            ],
            "image/png": "[encoded data removed]"
          },
          "metadata": {
            "needs_background": "light"
          }
        }
      ]
    },
    {
      "cell_type": "code",
      "source": [
        "plot_curve(y_test, preds)"
      ],
      "metadata": {
        "colab": {
          "base_uri": "https://localhost:8080/",
          "height": 395
        },
        "id": "x0O8P7Z0p3ua",
        "outputId": "523602b1-591a-4c0f-c2a4-2996472d19fe"
      },
      "execution_count": 48,
      "outputs": [
        {
          "output_type": "display_data",
          "data": {
            "text/plain": [
              "<Figure size 936x360 with 2 Axes>"
            ],
            "image/png": "[encoded data removed]"
          },
          "metadata": {
            "needs_background": "light"
          }
        }
      ]
    },
    {
      "cell_type": "code",
      "source": [
        "loss, accuracy = model.evaluate(x_test, y_test)"
      ],
      "metadata": {
        "colab": {
          "base_uri": "https://localhost:8080/"
        },
        "id": "LiW2cV7ZhcjF",
        "outputId": "aa6d7f77-244f-4fb3-ed27-b35590a2242c"
      },
      "execution_count": 47,
      "outputs": [
        {
          "output_type": "stream",
          "name": "stdout",
          "text": [
            "258/258 [==============================] - 0s 2ms/step - loss: 0.3293 - auc: 0.7934\n"
          ]
        }
      ]
    },
    {
      "cell_type": "markdown",
      "source": [
        "### Use sklearn MLPClassifier for comparison purpose"
      ],
      "metadata": {
        "id": "x31SqejyozCR"
      }
    },
    {
      "cell_type": "code",
      "source": [
        "from sklearn.neural_network import MLPClassifier\n",
        "\n",
        "mlp = MLPClassifier(hidden_layer_sizes=(50,200,50), max_iter=300, activation='relu', solver='adam', random_state=1)\n",
        "mlp.fit(x_s, y_s)"
      ],
      "metadata": {
        "colab": {
          "base_uri": "https://localhost:8080/"
        },
        "id": "zuqpVjGqhuXt",
        "outputId": "79d01bd3-90e3-42e2-9b03-7721daf63473"
      },
      "execution_count": 50,
      "outputs": [
        {
          "output_type": "execute_result",
          "data": {
            "text/plain": [
              "MLPClassifier(hidden_layer_sizes=(50, 200, 50), max_iter=300, random_state=1)"
            ]
          },
          "metadata": {},
          "execution_count": 50
        }
      ]
    },
    {
      "cell_type": "code",
      "source": [
        "print('Accuracy')\n",
        "print(mlp.score(x_test, y_test))"
      ],
      "metadata": {
        "colab": {
          "base_uri": "https://localhost:8080/"
        },
        "id": "bTJz8_Wtnaiy",
        "outputId": "2b35f17d-625b-491d-ca31-9dad1a4b2e99"
      },
      "execution_count": 52,
      "outputs": [
        {
          "output_type": "stream",
          "name": "stdout",
          "text": [
            "Accuracy\n",
            "0.7710711683264513\n"
          ]
        }
      ]
    },
    {
      "cell_type": "code",
      "source": [
        "predict = mlp.predict(x_test)\n",
        "confusion_matrix = confusion_matrix(y_test, predict)\n",
        "fig, ax = plt.subplots(figsize=(8,8))\n",
        "ax =  sns.heatmap(confusion_matrix, annot=True, fmt='d', linewidths=.75,  cbar=False, ax=ax,cmap='Blues',linecolor='white')\n",
        "plt.ylabel('True value')\n",
        "plt.xlabel('Predicted value')\n",
        "plt.show()"
      ],
      "metadata": {
        "colab": {
          "base_uri": "https://localhost:8080/",
          "height": 497
        },
        "id": "s3uAUEOOngy9",
        "outputId": "2c084038-c58f-4833-91a2-aaa811d33d4e"
      },
      "execution_count": 53,
      "outputs": [
        {
          "output_type": "display_data",
          "data": {
            "text/plain": [
              "<Figure size 576x576 with 1 Axes>"
            ],
            "image/png": "[encoded data removed]"
          },
          "metadata": {
            "needs_background": "light"
          }
        }
      ]
    }
  ]
}