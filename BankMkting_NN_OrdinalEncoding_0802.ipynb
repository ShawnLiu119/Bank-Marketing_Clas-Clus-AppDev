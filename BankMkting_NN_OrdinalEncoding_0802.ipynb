{
  "nbformat": 4,
  "nbformat_minor": 0,
  "metadata": {
    "colab": {
      "name": "BankMkting_NN_OrdinalEncoding_0802.ipynb",
      "provenance": [],
      "collapsed_sections": [],
      "authorship_tag": "ABX9TyNIEHlC0Urbaim4Pd/AW1KC",
      "include_colab_link": true
    },
    "kernelspec": {
      "name": "python3",
      "display_name": "Python 3"
    },
    "language_info": {
      "name": "python"
    }
  },
  "cells": [
    {
      "cell_type": "markdown",
      "metadata": {
        "id": "view-in-github",
        "colab_type": "text"
      },
      "source": [
        "<a href=\"https://colab.research.google.com/github/ShawnLiu119/CapstoneProject_BankingMarketing/blob/main/BankMkting_NN_OrdinalEncoding_0802.ipynb\" target=\"_parent\"><img src=\"https://colab.research.google.com/assets/colab-badge.svg\" alt=\"Open In Colab\"/></a>"
      ]
    },
    {
      "cell_type": "code",
      "source": [
        "from sklearn.metrics import accuracy_score\n",
        "from sklearn.metrics import roc_auc_score\n",
        "import numpy as np\n",
        "import pandas as pd \n",
        "import os\n",
        "from sklearn.tree import DecisionTreeClassifier\n",
        "from sklearn.tree import plot_tree\n",
        "from sklearn.model_selection import train_test_split\n",
        "from sklearn.model_selection import cross_val_score\n",
        "from sklearn.metrics import confusion_matrix\n",
        "from sklearn.metrics import plot_confusion_matrix\n",
        "from sklearn.model_selection import train_test_split\n",
        "from sklearn.model_selection import RandomizedSearchCV\n",
        "from sklearn.neighbors import KNeighborsClassifier\n",
        "from sklearn.preprocessing import StandardScaler\n",
        "from sklearn.ensemble import RandomForestClassifier\n",
        "import seaborn as sns\n",
        "import matplotlib.pyplot as plt \n",
        "from sklearn import metrics\n",
        "from sklearn.metrics import accuracy_score, f1_score, precision_score, recall_score, classification_report, confusion_matrix,r2_score\n",
        "from sklearn import model_selection\n",
        "from sklearn.ensemble import BaggingClassifier\n",
        "import warnings\n",
        "from imblearn.over_sampling import SMOTE\n",
        "warnings.filterwarnings('ignore')\n",
        "import tensorflow as tf\n",
        "from tensorflow import keras \n",
        "from tensorflow import keras\n",
        "from tensorflow.keras.models import Sequential\n",
        "from tensorflow.keras.layers import Dense, Dropout, Flatten\n",
        "from tensorflow.keras.optimizers import Adam \n",
        "from sklearn.metrics import accuracy_score\n",
        "from sklearn.metrics import confusion_matrix"
      ],
      "metadata": {
        "id": "8TvW0SUbKssy"
      },
      "execution_count": 1,
      "outputs": []
    },
    {
      "cell_type": "code",
      "execution_count": 2,
      "metadata": {
        "id": "fRRsWXUecCNl"
      },
      "outputs": [],
      "source": [
        "import pandas as pd"
      ]
    },
    {
      "cell_type": "code",
      "source": [
        "url = 'https://raw.githubusercontent.com/ShawnLiu119/CapstoneProject_BankingMarketing/main/rawdata/bank-additional-full.csv'\n",
        "data = pd.read_csv(url, sep=';')"
      ],
      "metadata": {
        "id": "1FiIE4lzcJcW"
      },
      "execution_count": 3,
      "outputs": []
    },
    {
      "cell_type": "markdown",
      "source": [
        "### Data Transformation - Feature Engineer"
      ],
      "metadata": {
        "id": "BeRBJ8ZMc345"
      }
    },
    {
      "cell_type": "code",
      "source": [
        "data['education'].value_counts()\n",
        "\n",
        "data_1 = data.copy()\n",
        "data_1 = data_1[data_1['education'] != 'illiterate']\n",
        "\n",
        "data_1['edu_new'] = data_1['education'].map({'basic.4y': 'pre_high', \n",
        "                                         'basic.9y': 'pre_high',\n",
        "                                         'basic.6y': 'pre_high',\n",
        "                                         'university.degree' : 'post_high',\n",
        "                                         'professional.course':'post_high',\n",
        "                                         'high.school' : 'high',\n",
        "                                         'unknown' :'unknown' })"
      ],
      "metadata": {
        "id": "bbhSCh5ncQmI"
      },
      "execution_count": null,
      "outputs": []
    },
    {
      "cell_type": "code",
      "source": [
        "def map_job(row):\n",
        "    if row['job'] in ['admin.', 'management', 'entrepreneur','self-employed']:\n",
        "        cat = 'white_collar'\n",
        "    elif row['job'] in ['housemaid', 'blue-collar', 'technician', 'services']:\n",
        "        cat = 'blue_collar'\n",
        "    elif row['job'] in ['student', 'retired', 'unemployed']:\n",
        "        cat = 'not_working'\n",
        "    else:\n",
        "        cat = 'unknown'\n",
        "    return cat\n",
        "\n",
        "data_1['job_new'] = data_1.apply(map_job, axis=1)\n",
        "data_1['job_new'].value_counts(dropna = False)"
      ],
      "metadata": {
        "colab": {
          "base_uri": "https://localhost:8080/"
        },
        "id": "eHGAdfSkcS5b",
        "outputId": "32477a06-e6b6-48b3-b4ca-98147992abab"
      },
      "execution_count": null,
      "outputs": [
        {
          "output_type": "execute_result",
          "data": {
            "text/plain": [
              "blue_collar     21017\n",
              "white_collar    16217\n",
              "not_working      3606\n",
              "unknown           330\n",
              "Name: job_new, dtype: int64"
            ]
          },
          "metadata": {},
          "execution_count": 5
        }
      ]
    },
    {
      "cell_type": "code",
      "source": [
        "def map_month(row):\n",
        "    if row['month'] in ['mar', 'apr', 'may']:\n",
        "        cat = 'spring'\n",
        "    elif row['month'] in ['jun', 'jul', 'aug']:\n",
        "        cat = 'summer'\n",
        "    elif row['month'] in ['sep', 'oct', 'nov']:\n",
        "        cat = 'fall'\n",
        "    else:\n",
        "        cat = 'winter'\n",
        "    return cat\n",
        "\n",
        "data_1['season'] = data_1.apply(map_month, axis=1)\n",
        "data_1['season'].value_counts(dropna = False)"
      ],
      "metadata": {
        "colab": {
          "base_uri": "https://localhost:8080/"
        },
        "id": "94-u-jWxcU_5",
        "outputId": "0095cf78-b4d6-4ed0-c0de-5fab1f590ffd"
      },
      "execution_count": null,
      "outputs": [
        {
          "output_type": "execute_result",
          "data": {
            "text/plain": [
              "summer    18660\n",
              "spring    16942\n",
              "fall       5386\n",
              "winter      182\n",
              "Name: season, dtype: int64"
            ]
          },
          "metadata": {},
          "execution_count": 6
        }
      ]
    },
    {
      "cell_type": "code",
      "source": [
        "data_1.columns"
      ],
      "metadata": {
        "colab": {
          "base_uri": "https://localhost:8080/"
        },
        "id": "MTQZAXjLcXVU",
        "outputId": "2ce8d4d7-5815-4d65-e25c-eb6a732a9926"
      },
      "execution_count": null,
      "outputs": [
        {
          "output_type": "execute_result",
          "data": {
            "text/plain": [
              "Index(['age', 'job', 'marital', 'education', 'default', 'housing', 'loan',\n",
              "       'contact', 'month', 'day_of_week', 'duration', 'campaign', 'pdays',\n",
              "       'previous', 'poutcome', 'emp.var.rate', 'cons.price.idx',\n",
              "       'cons.conf.idx', 'euribor3m', 'nr.employed', 'y', 'edu_new', 'job_new',\n",
              "       'season'],\n",
              "      dtype='object')"
            ]
          },
          "metadata": {},
          "execution_count": 7
        }
      ]
    },
    {
      "cell_type": "code",
      "source": [
        "#This transformed dataframe is based on group discussion on 7/23\n",
        "# - keep all numerical features as they are\n",
        "# - consolidate categorical features (education, job, season) and drop originial ones\n",
        "\n",
        "df_tran_1 = data_1[['age', 'marital', 'default', 'housing', 'loan',\n",
        "       'contact', 'day_of_week', 'duration', 'campaign', 'pdays',\n",
        "       'previous', 'poutcome', 'emp.var.rate', 'cons.price.idx',\n",
        "       'cons.conf.idx', 'euribor3m', 'nr.employed', 'y', 'edu_new', 'job_new', 'season']]"
      ],
      "metadata": {
        "id": "AdtaLk4ycY_5"
      },
      "execution_count": null,
      "outputs": []
    },
    {
      "cell_type": "code",
      "source": [
        "df_tran_1.shape\n",
        "#this is because we removed illiterate"
      ],
      "metadata": {
        "colab": {
          "base_uri": "https://localhost:8080/"
        },
        "id": "glqegqalI_rs",
        "outputId": "4dd0db56-c8d7-4050-8f96-c9b8a30c6489"
      },
      "execution_count": null,
      "outputs": [
        {
          "output_type": "execute_result",
          "data": {
            "text/plain": [
              "(41170, 21)"
            ]
          },
          "metadata": {},
          "execution_count": 9
        }
      ]
    },
    {
      "cell_type": "code",
      "source": [
        "df_tran_1 = df_tran_1.drop(['duration'], axis=1)\n",
        "df_tran_1.columns"
      ],
      "metadata": {
        "colab": {
          "base_uri": "https://localhost:8080/"
        },
        "id": "FfhleyPscknX",
        "outputId": "74c0cf15-a6a8-481d-a08e-ab8e81263413"
      },
      "execution_count": null,
      "outputs": [
        {
          "output_type": "execute_result",
          "data": {
            "text/plain": [
              "Index(['age', 'marital', 'default', 'housing', 'loan', 'contact',\n",
              "       'day_of_week', 'campaign', 'pdays', 'previous', 'poutcome',\n",
              "       'emp.var.rate', 'cons.price.idx', 'cons.conf.idx', 'euribor3m',\n",
              "       'nr.employed', 'y', 'edu_new', 'job_new', 'season'],\n",
              "      dtype='object')"
            ]
          },
          "metadata": {},
          "execution_count": 10
        }
      ]
    },
    {
      "cell_type": "markdown",
      "source": [
        "### Ordinal Encoding For Categorical Features"
      ],
      "metadata": {
        "id": "2F1p0tiPHKJC"
      }
    },
    {
      "cell_type": "code",
      "source": [
        "df_tran_1.head()"
      ],
      "metadata": {
        "colab": {
          "base_uri": "https://localhost:8080/",
          "height": 206
        },
        "id": "6mkfMf8fRm33",
        "outputId": "a80e1c91-f060-496f-f945-99f951ae82b4"
      },
      "execution_count": null,
      "outputs": [
        {
          "output_type": "execute_result",
          "data": {
            "text/plain": [
              "   age  marital  default housing loan    contact day_of_week  campaign  pdays  \\\n",
              "0   56  married       no      no   no  telephone         mon         1    999   \n",
              "1   57  married  unknown      no   no  telephone         mon         1    999   \n",
              "2   37  married       no     yes   no  telephone         mon         1    999   \n",
              "3   40  married       no      no   no  telephone         mon         1    999   \n",
              "4   56  married       no      no  yes  telephone         mon         1    999   \n",
              "\n",
              "   previous     poutcome  emp.var.rate  cons.price.idx  cons.conf.idx  \\\n",
              "0         0  nonexistent           1.1          93.994          -36.4   \n",
              "1         0  nonexistent           1.1          93.994          -36.4   \n",
              "2         0  nonexistent           1.1          93.994          -36.4   \n",
              "3         0  nonexistent           1.1          93.994          -36.4   \n",
              "4         0  nonexistent           1.1          93.994          -36.4   \n",
              "\n",
              "   euribor3m  nr.employed   y   edu_new       job_new  season  \n",
              "0      4.857       5191.0  no  pre_high   blue_collar  spring  \n",
              "1      4.857       5191.0  no      high   blue_collar  spring  \n",
              "2      4.857       5191.0  no      high   blue_collar  spring  \n",
              "3      4.857       5191.0  no  pre_high  white_collar  spring  \n",
              "4      4.857       5191.0  no      high   blue_collar  spring  "
            ],
            "text/html": [
              "\n",
              "  <div id=\"df-6ef223ec-1a98-4e34-94c9-0cef8b39ac38\">\n",
              "    <div class=\"colab-df-container\">\n",
              "      <div>\n",
              "<style scoped>\n",
              "    .dataframe tbody tr th:only-of-type {\n",
              "        vertical-align: middle;\n",
              "    }\n",
              "\n",
              "    .dataframe tbody tr th {\n",
              "        vertical-align: top;\n",
              "    }\n",
              "\n",
              "    .dataframe thead th {\n",
              "        text-align: right;\n",
              "    }\n",
              "</style>\n",
              "<table border=\"1\" class=\"dataframe\">\n",
              "  <thead>\n",
              "    <tr style=\"text-align: right;\">\n",
              "      <th></th>\n",
              "      <th>age</th>\n",
              "      <th>marital</th>\n",
              "      <th>default</th>\n",
              "      <th>housing</th>\n",
              "      <th>loan</th>\n",
              "      <th>contact</th>\n",
              "      <th>day_of_week</th>\n",
              "      <th>campaign</th>\n",
              "      <th>pdays</th>\n",
              "      <th>previous</th>\n",
              "      <th>poutcome</th>\n",
              "      <th>emp.var.rate</th>\n",
              "      <th>cons.price.idx</th>\n",
              "      <th>cons.conf.idx</th>\n",
              "      <th>euribor3m</th>\n",
              "      <th>nr.employed</th>\n",
              "      <th>y</th>\n",
              "      <th>edu_new</th>\n",
              "      <th>job_new</th>\n",
              "      <th>season</th>\n",
              "    </tr>\n",
              "  </thead>\n",
              "  <tbody>\n",
              "    <tr>\n",
              "      <th>0</th>\n",
              "      <td>56</td>\n",
              "      <td>married</td>\n",
              "      <td>no</td>\n",
              "      <td>no</td>\n",
              "      <td>no</td>\n",
              "      <td>telephone</td>\n",
              "      <td>mon</td>\n",
              "      <td>1</td>\n",
              "      <td>999</td>\n",
              "      <td>0</td>\n",
              "      <td>nonexistent</td>\n",
              "      <td>1.1</td>\n",
              "      <td>93.994</td>\n",
              "      <td>-36.4</td>\n",
              "      <td>4.857</td>\n",
              "      <td>5191.0</td>\n",
              "      <td>no</td>\n",
              "      <td>pre_high</td>\n",
              "      <td>blue_collar</td>\n",
              "      <td>spring</td>\n",
              "    </tr>\n",
              "    <tr>\n",
              "      <th>1</th>\n",
              "      <td>57</td>\n",
              "      <td>married</td>\n",
              "      <td>unknown</td>\n",
              "      <td>no</td>\n",
              "      <td>no</td>\n",
              "      <td>telephone</td>\n",
              "      <td>mon</td>\n",
              "      <td>1</td>\n",
              "      <td>999</td>\n",
              "      <td>0</td>\n",
              "      <td>nonexistent</td>\n",
              "      <td>1.1</td>\n",
              "      <td>93.994</td>\n",
              "      <td>-36.4</td>\n",
              "      <td>4.857</td>\n",
              "      <td>5191.0</td>\n",
              "      <td>no</td>\n",
              "      <td>high</td>\n",
              "      <td>blue_collar</td>\n",
              "      <td>spring</td>\n",
              "    </tr>\n",
              "    <tr>\n",
              "      <th>2</th>\n",
              "      <td>37</td>\n",
              "      <td>married</td>\n",
              "      <td>no</td>\n",
              "      <td>yes</td>\n",
              "      <td>no</td>\n",
              "      <td>telephone</td>\n",
              "      <td>mon</td>\n",
              "      <td>1</td>\n",
              "      <td>999</td>\n",
              "      <td>0</td>\n",
              "      <td>nonexistent</td>\n",
              "      <td>1.1</td>\n",
              "      <td>93.994</td>\n",
              "      <td>-36.4</td>\n",
              "      <td>4.857</td>\n",
              "      <td>5191.0</td>\n",
              "      <td>no</td>\n",
              "      <td>high</td>\n",
              "      <td>blue_collar</td>\n",
              "      <td>spring</td>\n",
              "    </tr>\n",
              "    <tr>\n",
              "      <th>3</th>\n",
              "      <td>40</td>\n",
              "      <td>married</td>\n",
              "      <td>no</td>\n",
              "      <td>no</td>\n",
              "      <td>no</td>\n",
              "      <td>telephone</td>\n",
              "      <td>mon</td>\n",
              "      <td>1</td>\n",
              "      <td>999</td>\n",
              "      <td>0</td>\n",
              "      <td>nonexistent</td>\n",
              "      <td>1.1</td>\n",
              "      <td>93.994</td>\n",
              "      <td>-36.4</td>\n",
              "      <td>4.857</td>\n",
              "      <td>5191.0</td>\n",
              "      <td>no</td>\n",
              "      <td>pre_high</td>\n",
              "      <td>white_collar</td>\n",
              "      <td>spring</td>\n",
              "    </tr>\n",
              "    <tr>\n",
              "      <th>4</th>\n",
              "      <td>56</td>\n",
              "      <td>married</td>\n",
              "      <td>no</td>\n",
              "      <td>no</td>\n",
              "      <td>yes</td>\n",
              "      <td>telephone</td>\n",
              "      <td>mon</td>\n",
              "      <td>1</td>\n",
              "      <td>999</td>\n",
              "      <td>0</td>\n",
              "      <td>nonexistent</td>\n",
              "      <td>1.1</td>\n",
              "      <td>93.994</td>\n",
              "      <td>-36.4</td>\n",
              "      <td>4.857</td>\n",
              "      <td>5191.0</td>\n",
              "      <td>no</td>\n",
              "      <td>high</td>\n",
              "      <td>blue_collar</td>\n",
              "      <td>spring</td>\n",
              "    </tr>\n",
              "  </tbody>\n",
              "</table>\n",
              "</div>\n",
              "      <button class=\"colab-df-convert\" onclick=\"convertToInteractive('df-6ef223ec-1a98-4e34-94c9-0cef8b39ac38')\"\n",
              "              title=\"Convert this dataframe to an interactive table.\"\n",
              "              style=\"display:none;\">\n",
              "        \n",
              "  <svg xmlns=\"http://www.w3.org/2000/svg\" height=\"24px\"viewBox=\"0 0 24 24\"\n",
              "       width=\"24px\">\n",
              "    <path d=\"M0 0h24v24H0V0z\" fill=\"none\"/>\n",
              "    <path d=\"M18.56 5.44l.94 2.06.94-2.06 2.06-.94-2.06-.94-.94-2.06-.94 2.06-2.06.94zm-11 1L8.5 8.5l.94-2.06 2.06-.94-2.06-.94L8.5 2.5l-.94 2.06-2.06.94zm10 10l.94 2.06.94-2.06 2.06-.94-2.06-.94-.94-2.06-.94 2.06-2.06.94z\"/><path d=\"M17.41 7.96l-1.37-1.37c-.4-.4-.92-.59-1.43-.59-.52 0-1.04.2-1.43.59L10.3 9.45l-7.72 7.72c-.78.78-.78 2.05 0 2.83L4 21.41c.39.39.9.59 1.41.59.51 0 1.02-.2 1.41-.59l7.78-7.78 2.81-2.81c.8-.78.8-2.07 0-2.86zM5.41 20L4 18.59l7.72-7.72 1.47 1.35L5.41 20z\"/>\n",
              "  </svg>\n",
              "      </button>\n",
              "      \n",
              "  <style>\n",
              "    .colab-df-container {\n",
              "      display:flex;\n",
              "      flex-wrap:wrap;\n",
              "      gap: 12px;\n",
              "    }\n",
              "\n",
              "    .colab-df-convert {\n",
              "      background-color: #E8F0FE;\n",
              "      border: none;\n",
              "      border-radius: 50%;\n",
              "      cursor: pointer;\n",
              "      display: none;\n",
              "      fill: #1967D2;\n",
              "      height: 32px;\n",
              "      padding: 0 0 0 0;\n",
              "      width: 32px;\n",
              "    }\n",
              "\n",
              "    .colab-df-convert:hover {\n",
              "      background-color: #E2EBFA;\n",
              "      box-shadow: 0px 1px 2px rgba(60, 64, 67, 0.3), 0px 1px 3px 1px rgba(60, 64, 67, 0.15);\n",
              "      fill: #174EA6;\n",
              "    }\n",
              "\n",
              "    [theme=dark] .colab-df-convert {\n",
              "      background-color: #3B4455;\n",
              "      fill: #D2E3FC;\n",
              "    }\n",
              "\n",
              "    [theme=dark] .colab-df-convert:hover {\n",
              "      background-color: #434B5C;\n",
              "      box-shadow: 0px 1px 3px 1px rgba(0, 0, 0, 0.15);\n",
              "      filter: drop-shadow(0px 1px 2px rgba(0, 0, 0, 0.3));\n",
              "      fill: #FFFFFF;\n",
              "    }\n",
              "  </style>\n",
              "\n",
              "      <script>\n",
              "        const buttonEl =\n",
              "          document.querySelector('#df-6ef223ec-1a98-4e34-94c9-0cef8b39ac38 button.colab-df-convert');\n",
              "        buttonEl.style.display =\n",
              "          google.colab.kernel.accessAllowed ? 'block' : 'none';\n",
              "\n",
              "        async function convertToInteractive(key) {\n",
              "          const element = document.querySelector('#df-6ef223ec-1a98-4e34-94c9-0cef8b39ac38');\n",
              "          const dataTable =\n",
              "            await google.colab.kernel.invokeFunction('convertToInteractive',\n",
              "                                                     [key], {});\n",
              "          if (!dataTable) return;\n",
              "\n",
              "          const docLinkHtml = 'Like what you see? Visit the ' +\n",
              "            '<a target=\"_blank\" href=https://colab.research.google.com/notebooks/data_table.ipynb>data table notebook</a>'\n",
              "            + ' to learn more about interactive tables.';\n",
              "          element.innerHTML = '';\n",
              "          dataTable['output_type'] = 'display_data';\n",
              "          await google.colab.output.renderOutput(dataTable, element);\n",
              "          const docLink = document.createElement('div');\n",
              "          docLink.innerHTML = docLinkHtml;\n",
              "          element.appendChild(docLink);\n",
              "        }\n",
              "      </script>\n",
              "    </div>\n",
              "  </div>\n",
              "  "
            ]
          },
          "metadata": {},
          "execution_count": 11
        }
      ]
    },
    {
      "cell_type": "code",
      "source": [
        "y = df_tran_1['y'].apply(lambda x: 0 if x=='no' else (1 if x=='yes' else -1))\n",
        "y.value_counts()"
      ],
      "metadata": {
        "colab": {
          "base_uri": "https://localhost:8080/"
        },
        "id": "9C3ghJDEIJYU",
        "outputId": "0ff5c642-baf6-44a5-e4d5-45fee020c56a"
      },
      "execution_count": null,
      "outputs": [
        {
          "output_type": "execute_result",
          "data": {
            "text/plain": [
              "0    36534\n",
              "1     4636\n",
              "Name: y, dtype: int64"
            ]
          },
          "metadata": {},
          "execution_count": 12
        }
      ]
    },
    {
      "cell_type": "code",
      "source": [
        "x = df_tran_1.drop('y', axis=1)"
      ],
      "metadata": {
        "id": "8k4PWWzGIuaQ"
      },
      "execution_count": null,
      "outputs": []
    },
    {
      "cell_type": "code",
      "source": [
        "x['poutcome'].value_counts()"
      ],
      "metadata": {
        "colab": {
          "base_uri": "https://localhost:8080/"
        },
        "id": "ApfiMx_yV_GQ",
        "outputId": "c3768798-1914-4ae9-8072-78c700cf30c1"
      },
      "execution_count": null,
      "outputs": [
        {
          "output_type": "execute_result",
          "data": {
            "text/plain": [
              "nonexistent    35547\n",
              "failure         4251\n",
              "success         1372\n",
              "Name: poutcome, dtype: int64"
            ]
          },
          "metadata": {},
          "execution_count": 14
        }
      ]
    },
    {
      "cell_type": "code",
      "source": [
        "fig = plt.figure(figsize =(10, 7))\n",
        "plt.boxplot(x['pdays'])\n",
        "plt.show()"
      ],
      "metadata": {
        "colab": {
          "base_uri": "https://localhost:8080/",
          "height": 428
        },
        "id": "LTz7EIJ8WRqW",
        "outputId": "f770333e-38cb-4609-8ebf-4c90275b45b8"
      },
      "execution_count": null,
      "outputs": [
        {
          "output_type": "display_data",
          "data": {
            "text/plain": [
              "<Figure size 720x504 with 1 Axes>"
            ],
            "image/png": "[encoded data removed]"
          },
          "metadata": {
            "needs_background": "light"
          }
        }
      ]
    },
    {
      "cell_type": "code",
      "source": [
        "#since the neural network does work very well with sparse matrix, one hot encoding might be suitable, here i will test ordinal encoding\n",
        "\n",
        "x['housing'] = x['housing'].apply(lambda t: 0 if t =='no' else (1 if t=='yes' else -1))\n",
        "x['default'] = x['default'].apply(lambda t: 0 if t =='no' else (1 if t=='yes' else -1))\n",
        "\n",
        "#higher weight is assinged to success result of previous campaign\n",
        "x['poutcome'] = x['poutcome'].apply(lambda t: 0 if t=='failure' else (2 if t=='success' else 1))\n",
        "\n",
        "#the further it is from the date when the customer was contacted, the lower the value assigned\n",
        "x['pdays'] = x['pdays'].apply(lambda t: 0 if t==999 else (3 if t<=10 else (2 if t<= 20 else 1)))\n",
        "\n",
        "x['loan'] = x['loan'].apply(lambda t: 0 if t=='no' else (1 if t=='yes' else -1))\n",
        "\n",
        "x['contact'] = x['contact'].apply(lambda t: 0 if t=='telephone' else 1)\n",
        "x['marital'] = x['marital'].apply(lambda t: 1 if t=='married' else 0)\n",
        "\n",
        "x['edu_new'] = x['edu_new'].apply(lambda t: 3 if t=='post_high' else (2 if t=='high' else (1 if t=='pre_high' else 0)))\n",
        "x['season'] = x['edu_new'].apply(lambda t: 3 if t=='summer' else (2 if t=='spring' else (1 if t=='fall' else 0)))\n",
        "x['job_new'] = x['job_new'].apply(lambda t: 3 if t=='blue_collar' else (2 if t=='white_collar' else (1 if t=='not_working' else 0)))\n",
        "\n",
        "x.head()"
      ],
      "metadata": {
        "colab": {
          "base_uri": "https://localhost:8080/",
          "height": 206
        },
        "id": "H4k_fjhNHJPi",
        "outputId": "4fbf9d8f-11c2-44fc-919a-ff72a18e5802"
      },
      "execution_count": null,
      "outputs": [
        {
          "output_type": "execute_result",
          "data": {
            "text/plain": [
              "   age  marital  default  housing  loan  contact day_of_week  campaign  pdays  \\\n",
              "0   56        1        0        0     0        0         mon         1      0   \n",
              "1   57        1       -1        0     0        0         mon         1      0   \n",
              "2   37        1        0        1     0        0         mon         1      0   \n",
              "3   40        1        0        0     0        0         mon         1      0   \n",
              "4   56        1        0        0     1        0         mon         1      0   \n",
              "\n",
              "   previous  poutcome  emp.var.rate  cons.price.idx  cons.conf.idx  euribor3m  \\\n",
              "0         0         1           1.1          93.994          -36.4      4.857   \n",
              "1         0         1           1.1          93.994          -36.4      4.857   \n",
              "2         0         1           1.1          93.994          -36.4      4.857   \n",
              "3         0         1           1.1          93.994          -36.4      4.857   \n",
              "4         0         1           1.1          93.994          -36.4      4.857   \n",
              "\n",
              "   nr.employed  edu_new  job_new  season  \n",
              "0       5191.0        1        3       0  \n",
              "1       5191.0        2        3       0  \n",
              "2       5191.0        2        3       0  \n",
              "3       5191.0        1        2       0  \n",
              "4       5191.0        2        3       0  "
            ],
            "text/html": [
              "\n",
              "  <div id=\"df-a65eb19f-c960-4848-b852-657c1bc572dd\">\n",
              "    <div class=\"colab-df-container\">\n",
              "      <div>\n",
              "<style scoped>\n",
              "    .dataframe tbody tr th:only-of-type {\n",
              "        vertical-align: middle;\n",
              "    }\n",
              "\n",
              "    .dataframe tbody tr th {\n",
              "        vertical-align: top;\n",
              "    }\n",
              "\n",
              "    .dataframe thead th {\n",
              "        text-align: right;\n",
              "    }\n",
              "</style>\n",
              "<table border=\"1\" class=\"dataframe\">\n",
              "  <thead>\n",
              "    <tr style=\"text-align: right;\">\n",
              "      <th></th>\n",
              "      <th>age</th>\n",
              "      <th>marital</th>\n",
              "      <th>default</th>\n",
              "      <th>housing</th>\n",
              "      <th>loan</th>\n",
              "      <th>contact</th>\n",
              "      <th>day_of_week</th>\n",
              "      <th>campaign</th>\n",
              "      <th>pdays</th>\n",
              "      <th>previous</th>\n",
              "      <th>poutcome</th>\n",
              "      <th>emp.var.rate</th>\n",
              "      <th>cons.price.idx</th>\n",
              "      <th>cons.conf.idx</th>\n",
              "      <th>euribor3m</th>\n",
              "      <th>nr.employed</th>\n",
              "      <th>edu_new</th>\n",
              "      <th>job_new</th>\n",
              "      <th>season</th>\n",
              "    </tr>\n",
              "  </thead>\n",
              "  <tbody>\n",
              "    <tr>\n",
              "      <th>0</th>\n",
              "      <td>56</td>\n",
              "      <td>1</td>\n",
              "      <td>0</td>\n",
              "      <td>0</td>\n",
              "      <td>0</td>\n",
              "      <td>0</td>\n",
              "      <td>mon</td>\n",
              "      <td>1</td>\n",
              "      <td>0</td>\n",
              "      <td>0</td>\n",
              "      <td>1</td>\n",
              "      <td>1.1</td>\n",
              "      <td>93.994</td>\n",
              "      <td>-36.4</td>\n",
              "      <td>4.857</td>\n",
              "      <td>5191.0</td>\n",
              "      <td>1</td>\n",
              "      <td>3</td>\n",
              "      <td>0</td>\n",
              "    </tr>\n",
              "    <tr>\n",
              "      <th>1</th>\n",
              "      <td>57</td>\n",
              "      <td>1</td>\n",
              "      <td>-1</td>\n",
              "      <td>0</td>\n",
              "      <td>0</td>\n",
              "      <td>0</td>\n",
              "      <td>mon</td>\n",
              "      <td>1</td>\n",
              "      <td>0</td>\n",
              "      <td>0</td>\n",
              "      <td>1</td>\n",
              "      <td>1.1</td>\n",
              "      <td>93.994</td>\n",
              "      <td>-36.4</td>\n",
              "      <td>4.857</td>\n",
              "      <td>5191.0</td>\n",
              "      <td>2</td>\n",
              "      <td>3</td>\n",
              "      <td>0</td>\n",
              "    </tr>\n",
              "    <tr>\n",
              "      <th>2</th>\n",
              "      <td>37</td>\n",
              "      <td>1</td>\n",
              "      <td>0</td>\n",
              "      <td>1</td>\n",
              "      <td>0</td>\n",
              "      <td>0</td>\n",
              "      <td>mon</td>\n",
              "      <td>1</td>\n",
              "      <td>0</td>\n",
              "      <td>0</td>\n",
              "      <td>1</td>\n",
              "      <td>1.1</td>\n",
              "      <td>93.994</td>\n",
              "      <td>-36.4</td>\n",
              "      <td>4.857</td>\n",
              "      <td>5191.0</td>\n",
              "      <td>2</td>\n",
              "      <td>3</td>\n",
              "      <td>0</td>\n",
              "    </tr>\n",
              "    <tr>\n",
              "      <th>3</th>\n",
              "      <td>40</td>\n",
              "      <td>1</td>\n",
              "      <td>0</td>\n",
              "      <td>0</td>\n",
              "      <td>0</td>\n",
              "      <td>0</td>\n",
              "      <td>mon</td>\n",
              "      <td>1</td>\n",
              "      <td>0</td>\n",
              "      <td>0</td>\n",
              "      <td>1</td>\n",
              "      <td>1.1</td>\n",
              "      <td>93.994</td>\n",
              "      <td>-36.4</td>\n",
              "      <td>4.857</td>\n",
              "      <td>5191.0</td>\n",
              "      <td>1</td>\n",
              "      <td>2</td>\n",
              "      <td>0</td>\n",
              "    </tr>\n",
              "    <tr>\n",
              "      <th>4</th>\n",
              "      <td>56</td>\n",
              "      <td>1</td>\n",
              "      <td>0</td>\n",
              "      <td>0</td>\n",
              "      <td>1</td>\n",
              "      <td>0</td>\n",
              "      <td>mon</td>\n",
              "      <td>1</td>\n",
              "      <td>0</td>\n",
              "      <td>0</td>\n",
              "      <td>1</td>\n",
              "      <td>1.1</td>\n",
              "      <td>93.994</td>\n",
              "      <td>-36.4</td>\n",
              "      <td>4.857</td>\n",
              "      <td>5191.0</td>\n",
              "      <td>2</td>\n",
              "      <td>3</td>\n",
              "      <td>0</td>\n",
              "    </tr>\n",
              "  </tbody>\n",
              "</table>\n",
              "</div>\n",
              "      <button class=\"colab-df-convert\" onclick=\"convertToInteractive('df-a65eb19f-c960-4848-b852-657c1bc572dd')\"\n",
              "              title=\"Convert this dataframe to an interactive table.\"\n",
              "              style=\"display:none;\">\n",
              "        \n",
              "  <svg xmlns=\"http://www.w3.org/2000/svg\" height=\"24px\"viewBox=\"0 0 24 24\"\n",
              "       width=\"24px\">\n",
              "    <path d=\"M0 0h24v24H0V0z\" fill=\"none\"/>\n",
              "    <path d=\"M18.56 5.44l.94 2.06.94-2.06 2.06-.94-2.06-.94-.94-2.06-.94 2.06-2.06.94zm-11 1L8.5 8.5l.94-2.06 2.06-.94-2.06-.94L8.5 2.5l-.94 2.06-2.06.94zm10 10l.94 2.06.94-2.06 2.06-.94-2.06-.94-.94-2.06-.94 2.06-2.06.94z\"/><path d=\"M17.41 7.96l-1.37-1.37c-.4-.4-.92-.59-1.43-.59-.52 0-1.04.2-1.43.59L10.3 9.45l-7.72 7.72c-.78.78-.78 2.05 0 2.83L4 21.41c.39.39.9.59 1.41.59.51 0 1.02-.2 1.41-.59l7.78-7.78 2.81-2.81c.8-.78.8-2.07 0-2.86zM5.41 20L4 18.59l7.72-7.72 1.47 1.35L5.41 20z\"/>\n",
              "  </svg>\n",
              "      </button>\n",
              "      \n",
              "  <style>\n",
              "    .colab-df-container {\n",
              "      display:flex;\n",
              "      flex-wrap:wrap;\n",
              "      gap: 12px;\n",
              "    }\n",
              "\n",
              "    .colab-df-convert {\n",
              "      background-color: #E8F0FE;\n",
              "      border: none;\n",
              "      border-radius: 50%;\n",
              "      cursor: pointer;\n",
              "      display: none;\n",
              "      fill: #1967D2;\n",
              "      height: 32px;\n",
              "      padding: 0 0 0 0;\n",
              "      width: 32px;\n",
              "    }\n",
              "\n",
              "    .colab-df-convert:hover {\n",
              "      background-color: #E2EBFA;\n",
              "      box-shadow: 0px 1px 2px rgba(60, 64, 67, 0.3), 0px 1px 3px 1px rgba(60, 64, 67, 0.15);\n",
              "      fill: #174EA6;\n",
              "    }\n",
              "\n",
              "    [theme=dark] .colab-df-convert {\n",
              "      background-color: #3B4455;\n",
              "      fill: #D2E3FC;\n",
              "    }\n",
              "\n",
              "    [theme=dark] .colab-df-convert:hover {\n",
              "      background-color: #434B5C;\n",
              "      box-shadow: 0px 1px 3px 1px rgba(0, 0, 0, 0.15);\n",
              "      filter: drop-shadow(0px 1px 2px rgba(0, 0, 0, 0.3));\n",
              "      fill: #FFFFFF;\n",
              "    }\n",
              "  </style>\n",
              "\n",
              "      <script>\n",
              "        const buttonEl =\n",
              "          document.querySelector('#df-a65eb19f-c960-4848-b852-657c1bc572dd button.colab-df-convert');\n",
              "        buttonEl.style.display =\n",
              "          google.colab.kernel.accessAllowed ? 'block' : 'none';\n",
              "\n",
              "        async function convertToInteractive(key) {\n",
              "          const element = document.querySelector('#df-a65eb19f-c960-4848-b852-657c1bc572dd');\n",
              "          const dataTable =\n",
              "            await google.colab.kernel.invokeFunction('convertToInteractive',\n",
              "                                                     [key], {});\n",
              "          if (!dataTable) return;\n",
              "\n",
              "          const docLinkHtml = 'Like what you see? Visit the ' +\n",
              "            '<a target=\"_blank\" href=https://colab.research.google.com/notebooks/data_table.ipynb>data table notebook</a>'\n",
              "            + ' to learn more about interactive tables.';\n",
              "          element.innerHTML = '';\n",
              "          dataTable['output_type'] = 'display_data';\n",
              "          await google.colab.output.renderOutput(dataTable, element);\n",
              "          const docLink = document.createElement('div');\n",
              "          docLink.innerHTML = docLinkHtml;\n",
              "          element.appendChild(docLink);\n",
              "        }\n",
              "      </script>\n",
              "    </div>\n",
              "  </div>\n",
              "  "
            ]
          },
          "metadata": {},
          "execution_count": 16
        }
      ]
    },
    {
      "cell_type": "code",
      "source": [
        "x = x.drop(['day_of_week'], axis=1)"
      ],
      "metadata": {
        "id": "gq3rt2OsHrSS"
      },
      "execution_count": null,
      "outputs": []
    },
    {
      "cell_type": "markdown",
      "source": [
        "### Train-Test Split & Data Normalization"
      ],
      "metadata": {
        "id": "7ieyi_1SKBZX"
      }
    },
    {
      "cell_type": "code",
      "source": [
        "from sklearn.preprocessing import MinMaxScaler\n",
        "\n",
        "scaler = MinMaxScaler()\n",
        "x_mm = scaler.fit_transform(x)"
      ],
      "metadata": {
        "id": "Y6xc2akgNZCK"
      },
      "execution_count": null,
      "outputs": []
    },
    {
      "cell_type": "code",
      "source": [
        "#here i used stratified sampling approach, since the raw data is not balanced distributed\n",
        "x_train,x_test,y_train,y_test = train_test_split(x_mm, y, test_size = 0.2, stratify=y, random_state=42)\n",
        "print(x_train.shape,\n",
        "      x_test.shape,\n",
        "      y_train.shape,\n",
        "      y_test.shape)"
      ],
      "metadata": {
        "colab": {
          "base_uri": "https://localhost:8080/"
        },
        "id": "BrdyrKTrHrPd",
        "outputId": "f312ba62-62b1-444a-b17b-f62747c0c14c"
      },
      "execution_count": null,
      "outputs": [
        {
          "output_type": "stream",
          "name": "stdout",
          "text": [
            "(32936, 18) (8234, 18) (32936,) (8234,)\n"
          ]
        }
      ]
    },
    {
      "cell_type": "markdown",
      "source": [
        "### Balancing the data using SMOTE\n",
        "\n",
        "https://towardsdatascience.com/all-about-imbalanced-machine-learning-classifiers-60563014d2b3\n"
      ],
      "metadata": {
        "id": "7MQKTaWlzPA3"
      }
    },
    {
      "cell_type": "code",
      "source": [
        "pip install -U imbalanced-learn"
      ],
      "metadata": {
        "colab": {
          "base_uri": "https://localhost:8080/"
        },
        "id": "tbj26liCxuxL",
        "outputId": "2905e70c-f496-43e2-906c-9bcc328b9871"
      },
      "execution_count": null,
      "outputs": [
        {
          "output_type": "stream",
          "name": "stdout",
          "text": [
            "Looking in indexes: https://pypi.org/simple, https://us-python.pkg.dev/colab-wheels/public/simple/\n",
            "Requirement already satisfied: imbalanced-learn in /usr/local/lib/python3.7/dist-packages (0.9.0)\n",
            "Collecting imbalanced-learn\n",
            "  Using cached imbalanced_learn-0.9.1-py3-none-any.whl (199 kB)\n",
            "Requirement already satisfied: numpy>=1.17.3 in /usr/local/lib/python3.7/dist-packages (from imbalanced-learn) (1.21.6)\n",
            "Requirement already satisfied: threadpoolctl>=2.0.0 in /usr/local/lib/python3.7/dist-packages (from imbalanced-learn) (3.1.0)\n",
            "Requirement already satisfied: scipy>=1.3.2 in /usr/local/lib/python3.7/dist-packages (from imbalanced-learn) (1.7.3)\n",
            "Requirement already satisfied: joblib>=1.0.0 in /usr/local/lib/python3.7/dist-packages (from imbalanced-learn) (1.1.0)\n",
            "Requirement already satisfied: scikit-learn>=1.0.1 in /usr/local/lib/python3.7/dist-packages (from imbalanced-learn) (1.0.2)\n"
          ]
        }
      ]
    },
    {
      "cell_type": "code",
      "source": [
        "import imblearn\n",
        "\n",
        "smote = SMOTE()\n",
        "\n",
        "x_s, y_s = smote.fit_resample(x_train, y_train)\n",
        "\n",
        "print('Original dataset shape', len(x_train))\n",
        "print('Resampled dataset shape', len(x_s))"
      ],
      "metadata": {
        "colab": {
          "base_uri": "https://localhost:8080/"
        },
        "id": "oNyXi6IBxuum",
        "outputId": "b0fd3119-5a4e-4d75-ae01-c022a1a28595"
      },
      "execution_count": null,
      "outputs": [
        {
          "output_type": "stream",
          "name": "stdout",
          "text": [
            "Original dataset shape 32936\n",
            "Resampled dataset shape 58454\n"
          ]
        }
      ]
    },
    {
      "cell_type": "markdown",
      "source": [
        "### Baseline Model - Neural Network \n"
      ],
      "metadata": {
        "id": "bTJhsSl5N3Fl"
      }
    },
    {
      "cell_type": "code",
      "source": [
        "model = Sequential()\n",
        "model.add(Flatten(input_shape=( x_s.shape[1],)))\n",
        "model.add(Dense(units = 64, kernel_initializer = 'he_uniform',activation='relu'))\n",
        "model.add(Dense(units = 16, kernel_initializer = 'he_uniform',activation='relu', kernel_regularizer=tf.keras.regularizers.L2(0.01)))\n",
        "model.add(Dropout(0.2))\n",
        "model.add(Dense(units = 1, kernel_initializer = 'glorot_uniform', activation = 'sigmoid'))"
      ],
      "metadata": {
        "id": "ZfR0lfaFMZWW"
      },
      "execution_count": null,
      "outputs": []
    },
    {
      "cell_type": "markdown",
      "source": [
        "may need to revisit the kernel initialization and tweaking the model\n",
        "here is the reference:https://www.kaggle.com/code/trolukovich/glorot-vs-he-weight-initialization-experiment/notebook"
      ],
      "metadata": {
        "id": "N2hLHHLlUmD2"
      }
    },
    {
      "cell_type": "code",
      "source": [
        "model.compile(optimizer = 'adamax', loss = 'binary_crossentropy', metrics = [tf.keras.metrics.Precision()])\n",
        "model.summary()"
      ],
      "metadata": {
        "colab": {
          "base_uri": "https://localhost:8080/"
        },
        "id": "uhdkDf94U3Bp",
        "outputId": "6936f8a8-1147-409c-a02d-15c3b15d1b0e"
      },
      "execution_count": null,
      "outputs": [
        {
          "output_type": "stream",
          "name": "stdout",
          "text": [
            "Model: \"sequential\"\n",
            "_________________________________________________________________\n",
            " Layer (type)                Output Shape              Param #   \n",
            "=================================================================\n",
            " flatten (Flatten)           (None, 18)                0         \n",
            "                                                                 \n",
            " dense (Dense)               (None, 64)                1216      \n",
            "                                                                 \n",
            " dense_1 (Dense)             (None, 16)                1040      \n",
            "                                                                 \n",
            " dropout (Dropout)           (None, 16)                0         \n",
            "                                                                 \n",
            " dense_2 (Dense)             (None, 1)                 17        \n",
            "                                                                 \n",
            "=================================================================\n",
            "Total params: 2,273\n",
            "Trainable params: 2,273\n",
            "Non-trainable params: 0\n",
            "_________________________________________________________________\n"
          ]
        }
      ]
    },
    {
      "cell_type": "code",
      "source": [
        "keras.utils.plot_model(model, \"CIFAR10.png\", show_shapes=True) "
      ],
      "metadata": {
        "colab": {
          "base_uri": "https://localhost:8080/",
          "height": 644
        },
        "id": "dZ402MA8ERfX",
        "outputId": "8744f3a2-8dd1-4740-a919-25bc361a0675"
      },
      "execution_count": null,
      "outputs": [
        {
          "output_type": "execute_result",
          "data": {
            "text/plain": [
              "<IPython.core.display.Image object>"
            ],
            "image/png": "[encoded data removed]"
          },
          "metadata": {},
          "execution_count": 24
        }
      ]
    },
    {
      "cell_type": "code",
      "source": [
        "model_history = model.fit(x_s, y_s,validation_split=0.33, batch_size = 100, epochs = 100)"
      ],
      "metadata": {
        "colab": {
          "base_uri": "https://localhost:8080/"
        },
        "id": "ZP5G2rjdxurw",
        "outputId": "a445d91c-7947-4ba7-eb40-1d806c1c0f71"
      },
      "execution_count": null,
      "outputs": [
        {
          "output_type": "stream",
          "name": "stdout",
          "text": [
            "Epoch 1/100\n",
            "392/392 [==============================] - 2s 6ms/step - loss: 0.4767 - precision: 0.7198 - val_loss: 1.1111 - val_precision: 1.0000\n",
            "Epoch 2/100\n",
            "392/392 [==============================] - 2s 6ms/step - loss: 0.4727 - precision: 0.7136 - val_loss: 1.1110 - val_precision: 1.0000\n",
            "Epoch 3/100\n",
            "392/392 [==============================] - 1s 4ms/step - loss: 0.4683 - precision: 0.7106 - val_loss: 1.0345 - val_precision: 1.0000\n",
            "Epoch 4/100\n",
            "392/392 [==============================] - 1s 3ms/step - loss: 0.4656 - precision: 0.7186 - val_loss: 1.0442 - val_precision: 1.0000\n",
            "Epoch 5/100\n",
            "392/392 [==============================] - 1s 3ms/step - loss: 0.4633 - precision: 0.7093 - val_loss: 1.0678 - val_precision: 1.0000\n",
            "Epoch 6/100\n",
            "392/392 [==============================] - 1s 3ms/step - loss: 0.4618 - precision: 0.7111 - val_loss: 1.0685 - val_precision: 1.0000\n",
            "Epoch 7/100\n",
            "392/392 [==============================] - 1s 3ms/step - loss: 0.4609 - precision: 0.7111 - val_loss: 1.0744 - val_precision: 1.0000\n",
            "Epoch 8/100\n",
            "392/392 [==============================] - 1s 3ms/step - loss: 0.4603 - precision: 0.7128 - val_loss: 0.9922 - val_precision: 1.0000\n",
            "Epoch 9/100\n",
            "392/392 [==============================] - 1s 3ms/step - loss: 0.4592 - precision: 0.7160 - val_loss: 1.0696 - val_precision: 1.0000\n",
            "Epoch 10/100\n",
            "392/392 [==============================] - 1s 3ms/step - loss: 0.4571 - precision: 0.7126 - val_loss: 1.0642 - val_precision: 1.0000\n",
            "Epoch 11/100\n",
            "392/392 [==============================] - 1s 3ms/step - loss: 0.4582 - precision: 0.7086 - val_loss: 1.0564 - val_precision: 1.0000\n",
            "Epoch 12/100\n",
            "392/392 [==============================] - 1s 3ms/step - loss: 0.4567 - precision: 0.7122 - val_loss: 1.0118 - val_precision: 1.0000\n",
            "Epoch 13/100\n",
            "392/392 [==============================] - 1s 3ms/step - loss: 0.4561 - precision: 0.7124 - val_loss: 1.0477 - val_precision: 1.0000\n",
            "Epoch 14/100\n",
            "392/392 [==============================] - 1s 3ms/step - loss: 0.4568 - precision: 0.7133 - val_loss: 1.0597 - val_precision: 1.0000\n",
            "Epoch 15/100\n",
            "392/392 [==============================] - 1s 3ms/step - loss: 0.4549 - precision: 0.7135 - val_loss: 1.0486 - val_precision: 1.0000\n",
            "Epoch 16/100\n",
            "392/392 [==============================] - 1s 3ms/step - loss: 0.4548 - precision: 0.7101 - val_loss: 1.0504 - val_precision: 1.0000\n",
            "Epoch 17/100\n",
            "392/392 [==============================] - 1s 3ms/step - loss: 0.4545 - precision: 0.7121 - val_loss: 1.0357 - val_precision: 1.0000\n",
            "Epoch 18/100\n",
            "392/392 [==============================] - 1s 3ms/step - loss: 0.4536 - precision: 0.7105 - val_loss: 1.0281 - val_precision: 1.0000\n",
            "Epoch 19/100\n",
            "392/392 [==============================] - 1s 3ms/step - loss: 0.4540 - precision: 0.7152 - val_loss: 1.0770 - val_precision: 1.0000\n",
            "Epoch 20/100\n",
            "392/392 [==============================] - 1s 3ms/step - loss: 0.4530 - precision: 0.7115 - val_loss: 0.9948 - val_precision: 1.0000\n",
            "Epoch 21/100\n",
            "392/392 [==============================] - 1s 3ms/step - loss: 0.4541 - precision: 0.7104 - val_loss: 1.0670 - val_precision: 1.0000\n",
            "Epoch 22/100\n",
            "392/392 [==============================] - 1s 3ms/step - loss: 0.4527 - precision: 0.7124 - val_loss: 1.0475 - val_precision: 1.0000\n",
            "Epoch 23/100\n",
            "392/392 [==============================] - 1s 3ms/step - loss: 0.4535 - precision: 0.7142 - val_loss: 1.0344 - val_precision: 1.0000\n",
            "Epoch 24/100\n",
            "392/392 [==============================] - 1s 3ms/step - loss: 0.4521 - precision: 0.7140 - val_loss: 1.0904 - val_precision: 1.0000\n",
            "Epoch 25/100\n",
            "392/392 [==============================] - 1s 3ms/step - loss: 0.4520 - precision: 0.7127 - val_loss: 1.0349 - val_precision: 1.0000\n",
            "Epoch 26/100\n",
            "392/392 [==============================] - 1s 3ms/step - loss: 0.4525 - precision: 0.7152 - val_loss: 1.1076 - val_precision: 1.0000\n",
            "Epoch 27/100\n",
            "392/392 [==============================] - 1s 3ms/step - loss: 0.4513 - precision: 0.7141 - val_loss: 1.0759 - val_precision: 1.0000\n",
            "Epoch 28/100\n",
            "392/392 [==============================] - 1s 3ms/step - loss: 0.4522 - precision: 0.7136 - val_loss: 1.0524 - val_precision: 1.0000\n",
            "Epoch 29/100\n",
            "392/392 [==============================] - 1s 3ms/step - loss: 0.4528 - precision: 0.7072 - val_loss: 1.0782 - val_precision: 1.0000\n",
            "Epoch 30/100\n",
            "392/392 [==============================] - 1s 3ms/step - loss: 0.4521 - precision: 0.7097 - val_loss: 1.1025 - val_precision: 1.0000\n",
            "Epoch 31/100\n",
            "392/392 [==============================] - 1s 3ms/step - loss: 0.4513 - precision: 0.7127 - val_loss: 1.0692 - val_precision: 1.0000\n",
            "Epoch 32/100\n",
            "392/392 [==============================] - 1s 3ms/step - loss: 0.4509 - precision: 0.7133 - val_loss: 1.0300 - val_precision: 1.0000\n",
            "Epoch 33/100\n",
            "392/392 [==============================] - 1s 3ms/step - loss: 0.4507 - precision: 0.7129 - val_loss: 1.0122 - val_precision: 1.0000\n",
            "Epoch 34/100\n",
            "392/392 [==============================] - 1s 3ms/step - loss: 0.4506 - precision: 0.7113 - val_loss: 1.0819 - val_precision: 1.0000\n",
            "Epoch 35/100\n",
            "392/392 [==============================] - 1s 3ms/step - loss: 0.4513 - precision: 0.7111 - val_loss: 0.9761 - val_precision: 1.0000\n",
            "Epoch 36/100\n",
            "392/392 [==============================] - 1s 3ms/step - loss: 0.4510 - precision: 0.7095 - val_loss: 1.0530 - val_precision: 1.0000\n",
            "Epoch 37/100\n",
            "392/392 [==============================] - 1s 3ms/step - loss: 0.4504 - precision: 0.7144 - val_loss: 1.0008 - val_precision: 1.0000\n",
            "Epoch 38/100\n",
            "392/392 [==============================] - 1s 3ms/step - loss: 0.4504 - precision: 0.7168 - val_loss: 1.0413 - val_precision: 1.0000\n",
            "Epoch 39/100\n",
            "392/392 [==============================] - 1s 3ms/step - loss: 0.4496 - precision: 0.7108 - val_loss: 1.0157 - val_precision: 1.0000\n",
            "Epoch 40/100\n",
            "392/392 [==============================] - 1s 3ms/step - loss: 0.4499 - precision: 0.7137 - val_loss: 1.0944 - val_precision: 1.0000\n",
            "Epoch 41/100\n",
            "392/392 [==============================] - 1s 3ms/step - loss: 0.4500 - precision: 0.7136 - val_loss: 1.0494 - val_precision: 1.0000\n",
            "Epoch 42/100\n",
            "392/392 [==============================] - 1s 3ms/step - loss: 0.4498 - precision: 0.7176 - val_loss: 1.0910 - val_precision: 1.0000\n",
            "Epoch 43/100\n",
            "392/392 [==============================] - 1s 3ms/step - loss: 0.4502 - precision: 0.7172 - val_loss: 1.0646 - val_precision: 1.0000\n",
            "Epoch 44/100\n",
            "392/392 [==============================] - 1s 3ms/step - loss: 0.4495 - precision: 0.7136 - val_loss: 0.9949 - val_precision: 1.0000\n",
            "Epoch 45/100\n",
            "392/392 [==============================] - 1s 3ms/step - loss: 0.4504 - precision: 0.7150 - val_loss: 1.0486 - val_precision: 1.0000\n",
            "Epoch 46/100\n",
            "392/392 [==============================] - 1s 3ms/step - loss: 0.4484 - precision: 0.7142 - val_loss: 1.0213 - val_precision: 1.0000\n",
            "Epoch 47/100\n",
            "392/392 [==============================] - 1s 3ms/step - loss: 0.4498 - precision: 0.7164 - val_loss: 1.0567 - val_precision: 1.0000\n",
            "Epoch 48/100\n",
            "392/392 [==============================] - 1s 3ms/step - loss: 0.4491 - precision: 0.7130 - val_loss: 1.1090 - val_precision: 1.0000\n",
            "Epoch 49/100\n",
            "392/392 [==============================] - 1s 3ms/step - loss: 0.4491 - precision: 0.7143 - val_loss: 1.0219 - val_precision: 1.0000\n",
            "Epoch 50/100\n",
            "392/392 [==============================] - 1s 3ms/step - loss: 0.4489 - precision: 0.7178 - val_loss: 1.1287 - val_precision: 1.0000\n",
            "Epoch 51/100\n",
            "392/392 [==============================] - 1s 3ms/step - loss: 0.4486 - precision: 0.7180 - val_loss: 1.0732 - val_precision: 1.0000\n",
            "Epoch 52/100\n",
            "392/392 [==============================] - 1s 3ms/step - loss: 0.4496 - precision: 0.7145 - val_loss: 1.0245 - val_precision: 1.0000\n",
            "Epoch 53/100\n",
            "392/392 [==============================] - 1s 3ms/step - loss: 0.4490 - precision: 0.7160 - val_loss: 1.0416 - val_precision: 1.0000\n",
            "Epoch 54/100\n",
            "392/392 [==============================] - 1s 3ms/step - loss: 0.4483 - precision: 0.7178 - val_loss: 1.0439 - val_precision: 1.0000\n",
            "Epoch 55/100\n",
            "392/392 [==============================] - 1s 3ms/step - loss: 0.4481 - precision: 0.7160 - val_loss: 1.0855 - val_precision: 1.0000\n",
            "Epoch 56/100\n",
            "392/392 [==============================] - 1s 3ms/step - loss: 0.4488 - precision: 0.7175 - val_loss: 1.0699 - val_precision: 1.0000\n",
            "Epoch 57/100\n",
            "392/392 [==============================] - 1s 3ms/step - loss: 0.4487 - precision: 0.7184 - val_loss: 1.0270 - val_precision: 1.0000\n",
            "Epoch 58/100\n",
            "392/392 [==============================] - 1s 3ms/step - loss: 0.4483 - precision: 0.7201 - val_loss: 1.0842 - val_precision: 1.0000\n",
            "Epoch 59/100\n",
            "392/392 [==============================] - 1s 3ms/step - loss: 0.4479 - precision: 0.7177 - val_loss: 1.0141 - val_precision: 1.0000\n",
            "Epoch 60/100\n",
            "392/392 [==============================] - 1s 3ms/step - loss: 0.4485 - precision: 0.7180 - val_loss: 0.9820 - val_precision: 1.0000\n",
            "Epoch 61/100\n",
            "392/392 [==============================] - 1s 3ms/step - loss: 0.4480 - precision: 0.7173 - val_loss: 1.0983 - val_precision: 1.0000\n",
            "Epoch 62/100\n",
            "392/392 [==============================] - 1s 3ms/step - loss: 0.4475 - precision: 0.7237 - val_loss: 1.1152 - val_precision: 1.0000\n",
            "Epoch 63/100\n",
            "392/392 [==============================] - 1s 3ms/step - loss: 0.4472 - precision: 0.7155 - val_loss: 1.0474 - val_precision: 1.0000\n",
            "Epoch 64/100\n",
            "392/392 [==============================] - 1s 3ms/step - loss: 0.4481 - precision: 0.7199 - val_loss: 1.0337 - val_precision: 1.0000\n",
            "Epoch 65/100\n",
            "392/392 [==============================] - 1s 3ms/step - loss: 0.4479 - precision: 0.7200 - val_loss: 1.0743 - val_precision: 1.0000\n",
            "Epoch 66/100\n",
            "392/392 [==============================] - 1s 3ms/step - loss: 0.4478 - precision: 0.7179 - val_loss: 1.0131 - val_precision: 1.0000\n",
            "Epoch 67/100\n",
            "392/392 [==============================] - 1s 3ms/step - loss: 0.4476 - precision: 0.7192 - val_loss: 1.0474 - val_precision: 1.0000\n",
            "Epoch 68/100\n",
            "392/392 [==============================] - 1s 3ms/step - loss: 0.4472 - precision: 0.7154 - val_loss: 1.0616 - val_precision: 1.0000\n",
            "Epoch 69/100\n",
            "392/392 [==============================] - 1s 3ms/step - loss: 0.4472 - precision: 0.7178 - val_loss: 1.0830 - val_precision: 1.0000\n",
            "Epoch 70/100\n",
            "392/392 [==============================] - 1s 3ms/step - loss: 0.4476 - precision: 0.7178 - val_loss: 1.1291 - val_precision: 1.0000\n",
            "Epoch 71/100\n",
            "392/392 [==============================] - 1s 3ms/step - loss: 0.4472 - precision: 0.7184 - val_loss: 1.0519 - val_precision: 1.0000\n",
            "Epoch 72/100\n",
            "392/392 [==============================] - 1s 3ms/step - loss: 0.4470 - precision: 0.7178 - val_loss: 1.0138 - val_precision: 1.0000\n",
            "Epoch 73/100\n",
            "392/392 [==============================] - 1s 3ms/step - loss: 0.4467 - precision: 0.7210 - val_loss: 1.0268 - val_precision: 1.0000\n",
            "Epoch 74/100\n",
            "392/392 [==============================] - 1s 3ms/step - loss: 0.4473 - precision: 0.7140 - val_loss: 1.0319 - val_precision: 1.0000\n",
            "Epoch 75/100\n",
            "392/392 [==============================] - 1s 3ms/step - loss: 0.4463 - precision: 0.7211 - val_loss: 1.0227 - val_precision: 1.0000\n",
            "Epoch 76/100\n",
            "392/392 [==============================] - 1s 3ms/step - loss: 0.4470 - precision: 0.7212 - val_loss: 1.0436 - val_precision: 1.0000\n",
            "Epoch 77/100\n",
            "392/392 [==============================] - 1s 3ms/step - loss: 0.4463 - precision: 0.7163 - val_loss: 1.1012 - val_precision: 1.0000\n",
            "Epoch 78/100\n",
            "392/392 [==============================] - 1s 3ms/step - loss: 0.4467 - precision: 0.7156 - val_loss: 1.0052 - val_precision: 1.0000\n",
            "Epoch 79/100\n",
            "392/392 [==============================] - 1s 3ms/step - loss: 0.4463 - precision: 0.7199 - val_loss: 1.0540 - val_precision: 1.0000\n",
            "Epoch 80/100\n",
            "392/392 [==============================] - 1s 3ms/step - loss: 0.4464 - precision: 0.7197 - val_loss: 1.0494 - val_precision: 1.0000\n",
            "Epoch 81/100\n",
            "392/392 [==============================] - 1s 3ms/step - loss: 0.4459 - precision: 0.7149 - val_loss: 1.0577 - val_precision: 1.0000\n",
            "Epoch 82/100\n",
            "392/392 [==============================] - 1s 3ms/step - loss: 0.4457 - precision: 0.7182 - val_loss: 1.0409 - val_precision: 1.0000\n",
            "Epoch 83/100\n",
            "392/392 [==============================] - 1s 3ms/step - loss: 0.4462 - precision: 0.7159 - val_loss: 0.9880 - val_precision: 1.0000\n",
            "Epoch 84/100\n",
            "392/392 [==============================] - 1s 3ms/step - loss: 0.4469 - precision: 0.7152 - val_loss: 1.0580 - val_precision: 1.0000\n",
            "Epoch 85/100\n",
            "392/392 [==============================] - 1s 3ms/step - loss: 0.4455 - precision: 0.7204 - val_loss: 1.0829 - val_precision: 1.0000\n",
            "Epoch 86/100\n",
            "392/392 [==============================] - 1s 3ms/step - loss: 0.4465 - precision: 0.7157 - val_loss: 1.0528 - val_precision: 1.0000\n",
            "Epoch 87/100\n",
            "392/392 [==============================] - 1s 3ms/step - loss: 0.4459 - precision: 0.7152 - val_loss: 1.0905 - val_precision: 1.0000\n",
            "Epoch 88/100\n",
            "392/392 [==============================] - 1s 3ms/step - loss: 0.4456 - precision: 0.7186 - val_loss: 1.0787 - val_precision: 1.0000\n",
            "Epoch 89/100\n",
            "392/392 [==============================] - 1s 3ms/step - loss: 0.4455 - precision: 0.7161 - val_loss: 1.0116 - val_precision: 1.0000\n",
            "Epoch 90/100\n",
            "392/392 [==============================] - 2s 5ms/step - loss: 0.4453 - precision: 0.7171 - val_loss: 0.9783 - val_precision: 1.0000\n",
            "Epoch 91/100\n",
            "392/392 [==============================] - 1s 3ms/step - loss: 0.4462 - precision: 0.7184 - val_loss: 1.0598 - val_precision: 1.0000\n",
            "Epoch 92/100\n",
            "392/392 [==============================] - 2s 5ms/step - loss: 0.4448 - precision: 0.7163 - val_loss: 1.0448 - val_precision: 1.0000\n",
            "Epoch 93/100\n",
            "392/392 [==============================] - 1s 3ms/step - loss: 0.4447 - precision: 0.7193 - val_loss: 1.0081 - val_precision: 1.0000\n",
            "Epoch 94/100\n",
            "392/392 [==============================] - 1s 3ms/step - loss: 0.4453 - precision: 0.7165 - val_loss: 1.0225 - val_precision: 1.0000\n",
            "Epoch 95/100\n",
            "392/392 [==============================] - 1s 3ms/step - loss: 0.4450 - precision: 0.7189 - val_loss: 1.0559 - val_precision: 1.0000\n",
            "Epoch 96/100\n",
            "392/392 [==============================] - 1s 3ms/step - loss: 0.4445 - precision: 0.7167 - val_loss: 1.0858 - val_precision: 1.0000\n",
            "Epoch 97/100\n",
            "392/392 [==============================] - 1s 3ms/step - loss: 0.4447 - precision: 0.7190 - val_loss: 1.0415 - val_precision: 1.0000\n",
            "Epoch 98/100\n",
            "392/392 [==============================] - 1s 3ms/step - loss: 0.4452 - precision: 0.7200 - val_loss: 1.0055 - val_precision: 1.0000\n",
            "Epoch 99/100\n",
            "392/392 [==============================] - 1s 3ms/step - loss: 0.4439 - precision: 0.7232 - val_loss: 1.0831 - val_precision: 1.0000\n",
            "Epoch 100/100\n",
            "392/392 [==============================] - 1s 3ms/step - loss: 0.4453 - precision: 0.7176 - val_loss: 1.1066 - val_precision: 1.0000\n"
          ]
        }
      ]
    },
    {
      "cell_type": "code",
      "source": [
        "from sklearn.metrics import cohen_kappa_score,  average_precision_score\n",
        "\n",
        "\n",
        "# define functions for model performance evaluation\n",
        "def print_validation_report(y_test, predictions):\n",
        "    print(\"Classification Report\")\n",
        "    print(classification_report(y_test, predictions))\n",
        "    print('Accuracy Score: {}'.format(accuracy_score(y_test, predictions)))\n",
        "    print(\"Kappa- \", cohen_kappa_score(y_test, predictions))\n",
        "    print(\"F1- \", f1_score(y_test, predictions))\n",
        "    print(\"ROC_AUC_score- \", roc_auc_score(y_test, predictions))\n",
        "    print(\"PR AUC- \", average_precision_score(y_test, predictions))\n",
        "\n",
        "\n",
        "def plot_confusion_matrix(y_true, y_pred):\n",
        "    mtx = confusion_matrix(y_true, y_pred)\n",
        "    fig, ax = plt.subplots(figsize=(8,8))\n",
        "    sns.heatmap(mtx, annot=True, fmt='d', linewidths=.75,  cbar=False, ax=ax,cmap='Blues',linecolor='white')\n",
        "    #  square=True,\n",
        "    plt.ylabel('true label')\n",
        "    plt.xlabel('predicted label')\n",
        "\n",
        "def plot_curve(y_test, predictions):\n",
        "    fig, (ax1, ax2) = plt.subplots(1, 2, figsize=(13,5))\n",
        "    fig.tight_layout()\n",
        "    fpr, tpr, threshold = metrics.roc_curve(y_test, predictions)\n",
        "    roc_auc = metrics.auc(fpr, tpr)\n",
        "    ax1.set_title('Receiver Operating Characteristic')\n",
        "    ax1.plot(fpr, tpr, 'b', label = 'AUC = %0.2f' % roc_auc)\n",
        "    ax1.legend(loc = 'lower right')\n",
        "    ax1.plot([0, 1], [0, 1],'r--')\n",
        "    ax1.set_xlim([0, 1])\n",
        "    ax1.set_ylim([0, 1])\n",
        "    ax1.set_ylabel('True Positive Rate')\n",
        "    ax1.set_xlabel('False Positive Rate')\n",
        "\n",
        "    lr_precision, lr_recall, _ = metrics.precision_recall_curve(y_test, predictions)\n",
        "    ax2.set_title('Precision-Recall AUC Curve')\n",
        "    ax2.plot(lr_recall, lr_precision, marker='.')\n",
        "    ax2.set_xlabel('Recall')\n",
        "    ax2.set_ylabel('Precision')\n",
        "    ax2.set_xlim([0, 1])\n",
        "    ax2.set_ylim([0, 1])\n",
        "\n",
        "    plt.show()"
      ],
      "metadata": {
        "id": "8HWA6hOPiKvC"
      },
      "execution_count": 47,
      "outputs": []
    },
    {
      "cell_type": "markdown",
      "source": [
        "####Evaluate the model - threshold 0.5"
      ],
      "metadata": {
        "id": "r8loqGOsxw2X"
      }
    },
    {
      "cell_type": "code",
      "source": [
        "preds_50 = model.predict(x_test)\n",
        "preds_50 =  [1 if i>0.5 else 0 for i in preds_50]"
      ],
      "metadata": {
        "id": "LWB8jKmVho2n"
      },
      "execution_count": null,
      "outputs": []
    },
    {
      "cell_type": "code",
      "source": [
        "print_validation_report(y_test, preds_50)"
      ],
      "metadata": {
        "colab": {
          "base_uri": "https://localhost:8080/"
        },
        "id": "hhPj8BfYmhs5",
        "outputId": "e2bcd96d-8e47-4f9f-db28-397cd0fb44f1"
      },
      "execution_count": null,
      "outputs": [
        {
          "output_type": "stream",
          "name": "stdout",
          "text": [
            "Classification Report\n",
            "              precision    recall  f1-score   support\n",
            "\n",
            "           0       0.93      0.95      0.94      7307\n",
            "           1       0.52      0.41      0.46       927\n",
            "\n",
            "    accuracy                           0.89      8234\n",
            "   macro avg       0.72      0.68      0.70      8234\n",
            "weighted avg       0.88      0.89      0.89      8234\n",
            "\n",
            "Accuracy Score: 0.8913043478260869\n",
            "Kappa-  0.40162983631320903\n",
            "F1-  0.4611679711017459\n",
            "ROC_AUC_score-  0.6825623019052381\n",
            "PR AUC-  0.2816541201955417\n"
          ]
        }
      ]
    },
    {
      "cell_type": "code",
      "source": [
        "plot_confusion_matrix(y_test, preds_50)"
      ],
      "metadata": {
        "colab": {
          "base_uri": "https://localhost:8080/",
          "height": 497
        },
        "id": "OJltCiOAmvX7",
        "outputId": "4fa77bba-a84a-4cb2-88c4-b343a980a919"
      },
      "execution_count": null,
      "outputs": [
        {
          "output_type": "display_data",
          "data": {
            "text/plain": [
              "<Figure size 576x576 with 1 Axes>"
            ],
            "image/png": "[encoded data removed]"
          },
          "metadata": {
            "needs_background": "light"
          }
        }
      ]
    },
    {
      "cell_type": "code",
      "source": [
        "plot_curve(y_test, preds_50)"
      ],
      "metadata": {
        "colab": {
          "base_uri": "https://localhost:8080/",
          "height": 395
        },
        "id": "x0O8P7Z0p3ua",
        "outputId": "165f7775-cfc7-4020-8933-1233a8d8c58e"
      },
      "execution_count": null,
      "outputs": [
        {
          "output_type": "display_data",
          "data": {
            "text/plain": [
              "<Figure size 936x360 with 2 Axes>"
            ],
            "image/png": "[encoded data removed]"
          },
          "metadata": {
            "needs_background": "light"
          }
        }
      ]
    },
    {
      "cell_type": "markdown",
      "source": [
        "####Evaluate the model - threshold 0.7"
      ],
      "metadata": {
        "id": "nXOMAqqkx_XV"
      }
    },
    {
      "cell_type": "code",
      "source": [
        "preds_70 = model.predict(x_test)\n",
        "preds_70 =  [1 if i>0.7 else 0 for i in preds_70]"
      ],
      "metadata": {
        "id": "9VbtQGHPxgy3"
      },
      "execution_count": null,
      "outputs": []
    },
    {
      "cell_type": "code",
      "source": [
        "print_validation_report(y_test, preds_70)"
      ],
      "metadata": {
        "colab": {
          "base_uri": "https://localhost:8080/"
        },
        "outputId": "00a2f891-0f73-4827-b54f-bdce13e4ba4e",
        "id": "6FnnI5kWyKLC"
      },
      "execution_count": null,
      "outputs": [
        {
          "output_type": "stream",
          "name": "stdout",
          "text": [
            "Classification Report\n",
            "              precision    recall  f1-score   support\n",
            "\n",
            "           0       0.91      0.99      0.95      7307\n",
            "           1       0.69      0.23      0.34       927\n",
            "\n",
            "    accuracy                           0.90      8234\n",
            "   macro avg       0.80      0.61      0.64      8234\n",
            "weighted avg       0.89      0.90      0.88      8234\n",
            "\n",
            "Accuracy Score: 0.901505950935147\n",
            "Kappa-  0.301464547236842\n",
            "F1-  0.34011391375101707\n",
            "ROC_AUC_score-  0.6063654733111206\n",
            "PR AUC-  0.24322862184918198\n"
          ]
        }
      ]
    },
    {
      "cell_type": "code",
      "source": [
        "plot_confusion_matrix(y_test, preds_70)"
      ],
      "metadata": {
        "colab": {
          "base_uri": "https://localhost:8080/",
          "height": 497
        },
        "outputId": "670ff97f-cb22-46da-d5d2-7732044a72e6",
        "id": "IvZ5D_tLyKLC"
      },
      "execution_count": null,
      "outputs": [
        {
          "output_type": "display_data",
          "data": {
            "text/plain": [
              "<Figure size 576x576 with 1 Axes>"
            ],
            "image/png": "[encoded data removed]"
          },
          "metadata": {
            "needs_background": "light"
          }
        }
      ]
    },
    {
      "cell_type": "code",
      "source": [
        "plot_curve(y_test, preds_70)"
      ],
      "metadata": {
        "colab": {
          "base_uri": "https://localhost:8080/",
          "height": 395
        },
        "outputId": "bf7a14b6-c314-4f6c-d9b0-3da2fd81d04a",
        "id": "8bQWYmtZyKLC"
      },
      "execution_count": null,
      "outputs": [
        {
          "output_type": "display_data",
          "data": {
            "text/plain": [
              "<Figure size 936x360 with 2 Axes>"
            ],
            "image/png": "[encoded data removed]"
          },
          "metadata": {
            "needs_background": "light"
          }
        }
      ]
    },
    {
      "cell_type": "markdown",
      "source": [
        "####Evaluate the model - threshold 0.3"
      ],
      "metadata": {
        "id": "B3ci2rF-y2rv"
      }
    },
    {
      "cell_type": "code",
      "source": [
        "preds_30 = model.predict(x_test)\n",
        "preds_30 =  [1 if i>0.3 else 0 for i in preds_30]"
      ],
      "metadata": {
        "id": "JQV0vcF4yzDW"
      },
      "execution_count": null,
      "outputs": []
    },
    {
      "cell_type": "code",
      "source": [
        "print_validation_report(y_test, preds_30)"
      ],
      "metadata": {
        "colab": {
          "base_uri": "https://localhost:8080/"
        },
        "outputId": "c55d9b8e-f778-472c-c9c7-8b175671802b",
        "id": "QlvUZ8x-yzDW"
      },
      "execution_count": null,
      "outputs": [
        {
          "output_type": "stream",
          "name": "stdout",
          "text": [
            "Classification Report\n",
            "              precision    recall  f1-score   support\n",
            "\n",
            "           0       0.95      0.88      0.91      7307\n",
            "           1       0.40      0.60      0.48       927\n",
            "\n",
            "    accuracy                           0.85      8234\n",
            "   macro avg       0.67      0.74      0.70      8234\n",
            "weighted avg       0.88      0.85      0.87      8234\n",
            "\n",
            "Accuracy Score: 0.8531697838231722\n",
            "Kappa-  0.39949937500294075\n",
            "F1-  0.480893087161872\n",
            "ROC_AUC_score-  0.7444336377657398\n",
            "PR AUC-  0.2858662805947412\n"
          ]
        }
      ]
    },
    {
      "cell_type": "code",
      "source": [
        "plot_confusion_matrix(y_test, preds_30)"
      ],
      "metadata": {
        "colab": {
          "base_uri": "https://localhost:8080/",
          "height": 497
        },
        "outputId": "bebb0a73-5f8a-4ad9-8806-6532f8a78292",
        "id": "l7g6ILRkyzDW"
      },
      "execution_count": null,
      "outputs": [
        {
          "output_type": "display_data",
          "data": {
            "text/plain": [
              "<Figure size 576x576 with 1 Axes>"
            ],
            "image/png": "[encoded data removed]"
          },
          "metadata": {
            "needs_background": "light"
          }
        }
      ]
    },
    {
      "cell_type": "code",
      "source": [
        "plot_curve(y_test, preds_30)"
      ],
      "metadata": {
        "colab": {
          "base_uri": "https://localhost:8080/",
          "height": 395
        },
        "outputId": "858bed32-23e3-4815-8321-45b106cdc4ad",
        "id": "KRrK1QgUyzDW"
      },
      "execution_count": null,
      "outputs": [
        {
          "output_type": "display_data",
          "data": {
            "text/plain": [
              "<Figure size 936x360 with 2 Axes>"
            ],
            "image/png": "[encoded data removed]"
          },
          "metadata": {
            "needs_background": "light"
          }
        }
      ]
    },
    {
      "cell_type": "markdown",
      "source": [
        "### Use sklearn MLPClassifier for comparison purpose"
      ],
      "metadata": {
        "id": "x31SqejyozCR"
      }
    },
    {
      "cell_type": "code",
      "source": [
        "from sklearn.neural_network import MLPClassifier\n",
        "\n",
        "mlp = MLPClassifier(hidden_layer_sizes=(50,200,50), max_iter=300, activation='relu', solver='adam', random_state=1)\n",
        "mlp.fit(x_s, y_s)"
      ],
      "metadata": {
        "colab": {
          "base_uri": "https://localhost:8080/"
        },
        "id": "zuqpVjGqhuXt",
        "outputId": "baf582d8-ee0e-4088-ead6-54c3fd087878"
      },
      "execution_count": null,
      "outputs": [
        {
          "output_type": "execute_result",
          "data": {
            "text/plain": [
              "MLPClassifier(hidden_layer_sizes=(50, 200, 50), max_iter=300, random_state=1)"
            ]
          },
          "metadata": {},
          "execution_count": 56
        }
      ]
    },
    {
      "cell_type": "code",
      "source": [
        "preds_mlp_50 = mlp.predict(x_test)\n",
        "preds_mlp_50 =  [1 if i>0.5 else 0 for i in preds_mlp_50]"
      ],
      "metadata": {
        "id": "bTJz8_Wtnaiy"
      },
      "execution_count": null,
      "outputs": []
    },
    {
      "cell_type": "code",
      "source": [
        "print_validation_report(y_test, preds_mlp_50)"
      ],
      "metadata": {
        "colab": {
          "base_uri": "https://localhost:8080/"
        },
        "outputId": "9d297ae8-0139-425c-fb0f-fa4fc51080bc",
        "id": "tNCTl08q2TWw"
      },
      "execution_count": null,
      "outputs": [
        {
          "output_type": "stream",
          "name": "stdout",
          "text": [
            "Classification Report\n",
            "              precision    recall  f1-score   support\n",
            "\n",
            "           0       0.92      0.82      0.87      7307\n",
            "           1       0.25      0.47      0.33       927\n",
            "\n",
            "    accuracy                           0.78      8234\n",
            "   macro avg       0.59      0.65      0.60      8234\n",
            "weighted avg       0.85      0.78      0.81      8234\n",
            "\n",
            "Accuracy Score: 0.7839446198688366\n",
            "Kappa-  0.21165235580995168\n",
            "F1-  0.3269012485811578\n",
            "ROC_AUC_score-  0.6451487534894722\n",
            "PR AUC-  0.1774361633800711\n"
          ]
        }
      ]
    },
    {
      "cell_type": "code",
      "source": [
        "plot_confusion_matrix(y_test, preds_mlp_50)"
      ],
      "metadata": {
        "colab": {
          "base_uri": "https://localhost:8080/",
          "height": 497
        },
        "outputId": "14db3f76-4d3e-44df-841c-c3f9643864af",
        "id": "vpd01bcn2TWw"
      },
      "execution_count": null,
      "outputs": [
        {
          "output_type": "display_data",
          "data": {
            "text/plain": [
              "<Figure size 576x576 with 1 Axes>"
            ],
            "image/png": "[encoded data removed]"
          },
          "metadata": {
            "needs_background": "light"
          }
        }
      ]
    },
    {
      "cell_type": "code",
      "source": [
        "plot_curve(y_test, preds_mlp_50)"
      ],
      "metadata": {
        "colab": {
          "base_uri": "https://localhost:8080/",
          "height": 395
        },
        "outputId": "9067bc28-5735-477e-a5ee-fdacfbefd5ac",
        "id": "jCmaTBQs2TWw"
      },
      "execution_count": null,
      "outputs": [
        {
          "output_type": "display_data",
          "data": {
            "text/plain": [
              "<Figure size 936x360 with 2 Axes>"
            ],
            "image/png": "[encoded data removed]"
          },
          "metadata": {
            "needs_background": "light"
          }
        }
      ]
    },
    {
      "cell_type": "markdown",
      "source": [
        "### Different Approach to deal with imblanaced Data - Neural Network Model Balanced Weight "
      ],
      "metadata": {
        "id": "OeOOZoMD3MJQ"
      }
    },
    {
      "cell_type": "code",
      "source": [
        "#calculate weights using sklearn\n",
        "#sklearn has a built-in utility function compute_class_weight to calculate the class weights. The weights are calculated using the inverse proportion of class frequencies.\n",
        "\n",
        "from sklearn.utils import class_weight\n",
        "\n",
        "sklearn_weights = class_weight.compute_class_weight(class_weight ='balanced', \n",
        "                                                    classes = np.unique(y_train), \n",
        "                                                    y = y_train)\n",
        "sklearn_weights"
      ],
      "metadata": {
        "colab": {
          "base_uri": "https://localhost:8080/"
        },
        "id": "jFix2vBk4AlH",
        "outputId": "37c62863-1035-4d02-bda8-f2cb01555677"
      },
      "execution_count": null,
      "outputs": [
        {
          "output_type": "execute_result",
          "data": {
            "text/plain": [
              "array([0.5634516 , 4.44001078])"
            ]
          },
          "metadata": {},
          "execution_count": 74
        }
      ]
    },
    {
      "cell_type": "code",
      "source": [
        "#The computed weights from sklearn are in array format. We need to transform it into a dictionary because Keras takes a dictionary as inputs.\n",
        "sklearn_weights = dict(enumerate(sklearn_weights))\n",
        "sklearn_weights"
      ],
      "metadata": {
        "colab": {
          "base_uri": "https://localhost:8080/"
        },
        "id": "eYxAQJ3s5MCH",
        "outputId": "e8645153-3565-4384-f7d7-d9f374510d43"
      },
      "execution_count": null,
      "outputs": [
        {
          "output_type": "execute_result",
          "data": {
            "text/plain": [
              "{0: 0.5634516029698566, 1: 4.440010784578053}"
            ]
          },
          "metadata": {},
          "execution_count": 75
        }
      ]
    },
    {
      "cell_type": "code",
      "source": [
        "# use x_train, x_test are not oversampling with SMOTE\n",
        "#architecture remained same as baseline model\n",
        "\n",
        "model_w = Sequential()\n",
        "model_w.add(Flatten(input_shape=(x_train.shape[1],)))\n",
        "model_w.add(Dense(units = 64, kernel_initializer = 'he_uniform',activation='relu'))\n",
        "model_w.add(Dense(units = 16, kernel_initializer = 'he_uniform',activation='relu', kernel_regularizer=tf.keras.regularizers.L2(0.01)))\n",
        "model_w.add(Dropout(0.2))\n",
        "model_w.add(Dense(units = 1, kernel_initializer = 'glorot_uniform', activation = 'sigmoid'))"
      ],
      "metadata": {
        "id": "9GVrPSRO3CoS"
      },
      "execution_count": null,
      "outputs": []
    },
    {
      "cell_type": "code",
      "source": [
        "model_w.compile(optimizer = 'adamax', loss = 'binary_crossentropy', metrics = ['accuracy'])\n",
        "model_w.summary()"
      ],
      "metadata": {
        "colab": {
          "base_uri": "https://localhost:8080/"
        },
        "id": "NFqoMUqY6Hc9",
        "outputId": "dd0afc38-f9af-438c-fe85-60a3eaec3c46"
      },
      "execution_count": null,
      "outputs": [
        {
          "output_type": "stream",
          "name": "stdout",
          "text": [
            "Model: \"sequential_1\"\n",
            "_________________________________________________________________\n",
            " Layer (type)                Output Shape              Param #   \n",
            "=================================================================\n",
            " flatten_1 (Flatten)         (None, 18)                0         \n",
            "                                                                 \n",
            " dense_3 (Dense)             (None, 64)                1216      \n",
            "                                                                 \n",
            " dense_4 (Dense)             (None, 16)                1040      \n",
            "                                                                 \n",
            " dropout_1 (Dropout)         (None, 16)                0         \n",
            "                                                                 \n",
            " dense_5 (Dense)             (None, 1)                 17        \n",
            "                                                                 \n",
            "=================================================================\n",
            "Total params: 2,273\n",
            "Trainable params: 2,273\n",
            "Non-trainable params: 0\n",
            "_________________________________________________________________\n"
          ]
        }
      ]
    },
    {
      "cell_type": "code",
      "source": [
        "model_w_history = model_w.fit(x_train, y_train,validation_split=0.33, batch_size = 100, epochs = 100, class_weight=sklearn_weights)"
      ],
      "metadata": {
        "colab": {
          "base_uri": "https://localhost:8080/"
        },
        "id": "EIvx1_mR3vvb",
        "outputId": "00f2a5e1-4c47-4ce8-97e4-3db0bfdeb2bd"
      },
      "execution_count": null,
      "outputs": [
        {
          "output_type": "stream",
          "name": "stdout",
          "text": [
            "Epoch 1/100\n",
            "221/221 [==============================] - 1s 3ms/step - loss: 0.5562 - accuracy: 0.7976 - val_loss: 0.5393 - val_accuracy: 0.8000\n",
            "Epoch 2/100\n",
            "221/221 [==============================] - 1s 2ms/step - loss: 0.5526 - accuracy: 0.8025 - val_loss: 0.5447 - val_accuracy: 0.7950\n",
            "Epoch 3/100\n",
            "221/221 [==============================] - 0s 2ms/step - loss: 0.5540 - accuracy: 0.8020 - val_loss: 0.5177 - val_accuracy: 0.8195\n",
            "Epoch 4/100\n",
            "221/221 [==============================] - 0s 2ms/step - loss: 0.5546 - accuracy: 0.7994 - val_loss: 0.5486 - val_accuracy: 0.7928\n",
            "Epoch 5/100\n",
            "221/221 [==============================] - 0s 2ms/step - loss: 0.5539 - accuracy: 0.8000 - val_loss: 0.5326 - val_accuracy: 0.7999\n",
            "Epoch 6/100\n",
            "221/221 [==============================] - 0s 2ms/step - loss: 0.5555 - accuracy: 0.8002 - val_loss: 0.5444 - val_accuracy: 0.7965\n",
            "Epoch 7/100\n",
            "221/221 [==============================] - 0s 2ms/step - loss: 0.5526 - accuracy: 0.8031 - val_loss: 0.5400 - val_accuracy: 0.7964\n",
            "Epoch 8/100\n",
            "221/221 [==============================] - 0s 2ms/step - loss: 0.5533 - accuracy: 0.7989 - val_loss: 0.5159 - val_accuracy: 0.8197\n",
            "Epoch 9/100\n",
            "221/221 [==============================] - 1s 2ms/step - loss: 0.5551 - accuracy: 0.8032 - val_loss: 0.5479 - val_accuracy: 0.7896\n",
            "Epoch 10/100\n",
            "221/221 [==============================] - 0s 2ms/step - loss: 0.5542 - accuracy: 0.8041 - val_loss: 0.5454 - val_accuracy: 0.7849\n",
            "Epoch 11/100\n",
            "221/221 [==============================] - 0s 2ms/step - loss: 0.5537 - accuracy: 0.8003 - val_loss: 0.5468 - val_accuracy: 0.7969\n",
            "Epoch 12/100\n",
            "221/221 [==============================] - 0s 2ms/step - loss: 0.5537 - accuracy: 0.7998 - val_loss: 0.5016 - val_accuracy: 0.8238\n",
            "Epoch 13/100\n",
            "221/221 [==============================] - 1s 2ms/step - loss: 0.5527 - accuracy: 0.8049 - val_loss: 0.5073 - val_accuracy: 0.8130\n",
            "Epoch 14/100\n",
            "221/221 [==============================] - 0s 2ms/step - loss: 0.5538 - accuracy: 0.8023 - val_loss: 0.5613 - val_accuracy: 0.7892\n",
            "Epoch 15/100\n",
            "221/221 [==============================] - 1s 2ms/step - loss: 0.5539 - accuracy: 0.8011 - val_loss: 0.5371 - val_accuracy: 0.7961\n",
            "Epoch 16/100\n",
            "221/221 [==============================] - 0s 2ms/step - loss: 0.5523 - accuracy: 0.8041 - val_loss: 0.5505 - val_accuracy: 0.7864\n",
            "Epoch 17/100\n",
            "221/221 [==============================] - 1s 2ms/step - loss: 0.5535 - accuracy: 0.8037 - val_loss: 0.5393 - val_accuracy: 0.8047\n",
            "Epoch 18/100\n",
            "221/221 [==============================] - 0s 2ms/step - loss: 0.5511 - accuracy: 0.8010 - val_loss: 0.5481 - val_accuracy: 0.8003\n",
            "Epoch 19/100\n",
            "221/221 [==============================] - 1s 2ms/step - loss: 0.5521 - accuracy: 0.8027 - val_loss: 0.5697 - val_accuracy: 0.7841\n",
            "Epoch 20/100\n",
            "221/221 [==============================] - 0s 2ms/step - loss: 0.5519 - accuracy: 0.8063 - val_loss: 0.5389 - val_accuracy: 0.7941\n",
            "Epoch 21/100\n",
            "221/221 [==============================] - 1s 2ms/step - loss: 0.5531 - accuracy: 0.8010 - val_loss: 0.5137 - val_accuracy: 0.8198\n",
            "Epoch 22/100\n",
            "221/221 [==============================] - 0s 2ms/step - loss: 0.5532 - accuracy: 0.8042 - val_loss: 0.5419 - val_accuracy: 0.8048\n",
            "Epoch 23/100\n",
            "221/221 [==============================] - 0s 2ms/step - loss: 0.5529 - accuracy: 0.8043 - val_loss: 0.5495 - val_accuracy: 0.7873\n",
            "Epoch 24/100\n",
            "221/221 [==============================] - 0s 2ms/step - loss: 0.5524 - accuracy: 0.8045 - val_loss: 0.5664 - val_accuracy: 0.7845\n",
            "Epoch 25/100\n",
            "221/221 [==============================] - 0s 2ms/step - loss: 0.5521 - accuracy: 0.8053 - val_loss: 0.5333 - val_accuracy: 0.7969\n",
            "Epoch 26/100\n",
            "221/221 [==============================] - 1s 2ms/step - loss: 0.5529 - accuracy: 0.8031 - val_loss: 0.5287 - val_accuracy: 0.8107\n",
            "Epoch 27/100\n",
            "221/221 [==============================] - 0s 2ms/step - loss: 0.5521 - accuracy: 0.8045 - val_loss: 0.5821 - val_accuracy: 0.7733\n",
            "Epoch 28/100\n",
            "221/221 [==============================] - 0s 2ms/step - loss: 0.5501 - accuracy: 0.8041 - val_loss: 0.5190 - val_accuracy: 0.8134\n",
            "Epoch 29/100\n",
            "221/221 [==============================] - 1s 2ms/step - loss: 0.5515 - accuracy: 0.8046 - val_loss: 0.5285 - val_accuracy: 0.8025\n",
            "Epoch 30/100\n",
            "221/221 [==============================] - 0s 2ms/step - loss: 0.5519 - accuracy: 0.8055 - val_loss: 0.5489 - val_accuracy: 0.7935\n",
            "Epoch 31/100\n",
            "221/221 [==============================] - 0s 2ms/step - loss: 0.5510 - accuracy: 0.8075 - val_loss: 0.5418 - val_accuracy: 0.7936\n",
            "Epoch 32/100\n",
            "221/221 [==============================] - 0s 2ms/step - loss: 0.5497 - accuracy: 0.8041 - val_loss: 0.4992 - val_accuracy: 0.8355\n",
            "Epoch 33/100\n",
            "221/221 [==============================] - 0s 2ms/step - loss: 0.5497 - accuracy: 0.8078 - val_loss: 0.5247 - val_accuracy: 0.8165\n",
            "Epoch 34/100\n",
            "221/221 [==============================] - 0s 2ms/step - loss: 0.5511 - accuracy: 0.8046 - val_loss: 0.5014 - val_accuracy: 0.8224\n",
            "Epoch 35/100\n",
            "221/221 [==============================] - 1s 2ms/step - loss: 0.5518 - accuracy: 0.8050 - val_loss: 0.5422 - val_accuracy: 0.7997\n",
            "Epoch 36/100\n",
            "221/221 [==============================] - 0s 2ms/step - loss: 0.5513 - accuracy: 0.8095 - val_loss: 0.5460 - val_accuracy: 0.7902\n",
            "Epoch 37/100\n",
            "221/221 [==============================] - 0s 2ms/step - loss: 0.5510 - accuracy: 0.8038 - val_loss: 0.5192 - val_accuracy: 0.8161\n",
            "Epoch 38/100\n",
            "221/221 [==============================] - 1s 2ms/step - loss: 0.5495 - accuracy: 0.8057 - val_loss: 0.5364 - val_accuracy: 0.8019\n",
            "Epoch 39/100\n",
            "221/221 [==============================] - 0s 2ms/step - loss: 0.5499 - accuracy: 0.8042 - val_loss: 0.4879 - val_accuracy: 0.8383\n",
            "Epoch 40/100\n",
            "221/221 [==============================] - 0s 2ms/step - loss: 0.5521 - accuracy: 0.8056 - val_loss: 0.5158 - val_accuracy: 0.8258\n",
            "Epoch 41/100\n",
            "221/221 [==============================] - 1s 2ms/step - loss: 0.5501 - accuracy: 0.8105 - val_loss: 0.5577 - val_accuracy: 0.7890\n",
            "Epoch 42/100\n",
            "221/221 [==============================] - 1s 2ms/step - loss: 0.5518 - accuracy: 0.8084 - val_loss: 0.5150 - val_accuracy: 0.8153\n",
            "Epoch 43/100\n",
            "221/221 [==============================] - 0s 2ms/step - loss: 0.5513 - accuracy: 0.8067 - val_loss: 0.5571 - val_accuracy: 0.7929\n",
            "Epoch 44/100\n",
            "221/221 [==============================] - 1s 2ms/step - loss: 0.5507 - accuracy: 0.8091 - val_loss: 0.5386 - val_accuracy: 0.8060\n",
            "Epoch 45/100\n",
            "221/221 [==============================] - 0s 2ms/step - loss: 0.5497 - accuracy: 0.8073 - val_loss: 0.5383 - val_accuracy: 0.7960\n",
            "Epoch 46/100\n",
            "221/221 [==============================] - 0s 2ms/step - loss: 0.5492 - accuracy: 0.8054 - val_loss: 0.5155 - val_accuracy: 0.8184\n",
            "Epoch 47/100\n",
            "221/221 [==============================] - 0s 2ms/step - loss: 0.5492 - accuracy: 0.8081 - val_loss: 0.5650 - val_accuracy: 0.7853\n",
            "Epoch 48/100\n",
            "221/221 [==============================] - 0s 2ms/step - loss: 0.5496 - accuracy: 0.8059 - val_loss: 0.5723 - val_accuracy: 0.7885\n",
            "Epoch 49/100\n",
            "221/221 [==============================] - 0s 2ms/step - loss: 0.5498 - accuracy: 0.8065 - val_loss: 0.5441 - val_accuracy: 0.8052\n",
            "Epoch 50/100\n",
            "221/221 [==============================] - 0s 2ms/step - loss: 0.5487 - accuracy: 0.8107 - val_loss: 0.5353 - val_accuracy: 0.8067\n",
            "Epoch 51/100\n",
            "221/221 [==============================] - 0s 2ms/step - loss: 0.5501 - accuracy: 0.8069 - val_loss: 0.5377 - val_accuracy: 0.8019\n",
            "Epoch 52/100\n",
            "221/221 [==============================] - 0s 2ms/step - loss: 0.5481 - accuracy: 0.8080 - val_loss: 0.4889 - val_accuracy: 0.8322\n",
            "Epoch 53/100\n",
            "221/221 [==============================] - 0s 2ms/step - loss: 0.5499 - accuracy: 0.8064 - val_loss: 0.5196 - val_accuracy: 0.8188\n",
            "Epoch 54/100\n",
            "221/221 [==============================] - 0s 2ms/step - loss: 0.5518 - accuracy: 0.8098 - val_loss: 0.5152 - val_accuracy: 0.8198\n",
            "Epoch 55/100\n",
            "221/221 [==============================] - 0s 2ms/step - loss: 0.5487 - accuracy: 0.8050 - val_loss: 0.5264 - val_accuracy: 0.8146\n",
            "Epoch 56/100\n",
            "221/221 [==============================] - 0s 2ms/step - loss: 0.5491 - accuracy: 0.8114 - val_loss: 0.5212 - val_accuracy: 0.8090\n",
            "Epoch 57/100\n",
            "221/221 [==============================] - 0s 2ms/step - loss: 0.5475 - accuracy: 0.8080 - val_loss: 0.5112 - val_accuracy: 0.8141\n",
            "Epoch 58/100\n",
            "221/221 [==============================] - 0s 2ms/step - loss: 0.5507 - accuracy: 0.8096 - val_loss: 0.5351 - val_accuracy: 0.7992\n",
            "Epoch 59/100\n",
            "221/221 [==============================] - 0s 2ms/step - loss: 0.5497 - accuracy: 0.8080 - val_loss: 0.5602 - val_accuracy: 0.7919\n",
            "Epoch 60/100\n",
            "221/221 [==============================] - 0s 2ms/step - loss: 0.5490 - accuracy: 0.8068 - val_loss: 0.5076 - val_accuracy: 0.8262\n",
            "Epoch 61/100\n",
            "221/221 [==============================] - 0s 2ms/step - loss: 0.5483 - accuracy: 0.8118 - val_loss: 0.5251 - val_accuracy: 0.8066\n",
            "Epoch 62/100\n",
            "221/221 [==============================] - 0s 2ms/step - loss: 0.5504 - accuracy: 0.8072 - val_loss: 0.5033 - val_accuracy: 0.8296\n",
            "Epoch 63/100\n",
            "221/221 [==============================] - 0s 2ms/step - loss: 0.5482 - accuracy: 0.8113 - val_loss: 0.5553 - val_accuracy: 0.7957\n",
            "Epoch 64/100\n",
            "221/221 [==============================] - 0s 2ms/step - loss: 0.5494 - accuracy: 0.8091 - val_loss: 0.5576 - val_accuracy: 0.7949\n",
            "Epoch 65/100\n",
            "221/221 [==============================] - 0s 2ms/step - loss: 0.5486 - accuracy: 0.8091 - val_loss: 0.5407 - val_accuracy: 0.7976\n",
            "Epoch 66/100\n",
            "221/221 [==============================] - 0s 2ms/step - loss: 0.5475 - accuracy: 0.8091 - val_loss: 0.5353 - val_accuracy: 0.8087\n",
            "Epoch 67/100\n",
            "221/221 [==============================] - 1s 4ms/step - loss: 0.5478 - accuracy: 0.8083 - val_loss: 0.5491 - val_accuracy: 0.7973\n",
            "Epoch 68/100\n",
            "221/221 [==============================] - 0s 2ms/step - loss: 0.5490 - accuracy: 0.8121 - val_loss: 0.5523 - val_accuracy: 0.8016\n",
            "Epoch 69/100\n",
            "221/221 [==============================] - 0s 2ms/step - loss: 0.5493 - accuracy: 0.8104 - val_loss: 0.5467 - val_accuracy: 0.7982\n",
            "Epoch 70/100\n",
            "221/221 [==============================] - 0s 2ms/step - loss: 0.5472 - accuracy: 0.8064 - val_loss: 0.5241 - val_accuracy: 0.8092\n",
            "Epoch 71/100\n",
            "221/221 [==============================] - 0s 2ms/step - loss: 0.5483 - accuracy: 0.8093 - val_loss: 0.5211 - val_accuracy: 0.8087\n",
            "Epoch 72/100\n",
            "221/221 [==============================] - 0s 2ms/step - loss: 0.5492 - accuracy: 0.8108 - val_loss: 0.5308 - val_accuracy: 0.8116\n",
            "Epoch 73/100\n",
            "221/221 [==============================] - 0s 2ms/step - loss: 0.5475 - accuracy: 0.8087 - val_loss: 0.5767 - val_accuracy: 0.7811\n",
            "Epoch 74/100\n",
            "221/221 [==============================] - 1s 2ms/step - loss: 0.5468 - accuracy: 0.8107 - val_loss: 0.5296 - val_accuracy: 0.8052\n",
            "Epoch 75/100\n",
            "221/221 [==============================] - 1s 2ms/step - loss: 0.5470 - accuracy: 0.8089 - val_loss: 0.5302 - val_accuracy: 0.8114\n",
            "Epoch 76/100\n",
            "221/221 [==============================] - 1s 2ms/step - loss: 0.5486 - accuracy: 0.8081 - val_loss: 0.5383 - val_accuracy: 0.8026\n",
            "Epoch 77/100\n",
            "221/221 [==============================] - 1s 2ms/step - loss: 0.5487 - accuracy: 0.8114 - val_loss: 0.5398 - val_accuracy: 0.8015\n",
            "Epoch 78/100\n",
            "221/221 [==============================] - 0s 2ms/step - loss: 0.5483 - accuracy: 0.8095 - val_loss: 0.5376 - val_accuracy: 0.8011\n",
            "Epoch 79/100\n",
            "221/221 [==============================] - 0s 2ms/step - loss: 0.5472 - accuracy: 0.8097 - val_loss: 0.5220 - val_accuracy: 0.8159\n",
            "Epoch 80/100\n",
            "221/221 [==============================] - 0s 2ms/step - loss: 0.5480 - accuracy: 0.8092 - val_loss: 0.5405 - val_accuracy: 0.8107\n",
            "Epoch 81/100\n",
            "221/221 [==============================] - 0s 2ms/step - loss: 0.5478 - accuracy: 0.8086 - val_loss: 0.5021 - val_accuracy: 0.8280\n",
            "Epoch 82/100\n",
            "221/221 [==============================] - 0s 2ms/step - loss: 0.5490 - accuracy: 0.8110 - val_loss: 0.5094 - val_accuracy: 0.8189\n",
            "Epoch 83/100\n",
            "221/221 [==============================] - 0s 2ms/step - loss: 0.5461 - accuracy: 0.8115 - val_loss: 0.5623 - val_accuracy: 0.7923\n",
            "Epoch 84/100\n",
            "221/221 [==============================] - 0s 2ms/step - loss: 0.5486 - accuracy: 0.8091 - val_loss: 0.5477 - val_accuracy: 0.7992\n",
            "Epoch 85/100\n",
            "221/221 [==============================] - 0s 2ms/step - loss: 0.5462 - accuracy: 0.8096 - val_loss: 0.5289 - val_accuracy: 0.8128\n",
            "Epoch 86/100\n",
            "221/221 [==============================] - 0s 2ms/step - loss: 0.5476 - accuracy: 0.8138 - val_loss: 0.5317 - val_accuracy: 0.8087\n",
            "Epoch 87/100\n",
            "221/221 [==============================] - 0s 2ms/step - loss: 0.5475 - accuracy: 0.8119 - val_loss: 0.5130 - val_accuracy: 0.8242\n",
            "Epoch 88/100\n",
            "221/221 [==============================] - 0s 2ms/step - loss: 0.5465 - accuracy: 0.8119 - val_loss: 0.5129 - val_accuracy: 0.8205\n",
            "Epoch 89/100\n",
            "221/221 [==============================] - 0s 2ms/step - loss: 0.5471 - accuracy: 0.8113 - val_loss: 0.5168 - val_accuracy: 0.8232\n",
            "Epoch 90/100\n",
            "221/221 [==============================] - 0s 2ms/step - loss: 0.5473 - accuracy: 0.8131 - val_loss: 0.5356 - val_accuracy: 0.8024\n",
            "Epoch 91/100\n",
            "221/221 [==============================] - 0s 2ms/step - loss: 0.5461 - accuracy: 0.8125 - val_loss: 0.5374 - val_accuracy: 0.8043\n",
            "Epoch 92/100\n",
            "221/221 [==============================] - 0s 2ms/step - loss: 0.5456 - accuracy: 0.8134 - val_loss: 0.5669 - val_accuracy: 0.7839\n",
            "Epoch 93/100\n",
            "221/221 [==============================] - 1s 2ms/step - loss: 0.5474 - accuracy: 0.8079 - val_loss: 0.5396 - val_accuracy: 0.8049\n",
            "Epoch 94/100\n",
            "221/221 [==============================] - 0s 2ms/step - loss: 0.5463 - accuracy: 0.8133 - val_loss: 0.5369 - val_accuracy: 0.8016\n",
            "Epoch 95/100\n",
            "221/221 [==============================] - 0s 2ms/step - loss: 0.5466 - accuracy: 0.8106 - val_loss: 0.5571 - val_accuracy: 0.7985\n",
            "Epoch 96/100\n",
            "221/221 [==============================] - 0s 2ms/step - loss: 0.5456 - accuracy: 0.8107 - val_loss: 0.5072 - val_accuracy: 0.8177\n",
            "Epoch 97/100\n",
            "221/221 [==============================] - 0s 2ms/step - loss: 0.5462 - accuracy: 0.8117 - val_loss: 0.5425 - val_accuracy: 0.8028\n",
            "Epoch 98/100\n",
            "221/221 [==============================] - 0s 2ms/step - loss: 0.5463 - accuracy: 0.8112 - val_loss: 0.5143 - val_accuracy: 0.8165\n",
            "Epoch 99/100\n",
            "221/221 [==============================] - 0s 2ms/step - loss: 0.5470 - accuracy: 0.8123 - val_loss: 0.5387 - val_accuracy: 0.8125\n",
            "Epoch 100/100\n",
            "221/221 [==============================] - 0s 2ms/step - loss: 0.5471 - accuracy: 0.8132 - val_loss: 0.5368 - val_accuracy: 0.8064\n"
          ]
        }
      ]
    },
    {
      "cell_type": "code",
      "source": [
        "preds_w_50 = model_w.predict(x_test)\n",
        "preds_w_50 =  [1 if i>0.5 else 0 for i in preds_w_50]"
      ],
      "metadata": {
        "id": "PUcG1VWC6u18"
      },
      "execution_count": null,
      "outputs": []
    },
    {
      "cell_type": "code",
      "source": [
        "print_validation_report(y_test, preds_w_50)"
      ],
      "metadata": {
        "colab": {
          "base_uri": "https://localhost:8080/"
        },
        "outputId": "6dc2fb3e-0ecd-4b55-cf9c-89073404436a",
        "id": "L4431c9D6u2B"
      },
      "execution_count": null,
      "outputs": [
        {
          "output_type": "stream",
          "name": "stdout",
          "text": [
            "Classification Report\n",
            "              precision    recall  f1-score   support\n",
            "\n",
            "           0       0.95      0.83      0.89      7307\n",
            "           1       0.33      0.67      0.45       927\n",
            "\n",
            "    accuracy                           0.81      8234\n",
            "   macro avg       0.64      0.75      0.67      8234\n",
            "weighted avg       0.88      0.81      0.84      8234\n",
            "\n",
            "Accuracy Score: 0.8118775807626912\n",
            "Kappa-  0.34719688271029614\n",
            "F1-  0.44539921231650553\n",
            "ROC_AUC_score-  0.7503669767976768\n",
            "PR AUC-  0.2607020888560137\n"
          ]
        }
      ]
    },
    {
      "cell_type": "code",
      "source": [
        "plot_confusion_matrix(y_test, preds_w_50)"
      ],
      "metadata": {
        "colab": {
          "base_uri": "https://localhost:8080/",
          "height": 497
        },
        "outputId": "f4171f64-fd56-4728-9426-d467044fa947",
        "id": "abGSpntD6u2B"
      },
      "execution_count": null,
      "outputs": [
        {
          "output_type": "display_data",
          "data": {
            "text/plain": [
              "<Figure size 576x576 with 1 Axes>"
            ],
            "image/png": "[encoded data removed]"
          },
          "metadata": {
            "needs_background": "light"
          }
        }
      ]
    },
    {
      "cell_type": "code",
      "source": [
        "plot_curve(y_test, preds_w_50)"
      ],
      "metadata": {
        "colab": {
          "base_uri": "https://localhost:8080/",
          "height": 395
        },
        "outputId": "9088aa2c-bd4d-4230-cf16-6be8618443b9",
        "id": "_7OepCh66u2B"
      },
      "execution_count": null,
      "outputs": [
        {
          "output_type": "display_data",
          "data": {
            "text/plain": [
              "<Figure size 936x360 with 2 Axes>"
            ],
            "image/png": "[encoded data removed]"
          },
          "metadata": {
            "needs_background": "light"
          }
        }
      ]
    },
    {
      "cell_type": "markdown",
      "source": [
        "### Manual Balance Weight On Neural Network Model "
      ],
      "metadata": {
        "id": "hKl5URT-7OrY"
      }
    },
    {
      "cell_type": "code",
      "source": [
        "#instead using the weights calculated based on inverse proportion of class frequencies\n",
        "\n",
        "#we can use monetary value as penalty ratio\n",
        "# losing a true postive will lose $400\n",
        "# cost of playing a cold call to customer is $10\n",
        "\n",
        "manual_weights = {0: 1, 1: 40}"
      ],
      "metadata": {
        "id": "Nhgpqg7Q3vqN"
      },
      "execution_count": null,
      "outputs": []
    },
    {
      "cell_type": "code",
      "source": [
        "model_m = Sequential()\n",
        "model_m.add(Flatten(input_shape=(x_train.shape[1],)))\n",
        "model_m.add(Dense(units = 64, kernel_initializer = 'he_uniform',activation='relu'))\n",
        "model_m.add(Dense(units = 16, kernel_initializer = 'he_uniform',activation='relu', kernel_regularizer=tf.keras.regularizers.L2(0.01)))\n",
        "model_m.add(Dropout(0.2))\n",
        "model_m.add(Dense(units = 1, kernel_initializer = 'glorot_uniform', activation = 'sigmoid'))"
      ],
      "metadata": {
        "id": "9GrQyI5n7351"
      },
      "execution_count": null,
      "outputs": []
    },
    {
      "cell_type": "code",
      "source": [
        "model_m.compile(optimizer = 'adamax', loss = 'binary_crossentropy', metrics = ['accuracy'])\n",
        "model_m.summary()"
      ],
      "metadata": {
        "colab": {
          "base_uri": "https://localhost:8080/"
        },
        "id": "fIeprz-L75vQ",
        "outputId": "aaaf89d7-bc6b-4cf4-8199-3abe90896883"
      },
      "execution_count": null,
      "outputs": [
        {
          "output_type": "stream",
          "name": "stdout",
          "text": [
            "Model: \"sequential_2\"\n",
            "_________________________________________________________________\n",
            " Layer (type)                Output Shape              Param #   \n",
            "=================================================================\n",
            " flatten_2 (Flatten)         (None, 18)                0         \n",
            "                                                                 \n",
            " dense_6 (Dense)             (None, 64)                1216      \n",
            "                                                                 \n",
            " dense_7 (Dense)             (None, 16)                1040      \n",
            "                                                                 \n",
            " dropout_2 (Dropout)         (None, 16)                0         \n",
            "                                                                 \n",
            " dense_8 (Dense)             (None, 1)                 17        \n",
            "                                                                 \n",
            "=================================================================\n",
            "Total params: 2,273\n",
            "Trainable params: 2,273\n",
            "Non-trainable params: 0\n",
            "_________________________________________________________________\n"
          ]
        }
      ]
    },
    {
      "cell_type": "code",
      "source": [
        "model_m_history = model_m.fit(x_train, y_train,validation_split=0.33, batch_size = 100, epochs = 100, class_weight=manual_weights)"
      ],
      "metadata": {
        "colab": {
          "base_uri": "https://localhost:8080/"
        },
        "id": "yuJ-8uzo78RV",
        "outputId": "bd2a9ac4-c68c-471a-acd3-59c7eb1f3857"
      },
      "execution_count": null,
      "outputs": [
        {
          "output_type": "stream",
          "name": "stdout",
          "text": [
            "Epoch 1/100\n",
            "221/221 [==============================] - 1s 3ms/step - loss: 2.8676 - accuracy: 0.1538 - val_loss: 1.5370 - val_accuracy: 0.1132\n",
            "Epoch 2/100\n",
            "221/221 [==============================] - 1s 2ms/step - loss: 2.3872 - accuracy: 0.1297 - val_loss: 1.4711 - val_accuracy: 0.1138\n",
            "Epoch 3/100\n",
            "221/221 [==============================] - 1s 2ms/step - loss: 2.2936 - accuracy: 0.1282 - val_loss: 1.4523 - val_accuracy: 0.1136\n",
            "Epoch 4/100\n",
            "221/221 [==============================] - 0s 2ms/step - loss: 2.2561 - accuracy: 0.1243 - val_loss: 1.4256 - val_accuracy: 0.1132\n",
            "Epoch 5/100\n",
            "221/221 [==============================] - 0s 2ms/step - loss: 2.2196 - accuracy: 0.1165 - val_loss: 1.4476 - val_accuracy: 0.1132\n",
            "Epoch 6/100\n",
            "221/221 [==============================] - 0s 2ms/step - loss: 2.2013 - accuracy: 0.1133 - val_loss: 1.4017 - val_accuracy: 0.1132\n",
            "Epoch 7/100\n",
            "221/221 [==============================] - 0s 2ms/step - loss: 2.1895 - accuracy: 0.1128 - val_loss: 1.3761 - val_accuracy: 0.1132\n",
            "Epoch 8/100\n",
            "221/221 [==============================] - 1s 2ms/step - loss: 2.1663 - accuracy: 0.1127 - val_loss: 1.3766 - val_accuracy: 0.1132\n",
            "Epoch 9/100\n",
            "221/221 [==============================] - 0s 2ms/step - loss: 2.1598 - accuracy: 0.1125 - val_loss: 1.3969 - val_accuracy: 0.1132\n",
            "Epoch 10/100\n",
            "221/221 [==============================] - 1s 2ms/step - loss: 2.1462 - accuracy: 0.1124 - val_loss: 1.3407 - val_accuracy: 0.1132\n",
            "Epoch 11/100\n",
            "221/221 [==============================] - 1s 2ms/step - loss: 2.1457 - accuracy: 0.1125 - val_loss: 1.4186 - val_accuracy: 0.1132\n",
            "Epoch 12/100\n",
            "221/221 [==============================] - 1s 2ms/step - loss: 2.1317 - accuracy: 0.1125 - val_loss: 1.3034 - val_accuracy: 0.1132\n",
            "Epoch 13/100\n",
            "221/221 [==============================] - 0s 2ms/step - loss: 2.1259 - accuracy: 0.1125 - val_loss: 1.3761 - val_accuracy: 0.1132\n",
            "Epoch 14/100\n",
            "221/221 [==============================] - 0s 2ms/step - loss: 2.1204 - accuracy: 0.1123 - val_loss: 1.3314 - val_accuracy: 0.1132\n",
            "Epoch 15/100\n",
            "221/221 [==============================] - 1s 2ms/step - loss: 2.1063 - accuracy: 0.1125 - val_loss: 1.3195 - val_accuracy: 0.1132\n",
            "Epoch 16/100\n",
            "221/221 [==============================] - 0s 2ms/step - loss: 2.1018 - accuracy: 0.1125 - val_loss: 1.3232 - val_accuracy: 0.1132\n",
            "Epoch 17/100\n",
            "221/221 [==============================] - 0s 2ms/step - loss: 2.0978 - accuracy: 0.1124 - val_loss: 1.3340 - val_accuracy: 0.1132\n",
            "Epoch 18/100\n",
            "221/221 [==============================] - 0s 2ms/step - loss: 2.0896 - accuracy: 0.1131 - val_loss: 1.3373 - val_accuracy: 0.1132\n",
            "Epoch 19/100\n",
            "221/221 [==============================] - 1s 2ms/step - loss: 2.0926 - accuracy: 0.1134 - val_loss: 1.3560 - val_accuracy: 0.1132\n",
            "Epoch 20/100\n",
            "221/221 [==============================] - 1s 2ms/step - loss: 2.0883 - accuracy: 0.1132 - val_loss: 1.3153 - val_accuracy: 0.1132\n",
            "Epoch 21/100\n",
            "221/221 [==============================] - 1s 2ms/step - loss: 2.0927 - accuracy: 0.1127 - val_loss: 1.3373 - val_accuracy: 0.1132\n",
            "Epoch 22/100\n",
            "221/221 [==============================] - 0s 2ms/step - loss: 2.0811 - accuracy: 0.1126 - val_loss: 1.3030 - val_accuracy: 0.1133\n",
            "Epoch 23/100\n",
            "221/221 [==============================] - 0s 2ms/step - loss: 2.0811 - accuracy: 0.1131 - val_loss: 1.3354 - val_accuracy: 0.1132\n",
            "Epoch 24/100\n",
            "221/221 [==============================] - 0s 2ms/step - loss: 2.0715 - accuracy: 0.1135 - val_loss: 1.3527 - val_accuracy: 0.1132\n",
            "Epoch 25/100\n",
            "221/221 [==============================] - 0s 2ms/step - loss: 2.0725 - accuracy: 0.1129 - val_loss: 1.3397 - val_accuracy: 0.1132\n",
            "Epoch 26/100\n",
            "221/221 [==============================] - 0s 2ms/step - loss: 2.0667 - accuracy: 0.1127 - val_loss: 1.2486 - val_accuracy: 0.1133\n",
            "Epoch 27/100\n",
            "221/221 [==============================] - 0s 2ms/step - loss: 2.0704 - accuracy: 0.1133 - val_loss: 1.3195 - val_accuracy: 0.1132\n",
            "Epoch 28/100\n",
            "221/221 [==============================] - 0s 2ms/step - loss: 2.0703 - accuracy: 0.1131 - val_loss: 1.3099 - val_accuracy: 0.1132\n",
            "Epoch 29/100\n",
            "221/221 [==============================] - 1s 2ms/step - loss: 2.0653 - accuracy: 0.1128 - val_loss: 1.2952 - val_accuracy: 0.1132\n",
            "Epoch 30/100\n",
            "221/221 [==============================] - 0s 2ms/step - loss: 2.0610 - accuracy: 0.1130 - val_loss: 1.3425 - val_accuracy: 0.1132\n",
            "Epoch 31/100\n",
            "221/221 [==============================] - 1s 2ms/step - loss: 2.0679 - accuracy: 0.1141 - val_loss: 1.2940 - val_accuracy: 0.1132\n",
            "Epoch 32/100\n",
            "221/221 [==============================] - 0s 2ms/step - loss: 2.0651 - accuracy: 0.1133 - val_loss: 1.3025 - val_accuracy: 0.1132\n",
            "Epoch 33/100\n",
            "221/221 [==============================] - 1s 2ms/step - loss: 2.0655 - accuracy: 0.1129 - val_loss: 1.2696 - val_accuracy: 0.1135\n",
            "Epoch 34/100\n",
            "221/221 [==============================] - 0s 2ms/step - loss: 2.0568 - accuracy: 0.1129 - val_loss: 1.2314 - val_accuracy: 0.1140\n",
            "Epoch 35/100\n",
            "221/221 [==============================] - 0s 2ms/step - loss: 2.0576 - accuracy: 0.1137 - val_loss: 1.3199 - val_accuracy: 0.1133\n",
            "Epoch 36/100\n",
            "221/221 [==============================] - 0s 2ms/step - loss: 2.0595 - accuracy: 0.1149 - val_loss: 1.2863 - val_accuracy: 0.1132\n",
            "Epoch 37/100\n",
            "221/221 [==============================] - 0s 2ms/step - loss: 2.0608 - accuracy: 0.1135 - val_loss: 1.2750 - val_accuracy: 0.1132\n",
            "Epoch 38/100\n",
            "221/221 [==============================] - 1s 2ms/step - loss: 2.0456 - accuracy: 0.1129 - val_loss: 1.2874 - val_accuracy: 0.1133\n",
            "Epoch 39/100\n",
            "221/221 [==============================] - 1s 2ms/step - loss: 2.0472 - accuracy: 0.1138 - val_loss: 1.3232 - val_accuracy: 0.1132\n",
            "Epoch 40/100\n",
            "221/221 [==============================] - 0s 2ms/step - loss: 2.0509 - accuracy: 0.1129 - val_loss: 1.3074 - val_accuracy: 0.1132\n",
            "Epoch 41/100\n",
            "221/221 [==============================] - 0s 2ms/step - loss: 2.0497 - accuracy: 0.1129 - val_loss: 1.2751 - val_accuracy: 0.1132\n",
            "Epoch 42/100\n",
            "221/221 [==============================] - 1s 2ms/step - loss: 2.0533 - accuracy: 0.1132 - val_loss: 1.3019 - val_accuracy: 0.1133\n",
            "Epoch 43/100\n",
            "221/221 [==============================] - 0s 2ms/step - loss: 2.0457 - accuracy: 0.1140 - val_loss: 1.3208 - val_accuracy: 0.1132\n",
            "Epoch 44/100\n",
            "221/221 [==============================] - 0s 2ms/step - loss: 2.0435 - accuracy: 0.1145 - val_loss: 1.3749 - val_accuracy: 0.1132\n",
            "Epoch 45/100\n",
            "221/221 [==============================] - 1s 2ms/step - loss: 2.0417 - accuracy: 0.1137 - val_loss: 1.3205 - val_accuracy: 0.1132\n",
            "Epoch 46/100\n",
            "221/221 [==============================] - 0s 2ms/step - loss: 2.0396 - accuracy: 0.1138 - val_loss: 1.3351 - val_accuracy: 0.1132\n",
            "Epoch 47/100\n",
            "221/221 [==============================] - 1s 2ms/step - loss: 2.0455 - accuracy: 0.1138 - val_loss: 1.3123 - val_accuracy: 0.1132\n",
            "Epoch 48/100\n",
            "221/221 [==============================] - 0s 2ms/step - loss: 2.0443 - accuracy: 0.1131 - val_loss: 1.2952 - val_accuracy: 0.1133\n",
            "Epoch 49/100\n",
            "221/221 [==============================] - 1s 2ms/step - loss: 2.0345 - accuracy: 0.1134 - val_loss: 1.2541 - val_accuracy: 0.1134\n",
            "Epoch 50/100\n",
            "221/221 [==============================] - 1s 2ms/step - loss: 2.0415 - accuracy: 0.1147 - val_loss: 1.2540 - val_accuracy: 0.1139\n",
            "Epoch 51/100\n",
            "221/221 [==============================] - 0s 2ms/step - loss: 2.0409 - accuracy: 0.1144 - val_loss: 1.3313 - val_accuracy: 0.1132\n",
            "Epoch 52/100\n",
            "221/221 [==============================] - 0s 2ms/step - loss: 2.0330 - accuracy: 0.1135 - val_loss: 1.3328 - val_accuracy: 0.1132\n",
            "Epoch 53/100\n",
            "221/221 [==============================] - 0s 2ms/step - loss: 2.0303 - accuracy: 0.1140 - val_loss: 1.3151 - val_accuracy: 0.1132\n",
            "Epoch 54/100\n",
            "221/221 [==============================] - 0s 2ms/step - loss: 2.0380 - accuracy: 0.1129 - val_loss: 1.2814 - val_accuracy: 0.1135\n",
            "Epoch 55/100\n",
            "221/221 [==============================] - 1s 2ms/step - loss: 2.0360 - accuracy: 0.1132 - val_loss: 1.2689 - val_accuracy: 0.1132\n",
            "Epoch 56/100\n",
            "221/221 [==============================] - 0s 2ms/step - loss: 2.0340 - accuracy: 0.1144 - val_loss: 1.2286 - val_accuracy: 0.1134\n",
            "Epoch 57/100\n",
            "221/221 [==============================] - 0s 2ms/step - loss: 2.0327 - accuracy: 0.1145 - val_loss: 1.3232 - val_accuracy: 0.1132\n",
            "Epoch 58/100\n",
            "221/221 [==============================] - 0s 2ms/step - loss: 2.0315 - accuracy: 0.1131 - val_loss: 1.2712 - val_accuracy: 0.1134\n",
            "Epoch 59/100\n",
            "221/221 [==============================] - 1s 2ms/step - loss: 2.0352 - accuracy: 0.1155 - val_loss: 1.2638 - val_accuracy: 0.1132\n",
            "Epoch 60/100\n",
            "221/221 [==============================] - 1s 2ms/step - loss: 2.0319 - accuracy: 0.1132 - val_loss: 1.2115 - val_accuracy: 0.1135\n",
            "Epoch 61/100\n",
            "221/221 [==============================] - 1s 2ms/step - loss: 2.0402 - accuracy: 0.1126 - val_loss: 1.2871 - val_accuracy: 0.1132\n",
            "Epoch 62/100\n",
            "221/221 [==============================] - 0s 2ms/step - loss: 2.0309 - accuracy: 0.1140 - val_loss: 1.2811 - val_accuracy: 0.1135\n",
            "Epoch 63/100\n",
            "221/221 [==============================] - 0s 2ms/step - loss: 2.0321 - accuracy: 0.1144 - val_loss: 1.3017 - val_accuracy: 0.1132\n",
            "Epoch 64/100\n",
            "221/221 [==============================] - 0s 2ms/step - loss: 2.0332 - accuracy: 0.1131 - val_loss: 1.2945 - val_accuracy: 0.1133\n",
            "Epoch 65/100\n",
            "221/221 [==============================] - 0s 2ms/step - loss: 2.0281 - accuracy: 0.1147 - val_loss: 1.2888 - val_accuracy: 0.1134\n",
            "Epoch 66/100\n",
            "221/221 [==============================] - 1s 2ms/step - loss: 2.0328 - accuracy: 0.1135 - val_loss: 1.2151 - val_accuracy: 0.1135\n",
            "Epoch 67/100\n",
            "221/221 [==============================] - 0s 2ms/step - loss: 2.0267 - accuracy: 0.1156 - val_loss: 1.2680 - val_accuracy: 0.1132\n",
            "Epoch 68/100\n",
            "221/221 [==============================] - 0s 2ms/step - loss: 2.0246 - accuracy: 0.1133 - val_loss: 1.2548 - val_accuracy: 0.1133\n",
            "Epoch 69/100\n",
            "221/221 [==============================] - 0s 2ms/step - loss: 2.0253 - accuracy: 0.1141 - val_loss: 1.3241 - val_accuracy: 0.1132\n",
            "Epoch 70/100\n",
            "221/221 [==============================] - 1s 2ms/step - loss: 2.0227 - accuracy: 0.1137 - val_loss: 1.2400 - val_accuracy: 0.1142\n",
            "Epoch 71/100\n",
            "221/221 [==============================] - 1s 2ms/step - loss: 2.0274 - accuracy: 0.1140 - val_loss: 1.2991 - val_accuracy: 0.1132\n",
            "Epoch 72/100\n",
            "221/221 [==============================] - 1s 2ms/step - loss: 2.0257 - accuracy: 0.1132 - val_loss: 1.2937 - val_accuracy: 0.1132\n",
            "Epoch 73/100\n",
            "221/221 [==============================] - 0s 2ms/step - loss: 2.0224 - accuracy: 0.1132 - val_loss: 1.2848 - val_accuracy: 0.1132\n",
            "Epoch 74/100\n",
            "221/221 [==============================] - 0s 2ms/step - loss: 2.0247 - accuracy: 0.1135 - val_loss: 1.2352 - val_accuracy: 0.1139\n",
            "Epoch 75/100\n",
            "221/221 [==============================] - 0s 2ms/step - loss: 2.0277 - accuracy: 0.1143 - val_loss: 1.2583 - val_accuracy: 0.1138\n",
            "Epoch 76/100\n",
            "221/221 [==============================] - 0s 2ms/step - loss: 2.0205 - accuracy: 0.1147 - val_loss: 1.1927 - val_accuracy: 0.1210\n",
            "Epoch 77/100\n",
            "221/221 [==============================] - 0s 2ms/step - loss: 2.0242 - accuracy: 0.1194 - val_loss: 1.2607 - val_accuracy: 0.1132\n",
            "Epoch 78/100\n",
            "221/221 [==============================] - 0s 2ms/step - loss: 2.0215 - accuracy: 0.1135 - val_loss: 1.2239 - val_accuracy: 0.1137\n",
            "Epoch 79/100\n",
            "221/221 [==============================] - 0s 2ms/step - loss: 2.0213 - accuracy: 0.1173 - val_loss: 1.2672 - val_accuracy: 0.1133\n",
            "Epoch 80/100\n",
            "221/221 [==============================] - 1s 2ms/step - loss: 2.0237 - accuracy: 0.1146 - val_loss: 1.2851 - val_accuracy: 0.1136\n",
            "Epoch 81/100\n",
            "221/221 [==============================] - 1s 2ms/step - loss: 2.0230 - accuracy: 0.1142 - val_loss: 1.2483 - val_accuracy: 0.1140\n",
            "Epoch 82/100\n",
            "221/221 [==============================] - 0s 2ms/step - loss: 2.0228 - accuracy: 0.1155 - val_loss: 1.2955 - val_accuracy: 0.1133\n",
            "Epoch 83/100\n",
            "221/221 [==============================] - 1s 2ms/step - loss: 2.0171 - accuracy: 0.1146 - val_loss: 1.2816 - val_accuracy: 0.1139\n",
            "Epoch 84/100\n",
            "221/221 [==============================] - 1s 2ms/step - loss: 2.0165 - accuracy: 0.1156 - val_loss: 1.3532 - val_accuracy: 0.1133\n",
            "Epoch 85/100\n",
            "221/221 [==============================] - 0s 2ms/step - loss: 2.0169 - accuracy: 0.1147 - val_loss: 1.2721 - val_accuracy: 0.1143\n",
            "Epoch 86/100\n",
            "221/221 [==============================] - 0s 2ms/step - loss: 2.0154 - accuracy: 0.1181 - val_loss: 1.2458 - val_accuracy: 0.1143\n",
            "Epoch 87/100\n",
            "221/221 [==============================] - 0s 2ms/step - loss: 2.0205 - accuracy: 0.1162 - val_loss: 1.2681 - val_accuracy: 0.1138\n",
            "Epoch 88/100\n",
            "221/221 [==============================] - 0s 2ms/step - loss: 2.0163 - accuracy: 0.1166 - val_loss: 1.2569 - val_accuracy: 0.1144\n",
            "Epoch 89/100\n",
            "221/221 [==============================] - 1s 2ms/step - loss: 2.0172 - accuracy: 0.1183 - val_loss: 1.2848 - val_accuracy: 0.1142\n",
            "Epoch 90/100\n",
            "221/221 [==============================] - 0s 2ms/step - loss: 2.0177 - accuracy: 0.1172 - val_loss: 1.2648 - val_accuracy: 0.1135\n",
            "Epoch 91/100\n",
            "221/221 [==============================] - 0s 2ms/step - loss: 2.0158 - accuracy: 0.1157 - val_loss: 1.3822 - val_accuracy: 0.1136\n",
            "Epoch 92/100\n",
            "221/221 [==============================] - 0s 2ms/step - loss: 2.0138 - accuracy: 0.1156 - val_loss: 1.2295 - val_accuracy: 0.1157\n",
            "Epoch 93/100\n",
            "221/221 [==============================] - 0s 2ms/step - loss: 2.0117 - accuracy: 0.1187 - val_loss: 1.3027 - val_accuracy: 0.1143\n",
            "Epoch 94/100\n",
            "221/221 [==============================] - 0s 2ms/step - loss: 2.0196 - accuracy: 0.1157 - val_loss: 1.2903 - val_accuracy: 0.1143\n",
            "Epoch 95/100\n",
            "221/221 [==============================] - 0s 2ms/step - loss: 2.0150 - accuracy: 0.1182 - val_loss: 1.2741 - val_accuracy: 0.1135\n",
            "Epoch 96/100\n",
            "221/221 [==============================] - 1s 2ms/step - loss: 2.0156 - accuracy: 0.1152 - val_loss: 1.2692 - val_accuracy: 0.1145\n",
            "Epoch 97/100\n",
            "221/221 [==============================] - 1s 2ms/step - loss: 2.0151 - accuracy: 0.1155 - val_loss: 1.2461 - val_accuracy: 0.1154\n",
            "Epoch 98/100\n",
            "221/221 [==============================] - 1s 2ms/step - loss: 2.0096 - accuracy: 0.1182 - val_loss: 1.2302 - val_accuracy: 0.1154\n",
            "Epoch 99/100\n",
            "221/221 [==============================] - 1s 2ms/step - loss: 2.0105 - accuracy: 0.1172 - val_loss: 1.2477 - val_accuracy: 0.1158\n",
            "Epoch 100/100\n",
            "221/221 [==============================] - 1s 2ms/step - loss: 2.0150 - accuracy: 0.1176 - val_loss: 1.2212 - val_accuracy: 0.1145\n"
          ]
        }
      ]
    },
    {
      "cell_type": "code",
      "source": [
        "preds_m_50 = model_m.predict(x_test)\n",
        "preds_m_50 =  [1 if i>0.5 else 0 for i in preds_m_50]"
      ],
      "metadata": {
        "id": "rcadLePR8eSq"
      },
      "execution_count": null,
      "outputs": []
    },
    {
      "cell_type": "code",
      "source": [
        "print_validation_report(y_test, preds_m_50)"
      ],
      "metadata": {
        "colab": {
          "base_uri": "https://localhost:8080/"
        },
        "outputId": "d33c2d18-e586-46ba-ffd5-2a137f641a34",
        "id": "1vONNRjA8eSq"
      },
      "execution_count": null,
      "outputs": [
        {
          "output_type": "stream",
          "name": "stdout",
          "text": [
            "Classification Report\n",
            "              precision    recall  f1-score   support\n",
            "\n",
            "           0       1.00      0.00      0.00      7307\n",
            "           1       0.11      1.00      0.20       927\n",
            "\n",
            "    accuracy                           0.11      8234\n",
            "   macro avg       0.56      0.50      0.10      8234\n",
            "weighted avg       0.90      0.11      0.02      8234\n",
            "\n",
            "Accuracy Score: 0.1136750060723828\n",
            "Kappa-  0.00027759838896435074\n",
            "F1-  0.20257867132867136\n",
            "ROC_AUC_score-  0.5006158478171616\n",
            "PR AUC-  0.11270516717325228\n"
          ]
        }
      ]
    },
    {
      "cell_type": "code",
      "source": [
        "plot_confusion_matrix(y_test, preds_m_50)"
      ],
      "metadata": {
        "colab": {
          "base_uri": "https://localhost:8080/",
          "height": 497
        },
        "outputId": "647c472e-ac62-4a0c-cb32-b8cca0e7fcd6",
        "id": "z5XWq4dQ8eSq"
      },
      "execution_count": null,
      "outputs": [
        {
          "output_type": "display_data",
          "data": {
            "text/plain": [
              "<Figure size 576x576 with 1 Axes>"
            ],
            "image/png": "[encoded data removed]"
          },
          "metadata": {
            "needs_background": "light"
          }
        }
      ]
    },
    {
      "cell_type": "code",
      "source": [
        "plot_curve(y_test, preds_m_50)"
      ],
      "metadata": {
        "colab": {
          "base_uri": "https://localhost:8080/",
          "height": 395
        },
        "outputId": "563ed10b-1461-4e4e-9fdb-f974103b1424",
        "id": "p2wVmSos8eSq"
      },
      "execution_count": null,
      "outputs": [
        {
          "output_type": "display_data",
          "data": {
            "text/plain": [
              "<Figure size 936x360 with 2 Axes>"
            ],
            "image/png": "[encoded data removed]"
          },
          "metadata": {
            "needs_background": "light"
          }
        }
      ]
    },
    {
      "cell_type": "markdown",
      "source": [
        "#### Compare with same model applied on raw dataset"
      ],
      "metadata": {
        "id": "8A7wMYAJjPZ1"
      }
    },
    {
      "cell_type": "code",
      "source": [
        "data_2 = data.copy()\n",
        "\n",
        "df_tran_2 = data_2.drop(['duration'], axis=1)\n",
        "df_tran_2.columns"
      ],
      "metadata": {
        "colab": {
          "base_uri": "https://localhost:8080/"
        },
        "id": "bEqhkkafjTnt",
        "outputId": "e7670b5e-b86e-4ce7-f6ad-9c8b56651cc1"
      },
      "execution_count": 31,
      "outputs": [
        {
          "output_type": "execute_result",
          "data": {
            "text/plain": [
              "Index(['age', 'job', 'marital', 'education', 'default', 'housing', 'loan',\n",
              "       'contact', 'month', 'day_of_week', 'campaign', 'pdays', 'previous',\n",
              "       'poutcome', 'emp.var.rate', 'cons.price.idx', 'cons.conf.idx',\n",
              "       'euribor3m', 'nr.employed', 'y'],\n",
              "      dtype='object')"
            ]
          },
          "metadata": {},
          "execution_count": 31
        }
      ]
    },
    {
      "cell_type": "code",
      "source": [
        "y = df_tran_2['y'].apply(lambda x: 0 if x=='no' else (1 if x=='yes' else -1))\n",
        "y.value_counts()"
      ],
      "metadata": {
        "colab": {
          "base_uri": "https://localhost:8080/"
        },
        "outputId": "2ee15fda-372b-40a7-93b1-4f23153342df",
        "id": "uZ7HTYKWmlg9"
      },
      "execution_count": 32,
      "outputs": [
        {
          "output_type": "execute_result",
          "data": {
            "text/plain": [
              "0    36548\n",
              "1     4640\n",
              "Name: y, dtype: int64"
            ]
          },
          "metadata": {},
          "execution_count": 32
        }
      ]
    },
    {
      "cell_type": "code",
      "source": [
        "x = df_tran_2.drop('y', axis=1)"
      ],
      "metadata": {
        "id": "ztW34dr5mlg9"
      },
      "execution_count": 33,
      "outputs": []
    },
    {
      "cell_type": "code",
      "source": [
        "cols = x.columns\n",
        "\n",
        "num_cols = x._get_numeric_data().columns\n",
        "\n",
        "cat_col = list(set(cols) - set(num_cols))\n",
        "\n",
        "cat_col \n"
      ],
      "metadata": {
        "colab": {
          "base_uri": "https://localhost:8080/"
        },
        "id": "PaMAnx7Qk-A_",
        "outputId": "f5502367-5ab1-47c8-936b-6935ec3c5d53"
      },
      "execution_count": 35,
      "outputs": [
        {
          "output_type": "execute_result",
          "data": {
            "text/plain": [
              "['marital',\n",
              " 'education',\n",
              " 'month',\n",
              " 'day_of_week',\n",
              " 'poutcome',\n",
              " 'job',\n",
              " 'contact',\n",
              " 'housing',\n",
              " 'default',\n",
              " 'loan']"
            ]
          },
          "metadata": {},
          "execution_count": 35
        }
      ]
    },
    {
      "cell_type": "code",
      "source": [
        "from sklearn.preprocessing import LabelEncoder\n",
        "\n",
        "label = LabelEncoder()\n",
        "\n",
        "for col in cat_col:\n",
        "  x[col] = label.fit_transform(x[col])\n",
        "\n",
        "x.head()\n"
      ],
      "metadata": {
        "colab": {
          "base_uri": "https://localhost:8080/",
          "height": 206
        },
        "id": "lMfeOlOQjUvJ",
        "outputId": "9c5279d9-d50d-4da4-ed15-8c028fb87a31"
      },
      "execution_count": 36,
      "outputs": [
        {
          "output_type": "execute_result",
          "data": {
            "text/plain": [
              "   age  job  marital  education  default  housing  loan  contact  month  \\\n",
              "0   56    3        1          0        0        0     0        1      6   \n",
              "1   57    7        1          3        1        0     0        1      6   \n",
              "2   37    7        1          3        0        2     0        1      6   \n",
              "3   40    0        1          1        0        0     0        1      6   \n",
              "4   56    7        1          3        0        0     2        1      6   \n",
              "\n",
              "   day_of_week  campaign  pdays  previous  poutcome  emp.var.rate  \\\n",
              "0            1         1    999         0         1           1.1   \n",
              "1            1         1    999         0         1           1.1   \n",
              "2            1         1    999         0         1           1.1   \n",
              "3            1         1    999         0         1           1.1   \n",
              "4            1         1    999         0         1           1.1   \n",
              "\n",
              "   cons.price.idx  cons.conf.idx  euribor3m  nr.employed  \n",
              "0          93.994          -36.4      4.857       5191.0  \n",
              "1          93.994          -36.4      4.857       5191.0  \n",
              "2          93.994          -36.4      4.857       5191.0  \n",
              "3          93.994          -36.4      4.857       5191.0  \n",
              "4          93.994          -36.4      4.857       5191.0  "
            ],
            "text/html": [
              "\n",
              "  <div id=\"df-74f0a65d-36a9-4ce2-955d-60e113658bec\">\n",
              "    <div class=\"colab-df-container\">\n",
              "      <div>\n",
              "<style scoped>\n",
              "    .dataframe tbody tr th:only-of-type {\n",
              "        vertical-align: middle;\n",
              "    }\n",
              "\n",
              "    .dataframe tbody tr th {\n",
              "        vertical-align: top;\n",
              "    }\n",
              "\n",
              "    .dataframe thead th {\n",
              "        text-align: right;\n",
              "    }\n",
              "</style>\n",
              "<table border=\"1\" class=\"dataframe\">\n",
              "  <thead>\n",
              "    <tr style=\"text-align: right;\">\n",
              "      <th></th>\n",
              "      <th>age</th>\n",
              "      <th>job</th>\n",
              "      <th>marital</th>\n",
              "      <th>education</th>\n",
              "      <th>default</th>\n",
              "      <th>housing</th>\n",
              "      <th>loan</th>\n",
              "      <th>contact</th>\n",
              "      <th>month</th>\n",
              "      <th>day_of_week</th>\n",
              "      <th>campaign</th>\n",
              "      <th>pdays</th>\n",
              "      <th>previous</th>\n",
              "      <th>poutcome</th>\n",
              "      <th>emp.var.rate</th>\n",
              "      <th>cons.price.idx</th>\n",
              "      <th>cons.conf.idx</th>\n",
              "      <th>euribor3m</th>\n",
              "      <th>nr.employed</th>\n",
              "    </tr>\n",
              "  </thead>\n",
              "  <tbody>\n",
              "    <tr>\n",
              "      <th>0</th>\n",
              "      <td>56</td>\n",
              "      <td>3</td>\n",
              "      <td>1</td>\n",
              "      <td>0</td>\n",
              "      <td>0</td>\n",
              "      <td>0</td>\n",
              "      <td>0</td>\n",
              "      <td>1</td>\n",
              "      <td>6</td>\n",
              "      <td>1</td>\n",
              "      <td>1</td>\n",
              "      <td>999</td>\n",
              "      <td>0</td>\n",
              "      <td>1</td>\n",
              "      <td>1.1</td>\n",
              "      <td>93.994</td>\n",
              "      <td>-36.4</td>\n",
              "      <td>4.857</td>\n",
              "      <td>5191.0</td>\n",
              "    </tr>\n",
              "    <tr>\n",
              "      <th>1</th>\n",
              "      <td>57</td>\n",
              "      <td>7</td>\n",
              "      <td>1</td>\n",
              "      <td>3</td>\n",
              "      <td>1</td>\n",
              "      <td>0</td>\n",
              "      <td>0</td>\n",
              "      <td>1</td>\n",
              "      <td>6</td>\n",
              "      <td>1</td>\n",
              "      <td>1</td>\n",
              "      <td>999</td>\n",
              "      <td>0</td>\n",
              "      <td>1</td>\n",
              "      <td>1.1</td>\n",
              "      <td>93.994</td>\n",
              "      <td>-36.4</td>\n",
              "      <td>4.857</td>\n",
              "      <td>5191.0</td>\n",
              "    </tr>\n",
              "    <tr>\n",
              "      <th>2</th>\n",
              "      <td>37</td>\n",
              "      <td>7</td>\n",
              "      <td>1</td>\n",
              "      <td>3</td>\n",
              "      <td>0</td>\n",
              "      <td>2</td>\n",
              "      <td>0</td>\n",
              "      <td>1</td>\n",
              "      <td>6</td>\n",
              "      <td>1</td>\n",
              "      <td>1</td>\n",
              "      <td>999</td>\n",
              "      <td>0</td>\n",
              "      <td>1</td>\n",
              "      <td>1.1</td>\n",
              "      <td>93.994</td>\n",
              "      <td>-36.4</td>\n",
              "      <td>4.857</td>\n",
              "      <td>5191.0</td>\n",
              "    </tr>\n",
              "    <tr>\n",
              "      <th>3</th>\n",
              "      <td>40</td>\n",
              "      <td>0</td>\n",
              "      <td>1</td>\n",
              "      <td>1</td>\n",
              "      <td>0</td>\n",
              "      <td>0</td>\n",
              "      <td>0</td>\n",
              "      <td>1</td>\n",
              "      <td>6</td>\n",
              "      <td>1</td>\n",
              "      <td>1</td>\n",
              "      <td>999</td>\n",
              "      <td>0</td>\n",
              "      <td>1</td>\n",
              "      <td>1.1</td>\n",
              "      <td>93.994</td>\n",
              "      <td>-36.4</td>\n",
              "      <td>4.857</td>\n",
              "      <td>5191.0</td>\n",
              "    </tr>\n",
              "    <tr>\n",
              "      <th>4</th>\n",
              "      <td>56</td>\n",
              "      <td>7</td>\n",
              "      <td>1</td>\n",
              "      <td>3</td>\n",
              "      <td>0</td>\n",
              "      <td>0</td>\n",
              "      <td>2</td>\n",
              "      <td>1</td>\n",
              "      <td>6</td>\n",
              "      <td>1</td>\n",
              "      <td>1</td>\n",
              "      <td>999</td>\n",
              "      <td>0</td>\n",
              "      <td>1</td>\n",
              "      <td>1.1</td>\n",
              "      <td>93.994</td>\n",
              "      <td>-36.4</td>\n",
              "      <td>4.857</td>\n",
              "      <td>5191.0</td>\n",
              "    </tr>\n",
              "  </tbody>\n",
              "</table>\n",
              "</div>\n",
              "      <button class=\"colab-df-convert\" onclick=\"convertToInteractive('df-74f0a65d-36a9-4ce2-955d-60e113658bec')\"\n",
              "              title=\"Convert this dataframe to an interactive table.\"\n",
              "              style=\"display:none;\">\n",
              "        \n",
              "  <svg xmlns=\"http://www.w3.org/2000/svg\" height=\"24px\"viewBox=\"0 0 24 24\"\n",
              "       width=\"24px\">\n",
              "    <path d=\"M0 0h24v24H0V0z\" fill=\"none\"/>\n",
              "    <path d=\"M18.56 5.44l.94 2.06.94-2.06 2.06-.94-2.06-.94-.94-2.06-.94 2.06-2.06.94zm-11 1L8.5 8.5l.94-2.06 2.06-.94-2.06-.94L8.5 2.5l-.94 2.06-2.06.94zm10 10l.94 2.06.94-2.06 2.06-.94-2.06-.94-.94-2.06-.94 2.06-2.06.94z\"/><path d=\"M17.41 7.96l-1.37-1.37c-.4-.4-.92-.59-1.43-.59-.52 0-1.04.2-1.43.59L10.3 9.45l-7.72 7.72c-.78.78-.78 2.05 0 2.83L4 21.41c.39.39.9.59 1.41.59.51 0 1.02-.2 1.41-.59l7.78-7.78 2.81-2.81c.8-.78.8-2.07 0-2.86zM5.41 20L4 18.59l7.72-7.72 1.47 1.35L5.41 20z\"/>\n",
              "  </svg>\n",
              "      </button>\n",
              "      \n",
              "  <style>\n",
              "    .colab-df-container {\n",
              "      display:flex;\n",
              "      flex-wrap:wrap;\n",
              "      gap: 12px;\n",
              "    }\n",
              "\n",
              "    .colab-df-convert {\n",
              "      background-color: #E8F0FE;\n",
              "      border: none;\n",
              "      border-radius: 50%;\n",
              "      cursor: pointer;\n",
              "      display: none;\n",
              "      fill: #1967D2;\n",
              "      height: 32px;\n",
              "      padding: 0 0 0 0;\n",
              "      width: 32px;\n",
              "    }\n",
              "\n",
              "    .colab-df-convert:hover {\n",
              "      background-color: #E2EBFA;\n",
              "      box-shadow: 0px 1px 2px rgba(60, 64, 67, 0.3), 0px 1px 3px 1px rgba(60, 64, 67, 0.15);\n",
              "      fill: #174EA6;\n",
              "    }\n",
              "\n",
              "    [theme=dark] .colab-df-convert {\n",
              "      background-color: #3B4455;\n",
              "      fill: #D2E3FC;\n",
              "    }\n",
              "\n",
              "    [theme=dark] .colab-df-convert:hover {\n",
              "      background-color: #434B5C;\n",
              "      box-shadow: 0px 1px 3px 1px rgba(0, 0, 0, 0.15);\n",
              "      filter: drop-shadow(0px 1px 2px rgba(0, 0, 0, 0.3));\n",
              "      fill: #FFFFFF;\n",
              "    }\n",
              "  </style>\n",
              "\n",
              "      <script>\n",
              "        const buttonEl =\n",
              "          document.querySelector('#df-74f0a65d-36a9-4ce2-955d-60e113658bec button.colab-df-convert');\n",
              "        buttonEl.style.display =\n",
              "          google.colab.kernel.accessAllowed ? 'block' : 'none';\n",
              "\n",
              "        async function convertToInteractive(key) {\n",
              "          const element = document.querySelector('#df-74f0a65d-36a9-4ce2-955d-60e113658bec');\n",
              "          const dataTable =\n",
              "            await google.colab.kernel.invokeFunction('convertToInteractive',\n",
              "                                                     [key], {});\n",
              "          if (!dataTable) return;\n",
              "\n",
              "          const docLinkHtml = 'Like what you see? Visit the ' +\n",
              "            '<a target=\"_blank\" href=https://colab.research.google.com/notebooks/data_table.ipynb>data table notebook</a>'\n",
              "            + ' to learn more about interactive tables.';\n",
              "          element.innerHTML = '';\n",
              "          dataTable['output_type'] = 'display_data';\n",
              "          await google.colab.output.renderOutput(dataTable, element);\n",
              "          const docLink = document.createElement('div');\n",
              "          docLink.innerHTML = docLinkHtml;\n",
              "          element.appendChild(docLink);\n",
              "        }\n",
              "      </script>\n",
              "    </div>\n",
              "  </div>\n",
              "  "
            ]
          },
          "metadata": {},
          "execution_count": 36
        }
      ]
    },
    {
      "cell_type": "markdown",
      "source": [
        "### Train-Test Split & Data Normalization"
      ],
      "metadata": {
        "id": "XJbe5Io3lw5I"
      }
    },
    {
      "cell_type": "code",
      "source": [
        "from sklearn.preprocessing import MinMaxScaler\n",
        "\n",
        "scaler = MinMaxScaler()\n",
        "x_raw = scaler.fit_transform(x)"
      ],
      "metadata": {
        "id": "mlZBYauClw5I"
      },
      "execution_count": 37,
      "outputs": []
    },
    {
      "cell_type": "code",
      "source": [
        "#here i used stratified sampling approach, since the raw data is not balanced distributed\n",
        "x_train,x_test,y_train,y_test = train_test_split(x_raw, y, test_size = 0.2, stratify=y, random_state=42)\n",
        "print(x_train.shape,\n",
        "      x_test.shape,\n",
        "      y_train.shape,\n",
        "      y_test.shape)"
      ],
      "metadata": {
        "colab": {
          "base_uri": "https://localhost:8080/"
        },
        "outputId": "e3652ab1-a37a-4884-a62c-21ca0ab95c8e",
        "id": "ZnPDA39Olw5I"
      },
      "execution_count": 38,
      "outputs": [
        {
          "output_type": "stream",
          "name": "stdout",
          "text": [
            "(32950, 19) (8238, 19) (32950,) (8238,)\n"
          ]
        }
      ]
    },
    {
      "cell_type": "markdown",
      "source": [
        "### Balancing the data using SMOTE\n",
        "\n",
        "https://towardsdatascience.com/all-about-imbalanced-machine-learning-classifiers-60563014d2b3\n"
      ],
      "metadata": {
        "id": "SnaYQxnJlw5I"
      }
    },
    {
      "cell_type": "code",
      "source": [
        "pip install -U imbalanced-learn"
      ],
      "metadata": {
        "colab": {
          "base_uri": "https://localhost:8080/"
        },
        "outputId": "2905e70c-f496-43e2-906c-9bcc328b9871",
        "id": "sE_EuLialw5I"
      },
      "execution_count": null,
      "outputs": [
        {
          "output_type": "stream",
          "name": "stdout",
          "text": [
            "Looking in indexes: https://pypi.org/simple, https://us-python.pkg.dev/colab-wheels/public/simple/\n",
            "Requirement already satisfied: imbalanced-learn in /usr/local/lib/python3.7/dist-packages (0.9.0)\n",
            "Collecting imbalanced-learn\n",
            "  Using cached imbalanced_learn-0.9.1-py3-none-any.whl (199 kB)\n",
            "Requirement already satisfied: numpy>=1.17.3 in /usr/local/lib/python3.7/dist-packages (from imbalanced-learn) (1.21.6)\n",
            "Requirement already satisfied: threadpoolctl>=2.0.0 in /usr/local/lib/python3.7/dist-packages (from imbalanced-learn) (3.1.0)\n",
            "Requirement already satisfied: scipy>=1.3.2 in /usr/local/lib/python3.7/dist-packages (from imbalanced-learn) (1.7.3)\n",
            "Requirement already satisfied: joblib>=1.0.0 in /usr/local/lib/python3.7/dist-packages (from imbalanced-learn) (1.1.0)\n",
            "Requirement already satisfied: scikit-learn>=1.0.1 in /usr/local/lib/python3.7/dist-packages (from imbalanced-learn) (1.0.2)\n"
          ]
        }
      ]
    },
    {
      "cell_type": "code",
      "source": [
        "import imblearn\n",
        "\n",
        "smote = SMOTE()\n",
        "\n",
        "x_s, y_s = smote.fit_resample(x_train, y_train)\n",
        "\n",
        "print('Original dataset shape', len(x_train))\n",
        "print('Resampled dataset shape', len(x_s))\n",
        "\n",
        "y_s.value_counts()"
      ],
      "metadata": {
        "colab": {
          "base_uri": "https://localhost:8080/"
        },
        "outputId": "f9e99b7d-4cd9-49e7-8f85-20e6b1fe5ee5",
        "id": "IxeumMxxlw5J"
      },
      "execution_count": 40,
      "outputs": [
        {
          "output_type": "stream",
          "name": "stdout",
          "text": [
            "Original dataset shape 32950\n",
            "Resampled dataset shape 58476\n"
          ]
        },
        {
          "output_type": "execute_result",
          "data": {
            "text/plain": [
              "0    29238\n",
              "1    29238\n",
              "Name: y, dtype: int64"
            ]
          },
          "metadata": {},
          "execution_count": 40
        }
      ]
    },
    {
      "cell_type": "markdown",
      "source": [
        "### Baseline Model - Neural Network \n"
      ],
      "metadata": {
        "id": "9eMdIqzrlw5J"
      }
    },
    {
      "cell_type": "code",
      "source": [
        "model = Sequential()\n",
        "model.add(Flatten(input_shape=( x_s.shape[1],)))\n",
        "model.add(Dense(units = 64, kernel_initializer = 'he_uniform',activation='relu'))\n",
        "model.add(Dense(units = 16, kernel_initializer = 'he_uniform',activation='relu', kernel_regularizer=tf.keras.regularizers.L2(0.01)))\n",
        "model.add(Dropout(0.2))\n",
        "model.add(Dense(units = 1, kernel_initializer = 'glorot_uniform', activation = 'sigmoid'))"
      ],
      "metadata": {
        "id": "FXCNVipLlw5J"
      },
      "execution_count": 41,
      "outputs": []
    },
    {
      "cell_type": "markdown",
      "source": [
        "may need to revisit the kernel initialization and tweaking the model\n",
        "here is the reference:https://www.kaggle.com/code/trolukovich/glorot-vs-he-weight-initialization-experiment/notebook"
      ],
      "metadata": {
        "id": "wZjN-I_slw5J"
      }
    },
    {
      "cell_type": "code",
      "source": [
        "model.compile(optimizer = 'adamax', loss = 'binary_crossentropy', metrics = ['accuracy', tf.keras.metrics.Precision()])\n",
        "model.summary()"
      ],
      "metadata": {
        "colab": {
          "base_uri": "https://localhost:8080/"
        },
        "outputId": "aa839756-aa78-4dff-a329-3b13ab0ad114",
        "id": "N6t0ExAPlw5J"
      },
      "execution_count": 42,
      "outputs": [
        {
          "output_type": "stream",
          "name": "stdout",
          "text": [
            "Model: \"sequential\"\n",
            "_________________________________________________________________\n",
            " Layer (type)                Output Shape              Param #   \n",
            "=================================================================\n",
            " flatten (Flatten)           (None, 19)                0         \n",
            "                                                                 \n",
            " dense (Dense)               (None, 64)                1280      \n",
            "                                                                 \n",
            " dense_1 (Dense)             (None, 16)                1040      \n",
            "                                                                 \n",
            " dropout (Dropout)           (None, 16)                0         \n",
            "                                                                 \n",
            " dense_2 (Dense)             (None, 1)                 17        \n",
            "                                                                 \n",
            "=================================================================\n",
            "Total params: 2,337\n",
            "Trainable params: 2,337\n",
            "Non-trainable params: 0\n",
            "_________________________________________________________________\n"
          ]
        }
      ]
    },
    {
      "cell_type": "code",
      "source": [
        "keras.utils.plot_model(model, \"CIFAR10.png\", show_shapes=True) "
      ],
      "metadata": {
        "colab": {
          "base_uri": "https://localhost:8080/",
          "height": 644
        },
        "outputId": "0a4d3f44-424a-42e5-cfa4-c94eeb77b835",
        "id": "-79lqzvHlw5J"
      },
      "execution_count": 43,
      "outputs": [
        {
          "output_type": "execute_result",
          "data": {
            "text/plain": [
              "<IPython.core.display.Image object>"
            ],
            "image/png": "[encoded data removed]"
          },
          "metadata": {},
          "execution_count": 43
        }
      ]
    },
    {
      "cell_type": "code",
      "source": [
        "model_history = model.fit(x_s, y_s,validation_split=0.33, batch_size = 100, epochs = 100)"
      ],
      "metadata": {
        "colab": {
          "base_uri": "https://localhost:8080/"
        },
        "outputId": "cd5cd0a3-40d2-4009-b9bf-bca8b6d7e7de",
        "id": "aG7YJaB6lw5J"
      },
      "execution_count": 44,
      "outputs": [
        {
          "output_type": "stream",
          "name": "stdout",
          "text": [
            "Epoch 1/100\n",
            "392/392 [==============================] - 2s 3ms/step - loss: 0.7051 - accuracy: 0.7644 - precision: 0.5813 - val_loss: 1.1690 - val_accuracy: 0.3795 - val_precision: 1.0000\n",
            "Epoch 2/100\n",
            "392/392 [==============================] - 1s 3ms/step - loss: 0.5582 - accuracy: 0.8026 - precision: 0.7191 - val_loss: 1.1081 - val_accuracy: 0.4186 - val_precision: 1.0000\n",
            "Epoch 3/100\n",
            "392/392 [==============================] - 1s 3ms/step - loss: 0.5155 - accuracy: 0.8071 - precision: 0.7145 - val_loss: 1.1642 - val_accuracy: 0.3806 - val_precision: 1.0000\n",
            "Epoch 4/100\n",
            "392/392 [==============================] - 1s 2ms/step - loss: 0.4940 - accuracy: 0.8082 - precision: 0.7151 - val_loss: 1.0858 - val_accuracy: 0.4225 - val_precision: 1.0000\n",
            "Epoch 5/100\n",
            "392/392 [==============================] - 1s 2ms/step - loss: 0.4798 - accuracy: 0.8099 - precision: 0.7136 - val_loss: 1.0684 - val_accuracy: 0.4398 - val_precision: 1.0000\n",
            "Epoch 6/100\n",
            "392/392 [==============================] - 1s 3ms/step - loss: 0.4723 - accuracy: 0.8095 - precision: 0.7121 - val_loss: 1.0163 - val_accuracy: 0.4733 - val_precision: 1.0000\n",
            "Epoch 7/100\n",
            "392/392 [==============================] - 1s 3ms/step - loss: 0.4663 - accuracy: 0.8107 - precision: 0.7141 - val_loss: 1.0484 - val_accuracy: 0.4396 - val_precision: 1.0000\n",
            "Epoch 8/100\n",
            "392/392 [==============================] - 1s 2ms/step - loss: 0.4619 - accuracy: 0.8121 - precision: 0.7139 - val_loss: 1.0313 - val_accuracy: 0.4495 - val_precision: 1.0000\n",
            "Epoch 9/100\n",
            "392/392 [==============================] - 1s 2ms/step - loss: 0.4606 - accuracy: 0.8126 - precision: 0.7132 - val_loss: 1.0924 - val_accuracy: 0.4139 - val_precision: 1.0000\n",
            "Epoch 10/100\n",
            "392/392 [==============================] - 1s 2ms/step - loss: 0.4585 - accuracy: 0.8114 - precision: 0.7122 - val_loss: 1.1110 - val_accuracy: 0.4224 - val_precision: 1.0000\n",
            "Epoch 11/100\n",
            "392/392 [==============================] - 1s 2ms/step - loss: 0.4562 - accuracy: 0.8129 - precision: 0.7142 - val_loss: 1.0454 - val_accuracy: 0.4564 - val_precision: 1.0000\n",
            "Epoch 12/100\n",
            "392/392 [==============================] - 1s 3ms/step - loss: 0.4545 - accuracy: 0.8122 - precision: 0.7126 - val_loss: 1.1248 - val_accuracy: 0.4225 - val_precision: 1.0000\n",
            "Epoch 13/100\n",
            "392/392 [==============================] - 1s 3ms/step - loss: 0.4551 - accuracy: 0.8120 - precision: 0.7112 - val_loss: 0.9982 - val_accuracy: 0.4856 - val_precision: 1.0000\n",
            "Epoch 14/100\n",
            "392/392 [==============================] - 1s 2ms/step - loss: 0.4544 - accuracy: 0.8132 - precision: 0.7125 - val_loss: 1.0452 - val_accuracy: 0.4482 - val_precision: 1.0000\n",
            "Epoch 15/100\n",
            "392/392 [==============================] - 1s 3ms/step - loss: 0.4525 - accuracy: 0.8124 - precision: 0.7113 - val_loss: 1.0455 - val_accuracy: 0.4615 - val_precision: 1.0000\n",
            "Epoch 16/100\n",
            "392/392 [==============================] - 1s 4ms/step - loss: 0.4526 - accuracy: 0.8133 - precision: 0.7129 - val_loss: 1.0511 - val_accuracy: 0.4787 - val_precision: 1.0000\n",
            "Epoch 17/100\n",
            "392/392 [==============================] - 1s 4ms/step - loss: 0.4527 - accuracy: 0.8127 - precision: 0.7090 - val_loss: 1.0076 - val_accuracy: 0.4708 - val_precision: 1.0000\n",
            "Epoch 18/100\n",
            "392/392 [==============================] - 2s 4ms/step - loss: 0.4516 - accuracy: 0.8147 - precision: 0.7163 - val_loss: 1.0535 - val_accuracy: 0.4468 - val_precision: 1.0000\n",
            "Epoch 19/100\n",
            "392/392 [==============================] - 2s 4ms/step - loss: 0.4515 - accuracy: 0.8140 - precision: 0.7127 - val_loss: 1.0654 - val_accuracy: 0.4467 - val_precision: 1.0000\n",
            "Epoch 20/100\n",
            "392/392 [==============================] - 2s 4ms/step - loss: 0.4514 - accuracy: 0.8145 - precision: 0.7153 - val_loss: 1.0450 - val_accuracy: 0.4554 - val_precision: 1.0000\n",
            "Epoch 21/100\n",
            "392/392 [==============================] - 2s 4ms/step - loss: 0.4500 - accuracy: 0.8137 - precision: 0.7091 - val_loss: 1.0672 - val_accuracy: 0.4365 - val_precision: 1.0000\n",
            "Epoch 22/100\n",
            "392/392 [==============================] - 1s 2ms/step - loss: 0.4504 - accuracy: 0.8142 - precision: 0.7118 - val_loss: 1.0151 - val_accuracy: 0.4625 - val_precision: 1.0000\n",
            "Epoch 23/100\n",
            "392/392 [==============================] - 1s 2ms/step - loss: 0.4502 - accuracy: 0.8139 - precision: 0.7149 - val_loss: 1.0395 - val_accuracy: 0.4809 - val_precision: 1.0000\n",
            "Epoch 24/100\n",
            "392/392 [==============================] - 1s 2ms/step - loss: 0.4500 - accuracy: 0.8131 - precision: 0.7083 - val_loss: 1.0905 - val_accuracy: 0.4297 - val_precision: 1.0000\n",
            "Epoch 25/100\n",
            "392/392 [==============================] - 1s 2ms/step - loss: 0.4500 - accuracy: 0.8130 - precision: 0.7070 - val_loss: 1.0521 - val_accuracy: 0.4500 - val_precision: 1.0000\n",
            "Epoch 26/100\n",
            "392/392 [==============================] - 1s 2ms/step - loss: 0.4498 - accuracy: 0.8137 - precision: 0.7117 - val_loss: 1.0714 - val_accuracy: 0.4767 - val_precision: 1.0000\n",
            "Epoch 27/100\n",
            "392/392 [==============================] - 1s 3ms/step - loss: 0.4489 - accuracy: 0.8144 - precision: 0.7098 - val_loss: 1.0347 - val_accuracy: 0.4801 - val_precision: 1.0000\n",
            "Epoch 28/100\n",
            "392/392 [==============================] - 1s 2ms/step - loss: 0.4486 - accuracy: 0.8152 - precision: 0.7109 - val_loss: 1.0511 - val_accuracy: 0.4730 - val_precision: 1.0000\n",
            "Epoch 29/100\n",
            "392/392 [==============================] - 1s 3ms/step - loss: 0.4486 - accuracy: 0.8147 - precision: 0.7116 - val_loss: 1.0029 - val_accuracy: 0.4840 - val_precision: 1.0000\n",
            "Epoch 30/100\n",
            "392/392 [==============================] - 1s 3ms/step - loss: 0.4483 - accuracy: 0.8142 - precision: 0.7096 - val_loss: 1.0318 - val_accuracy: 0.4536 - val_precision: 1.0000\n",
            "Epoch 31/100\n",
            "392/392 [==============================] - 1s 2ms/step - loss: 0.4480 - accuracy: 0.8149 - precision: 0.7117 - val_loss: 1.0750 - val_accuracy: 0.4209 - val_precision: 1.0000\n",
            "Epoch 32/100\n",
            "392/392 [==============================] - 1s 3ms/step - loss: 0.4475 - accuracy: 0.8139 - precision: 0.7091 - val_loss: 0.9826 - val_accuracy: 0.4784 - val_precision: 1.0000\n",
            "Epoch 33/100\n",
            "392/392 [==============================] - 1s 2ms/step - loss: 0.4476 - accuracy: 0.8151 - precision: 0.7120 - val_loss: 1.0836 - val_accuracy: 0.4559 - val_precision: 1.0000\n",
            "Epoch 34/100\n",
            "392/392 [==============================] - 1s 3ms/step - loss: 0.4479 - accuracy: 0.8143 - precision: 0.7076 - val_loss: 1.0619 - val_accuracy: 0.4811 - val_precision: 1.0000\n",
            "Epoch 35/100\n",
            "392/392 [==============================] - 1s 2ms/step - loss: 0.4466 - accuracy: 0.8155 - precision: 0.7104 - val_loss: 1.0006 - val_accuracy: 0.4881 - val_precision: 1.0000\n",
            "Epoch 36/100\n",
            "392/392 [==============================] - 1s 2ms/step - loss: 0.4469 - accuracy: 0.8155 - precision: 0.7130 - val_loss: 1.0249 - val_accuracy: 0.4861 - val_precision: 1.0000\n",
            "Epoch 37/100\n",
            "392/392 [==============================] - 1s 2ms/step - loss: 0.4472 - accuracy: 0.8147 - precision: 0.7083 - val_loss: 1.0654 - val_accuracy: 0.4654 - val_precision: 1.0000\n",
            "Epoch 38/100\n",
            "392/392 [==============================] - 1s 2ms/step - loss: 0.4462 - accuracy: 0.8152 - precision: 0.7081 - val_loss: 1.1399 - val_accuracy: 0.4214 - val_precision: 1.0000\n",
            "Epoch 39/100\n",
            "392/392 [==============================] - 1s 2ms/step - loss: 0.4458 - accuracy: 0.8151 - precision: 0.7107 - val_loss: 1.0284 - val_accuracy: 0.4906 - val_precision: 1.0000\n",
            "Epoch 40/100\n",
            "392/392 [==============================] - 1s 2ms/step - loss: 0.4463 - accuracy: 0.8158 - precision: 0.7095 - val_loss: 1.0248 - val_accuracy: 0.4902 - val_precision: 1.0000\n",
            "Epoch 41/100\n",
            "392/392 [==============================] - 1s 3ms/step - loss: 0.4462 - accuracy: 0.8158 - precision: 0.7127 - val_loss: 0.9648 - val_accuracy: 0.5320 - val_precision: 1.0000\n",
            "Epoch 42/100\n",
            "392/392 [==============================] - 1s 3ms/step - loss: 0.4454 - accuracy: 0.8168 - precision: 0.7121 - val_loss: 1.0284 - val_accuracy: 0.4778 - val_precision: 1.0000\n",
            "Epoch 43/100\n",
            "392/392 [==============================] - 1s 2ms/step - loss: 0.4460 - accuracy: 0.8151 - precision: 0.7070 - val_loss: 1.0496 - val_accuracy: 0.4566 - val_precision: 1.0000\n",
            "Epoch 44/100\n",
            "392/392 [==============================] - 1s 3ms/step - loss: 0.4453 - accuracy: 0.8150 - precision: 0.7087 - val_loss: 0.9880 - val_accuracy: 0.4999 - val_precision: 1.0000\n",
            "Epoch 45/100\n",
            "392/392 [==============================] - 1s 3ms/step - loss: 0.4456 - accuracy: 0.8153 - precision: 0.7081 - val_loss: 1.0482 - val_accuracy: 0.4648 - val_precision: 1.0000\n",
            "Epoch 46/100\n",
            "392/392 [==============================] - 1s 2ms/step - loss: 0.4449 - accuracy: 0.8154 - precision: 0.7100 - val_loss: 1.0583 - val_accuracy: 0.4568 - val_precision: 1.0000\n",
            "Epoch 47/100\n",
            "392/392 [==============================] - 1s 2ms/step - loss: 0.4457 - accuracy: 0.8163 - precision: 0.7129 - val_loss: 1.0576 - val_accuracy: 0.4704 - val_precision: 1.0000\n",
            "Epoch 48/100\n",
            "392/392 [==============================] - 2s 5ms/step - loss: 0.4451 - accuracy: 0.8163 - precision: 0.7132 - val_loss: 1.0576 - val_accuracy: 0.4896 - val_precision: 1.0000\n",
            "Epoch 49/100\n",
            "392/392 [==============================] - 1s 3ms/step - loss: 0.4444 - accuracy: 0.8165 - precision: 0.7094 - val_loss: 1.0649 - val_accuracy: 0.4598 - val_precision: 1.0000\n",
            "Epoch 50/100\n",
            "392/392 [==============================] - 1s 2ms/step - loss: 0.4449 - accuracy: 0.8155 - precision: 0.7090 - val_loss: 1.0375 - val_accuracy: 0.4687 - val_precision: 1.0000\n",
            "Epoch 51/100\n",
            "392/392 [==============================] - 1s 2ms/step - loss: 0.4443 - accuracy: 0.8161 - precision: 0.7083 - val_loss: 1.0561 - val_accuracy: 0.4407 - val_precision: 1.0000\n",
            "Epoch 52/100\n",
            "392/392 [==============================] - 1s 3ms/step - loss: 0.4447 - accuracy: 0.8168 - precision: 0.7134 - val_loss: 1.0633 - val_accuracy: 0.4644 - val_precision: 1.0000\n",
            "Epoch 53/100\n",
            "392/392 [==============================] - 1s 2ms/step - loss: 0.4450 - accuracy: 0.8160 - precision: 0.7088 - val_loss: 1.1203 - val_accuracy: 0.4266 - val_precision: 1.0000\n",
            "Epoch 54/100\n",
            "392/392 [==============================] - 2s 5ms/step - loss: 0.4450 - accuracy: 0.8163 - precision: 0.7113 - val_loss: 1.0474 - val_accuracy: 0.4736 - val_precision: 1.0000\n",
            "Epoch 55/100\n",
            "392/392 [==============================] - 1s 3ms/step - loss: 0.4439 - accuracy: 0.8159 - precision: 0.7079 - val_loss: 0.9915 - val_accuracy: 0.4956 - val_precision: 1.0000\n",
            "Epoch 56/100\n",
            "392/392 [==============================] - 1s 3ms/step - loss: 0.4436 - accuracy: 0.8161 - precision: 0.7105 - val_loss: 1.0106 - val_accuracy: 0.4731 - val_precision: 1.0000\n",
            "Epoch 57/100\n",
            "392/392 [==============================] - 1s 2ms/step - loss: 0.4438 - accuracy: 0.8159 - precision: 0.7082 - val_loss: 1.0343 - val_accuracy: 0.4655 - val_precision: 1.0000\n",
            "Epoch 58/100\n",
            "392/392 [==============================] - 1s 3ms/step - loss: 0.4433 - accuracy: 0.8164 - precision: 0.7097 - val_loss: 1.0861 - val_accuracy: 0.4307 - val_precision: 1.0000\n",
            "Epoch 59/100\n",
            "392/392 [==============================] - 1s 2ms/step - loss: 0.4434 - accuracy: 0.8168 - precision: 0.7122 - val_loss: 1.0748 - val_accuracy: 0.4508 - val_precision: 1.0000\n",
            "Epoch 60/100\n",
            "392/392 [==============================] - 1s 3ms/step - loss: 0.4429 - accuracy: 0.8160 - precision: 0.7083 - val_loss: 1.0177 - val_accuracy: 0.4859 - val_precision: 1.0000\n",
            "Epoch 61/100\n",
            "392/392 [==============================] - 1s 3ms/step - loss: 0.4429 - accuracy: 0.8160 - precision: 0.7069 - val_loss: 0.9719 - val_accuracy: 0.4980 - val_precision: 1.0000\n",
            "Epoch 62/100\n",
            "392/392 [==============================] - 1s 3ms/step - loss: 0.4431 - accuracy: 0.8178 - precision: 0.7126 - val_loss: 0.9643 - val_accuracy: 0.5070 - val_precision: 1.0000\n",
            "Epoch 63/100\n",
            "392/392 [==============================] - 1s 2ms/step - loss: 0.4438 - accuracy: 0.8161 - precision: 0.7088 - val_loss: 1.0298 - val_accuracy: 0.4839 - val_precision: 1.0000\n",
            "Epoch 64/100\n",
            "392/392 [==============================] - 1s 2ms/step - loss: 0.4431 - accuracy: 0.8154 - precision: 0.7072 - val_loss: 1.0419 - val_accuracy: 0.4848 - val_precision: 1.0000\n",
            "Epoch 65/100\n",
            "392/392 [==============================] - 1s 3ms/step - loss: 0.4430 - accuracy: 0.8155 - precision: 0.7072 - val_loss: 1.0781 - val_accuracy: 0.4653 - val_precision: 1.0000\n",
            "Epoch 66/100\n",
            "392/392 [==============================] - 1s 3ms/step - loss: 0.4427 - accuracy: 0.8166 - precision: 0.7085 - val_loss: 1.0230 - val_accuracy: 0.4971 - val_precision: 1.0000\n",
            "Epoch 67/100\n",
            "392/392 [==============================] - 1s 3ms/step - loss: 0.4428 - accuracy: 0.8163 - precision: 0.7069 - val_loss: 0.9992 - val_accuracy: 0.4977 - val_precision: 1.0000\n",
            "Epoch 68/100\n",
            "392/392 [==============================] - 1s 3ms/step - loss: 0.4416 - accuracy: 0.8171 - precision: 0.7114 - val_loss: 0.9986 - val_accuracy: 0.4998 - val_precision: 1.0000\n",
            "Epoch 69/100\n",
            "392/392 [==============================] - 1s 2ms/step - loss: 0.4426 - accuracy: 0.8165 - precision: 0.7085 - val_loss: 0.9789 - val_accuracy: 0.5032 - val_precision: 1.0000\n",
            "Epoch 70/100\n",
            "392/392 [==============================] - 1s 3ms/step - loss: 0.4416 - accuracy: 0.8171 - precision: 0.7130 - val_loss: 1.0228 - val_accuracy: 0.5045 - val_precision: 1.0000\n",
            "Epoch 71/100\n",
            "392/392 [==============================] - 1s 3ms/step - loss: 0.4415 - accuracy: 0.8168 - precision: 0.7080 - val_loss: 1.0427 - val_accuracy: 0.4730 - val_precision: 1.0000\n",
            "Epoch 72/100\n",
            "392/392 [==============================] - 1s 3ms/step - loss: 0.4410 - accuracy: 0.8165 - precision: 0.7070 - val_loss: 1.0597 - val_accuracy: 0.4790 - val_precision: 1.0000\n",
            "Epoch 73/100\n",
            "392/392 [==============================] - 1s 3ms/step - loss: 0.4410 - accuracy: 0.8164 - precision: 0.7085 - val_loss: 1.0358 - val_accuracy: 0.4990 - val_precision: 1.0000\n",
            "Epoch 74/100\n",
            "392/392 [==============================] - 1s 3ms/step - loss: 0.4418 - accuracy: 0.8166 - precision: 0.7074 - val_loss: 0.9895 - val_accuracy: 0.4933 - val_precision: 1.0000\n",
            "Epoch 75/100\n",
            "392/392 [==============================] - 2s 6ms/step - loss: 0.4411 - accuracy: 0.8174 - precision: 0.7102 - val_loss: 1.0654 - val_accuracy: 0.4700 - val_precision: 1.0000\n",
            "Epoch 76/100\n",
            "392/392 [==============================] - 2s 6ms/step - loss: 0.4418 - accuracy: 0.8165 - precision: 0.7079 - val_loss: 1.0693 - val_accuracy: 0.4796 - val_precision: 1.0000\n",
            "Epoch 77/100\n",
            "392/392 [==============================] - 2s 5ms/step - loss: 0.4414 - accuracy: 0.8177 - precision: 0.7101 - val_loss: 1.0756 - val_accuracy: 0.4724 - val_precision: 1.0000\n",
            "Epoch 78/100\n",
            "392/392 [==============================] - 2s 4ms/step - loss: 0.4407 - accuracy: 0.8165 - precision: 0.7070 - val_loss: 1.0475 - val_accuracy: 0.4665 - val_precision: 1.0000\n",
            "Epoch 79/100\n",
            "392/392 [==============================] - 1s 3ms/step - loss: 0.4404 - accuracy: 0.8173 - precision: 0.7075 - val_loss: 1.0737 - val_accuracy: 0.4584 - val_precision: 1.0000\n",
            "Epoch 80/100\n",
            "392/392 [==============================] - 1s 2ms/step - loss: 0.4414 - accuracy: 0.8168 - precision: 0.7080 - val_loss: 1.0054 - val_accuracy: 0.4906 - val_precision: 1.0000\n",
            "Epoch 81/100\n",
            "392/392 [==============================] - 1s 3ms/step - loss: 0.4405 - accuracy: 0.8173 - precision: 0.7097 - val_loss: 1.0162 - val_accuracy: 0.4756 - val_precision: 1.0000\n",
            "Epoch 82/100\n",
            "392/392 [==============================] - 1s 3ms/step - loss: 0.4409 - accuracy: 0.8162 - precision: 0.7058 - val_loss: 1.0383 - val_accuracy: 0.4813 - val_precision: 1.0000\n",
            "Epoch 83/100\n",
            "392/392 [==============================] - 1s 2ms/step - loss: 0.4405 - accuracy: 0.8172 - precision: 0.7088 - val_loss: 1.0004 - val_accuracy: 0.4902 - val_precision: 1.0000\n",
            "Epoch 84/100\n",
            "392/392 [==============================] - 1s 3ms/step - loss: 0.4389 - accuracy: 0.8185 - precision: 0.7115 - val_loss: 1.0528 - val_accuracy: 0.4944 - val_precision: 1.0000\n",
            "Epoch 85/100\n",
            "392/392 [==============================] - 1s 3ms/step - loss: 0.4396 - accuracy: 0.8167 - precision: 0.7063 - val_loss: 1.0824 - val_accuracy: 0.4632 - val_precision: 1.0000\n",
            "Epoch 86/100\n",
            "392/392 [==============================] - 1s 2ms/step - loss: 0.4388 - accuracy: 0.8178 - precision: 0.7100 - val_loss: 1.0518 - val_accuracy: 0.4782 - val_precision: 1.0000\n",
            "Epoch 87/100\n",
            "392/392 [==============================] - 1s 3ms/step - loss: 0.4391 - accuracy: 0.8176 - precision: 0.7080 - val_loss: 1.0831 - val_accuracy: 0.4816 - val_precision: 1.0000\n",
            "Epoch 88/100\n",
            "392/392 [==============================] - 1s 3ms/step - loss: 0.4393 - accuracy: 0.8176 - precision: 0.7094 - val_loss: 1.0123 - val_accuracy: 0.4856 - val_precision: 1.0000\n",
            "Epoch 89/100\n",
            "392/392 [==============================] - 1s 2ms/step - loss: 0.4390 - accuracy: 0.8170 - precision: 0.7095 - val_loss: 0.9903 - val_accuracy: 0.5061 - val_precision: 1.0000\n",
            "Epoch 90/100\n",
            "392/392 [==============================] - 1s 3ms/step - loss: 0.4395 - accuracy: 0.8174 - precision: 0.7071 - val_loss: 1.0324 - val_accuracy: 0.4881 - val_precision: 1.0000\n",
            "Epoch 91/100\n",
            "392/392 [==============================] - 1s 3ms/step - loss: 0.4383 - accuracy: 0.8182 - precision: 0.7108 - val_loss: 1.0075 - val_accuracy: 0.4875 - val_precision: 1.0000\n",
            "Epoch 92/100\n",
            "392/392 [==============================] - 1s 3ms/step - loss: 0.4387 - accuracy: 0.8175 - precision: 0.7072 - val_loss: 1.0205 - val_accuracy: 0.4883 - val_precision: 1.0000\n",
            "Epoch 93/100\n",
            "392/392 [==============================] - 1s 2ms/step - loss: 0.4389 - accuracy: 0.8185 - precision: 0.7132 - val_loss: 1.0935 - val_accuracy: 0.4840 - val_precision: 1.0000\n",
            "Epoch 94/100\n",
            "392/392 [==============================] - 1s 2ms/step - loss: 0.4380 - accuracy: 0.8194 - precision: 0.7121 - val_loss: 1.0275 - val_accuracy: 0.4956 - val_precision: 1.0000\n",
            "Epoch 95/100\n",
            "392/392 [==============================] - 1s 2ms/step - loss: 0.4386 - accuracy: 0.8182 - precision: 0.7114 - val_loss: 1.0466 - val_accuracy: 0.4745 - val_precision: 1.0000\n",
            "Epoch 96/100\n",
            "392/392 [==============================] - 1s 2ms/step - loss: 0.4381 - accuracy: 0.8176 - precision: 0.7118 - val_loss: 1.0104 - val_accuracy: 0.5156 - val_precision: 1.0000\n",
            "Epoch 97/100\n",
            "392/392 [==============================] - 1s 3ms/step - loss: 0.4383 - accuracy: 0.8176 - precision: 0.7066 - val_loss: 1.0141 - val_accuracy: 0.4816 - val_precision: 1.0000\n",
            "Epoch 98/100\n",
            "392/392 [==============================] - 1s 3ms/step - loss: 0.4377 - accuracy: 0.8176 - precision: 0.7087 - val_loss: 1.0080 - val_accuracy: 0.5096 - val_precision: 1.0000\n",
            "Epoch 99/100\n",
            "392/392 [==============================] - 1s 2ms/step - loss: 0.4376 - accuracy: 0.8183 - precision: 0.7115 - val_loss: 1.0492 - val_accuracy: 0.4842 - val_precision: 1.0000\n",
            "Epoch 100/100\n",
            "392/392 [==============================] - 1s 3ms/step - loss: 0.4379 - accuracy: 0.8175 - precision: 0.7081 - val_loss: 1.0613 - val_accuracy: 0.4852 - val_precision: 1.0000\n"
          ]
        }
      ]
    },
    {
      "cell_type": "markdown",
      "source": [
        "####Evaluate the model - threshold 0.5"
      ],
      "metadata": {
        "id": "-ARAKvQxlw5J"
      }
    },
    {
      "cell_type": "code",
      "source": [
        "preds_50 = model.predict(x_test)\n",
        "preds_50 =  [1 if i>0.5 else 0 for i in preds_50]"
      ],
      "metadata": {
        "id": "BvNdAp7nlw5J"
      },
      "execution_count": 45,
      "outputs": []
    },
    {
      "cell_type": "code",
      "source": [
        "print_validation_report(y_test, preds_50)"
      ],
      "metadata": {
        "colab": {
          "base_uri": "https://localhost:8080/"
        },
        "outputId": "581287e4-cff8-4292-c3a1-daccabe712ec",
        "id": "mI-NymcYlw5J"
      },
      "execution_count": 48,
      "outputs": [
        {
          "output_type": "stream",
          "name": "stdout",
          "text": [
            "Classification Report\n",
            "              precision    recall  f1-score   support\n",
            "\n",
            "           0       0.94      0.93      0.93      7310\n",
            "           1       0.48      0.50      0.49       928\n",
            "\n",
            "    accuracy                           0.88      8238\n",
            "   macro avg       0.71      0.71      0.71      8238\n",
            "weighted avg       0.88      0.88      0.88      8238\n",
            "\n",
            "Accuracy Score: 0.8833454722019908\n",
            "Kappa-  0.42327020429215323\n",
            "F1-  0.4891015417331207\n",
            "ROC_AUC_score-  0.7141238973536487\n",
            "PR AUC-  0.29607248808630016\n"
          ]
        }
      ]
    },
    {
      "cell_type": "code",
      "source": [
        "plot_confusion_matrix(y_test, preds_50)"
      ],
      "metadata": {
        "colab": {
          "base_uri": "https://localhost:8080/",
          "height": 497
        },
        "outputId": "648ad434-5613-417c-8f7c-bd54bed91149",
        "id": "BnjSswaYlw5J"
      },
      "execution_count": 49,
      "outputs": [
        {
          "output_type": "display_data",
          "data": {
            "text/plain": [
              "<Figure size 576x576 with 1 Axes>"
            ],
            "image/png": "[encoded data removed]"
          },
          "metadata": {
            "needs_background": "light"
          }
        }
      ]
    },
    {
      "cell_type": "code",
      "source": [
        "plot_curve(y_test, preds_50)"
      ],
      "metadata": {
        "colab": {
          "base_uri": "https://localhost:8080/",
          "height": 395
        },
        "outputId": "627661f5-5f7f-4e73-94f9-84fef9564a65",
        "id": "VooMYT8qlw5J"
      },
      "execution_count": 50,
      "outputs": [
        {
          "output_type": "display_data",
          "data": {
            "text/plain": [
              "<Figure size 936x360 with 2 Axes>"
            ],
            "image/png": "[encoded data removed]"
          },
          "metadata": {
            "needs_background": "light"
          }
        }
      ]
    }
  ]
}