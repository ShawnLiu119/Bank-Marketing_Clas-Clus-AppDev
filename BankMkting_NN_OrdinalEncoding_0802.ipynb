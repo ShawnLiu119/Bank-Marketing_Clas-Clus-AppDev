{
  "nbformat": 4,
  "nbformat_minor": 0,
  "metadata": {
    "colab": {
      "name": "BankMkting_NN_OrdinalEncoding_0802.ipynb",
      "provenance": [],
      "authorship_tag": "ABX9TyPLRZOtGmJMsPyw8R3BljGM",
      "include_colab_link": true
    },
    "kernelspec": {
      "name": "python3",
      "display_name": "Python 3"
    },
    "language_info": {
      "name": "python"
    }
  },
  "cells": [
    {
      "cell_type": "markdown",
      "metadata": {
        "id": "view-in-github",
        "colab_type": "text"
      },
      "source": [
        "<a href=\"https://colab.research.google.com/github/ShawnLiu119/CapstoneProject_BankingMarketing/blob/main/BankMkting_NN_OrdinalEncoding_0802.ipynb\" target=\"_parent\"><img src=\"https://colab.research.google.com/assets/colab-badge.svg\" alt=\"Open In Colab\"/></a>"
      ]
    },
    {
      "cell_type": "code",
      "source": [
        "from sklearn.metrics import accuracy_score\n",
        "from sklearn.metrics import roc_auc_score\n",
        "import numpy as np\n",
        "import pandas as pd \n",
        "import os\n",
        "from sklearn.tree import DecisionTreeClassifier\n",
        "from sklearn.tree import plot_tree\n",
        "from sklearn.model_selection import train_test_split\n",
        "from sklearn.model_selection import cross_val_score\n",
        "from sklearn.metrics import confusion_matrix\n",
        "from sklearn.metrics import plot_confusion_matrix\n",
        "from sklearn.model_selection import train_test_split\n",
        "from sklearn.model_selection import RandomizedSearchCV\n",
        "from sklearn.neighbors import KNeighborsClassifier\n",
        "from sklearn.preprocessing import StandardScaler\n",
        "from sklearn.ensemble import RandomForestClassifier\n",
        "import seaborn as sns\n",
        "import matplotlib.pyplot as plt \n",
        "from sklearn import metrics\n",
        "from sklearn.metrics import accuracy_score, f1_score, precision_score, recall_score, classification_report, confusion_matrix,r2_score\n",
        "from sklearn import model_selection\n",
        "from sklearn.ensemble import BaggingClassifier\n",
        "import warnings\n",
        "from imblearn.over_sampling import SMOTE\n",
        "warnings.filterwarnings('ignore')\n",
        "import tensorflow as tf\n",
        "from tensorflow import keras \n",
        "from tensorflow import keras\n",
        "from tensorflow.keras.models import Sequential\n",
        "from tensorflow.keras.layers import Dense, Dropout, Flatten\n",
        "from tensorflow.keras.optimizers import Adam \n",
        "from sklearn.metrics import accuracy_score\n",
        "from sklearn.metrics import confusion_matrix"
      ],
      "metadata": {
        "id": "8TvW0SUbKssy"
      },
      "execution_count": 1,
      "outputs": []
    },
    {
      "cell_type": "code",
      "execution_count": 2,
      "metadata": {
        "id": "fRRsWXUecCNl"
      },
      "outputs": [],
      "source": [
        "import pandas as pd"
      ]
    },
    {
      "cell_type": "code",
      "source": [
        "url = 'https://raw.githubusercontent.com/ShawnLiu119/CapstoneProject_BankingMarketing/main/rawdata/bank-additional-full.csv'\n",
        "data = pd.read_csv(url, sep=';')"
      ],
      "metadata": {
        "id": "1FiIE4lzcJcW"
      },
      "execution_count": 3,
      "outputs": []
    },
    {
      "cell_type": "markdown",
      "source": [
        "### Data Transformation - Feature Engineer"
      ],
      "metadata": {
        "id": "BeRBJ8ZMc345"
      }
    },
    {
      "cell_type": "code",
      "source": [
        "data['education'].value_counts()\n",
        "\n",
        "data_1 = data.copy()\n",
        "data_1 = data_1[data_1['education'] != 'illiterate']\n",
        "\n",
        "data_1['edu_new'] = data_1['education'].map({'basic.4y': 'pre_high', \n",
        "                                         'basic.9y': 'pre_high',\n",
        "                                         'basic.6y': 'pre_high',\n",
        "                                         'university.degree' : 'post_high',\n",
        "                                         'professional.course':'post_high',\n",
        "                                         'high.school' : 'high',\n",
        "                                         'unknown' :'unknown' })"
      ],
      "metadata": {
        "id": "bbhSCh5ncQmI"
      },
      "execution_count": 4,
      "outputs": []
    },
    {
      "cell_type": "code",
      "source": [
        "def map_job(row):\n",
        "    if row['job'] in ['admin.', 'management', 'entrepreneur','self-employed']:\n",
        "        cat = 'white_collar'\n",
        "    elif row['job'] in ['housemaid', 'blue-collar', 'technician', 'services']:\n",
        "        cat = 'blue_collar'\n",
        "    elif row['job'] in ['student', 'retired', 'unemployed']:\n",
        "        cat = 'not_working'\n",
        "    else:\n",
        "        cat = 'unknown'\n",
        "    return cat\n",
        "\n",
        "data_1['job_new'] = data_1.apply(map_job, axis=1)\n",
        "data_1['job_new'].value_counts(dropna = False)"
      ],
      "metadata": {
        "colab": {
          "base_uri": "https://localhost:8080/"
        },
        "id": "eHGAdfSkcS5b",
        "outputId": "32477a06-e6b6-48b3-b4ca-98147992abab"
      },
      "execution_count": 5,
      "outputs": [
        {
          "output_type": "execute_result",
          "data": {
            "text/plain": [
              "blue_collar     21017\n",
              "white_collar    16217\n",
              "not_working      3606\n",
              "unknown           330\n",
              "Name: job_new, dtype: int64"
            ]
          },
          "metadata": {},
          "execution_count": 5
        }
      ]
    },
    {
      "cell_type": "code",
      "source": [
        "def map_month(row):\n",
        "    if row['month'] in ['mar', 'apr', 'may']:\n",
        "        cat = 'spring'\n",
        "    elif row['month'] in ['jun', 'jul', 'aug']:\n",
        "        cat = 'summer'\n",
        "    elif row['month'] in ['sep', 'oct', 'nov']:\n",
        "        cat = 'fall'\n",
        "    else:\n",
        "        cat = 'winter'\n",
        "    return cat\n",
        "\n",
        "data_1['season'] = data_1.apply(map_month, axis=1)\n",
        "data_1['season'].value_counts(dropna = False)"
      ],
      "metadata": {
        "colab": {
          "base_uri": "https://localhost:8080/"
        },
        "id": "94-u-jWxcU_5",
        "outputId": "0095cf78-b4d6-4ed0-c0de-5fab1f590ffd"
      },
      "execution_count": 6,
      "outputs": [
        {
          "output_type": "execute_result",
          "data": {
            "text/plain": [
              "summer    18660\n",
              "spring    16942\n",
              "fall       5386\n",
              "winter      182\n",
              "Name: season, dtype: int64"
            ]
          },
          "metadata": {},
          "execution_count": 6
        }
      ]
    },
    {
      "cell_type": "code",
      "source": [
        "data_1.columns"
      ],
      "metadata": {
        "colab": {
          "base_uri": "https://localhost:8080/"
        },
        "id": "MTQZAXjLcXVU",
        "outputId": "2ce8d4d7-5815-4d65-e25c-eb6a732a9926"
      },
      "execution_count": 7,
      "outputs": [
        {
          "output_type": "execute_result",
          "data": {
            "text/plain": [
              "Index(['age', 'job', 'marital', 'education', 'default', 'housing', 'loan',\n",
              "       'contact', 'month', 'day_of_week', 'duration', 'campaign', 'pdays',\n",
              "       'previous', 'poutcome', 'emp.var.rate', 'cons.price.idx',\n",
              "       'cons.conf.idx', 'euribor3m', 'nr.employed', 'y', 'edu_new', 'job_new',\n",
              "       'season'],\n",
              "      dtype='object')"
            ]
          },
          "metadata": {},
          "execution_count": 7
        }
      ]
    },
    {
      "cell_type": "code",
      "source": [
        "#This transformed dataframe is based on group discussion on 7/23\n",
        "# - keep all numerical features as they are\n",
        "# - consolidate categorical features (education, job, season) and drop originial ones\n",
        "\n",
        "df_tran_1 = data_1[['age', 'marital', 'default', 'housing', 'loan',\n",
        "       'contact', 'day_of_week', 'duration', 'campaign', 'pdays',\n",
        "       'previous', 'poutcome', 'emp.var.rate', 'cons.price.idx',\n",
        "       'cons.conf.idx', 'euribor3m', 'nr.employed', 'y', 'edu_new', 'job_new', 'season']]"
      ],
      "metadata": {
        "id": "AdtaLk4ycY_5"
      },
      "execution_count": 8,
      "outputs": []
    },
    {
      "cell_type": "code",
      "source": [
        "df_tran_1.shape\n",
        "#this is because we removed illiterate"
      ],
      "metadata": {
        "colab": {
          "base_uri": "https://localhost:8080/"
        },
        "id": "glqegqalI_rs",
        "outputId": "4dd0db56-c8d7-4050-8f96-c9b8a30c6489"
      },
      "execution_count": 9,
      "outputs": [
        {
          "output_type": "execute_result",
          "data": {
            "text/plain": [
              "(41170, 21)"
            ]
          },
          "metadata": {},
          "execution_count": 9
        }
      ]
    },
    {
      "cell_type": "code",
      "source": [
        "df_tran_1 = df_tran_1.drop(['duration'], axis=1)\n",
        "df_tran_1.columns"
      ],
      "metadata": {
        "colab": {
          "base_uri": "https://localhost:8080/"
        },
        "id": "FfhleyPscknX",
        "outputId": "74c0cf15-a6a8-481d-a08e-ab8e81263413"
      },
      "execution_count": 10,
      "outputs": [
        {
          "output_type": "execute_result",
          "data": {
            "text/plain": [
              "Index(['age', 'marital', 'default', 'housing', 'loan', 'contact',\n",
              "       'day_of_week', 'campaign', 'pdays', 'previous', 'poutcome',\n",
              "       'emp.var.rate', 'cons.price.idx', 'cons.conf.idx', 'euribor3m',\n",
              "       'nr.employed', 'y', 'edu_new', 'job_new', 'season'],\n",
              "      dtype='object')"
            ]
          },
          "metadata": {},
          "execution_count": 10
        }
      ]
    },
    {
      "cell_type": "markdown",
      "source": [
        "### Ordinal Encoding For Categorical Features"
      ],
      "metadata": {
        "id": "2F1p0tiPHKJC"
      }
    },
    {
      "cell_type": "code",
      "source": [
        "df_tran_1.head()"
      ],
      "metadata": {
        "colab": {
          "base_uri": "https://localhost:8080/",
          "height": 206
        },
        "id": "6mkfMf8fRm33",
        "outputId": "a80e1c91-f060-496f-f945-99f951ae82b4"
      },
      "execution_count": 11,
      "outputs": [
        {
          "output_type": "execute_result",
          "data": {
            "text/plain": [
              "   age  marital  default housing loan    contact day_of_week  campaign  pdays  \\\n",
              "0   56  married       no      no   no  telephone         mon         1    999   \n",
              "1   57  married  unknown      no   no  telephone         mon         1    999   \n",
              "2   37  married       no     yes   no  telephone         mon         1    999   \n",
              "3   40  married       no      no   no  telephone         mon         1    999   \n",
              "4   56  married       no      no  yes  telephone         mon         1    999   \n",
              "\n",
              "   previous     poutcome  emp.var.rate  cons.price.idx  cons.conf.idx  \\\n",
              "0         0  nonexistent           1.1          93.994          -36.4   \n",
              "1         0  nonexistent           1.1          93.994          -36.4   \n",
              "2         0  nonexistent           1.1          93.994          -36.4   \n",
              "3         0  nonexistent           1.1          93.994          -36.4   \n",
              "4         0  nonexistent           1.1          93.994          -36.4   \n",
              "\n",
              "   euribor3m  nr.employed   y   edu_new       job_new  season  \n",
              "0      4.857       5191.0  no  pre_high   blue_collar  spring  \n",
              "1      4.857       5191.0  no      high   blue_collar  spring  \n",
              "2      4.857       5191.0  no      high   blue_collar  spring  \n",
              "3      4.857       5191.0  no  pre_high  white_collar  spring  \n",
              "4      4.857       5191.0  no      high   blue_collar  spring  "
            ],
            "text/html": [
              "\n",
              "  <div id=\"df-6ef223ec-1a98-4e34-94c9-0cef8b39ac38\">\n",
              "    <div class=\"colab-df-container\">\n",
              "      <div>\n",
              "<style scoped>\n",
              "    .dataframe tbody tr th:only-of-type {\n",
              "        vertical-align: middle;\n",
              "    }\n",
              "\n",
              "    .dataframe tbody tr th {\n",
              "        vertical-align: top;\n",
              "    }\n",
              "\n",
              "    .dataframe thead th {\n",
              "        text-align: right;\n",
              "    }\n",
              "</style>\n",
              "<table border=\"1\" class=\"dataframe\">\n",
              "  <thead>\n",
              "    <tr style=\"text-align: right;\">\n",
              "      <th></th>\n",
              "      <th>age</th>\n",
              "      <th>marital</th>\n",
              "      <th>default</th>\n",
              "      <th>housing</th>\n",
              "      <th>loan</th>\n",
              "      <th>contact</th>\n",
              "      <th>day_of_week</th>\n",
              "      <th>campaign</th>\n",
              "      <th>pdays</th>\n",
              "      <th>previous</th>\n",
              "      <th>poutcome</th>\n",
              "      <th>emp.var.rate</th>\n",
              "      <th>cons.price.idx</th>\n",
              "      <th>cons.conf.idx</th>\n",
              "      <th>euribor3m</th>\n",
              "      <th>nr.employed</th>\n",
              "      <th>y</th>\n",
              "      <th>edu_new</th>\n",
              "      <th>job_new</th>\n",
              "      <th>season</th>\n",
              "    </tr>\n",
              "  </thead>\n",
              "  <tbody>\n",
              "    <tr>\n",
              "      <th>0</th>\n",
              "      <td>56</td>\n",
              "      <td>married</td>\n",
              "      <td>no</td>\n",
              "      <td>no</td>\n",
              "      <td>no</td>\n",
              "      <td>telephone</td>\n",
              "      <td>mon</td>\n",
              "      <td>1</td>\n",
              "      <td>999</td>\n",
              "      <td>0</td>\n",
              "      <td>nonexistent</td>\n",
              "      <td>1.1</td>\n",
              "      <td>93.994</td>\n",
              "      <td>-36.4</td>\n",
              "      <td>4.857</td>\n",
              "      <td>5191.0</td>\n",
              "      <td>no</td>\n",
              "      <td>pre_high</td>\n",
              "      <td>blue_collar</td>\n",
              "      <td>spring</td>\n",
              "    </tr>\n",
              "    <tr>\n",
              "      <th>1</th>\n",
              "      <td>57</td>\n",
              "      <td>married</td>\n",
              "      <td>unknown</td>\n",
              "      <td>no</td>\n",
              "      <td>no</td>\n",
              "      <td>telephone</td>\n",
              "      <td>mon</td>\n",
              "      <td>1</td>\n",
              "      <td>999</td>\n",
              "      <td>0</td>\n",
              "      <td>nonexistent</td>\n",
              "      <td>1.1</td>\n",
              "      <td>93.994</td>\n",
              "      <td>-36.4</td>\n",
              "      <td>4.857</td>\n",
              "      <td>5191.0</td>\n",
              "      <td>no</td>\n",
              "      <td>high</td>\n",
              "      <td>blue_collar</td>\n",
              "      <td>spring</td>\n",
              "    </tr>\n",
              "    <tr>\n",
              "      <th>2</th>\n",
              "      <td>37</td>\n",
              "      <td>married</td>\n",
              "      <td>no</td>\n",
              "      <td>yes</td>\n",
              "      <td>no</td>\n",
              "      <td>telephone</td>\n",
              "      <td>mon</td>\n",
              "      <td>1</td>\n",
              "      <td>999</td>\n",
              "      <td>0</td>\n",
              "      <td>nonexistent</td>\n",
              "      <td>1.1</td>\n",
              "      <td>93.994</td>\n",
              "      <td>-36.4</td>\n",
              "      <td>4.857</td>\n",
              "      <td>5191.0</td>\n",
              "      <td>no</td>\n",
              "      <td>high</td>\n",
              "      <td>blue_collar</td>\n",
              "      <td>spring</td>\n",
              "    </tr>\n",
              "    <tr>\n",
              "      <th>3</th>\n",
              "      <td>40</td>\n",
              "      <td>married</td>\n",
              "      <td>no</td>\n",
              "      <td>no</td>\n",
              "      <td>no</td>\n",
              "      <td>telephone</td>\n",
              "      <td>mon</td>\n",
              "      <td>1</td>\n",
              "      <td>999</td>\n",
              "      <td>0</td>\n",
              "      <td>nonexistent</td>\n",
              "      <td>1.1</td>\n",
              "      <td>93.994</td>\n",
              "      <td>-36.4</td>\n",
              "      <td>4.857</td>\n",
              "      <td>5191.0</td>\n",
              "      <td>no</td>\n",
              "      <td>pre_high</td>\n",
              "      <td>white_collar</td>\n",
              "      <td>spring</td>\n",
              "    </tr>\n",
              "    <tr>\n",
              "      <th>4</th>\n",
              "      <td>56</td>\n",
              "      <td>married</td>\n",
              "      <td>no</td>\n",
              "      <td>no</td>\n",
              "      <td>yes</td>\n",
              "      <td>telephone</td>\n",
              "      <td>mon</td>\n",
              "      <td>1</td>\n",
              "      <td>999</td>\n",
              "      <td>0</td>\n",
              "      <td>nonexistent</td>\n",
              "      <td>1.1</td>\n",
              "      <td>93.994</td>\n",
              "      <td>-36.4</td>\n",
              "      <td>4.857</td>\n",
              "      <td>5191.0</td>\n",
              "      <td>no</td>\n",
              "      <td>high</td>\n",
              "      <td>blue_collar</td>\n",
              "      <td>spring</td>\n",
              "    </tr>\n",
              "  </tbody>\n",
              "</table>\n",
              "</div>\n",
              "      <button class=\"colab-df-convert\" onclick=\"convertToInteractive('df-6ef223ec-1a98-4e34-94c9-0cef8b39ac38')\"\n",
              "              title=\"Convert this dataframe to an interactive table.\"\n",
              "              style=\"display:none;\">\n",
              "        \n",
              "  <svg xmlns=\"http://www.w3.org/2000/svg\" height=\"24px\"viewBox=\"0 0 24 24\"\n",
              "       width=\"24px\">\n",
              "    <path d=\"M0 0h24v24H0V0z\" fill=\"none\"/>\n",
              "    <path d=\"M18.56 5.44l.94 2.06.94-2.06 2.06-.94-2.06-.94-.94-2.06-.94 2.06-2.06.94zm-11 1L8.5 8.5l.94-2.06 2.06-.94-2.06-.94L8.5 2.5l-.94 2.06-2.06.94zm10 10l.94 2.06.94-2.06 2.06-.94-2.06-.94-.94-2.06-.94 2.06-2.06.94z\"/><path d=\"M17.41 7.96l-1.37-1.37c-.4-.4-.92-.59-1.43-.59-.52 0-1.04.2-1.43.59L10.3 9.45l-7.72 7.72c-.78.78-.78 2.05 0 2.83L4 21.41c.39.39.9.59 1.41.59.51 0 1.02-.2 1.41-.59l7.78-7.78 2.81-2.81c.8-.78.8-2.07 0-2.86zM5.41 20L4 18.59l7.72-7.72 1.47 1.35L5.41 20z\"/>\n",
              "  </svg>\n",
              "      </button>\n",
              "      \n",
              "  <style>\n",
              "    .colab-df-container {\n",
              "      display:flex;\n",
              "      flex-wrap:wrap;\n",
              "      gap: 12px;\n",
              "    }\n",
              "\n",
              "    .colab-df-convert {\n",
              "      background-color: #E8F0FE;\n",
              "      border: none;\n",
              "      border-radius: 50%;\n",
              "      cursor: pointer;\n",
              "      display: none;\n",
              "      fill: #1967D2;\n",
              "      height: 32px;\n",
              "      padding: 0 0 0 0;\n",
              "      width: 32px;\n",
              "    }\n",
              "\n",
              "    .colab-df-convert:hover {\n",
              "      background-color: #E2EBFA;\n",
              "      box-shadow: 0px 1px 2px rgba(60, 64, 67, 0.3), 0px 1px 3px 1px rgba(60, 64, 67, 0.15);\n",
              "      fill: #174EA6;\n",
              "    }\n",
              "\n",
              "    [theme=dark] .colab-df-convert {\n",
              "      background-color: #3B4455;\n",
              "      fill: #D2E3FC;\n",
              "    }\n",
              "\n",
              "    [theme=dark] .colab-df-convert:hover {\n",
              "      background-color: #434B5C;\n",
              "      box-shadow: 0px 1px 3px 1px rgba(0, 0, 0, 0.15);\n",
              "      filter: drop-shadow(0px 1px 2px rgba(0, 0, 0, 0.3));\n",
              "      fill: #FFFFFF;\n",
              "    }\n",
              "  </style>\n",
              "\n",
              "      <script>\n",
              "        const buttonEl =\n",
              "          document.querySelector('#df-6ef223ec-1a98-4e34-94c9-0cef8b39ac38 button.colab-df-convert');\n",
              "        buttonEl.style.display =\n",
              "          google.colab.kernel.accessAllowed ? 'block' : 'none';\n",
              "\n",
              "        async function convertToInteractive(key) {\n",
              "          const element = document.querySelector('#df-6ef223ec-1a98-4e34-94c9-0cef8b39ac38');\n",
              "          const dataTable =\n",
              "            await google.colab.kernel.invokeFunction('convertToInteractive',\n",
              "                                                     [key], {});\n",
              "          if (!dataTable) return;\n",
              "\n",
              "          const docLinkHtml = 'Like what you see? Visit the ' +\n",
              "            '<a target=\"_blank\" href=https://colab.research.google.com/notebooks/data_table.ipynb>data table notebook</a>'\n",
              "            + ' to learn more about interactive tables.';\n",
              "          element.innerHTML = '';\n",
              "          dataTable['output_type'] = 'display_data';\n",
              "          await google.colab.output.renderOutput(dataTable, element);\n",
              "          const docLink = document.createElement('div');\n",
              "          docLink.innerHTML = docLinkHtml;\n",
              "          element.appendChild(docLink);\n",
              "        }\n",
              "      </script>\n",
              "    </div>\n",
              "  </div>\n",
              "  "
            ]
          },
          "metadata": {},
          "execution_count": 11
        }
      ]
    },
    {
      "cell_type": "code",
      "source": [
        "y = df_tran_1['y'].apply(lambda x: 0 if x=='no' else (1 if x=='yes' else -1))\n",
        "y.value_counts()"
      ],
      "metadata": {
        "colab": {
          "base_uri": "https://localhost:8080/"
        },
        "id": "9C3ghJDEIJYU",
        "outputId": "0ff5c642-baf6-44a5-e4d5-45fee020c56a"
      },
      "execution_count": 12,
      "outputs": [
        {
          "output_type": "execute_result",
          "data": {
            "text/plain": [
              "0    36534\n",
              "1     4636\n",
              "Name: y, dtype: int64"
            ]
          },
          "metadata": {},
          "execution_count": 12
        }
      ]
    },
    {
      "cell_type": "code",
      "source": [
        "x = df_tran_1.drop('y', axis=1)"
      ],
      "metadata": {
        "id": "8k4PWWzGIuaQ"
      },
      "execution_count": 13,
      "outputs": []
    },
    {
      "cell_type": "code",
      "source": [
        "x['poutcome'].value_counts()"
      ],
      "metadata": {
        "colab": {
          "base_uri": "https://localhost:8080/"
        },
        "id": "ApfiMx_yV_GQ",
        "outputId": "c3768798-1914-4ae9-8072-78c700cf30c1"
      },
      "execution_count": 14,
      "outputs": [
        {
          "output_type": "execute_result",
          "data": {
            "text/plain": [
              "nonexistent    35547\n",
              "failure         4251\n",
              "success         1372\n",
              "Name: poutcome, dtype: int64"
            ]
          },
          "metadata": {},
          "execution_count": 14
        }
      ]
    },
    {
      "cell_type": "code",
      "source": [
        "fig = plt.figure(figsize =(10, 7))\n",
        "plt.boxplot(x['pdays'])\n",
        "plt.show()"
      ],
      "metadata": {
        "colab": {
          "base_uri": "https://localhost:8080/",
          "height": 428
        },
        "id": "LTz7EIJ8WRqW",
        "outputId": "f770333e-38cb-4609-8ebf-4c90275b45b8"
      },
      "execution_count": 15,
      "outputs": [
        {
          "output_type": "display_data",
          "data": {
            "text/plain": [
              "<Figure size 720x504 with 1 Axes>"
            ],
            "image/png": "[encoded data removed]"
          },
          "metadata": {
            "needs_background": "light"
          }
        }
      ]
    },
    {
      "cell_type": "code",
      "source": [
        "#since the neural network does work very well with sparse matrix, one hot encoding might be suitable, here i will test ordinal encoding\n",
        "\n",
        "x['housing'] = x['housing'].apply(lambda t: 0 if t =='no' else (1 if t=='yes' else -1))\n",
        "x['default'] = x['default'].apply(lambda t: 0 if t =='no' else (1 if t=='yes' else -1))\n",
        "\n",
        "#higher weight is assinged to success result of previous campaign\n",
        "x['poutcome'] = x['poutcome'].apply(lambda t: 0 if t=='failure' else (2 if t=='success' else 1))\n",
        "\n",
        "#the further it is from the date when the customer was contacted, the lower the value assigned\n",
        "x['pdays'] = x['pdays'].apply(lambda t: 0 if t==999 else (3 if t<=10 else (2 if t<= 20 else 1)))\n",
        "\n",
        "x['loan'] = x['loan'].apply(lambda t: 0 if t=='no' else (1 if t=='yes' else -1))\n",
        "\n",
        "x['contact'] = x['contact'].apply(lambda t: 0 if t=='telephone' else 1)\n",
        "x['marital'] = x['marital'].apply(lambda t: 1 if t=='married' else 0)\n",
        "\n",
        "x['edu_new'] = x['edu_new'].apply(lambda t: 3 if t=='post_high' else (2 if t=='high' else (1 if t=='pre_high' else 0)))\n",
        "x['season'] = x['edu_new'].apply(lambda t: 3 if t=='summer' else (2 if t=='spring' else (1 if t=='fall' else 0)))\n",
        "x['job_new'] = x['job_new'].apply(lambda t: 3 if t=='blue_collar' else (2 if t=='white_collar' else (1 if t=='not_working' else 0)))\n",
        "\n",
        "x.head()"
      ],
      "metadata": {
        "colab": {
          "base_uri": "https://localhost:8080/",
          "height": 206
        },
        "id": "H4k_fjhNHJPi",
        "outputId": "4fbf9d8f-11c2-44fc-919a-ff72a18e5802"
      },
      "execution_count": 16,
      "outputs": [
        {
          "output_type": "execute_result",
          "data": {
            "text/plain": [
              "   age  marital  default  housing  loan  contact day_of_week  campaign  pdays  \\\n",
              "0   56        1        0        0     0        0         mon         1      0   \n",
              "1   57        1       -1        0     0        0         mon         1      0   \n",
              "2   37        1        0        1     0        0         mon         1      0   \n",
              "3   40        1        0        0     0        0         mon         1      0   \n",
              "4   56        1        0        0     1        0         mon         1      0   \n",
              "\n",
              "   previous  poutcome  emp.var.rate  cons.price.idx  cons.conf.idx  euribor3m  \\\n",
              "0         0         1           1.1          93.994          -36.4      4.857   \n",
              "1         0         1           1.1          93.994          -36.4      4.857   \n",
              "2         0         1           1.1          93.994          -36.4      4.857   \n",
              "3         0         1           1.1          93.994          -36.4      4.857   \n",
              "4         0         1           1.1          93.994          -36.4      4.857   \n",
              "\n",
              "   nr.employed  edu_new  job_new  season  \n",
              "0       5191.0        1        3       0  \n",
              "1       5191.0        2        3       0  \n",
              "2       5191.0        2        3       0  \n",
              "3       5191.0        1        2       0  \n",
              "4       5191.0        2        3       0  "
            ],
            "text/html": [
              "\n",
              "  <div id=\"df-a65eb19f-c960-4848-b852-657c1bc572dd\">\n",
              "    <div class=\"colab-df-container\">\n",
              "      <div>\n",
              "<style scoped>\n",
              "    .dataframe tbody tr th:only-of-type {\n",
              "        vertical-align: middle;\n",
              "    }\n",
              "\n",
              "    .dataframe tbody tr th {\n",
              "        vertical-align: top;\n",
              "    }\n",
              "\n",
              "    .dataframe thead th {\n",
              "        text-align: right;\n",
              "    }\n",
              "</style>\n",
              "<table border=\"1\" class=\"dataframe\">\n",
              "  <thead>\n",
              "    <tr style=\"text-align: right;\">\n",
              "      <th></th>\n",
              "      <th>age</th>\n",
              "      <th>marital</th>\n",
              "      <th>default</th>\n",
              "      <th>housing</th>\n",
              "      <th>loan</th>\n",
              "      <th>contact</th>\n",
              "      <th>day_of_week</th>\n",
              "      <th>campaign</th>\n",
              "      <th>pdays</th>\n",
              "      <th>previous</th>\n",
              "      <th>poutcome</th>\n",
              "      <th>emp.var.rate</th>\n",
              "      <th>cons.price.idx</th>\n",
              "      <th>cons.conf.idx</th>\n",
              "      <th>euribor3m</th>\n",
              "      <th>nr.employed</th>\n",
              "      <th>edu_new</th>\n",
              "      <th>job_new</th>\n",
              "      <th>season</th>\n",
              "    </tr>\n",
              "  </thead>\n",
              "  <tbody>\n",
              "    <tr>\n",
              "      <th>0</th>\n",
              "      <td>56</td>\n",
              "      <td>1</td>\n",
              "      <td>0</td>\n",
              "      <td>0</td>\n",
              "      <td>0</td>\n",
              "      <td>0</td>\n",
              "      <td>mon</td>\n",
              "      <td>1</td>\n",
              "      <td>0</td>\n",
              "      <td>0</td>\n",
              "      <td>1</td>\n",
              "      <td>1.1</td>\n",
              "      <td>93.994</td>\n",
              "      <td>-36.4</td>\n",
              "      <td>4.857</td>\n",
              "      <td>5191.0</td>\n",
              "      <td>1</td>\n",
              "      <td>3</td>\n",
              "      <td>0</td>\n",
              "    </tr>\n",
              "    <tr>\n",
              "      <th>1</th>\n",
              "      <td>57</td>\n",
              "      <td>1</td>\n",
              "      <td>-1</td>\n",
              "      <td>0</td>\n",
              "      <td>0</td>\n",
              "      <td>0</td>\n",
              "      <td>mon</td>\n",
              "      <td>1</td>\n",
              "      <td>0</td>\n",
              "      <td>0</td>\n",
              "      <td>1</td>\n",
              "      <td>1.1</td>\n",
              "      <td>93.994</td>\n",
              "      <td>-36.4</td>\n",
              "      <td>4.857</td>\n",
              "      <td>5191.0</td>\n",
              "      <td>2</td>\n",
              "      <td>3</td>\n",
              "      <td>0</td>\n",
              "    </tr>\n",
              "    <tr>\n",
              "      <th>2</th>\n",
              "      <td>37</td>\n",
              "      <td>1</td>\n",
              "      <td>0</td>\n",
              "      <td>1</td>\n",
              "      <td>0</td>\n",
              "      <td>0</td>\n",
              "      <td>mon</td>\n",
              "      <td>1</td>\n",
              "      <td>0</td>\n",
              "      <td>0</td>\n",
              "      <td>1</td>\n",
              "      <td>1.1</td>\n",
              "      <td>93.994</td>\n",
              "      <td>-36.4</td>\n",
              "      <td>4.857</td>\n",
              "      <td>5191.0</td>\n",
              "      <td>2</td>\n",
              "      <td>3</td>\n",
              "      <td>0</td>\n",
              "    </tr>\n",
              "    <tr>\n",
              "      <th>3</th>\n",
              "      <td>40</td>\n",
              "      <td>1</td>\n",
              "      <td>0</td>\n",
              "      <td>0</td>\n",
              "      <td>0</td>\n",
              "      <td>0</td>\n",
              "      <td>mon</td>\n",
              "      <td>1</td>\n",
              "      <td>0</td>\n",
              "      <td>0</td>\n",
              "      <td>1</td>\n",
              "      <td>1.1</td>\n",
              "      <td>93.994</td>\n",
              "      <td>-36.4</td>\n",
              "      <td>4.857</td>\n",
              "      <td>5191.0</td>\n",
              "      <td>1</td>\n",
              "      <td>2</td>\n",
              "      <td>0</td>\n",
              "    </tr>\n",
              "    <tr>\n",
              "      <th>4</th>\n",
              "      <td>56</td>\n",
              "      <td>1</td>\n",
              "      <td>0</td>\n",
              "      <td>0</td>\n",
              "      <td>1</td>\n",
              "      <td>0</td>\n",
              "      <td>mon</td>\n",
              "      <td>1</td>\n",
              "      <td>0</td>\n",
              "      <td>0</td>\n",
              "      <td>1</td>\n",
              "      <td>1.1</td>\n",
              "      <td>93.994</td>\n",
              "      <td>-36.4</td>\n",
              "      <td>4.857</td>\n",
              "      <td>5191.0</td>\n",
              "      <td>2</td>\n",
              "      <td>3</td>\n",
              "      <td>0</td>\n",
              "    </tr>\n",
              "  </tbody>\n",
              "</table>\n",
              "</div>\n",
              "      <button class=\"colab-df-convert\" onclick=\"convertToInteractive('df-a65eb19f-c960-4848-b852-657c1bc572dd')\"\n",
              "              title=\"Convert this dataframe to an interactive table.\"\n",
              "              style=\"display:none;\">\n",
              "        \n",
              "  <svg xmlns=\"http://www.w3.org/2000/svg\" height=\"24px\"viewBox=\"0 0 24 24\"\n",
              "       width=\"24px\">\n",
              "    <path d=\"M0 0h24v24H0V0z\" fill=\"none\"/>\n",
              "    <path d=\"M18.56 5.44l.94 2.06.94-2.06 2.06-.94-2.06-.94-.94-2.06-.94 2.06-2.06.94zm-11 1L8.5 8.5l.94-2.06 2.06-.94-2.06-.94L8.5 2.5l-.94 2.06-2.06.94zm10 10l.94 2.06.94-2.06 2.06-.94-2.06-.94-.94-2.06-.94 2.06-2.06.94z\"/><path d=\"M17.41 7.96l-1.37-1.37c-.4-.4-.92-.59-1.43-.59-.52 0-1.04.2-1.43.59L10.3 9.45l-7.72 7.72c-.78.78-.78 2.05 0 2.83L4 21.41c.39.39.9.59 1.41.59.51 0 1.02-.2 1.41-.59l7.78-7.78 2.81-2.81c.8-.78.8-2.07 0-2.86zM5.41 20L4 18.59l7.72-7.72 1.47 1.35L5.41 20z\"/>\n",
              "  </svg>\n",
              "      </button>\n",
              "      \n",
              "  <style>\n",
              "    .colab-df-container {\n",
              "      display:flex;\n",
              "      flex-wrap:wrap;\n",
              "      gap: 12px;\n",
              "    }\n",
              "\n",
              "    .colab-df-convert {\n",
              "      background-color: #E8F0FE;\n",
              "      border: none;\n",
              "      border-radius: 50%;\n",
              "      cursor: pointer;\n",
              "      display: none;\n",
              "      fill: #1967D2;\n",
              "      height: 32px;\n",
              "      padding: 0 0 0 0;\n",
              "      width: 32px;\n",
              "    }\n",
              "\n",
              "    .colab-df-convert:hover {\n",
              "      background-color: #E2EBFA;\n",
              "      box-shadow: 0px 1px 2px rgba(60, 64, 67, 0.3), 0px 1px 3px 1px rgba(60, 64, 67, 0.15);\n",
              "      fill: #174EA6;\n",
              "    }\n",
              "\n",
              "    [theme=dark] .colab-df-convert {\n",
              "      background-color: #3B4455;\n",
              "      fill: #D2E3FC;\n",
              "    }\n",
              "\n",
              "    [theme=dark] .colab-df-convert:hover {\n",
              "      background-color: #434B5C;\n",
              "      box-shadow: 0px 1px 3px 1px rgba(0, 0, 0, 0.15);\n",
              "      filter: drop-shadow(0px 1px 2px rgba(0, 0, 0, 0.3));\n",
              "      fill: #FFFFFF;\n",
              "    }\n",
              "  </style>\n",
              "\n",
              "      <script>\n",
              "        const buttonEl =\n",
              "          document.querySelector('#df-a65eb19f-c960-4848-b852-657c1bc572dd button.colab-df-convert');\n",
              "        buttonEl.style.display =\n",
              "          google.colab.kernel.accessAllowed ? 'block' : 'none';\n",
              "\n",
              "        async function convertToInteractive(key) {\n",
              "          const element = document.querySelector('#df-a65eb19f-c960-4848-b852-657c1bc572dd');\n",
              "          const dataTable =\n",
              "            await google.colab.kernel.invokeFunction('convertToInteractive',\n",
              "                                                     [key], {});\n",
              "          if (!dataTable) return;\n",
              "\n",
              "          const docLinkHtml = 'Like what you see? Visit the ' +\n",
              "            '<a target=\"_blank\" href=https://colab.research.google.com/notebooks/data_table.ipynb>data table notebook</a>'\n",
              "            + ' to learn more about interactive tables.';\n",
              "          element.innerHTML = '';\n",
              "          dataTable['output_type'] = 'display_data';\n",
              "          await google.colab.output.renderOutput(dataTable, element);\n",
              "          const docLink = document.createElement('div');\n",
              "          docLink.innerHTML = docLinkHtml;\n",
              "          element.appendChild(docLink);\n",
              "        }\n",
              "      </script>\n",
              "    </div>\n",
              "  </div>\n",
              "  "
            ]
          },
          "metadata": {},
          "execution_count": 16
        }
      ]
    },
    {
      "cell_type": "code",
      "source": [
        "x = x.drop(['day_of_week'], axis=1)"
      ],
      "metadata": {
        "id": "gq3rt2OsHrSS"
      },
      "execution_count": 17,
      "outputs": []
    },
    {
      "cell_type": "markdown",
      "source": [
        "### Train-Test Split & Data Normalization"
      ],
      "metadata": {
        "id": "7ieyi_1SKBZX"
      }
    },
    {
      "cell_type": "code",
      "source": [
        "from sklearn.preprocessing import MinMaxScaler\n",
        "\n",
        "scaler = MinMaxScaler()\n",
        "x_mm = scaler.fit_transform(x)"
      ],
      "metadata": {
        "id": "Y6xc2akgNZCK"
      },
      "execution_count": 18,
      "outputs": []
    },
    {
      "cell_type": "code",
      "source": [
        "#here i used stratified sampling approach, since the raw data is not balanced distributed\n",
        "x_train,x_test,y_train,y_test = train_test_split(x_mm, y, test_size = 0.2, stratify=y, random_state=42)\n",
        "print(x_train.shape,\n",
        "      x_test.shape,\n",
        "      y_train.shape,\n",
        "      y_test.shape)"
      ],
      "metadata": {
        "colab": {
          "base_uri": "https://localhost:8080/"
        },
        "id": "BrdyrKTrHrPd",
        "outputId": "f312ba62-62b1-444a-b17b-f62747c0c14c"
      },
      "execution_count": 19,
      "outputs": [
        {
          "output_type": "stream",
          "name": "stdout",
          "text": [
            "(32936, 18) (8234, 18) (32936,) (8234,)\n"
          ]
        }
      ]
    },
    {
      "cell_type": "markdown",
      "source": [
        "### Balancing the data using SMOTE\n",
        "\n",
        "https://towardsdatascience.com/all-about-imbalanced-machine-learning-classifiers-60563014d2b3\n"
      ],
      "metadata": {
        "id": "7MQKTaWlzPA3"
      }
    },
    {
      "cell_type": "code",
      "source": [
        "pip install -U imbalanced-learn"
      ],
      "metadata": {
        "colab": {
          "base_uri": "https://localhost:8080/"
        },
        "id": "tbj26liCxuxL",
        "outputId": "2905e70c-f496-43e2-906c-9bcc328b9871"
      },
      "execution_count": 20,
      "outputs": [
        {
          "output_type": "stream",
          "name": "stdout",
          "text": [
            "Looking in indexes: https://pypi.org/simple, https://us-python.pkg.dev/colab-wheels/public/simple/\n",
            "Requirement already satisfied: imbalanced-learn in /usr/local/lib/python3.7/dist-packages (0.9.0)\n",
            "Collecting imbalanced-learn\n",
            "  Using cached imbalanced_learn-0.9.1-py3-none-any.whl (199 kB)\n",
            "Requirement already satisfied: numpy>=1.17.3 in /usr/local/lib/python3.7/dist-packages (from imbalanced-learn) (1.21.6)\n",
            "Requirement already satisfied: threadpoolctl>=2.0.0 in /usr/local/lib/python3.7/dist-packages (from imbalanced-learn) (3.1.0)\n",
            "Requirement already satisfied: scipy>=1.3.2 in /usr/local/lib/python3.7/dist-packages (from imbalanced-learn) (1.7.3)\n",
            "Requirement already satisfied: joblib>=1.0.0 in /usr/local/lib/python3.7/dist-packages (from imbalanced-learn) (1.1.0)\n",
            "Requirement already satisfied: scikit-learn>=1.0.1 in /usr/local/lib/python3.7/dist-packages (from imbalanced-learn) (1.0.2)\n"
          ]
        }
      ]
    },
    {
      "cell_type": "code",
      "source": [
        "import imblearn\n",
        "\n",
        "smote = SMOTE()\n",
        "\n",
        "x_s, y_s = smote.fit_resample(x_train, y_train)\n",
        "\n",
        "print('Original dataset shape', len(x_train))\n",
        "print('Resampled dataset shape', len(x_s))"
      ],
      "metadata": {
        "colab": {
          "base_uri": "https://localhost:8080/"
        },
        "id": "oNyXi6IBxuum",
        "outputId": "b0fd3119-5a4e-4d75-ae01-c022a1a28595"
      },
      "execution_count": 21,
      "outputs": [
        {
          "output_type": "stream",
          "name": "stdout",
          "text": [
            "Original dataset shape 32936\n",
            "Resampled dataset shape 58454\n"
          ]
        }
      ]
    },
    {
      "cell_type": "markdown",
      "source": [
        "### Baseline Model - Neural Network \n"
      ],
      "metadata": {
        "id": "bTJhsSl5N3Fl"
      }
    },
    {
      "cell_type": "code",
      "source": [
        "model = Sequential()\n",
        "model.add(Flatten(input_shape=( x_s.shape[1],)))\n",
        "model.add(Dense(units = 64, kernel_initializer = 'he_uniform',activation='relu'))\n",
        "model.add(Dense(units = 16, kernel_initializer = 'he_uniform',activation='relu', kernel_regularizer=tf.keras.regularizers.L2(0.01)))\n",
        "model.add(Dropout(0.2))\n",
        "model.add(Dense(units = 1, kernel_initializer = 'glorot_uniform', activation = 'sigmoid'))"
      ],
      "metadata": {
        "id": "ZfR0lfaFMZWW"
      },
      "execution_count": 22,
      "outputs": []
    },
    {
      "cell_type": "markdown",
      "source": [
        "may need to revisit the kernel initialization and tweaking the model\n",
        "here is the reference:https://www.kaggle.com/code/trolukovich/glorot-vs-he-weight-initialization-experiment/notebook"
      ],
      "metadata": {
        "id": "N2hLHHLlUmD2"
      }
    },
    {
      "cell_type": "code",
      "source": [
        "model.compile(optimizer = 'adamax', loss = 'binary_crossentropy', metrics = [tf.keras.metrics.Precision()])\n",
        "model.summary()"
      ],
      "metadata": {
        "colab": {
          "base_uri": "https://localhost:8080/"
        },
        "id": "uhdkDf94U3Bp",
        "outputId": "6936f8a8-1147-409c-a02d-15c3b15d1b0e"
      },
      "execution_count": 23,
      "outputs": [
        {
          "output_type": "stream",
          "name": "stdout",
          "text": [
            "Model: \"sequential\"\n",
            "_________________________________________________________________\n",
            " Layer (type)                Output Shape              Param #   \n",
            "=================================================================\n",
            " flatten (Flatten)           (None, 18)                0         \n",
            "                                                                 \n",
            " dense (Dense)               (None, 64)                1216      \n",
            "                                                                 \n",
            " dense_1 (Dense)             (None, 16)                1040      \n",
            "                                                                 \n",
            " dropout (Dropout)           (None, 16)                0         \n",
            "                                                                 \n",
            " dense_2 (Dense)             (None, 1)                 17        \n",
            "                                                                 \n",
            "=================================================================\n",
            "Total params: 2,273\n",
            "Trainable params: 2,273\n",
            "Non-trainable params: 0\n",
            "_________________________________________________________________\n"
          ]
        }
      ]
    },
    {
      "cell_type": "code",
      "source": [
        "keras.utils.plot_model(model, \"CIFAR10.png\", show_shapes=True) "
      ],
      "metadata": {
        "colab": {
          "base_uri": "https://localhost:8080/",
          "height": 644
        },
        "id": "dZ402MA8ERfX",
        "outputId": "8744f3a2-8dd1-4740-a919-25bc361a0675"
      },
      "execution_count": 24,
      "outputs": [
        {
          "output_type": "execute_result",
          "data": {
            "text/plain": [
              "<IPython.core.display.Image object>"
            ],
            "image/png": "[encoded data removed]"
          },
          "metadata": {},
          "execution_count": 24
        }
      ]
    },
    {
      "cell_type": "code",
      "source": [
        "model_history = model.fit(x_s, y_s,validation_split=0.33, batch_size = 100, epochs = 100)"
      ],
      "metadata": {
        "colab": {
          "base_uri": "https://localhost:8080/"
        },
        "id": "ZP5G2rjdxurw",
        "outputId": "a445d91c-7947-4ba7-eb40-1d806c1c0f71"
      },
      "execution_count": 26,
      "outputs": [
        {
          "output_type": "stream",
          "name": "stdout",
          "text": [
            "Epoch 1/100\n",
            "392/392 [==============================] - 2s 6ms/step - loss: 0.4767 - precision: 0.7198 - val_loss: 1.1111 - val_precision: 1.0000\n",
            "Epoch 2/100\n",
            "392/392 [==============================] - 2s 6ms/step - loss: 0.4727 - precision: 0.7136 - val_loss: 1.1110 - val_precision: 1.0000\n",
            "Epoch 3/100\n",
            "392/392 [==============================] - 1s 4ms/step - loss: 0.4683 - precision: 0.7106 - val_loss: 1.0345 - val_precision: 1.0000\n",
            "Epoch 4/100\n",
            "392/392 [==============================] - 1s 3ms/step - loss: 0.4656 - precision: 0.7186 - val_loss: 1.0442 - val_precision: 1.0000\n",
            "Epoch 5/100\n",
            "392/392 [==============================] - 1s 3ms/step - loss: 0.4633 - precision: 0.7093 - val_loss: 1.0678 - val_precision: 1.0000\n",
            "Epoch 6/100\n",
            "392/392 [==============================] - 1s 3ms/step - loss: 0.4618 - precision: 0.7111 - val_loss: 1.0685 - val_precision: 1.0000\n",
            "Epoch 7/100\n",
            "392/392 [==============================] - 1s 3ms/step - loss: 0.4609 - precision: 0.7111 - val_loss: 1.0744 - val_precision: 1.0000\n",
            "Epoch 8/100\n",
            "392/392 [==============================] - 1s 3ms/step - loss: 0.4603 - precision: 0.7128 - val_loss: 0.9922 - val_precision: 1.0000\n",
            "Epoch 9/100\n",
            "392/392 [==============================] - 1s 3ms/step - loss: 0.4592 - precision: 0.7160 - val_loss: 1.0696 - val_precision: 1.0000\n",
            "Epoch 10/100\n",
            "392/392 [==============================] - 1s 3ms/step - loss: 0.4571 - precision: 0.7126 - val_loss: 1.0642 - val_precision: 1.0000\n",
            "Epoch 11/100\n",
            "392/392 [==============================] - 1s 3ms/step - loss: 0.4582 - precision: 0.7086 - val_loss: 1.0564 - val_precision: 1.0000\n",
            "Epoch 12/100\n",
            "392/392 [==============================] - 1s 3ms/step - loss: 0.4567 - precision: 0.7122 - val_loss: 1.0118 - val_precision: 1.0000\n",
            "Epoch 13/100\n",
            "392/392 [==============================] - 1s 3ms/step - loss: 0.4561 - precision: 0.7124 - val_loss: 1.0477 - val_precision: 1.0000\n",
            "Epoch 14/100\n",
            "392/392 [==============================] - 1s 3ms/step - loss: 0.4568 - precision: 0.7133 - val_loss: 1.0597 - val_precision: 1.0000\n",
            "Epoch 15/100\n",
            "392/392 [==============================] - 1s 3ms/step - loss: 0.4549 - precision: 0.7135 - val_loss: 1.0486 - val_precision: 1.0000\n",
            "Epoch 16/100\n",
            "392/392 [==============================] - 1s 3ms/step - loss: 0.4548 - precision: 0.7101 - val_loss: 1.0504 - val_precision: 1.0000\n",
            "Epoch 17/100\n",
            "392/392 [==============================] - 1s 3ms/step - loss: 0.4545 - precision: 0.7121 - val_loss: 1.0357 - val_precision: 1.0000\n",
            "Epoch 18/100\n",
            "392/392 [==============================] - 1s 3ms/step - loss: 0.4536 - precision: 0.7105 - val_loss: 1.0281 - val_precision: 1.0000\n",
            "Epoch 19/100\n",
            "392/392 [==============================] - 1s 3ms/step - loss: 0.4540 - precision: 0.7152 - val_loss: 1.0770 - val_precision: 1.0000\n",
            "Epoch 20/100\n",
            "392/392 [==============================] - 1s 3ms/step - loss: 0.4530 - precision: 0.7115 - val_loss: 0.9948 - val_precision: 1.0000\n",
            "Epoch 21/100\n",
            "392/392 [==============================] - 1s 3ms/step - loss: 0.4541 - precision: 0.7104 - val_loss: 1.0670 - val_precision: 1.0000\n",
            "Epoch 22/100\n",
            "392/392 [==============================] - 1s 3ms/step - loss: 0.4527 - precision: 0.7124 - val_loss: 1.0475 - val_precision: 1.0000\n",
            "Epoch 23/100\n",
            "392/392 [==============================] - 1s 3ms/step - loss: 0.4535 - precision: 0.7142 - val_loss: 1.0344 - val_precision: 1.0000\n",
            "Epoch 24/100\n",
            "392/392 [==============================] - 1s 3ms/step - loss: 0.4521 - precision: 0.7140 - val_loss: 1.0904 - val_precision: 1.0000\n",
            "Epoch 25/100\n",
            "392/392 [==============================] - 1s 3ms/step - loss: 0.4520 - precision: 0.7127 - val_loss: 1.0349 - val_precision: 1.0000\n",
            "Epoch 26/100\n",
            "392/392 [==============================] - 1s 3ms/step - loss: 0.4525 - precision: 0.7152 - val_loss: 1.1076 - val_precision: 1.0000\n",
            "Epoch 27/100\n",
            "392/392 [==============================] - 1s 3ms/step - loss: 0.4513 - precision: 0.7141 - val_loss: 1.0759 - val_precision: 1.0000\n",
            "Epoch 28/100\n",
            "392/392 [==============================] - 1s 3ms/step - loss: 0.4522 - precision: 0.7136 - val_loss: 1.0524 - val_precision: 1.0000\n",
            "Epoch 29/100\n",
            "392/392 [==============================] - 1s 3ms/step - loss: 0.4528 - precision: 0.7072 - val_loss: 1.0782 - val_precision: 1.0000\n",
            "Epoch 30/100\n",
            "392/392 [==============================] - 1s 3ms/step - loss: 0.4521 - precision: 0.7097 - val_loss: 1.1025 - val_precision: 1.0000\n",
            "Epoch 31/100\n",
            "392/392 [==============================] - 1s 3ms/step - loss: 0.4513 - precision: 0.7127 - val_loss: 1.0692 - val_precision: 1.0000\n",
            "Epoch 32/100\n",
            "392/392 [==============================] - 1s 3ms/step - loss: 0.4509 - precision: 0.7133 - val_loss: 1.0300 - val_precision: 1.0000\n",
            "Epoch 33/100\n",
            "392/392 [==============================] - 1s 3ms/step - loss: 0.4507 - precision: 0.7129 - val_loss: 1.0122 - val_precision: 1.0000\n",
            "Epoch 34/100\n",
            "392/392 [==============================] - 1s 3ms/step - loss: 0.4506 - precision: 0.7113 - val_loss: 1.0819 - val_precision: 1.0000\n",
            "Epoch 35/100\n",
            "392/392 [==============================] - 1s 3ms/step - loss: 0.4513 - precision: 0.7111 - val_loss: 0.9761 - val_precision: 1.0000\n",
            "Epoch 36/100\n",
            "392/392 [==============================] - 1s 3ms/step - loss: 0.4510 - precision: 0.7095 - val_loss: 1.0530 - val_precision: 1.0000\n",
            "Epoch 37/100\n",
            "392/392 [==============================] - 1s 3ms/step - loss: 0.4504 - precision: 0.7144 - val_loss: 1.0008 - val_precision: 1.0000\n",
            "Epoch 38/100\n",
            "392/392 [==============================] - 1s 3ms/step - loss: 0.4504 - precision: 0.7168 - val_loss: 1.0413 - val_precision: 1.0000\n",
            "Epoch 39/100\n",
            "392/392 [==============================] - 1s 3ms/step - loss: 0.4496 - precision: 0.7108 - val_loss: 1.0157 - val_precision: 1.0000\n",
            "Epoch 40/100\n",
            "392/392 [==============================] - 1s 3ms/step - loss: 0.4499 - precision: 0.7137 - val_loss: 1.0944 - val_precision: 1.0000\n",
            "Epoch 41/100\n",
            "392/392 [==============================] - 1s 3ms/step - loss: 0.4500 - precision: 0.7136 - val_loss: 1.0494 - val_precision: 1.0000\n",
            "Epoch 42/100\n",
            "392/392 [==============================] - 1s 3ms/step - loss: 0.4498 - precision: 0.7176 - val_loss: 1.0910 - val_precision: 1.0000\n",
            "Epoch 43/100\n",
            "392/392 [==============================] - 1s 3ms/step - loss: 0.4502 - precision: 0.7172 - val_loss: 1.0646 - val_precision: 1.0000\n",
            "Epoch 44/100\n",
            "392/392 [==============================] - 1s 3ms/step - loss: 0.4495 - precision: 0.7136 - val_loss: 0.9949 - val_precision: 1.0000\n",
            "Epoch 45/100\n",
            "392/392 [==============================] - 1s 3ms/step - loss: 0.4504 - precision: 0.7150 - val_loss: 1.0486 - val_precision: 1.0000\n",
            "Epoch 46/100\n",
            "392/392 [==============================] - 1s 3ms/step - loss: 0.4484 - precision: 0.7142 - val_loss: 1.0213 - val_precision: 1.0000\n",
            "Epoch 47/100\n",
            "392/392 [==============================] - 1s 3ms/step - loss: 0.4498 - precision: 0.7164 - val_loss: 1.0567 - val_precision: 1.0000\n",
            "Epoch 48/100\n",
            "392/392 [==============================] - 1s 3ms/step - loss: 0.4491 - precision: 0.7130 - val_loss: 1.1090 - val_precision: 1.0000\n",
            "Epoch 49/100\n",
            "392/392 [==============================] - 1s 3ms/step - loss: 0.4491 - precision: 0.7143 - val_loss: 1.0219 - val_precision: 1.0000\n",
            "Epoch 50/100\n",
            "392/392 [==============================] - 1s 3ms/step - loss: 0.4489 - precision: 0.7178 - val_loss: 1.1287 - val_precision: 1.0000\n",
            "Epoch 51/100\n",
            "392/392 [==============================] - 1s 3ms/step - loss: 0.4486 - precision: 0.7180 - val_loss: 1.0732 - val_precision: 1.0000\n",
            "Epoch 52/100\n",
            "392/392 [==============================] - 1s 3ms/step - loss: 0.4496 - precision: 0.7145 - val_loss: 1.0245 - val_precision: 1.0000\n",
            "Epoch 53/100\n",
            "392/392 [==============================] - 1s 3ms/step - loss: 0.4490 - precision: 0.7160 - val_loss: 1.0416 - val_precision: 1.0000\n",
            "Epoch 54/100\n",
            "392/392 [==============================] - 1s 3ms/step - loss: 0.4483 - precision: 0.7178 - val_loss: 1.0439 - val_precision: 1.0000\n",
            "Epoch 55/100\n",
            "392/392 [==============================] - 1s 3ms/step - loss: 0.4481 - precision: 0.7160 - val_loss: 1.0855 - val_precision: 1.0000\n",
            "Epoch 56/100\n",
            "392/392 [==============================] - 1s 3ms/step - loss: 0.4488 - precision: 0.7175 - val_loss: 1.0699 - val_precision: 1.0000\n",
            "Epoch 57/100\n",
            "392/392 [==============================] - 1s 3ms/step - loss: 0.4487 - precision: 0.7184 - val_loss: 1.0270 - val_precision: 1.0000\n",
            "Epoch 58/100\n",
            "392/392 [==============================] - 1s 3ms/step - loss: 0.4483 - precision: 0.7201 - val_loss: 1.0842 - val_precision: 1.0000\n",
            "Epoch 59/100\n",
            "392/392 [==============================] - 1s 3ms/step - loss: 0.4479 - precision: 0.7177 - val_loss: 1.0141 - val_precision: 1.0000\n",
            "Epoch 60/100\n",
            "392/392 [==============================] - 1s 3ms/step - loss: 0.4485 - precision: 0.7180 - val_loss: 0.9820 - val_precision: 1.0000\n",
            "Epoch 61/100\n",
            "392/392 [==============================] - 1s 3ms/step - loss: 0.4480 - precision: 0.7173 - val_loss: 1.0983 - val_precision: 1.0000\n",
            "Epoch 62/100\n",
            "392/392 [==============================] - 1s 3ms/step - loss: 0.4475 - precision: 0.7237 - val_loss: 1.1152 - val_precision: 1.0000\n",
            "Epoch 63/100\n",
            "392/392 [==============================] - 1s 3ms/step - loss: 0.4472 - precision: 0.7155 - val_loss: 1.0474 - val_precision: 1.0000\n",
            "Epoch 64/100\n",
            "392/392 [==============================] - 1s 3ms/step - loss: 0.4481 - precision: 0.7199 - val_loss: 1.0337 - val_precision: 1.0000\n",
            "Epoch 65/100\n",
            "392/392 [==============================] - 1s 3ms/step - loss: 0.4479 - precision: 0.7200 - val_loss: 1.0743 - val_precision: 1.0000\n",
            "Epoch 66/100\n",
            "392/392 [==============================] - 1s 3ms/step - loss: 0.4478 - precision: 0.7179 - val_loss: 1.0131 - val_precision: 1.0000\n",
            "Epoch 67/100\n",
            "392/392 [==============================] - 1s 3ms/step - loss: 0.4476 - precision: 0.7192 - val_loss: 1.0474 - val_precision: 1.0000\n",
            "Epoch 68/100\n",
            "392/392 [==============================] - 1s 3ms/step - loss: 0.4472 - precision: 0.7154 - val_loss: 1.0616 - val_precision: 1.0000\n",
            "Epoch 69/100\n",
            "392/392 [==============================] - 1s 3ms/step - loss: 0.4472 - precision: 0.7178 - val_loss: 1.0830 - val_precision: 1.0000\n",
            "Epoch 70/100\n",
            "392/392 [==============================] - 1s 3ms/step - loss: 0.4476 - precision: 0.7178 - val_loss: 1.1291 - val_precision: 1.0000\n",
            "Epoch 71/100\n",
            "392/392 [==============================] - 1s 3ms/step - loss: 0.4472 - precision: 0.7184 - val_loss: 1.0519 - val_precision: 1.0000\n",
            "Epoch 72/100\n",
            "392/392 [==============================] - 1s 3ms/step - loss: 0.4470 - precision: 0.7178 - val_loss: 1.0138 - val_precision: 1.0000\n",
            "Epoch 73/100\n",
            "392/392 [==============================] - 1s 3ms/step - loss: 0.4467 - precision: 0.7210 - val_loss: 1.0268 - val_precision: 1.0000\n",
            "Epoch 74/100\n",
            "392/392 [==============================] - 1s 3ms/step - loss: 0.4473 - precision: 0.7140 - val_loss: 1.0319 - val_precision: 1.0000\n",
            "Epoch 75/100\n",
            "392/392 [==============================] - 1s 3ms/step - loss: 0.4463 - precision: 0.7211 - val_loss: 1.0227 - val_precision: 1.0000\n",
            "Epoch 76/100\n",
            "392/392 [==============================] - 1s 3ms/step - loss: 0.4470 - precision: 0.7212 - val_loss: 1.0436 - val_precision: 1.0000\n",
            "Epoch 77/100\n",
            "392/392 [==============================] - 1s 3ms/step - loss: 0.4463 - precision: 0.7163 - val_loss: 1.1012 - val_precision: 1.0000\n",
            "Epoch 78/100\n",
            "392/392 [==============================] - 1s 3ms/step - loss: 0.4467 - precision: 0.7156 - val_loss: 1.0052 - val_precision: 1.0000\n",
            "Epoch 79/100\n",
            "392/392 [==============================] - 1s 3ms/step - loss: 0.4463 - precision: 0.7199 - val_loss: 1.0540 - val_precision: 1.0000\n",
            "Epoch 80/100\n",
            "392/392 [==============================] - 1s 3ms/step - loss: 0.4464 - precision: 0.7197 - val_loss: 1.0494 - val_precision: 1.0000\n",
            "Epoch 81/100\n",
            "392/392 [==============================] - 1s 3ms/step - loss: 0.4459 - precision: 0.7149 - val_loss: 1.0577 - val_precision: 1.0000\n",
            "Epoch 82/100\n",
            "392/392 [==============================] - 1s 3ms/step - loss: 0.4457 - precision: 0.7182 - val_loss: 1.0409 - val_precision: 1.0000\n",
            "Epoch 83/100\n",
            "392/392 [==============================] - 1s 3ms/step - loss: 0.4462 - precision: 0.7159 - val_loss: 0.9880 - val_precision: 1.0000\n",
            "Epoch 84/100\n",
            "392/392 [==============================] - 1s 3ms/step - loss: 0.4469 - precision: 0.7152 - val_loss: 1.0580 - val_precision: 1.0000\n",
            "Epoch 85/100\n",
            "392/392 [==============================] - 1s 3ms/step - loss: 0.4455 - precision: 0.7204 - val_loss: 1.0829 - val_precision: 1.0000\n",
            "Epoch 86/100\n",
            "392/392 [==============================] - 1s 3ms/step - loss: 0.4465 - precision: 0.7157 - val_loss: 1.0528 - val_precision: 1.0000\n",
            "Epoch 87/100\n",
            "392/392 [==============================] - 1s 3ms/step - loss: 0.4459 - precision: 0.7152 - val_loss: 1.0905 - val_precision: 1.0000\n",
            "Epoch 88/100\n",
            "392/392 [==============================] - 1s 3ms/step - loss: 0.4456 - precision: 0.7186 - val_loss: 1.0787 - val_precision: 1.0000\n",
            "Epoch 89/100\n",
            "392/392 [==============================] - 1s 3ms/step - loss: 0.4455 - precision: 0.7161 - val_loss: 1.0116 - val_precision: 1.0000\n",
            "Epoch 90/100\n",
            "392/392 [==============================] - 2s 5ms/step - loss: 0.4453 - precision: 0.7171 - val_loss: 0.9783 - val_precision: 1.0000\n",
            "Epoch 91/100\n",
            "392/392 [==============================] - 1s 3ms/step - loss: 0.4462 - precision: 0.7184 - val_loss: 1.0598 - val_precision: 1.0000\n",
            "Epoch 92/100\n",
            "392/392 [==============================] - 2s 5ms/step - loss: 0.4448 - precision: 0.7163 - val_loss: 1.0448 - val_precision: 1.0000\n",
            "Epoch 93/100\n",
            "392/392 [==============================] - 1s 3ms/step - loss: 0.4447 - precision: 0.7193 - val_loss: 1.0081 - val_precision: 1.0000\n",
            "Epoch 94/100\n",
            "392/392 [==============================] - 1s 3ms/step - loss: 0.4453 - precision: 0.7165 - val_loss: 1.0225 - val_precision: 1.0000\n",
            "Epoch 95/100\n",
            "392/392 [==============================] - 1s 3ms/step - loss: 0.4450 - precision: 0.7189 - val_loss: 1.0559 - val_precision: 1.0000\n",
            "Epoch 96/100\n",
            "392/392 [==============================] - 1s 3ms/step - loss: 0.4445 - precision: 0.7167 - val_loss: 1.0858 - val_precision: 1.0000\n",
            "Epoch 97/100\n",
            "392/392 [==============================] - 1s 3ms/step - loss: 0.4447 - precision: 0.7190 - val_loss: 1.0415 - val_precision: 1.0000\n",
            "Epoch 98/100\n",
            "392/392 [==============================] - 1s 3ms/step - loss: 0.4452 - precision: 0.7200 - val_loss: 1.0055 - val_precision: 1.0000\n",
            "Epoch 99/100\n",
            "392/392 [==============================] - 1s 3ms/step - loss: 0.4439 - precision: 0.7232 - val_loss: 1.0831 - val_precision: 1.0000\n",
            "Epoch 100/100\n",
            "392/392 [==============================] - 1s 3ms/step - loss: 0.4453 - precision: 0.7176 - val_loss: 1.1066 - val_precision: 1.0000\n"
          ]
        }
      ]
    },
    {
      "cell_type": "code",
      "source": [
        "from sklearn.metrics import cohen_kappa_score,  average_precision_score\n",
        "\n",
        "\n",
        "# define functions for model performance evaluation\n",
        "def print_validation_report(y_test, predictions):\n",
        "    print(\"Classification Report\")\n",
        "    print(classification_report(y_test, predictions))\n",
        "    print('Accuracy Score: {}'.format(accuracy_score(y_test, predictions)))\n",
        "    print(\"Kappa- \", cohen_kappa_score(y_test, predictions))\n",
        "    print(\"F1- \", f1_score(y_test, predictions))\n",
        "    print(\"ROC_AUC_score- \", roc_auc_score(y_test, predictions))\n",
        "    print(\"PR AUC- \", average_precision_score(y_test, predictions))\n",
        "\n",
        "\n",
        "def plot_confusion_matrix(y_true, y_pred):\n",
        "    mtx = confusion_matrix(y_true, y_pred)\n",
        "    fig, ax = plt.subplots(figsize=(8,8))\n",
        "    sns.heatmap(mtx, annot=True, fmt='d', linewidths=.75,  cbar=False, ax=ax,cmap='Blues',linecolor='white')\n",
        "    #  square=True,\n",
        "    plt.ylabel('true label')\n",
        "    plt.xlabel('predicted label')\n",
        "\n",
        "def plot_curve(y_test, predictions):\n",
        "    fig, (ax1, ax2) = plt.subplots(1, 2, figsize=(13,5))\n",
        "    fig.tight_layout()\n",
        "    fpr, tpr, threshold = metrics.roc_curve(y_test, predictions)\n",
        "    roc_auc = metrics.auc(fpr, tpr)\n",
        "    ax1.set_title('Receiver Operating Characteristic')\n",
        "    ax1.plot(fpr, tpr, 'b', label = 'AUC = %0.2f' % roc_auc)\n",
        "    ax1.legend(loc = 'lower right')\n",
        "    ax1.plot([0, 1], [0, 1],'r--')\n",
        "    ax1.set_xlim([0, 1])\n",
        "    ax1.set_ylim([0, 1])\n",
        "    ax1.set_ylabel('True Positive Rate')\n",
        "    ax1.set_xlabel('False Positive Rate')\n",
        "\n",
        "    lr_precision, lr_recall, _ = metrics.precision_recall_curve(y_test, predictions)\n",
        "    ax2.set_title('Precision-Recall AUC Curve')\n",
        "    ax2.plot(lr_recall, lr_precision, marker='.')\n",
        "    ax2.set_xlabel('Recall')\n",
        "    ax2.set_ylabel('Precision')\n",
        "    ax2.set_xlim([0, 1])\n",
        "    ax2.set_ylim([0, 1])\n",
        "\n",
        "    plt.show()"
      ],
      "metadata": {
        "id": "8HWA6hOPiKvC"
      },
      "execution_count": 27,
      "outputs": []
    },
    {
      "cell_type": "markdown",
      "source": [
        "####Evaluate the model - threshold 0.5"
      ],
      "metadata": {
        "id": "r8loqGOsxw2X"
      }
    },
    {
      "cell_type": "code",
      "source": [
        "preds_50 = model.predict(x_test)\n",
        "preds_50 =  [1 if i>0.5 else 0 for i in preds_50]"
      ],
      "metadata": {
        "id": "LWB8jKmVho2n"
      },
      "execution_count": 41,
      "outputs": []
    },
    {
      "cell_type": "code",
      "source": [
        "print_validation_report(y_test, preds_50)"
      ],
      "metadata": {
        "colab": {
          "base_uri": "https://localhost:8080/"
        },
        "id": "hhPj8BfYmhs5",
        "outputId": "e2bcd96d-8e47-4f9f-db28-397cd0fb44f1"
      },
      "execution_count": 42,
      "outputs": [
        {
          "output_type": "stream",
          "name": "stdout",
          "text": [
            "Classification Report\n",
            "              precision    recall  f1-score   support\n",
            "\n",
            "           0       0.93      0.95      0.94      7307\n",
            "           1       0.52      0.41      0.46       927\n",
            "\n",
            "    accuracy                           0.89      8234\n",
            "   macro avg       0.72      0.68      0.70      8234\n",
            "weighted avg       0.88      0.89      0.89      8234\n",
            "\n",
            "Accuracy Score: 0.8913043478260869\n",
            "Kappa-  0.40162983631320903\n",
            "F1-  0.4611679711017459\n",
            "ROC_AUC_score-  0.6825623019052381\n",
            "PR AUC-  0.2816541201955417\n"
          ]
        }
      ]
    },
    {
      "cell_type": "code",
      "source": [
        "plot_confusion_matrix(y_test, preds_50)"
      ],
      "metadata": {
        "colab": {
          "base_uri": "https://localhost:8080/",
          "height": 497
        },
        "id": "OJltCiOAmvX7",
        "outputId": "4fa77bba-a84a-4cb2-88c4-b343a980a919"
      },
      "execution_count": 43,
      "outputs": [
        {
          "output_type": "display_data",
          "data": {
            "text/plain": [
              "<Figure size 576x576 with 1 Axes>"
            ],
            "image/png": "[encoded data removed]"
          },
          "metadata": {
            "needs_background": "light"
          }
        }
      ]
    },
    {
      "cell_type": "code",
      "source": [
        "plot_curve(y_test, preds_50)"
      ],
      "metadata": {
        "colab": {
          "base_uri": "https://localhost:8080/",
          "height": 395
        },
        "id": "x0O8P7Z0p3ua",
        "outputId": "165f7775-cfc7-4020-8933-1233a8d8c58e"
      },
      "execution_count": 44,
      "outputs": [
        {
          "output_type": "display_data",
          "data": {
            "text/plain": [
              "<Figure size 936x360 with 2 Axes>"
            ],
            "image/png": "[encoded data removed]"
          },
          "metadata": {
            "needs_background": "light"
          }
        }
      ]
    },
    {
      "cell_type": "markdown",
      "source": [
        "####Evaluate the model - threshold 0.7"
      ],
      "metadata": {
        "id": "nXOMAqqkx_XV"
      }
    },
    {
      "cell_type": "code",
      "source": [
        "preds_70 = model.predict(x_test)\n",
        "preds_70 =  [1 if i>0.7 else 0 for i in preds_70]"
      ],
      "metadata": {
        "id": "9VbtQGHPxgy3"
      },
      "execution_count": 45,
      "outputs": []
    },
    {
      "cell_type": "code",
      "source": [
        "print_validation_report(y_test, preds_70)"
      ],
      "metadata": {
        "colab": {
          "base_uri": "https://localhost:8080/"
        },
        "outputId": "00a2f891-0f73-4827-b54f-bdce13e4ba4e",
        "id": "6FnnI5kWyKLC"
      },
      "execution_count": 47,
      "outputs": [
        {
          "output_type": "stream",
          "name": "stdout",
          "text": [
            "Classification Report\n",
            "              precision    recall  f1-score   support\n",
            "\n",
            "           0       0.91      0.99      0.95      7307\n",
            "           1       0.69      0.23      0.34       927\n",
            "\n",
            "    accuracy                           0.90      8234\n",
            "   macro avg       0.80      0.61      0.64      8234\n",
            "weighted avg       0.89      0.90      0.88      8234\n",
            "\n",
            "Accuracy Score: 0.901505950935147\n",
            "Kappa-  0.301464547236842\n",
            "F1-  0.34011391375101707\n",
            "ROC_AUC_score-  0.6063654733111206\n",
            "PR AUC-  0.24322862184918198\n"
          ]
        }
      ]
    },
    {
      "cell_type": "code",
      "source": [
        "plot_confusion_matrix(y_test, preds_70)"
      ],
      "metadata": {
        "colab": {
          "base_uri": "https://localhost:8080/",
          "height": 497
        },
        "outputId": "670ff97f-cb22-46da-d5d2-7732044a72e6",
        "id": "IvZ5D_tLyKLC"
      },
      "execution_count": 48,
      "outputs": [
        {
          "output_type": "display_data",
          "data": {
            "text/plain": [
              "<Figure size 576x576 with 1 Axes>"
            ],
            "image/png": "[encoded data removed]"
          },
          "metadata": {
            "needs_background": "light"
          }
        }
      ]
    },
    {
      "cell_type": "code",
      "source": [
        "plot_curve(y_test, preds_70)"
      ],
      "metadata": {
        "colab": {
          "base_uri": "https://localhost:8080/",
          "height": 395
        },
        "outputId": "bf7a14b6-c314-4f6c-d9b0-3da2fd81d04a",
        "id": "8bQWYmtZyKLC"
      },
      "execution_count": 49,
      "outputs": [
        {
          "output_type": "display_data",
          "data": {
            "text/plain": [
              "<Figure size 936x360 with 2 Axes>"
            ],
            "image/png": "[encoded data removed]"
          },
          "metadata": {
            "needs_background": "light"
          }
        }
      ]
    },
    {
      "cell_type": "markdown",
      "source": [
        "####Evaluate the model - threshold 0.3"
      ],
      "metadata": {
        "id": "B3ci2rF-y2rv"
      }
    },
    {
      "cell_type": "code",
      "source": [
        "preds_30 = model.predict(x_test)\n",
        "preds_30 =  [1 if i>0.3 else 0 for i in preds_30]"
      ],
      "metadata": {
        "id": "JQV0vcF4yzDW"
      },
      "execution_count": 52,
      "outputs": []
    },
    {
      "cell_type": "code",
      "source": [
        "print_validation_report(y_test, preds_30)"
      ],
      "metadata": {
        "colab": {
          "base_uri": "https://localhost:8080/"
        },
        "outputId": "c55d9b8e-f778-472c-c9c7-8b175671802b",
        "id": "QlvUZ8x-yzDW"
      },
      "execution_count": 53,
      "outputs": [
        {
          "output_type": "stream",
          "name": "stdout",
          "text": [
            "Classification Report\n",
            "              precision    recall  f1-score   support\n",
            "\n",
            "           0       0.95      0.88      0.91      7307\n",
            "           1       0.40      0.60      0.48       927\n",
            "\n",
            "    accuracy                           0.85      8234\n",
            "   macro avg       0.67      0.74      0.70      8234\n",
            "weighted avg       0.88      0.85      0.87      8234\n",
            "\n",
            "Accuracy Score: 0.8531697838231722\n",
            "Kappa-  0.39949937500294075\n",
            "F1-  0.480893087161872\n",
            "ROC_AUC_score-  0.7444336377657398\n",
            "PR AUC-  0.2858662805947412\n"
          ]
        }
      ]
    },
    {
      "cell_type": "code",
      "source": [
        "plot_confusion_matrix(y_test, preds_30)"
      ],
      "metadata": {
        "colab": {
          "base_uri": "https://localhost:8080/",
          "height": 497
        },
        "outputId": "bebb0a73-5f8a-4ad9-8806-6532f8a78292",
        "id": "l7g6ILRkyzDW"
      },
      "execution_count": 54,
      "outputs": [
        {
          "output_type": "display_data",
          "data": {
            "text/plain": [
              "<Figure size 576x576 with 1 Axes>"
            ],
            "image/png": "[encoded data removed]"
          },
          "metadata": {
            "needs_background": "light"
          }
        }
      ]
    },
    {
      "cell_type": "code",
      "source": [
        "plot_curve(y_test, preds_30)"
      ],
      "metadata": {
        "colab": {
          "base_uri": "https://localhost:8080/",
          "height": 395
        },
        "outputId": "858bed32-23e3-4815-8321-45b106cdc4ad",
        "id": "KRrK1QgUyzDW"
      },
      "execution_count": 55,
      "outputs": [
        {
          "output_type": "display_data",
          "data": {
            "text/plain": [
              "<Figure size 936x360 with 2 Axes>"
            ],
            "image/png": "[encoded data removed]"
          },
          "metadata": {
            "needs_background": "light"
          }
        }
      ]
    },
    {
      "cell_type": "markdown",
      "source": [
        "### Use sklearn MLPClassifier for comparison purpose"
      ],
      "metadata": {
        "id": "x31SqejyozCR"
      }
    },
    {
      "cell_type": "code",
      "source": [
        "from sklearn.neural_network import MLPClassifier\n",
        "\n",
        "mlp = MLPClassifier(hidden_layer_sizes=(50,200,50), max_iter=300, activation='relu', solver='adam', random_state=1)\n",
        "mlp.fit(x_s, y_s)"
      ],
      "metadata": {
        "colab": {
          "base_uri": "https://localhost:8080/"
        },
        "id": "zuqpVjGqhuXt",
        "outputId": "79d01bd3-90e3-42e2-9b03-7721daf63473"
      },
      "execution_count": 50,
      "outputs": [
        {
          "output_type": "execute_result",
          "data": {
            "text/plain": [
              "MLPClassifier(hidden_layer_sizes=(50, 200, 50), max_iter=300, random_state=1)"
            ]
          },
          "metadata": {},
          "execution_count": 50
        }
      ]
    },
    {
      "cell_type": "code",
      "source": [
        "print('Accuracy')\n",
        "print(mlp.score(x_test, y_test))"
      ],
      "metadata": {
        "colab": {
          "base_uri": "https://localhost:8080/"
        },
        "id": "bTJz8_Wtnaiy",
        "outputId": "2b35f17d-625b-491d-ca31-9dad1a4b2e99"
      },
      "execution_count": 52,
      "outputs": [
        {
          "output_type": "stream",
          "name": "stdout",
          "text": [
            "Accuracy\n",
            "0.7710711683264513\n"
          ]
        }
      ]
    },
    {
      "cell_type": "code",
      "source": [
        "predict = mlp.predict(x_test)\n",
        "confusion_matrix = confusion_matrix(y_test, predict)\n",
        "fig, ax = plt.subplots(figsize=(8,8))\n",
        "ax =  sns.heatmap(confusion_matrix, annot=True, fmt='d', linewidths=.75,  cbar=False, ax=ax,cmap='Blues',linecolor='white')\n",
        "plt.ylabel('True value')\n",
        "plt.xlabel('Predicted value')\n",
        "plt.show()"
      ],
      "metadata": {
        "colab": {
          "base_uri": "https://localhost:8080/",
          "height": 497
        },
        "id": "s3uAUEOOngy9",
        "outputId": "2c084038-c58f-4833-91a2-aaa811d33d4e"
      },
      "execution_count": 53,
      "outputs": [
        {
          "output_type": "display_data",
          "data": {
            "text/plain": [
              "<Figure size 576x576 with 1 Axes>"
            ],
            "image/png": "[encoded data removed]"
          },
          "metadata": {
            "needs_background": "light"
          }
        }
      ]
    }
  ]
}