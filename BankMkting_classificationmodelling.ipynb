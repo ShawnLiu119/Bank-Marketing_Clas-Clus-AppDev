{
  "nbformat": 4,
  "nbformat_minor": 0,
  "metadata": {
    "colab": {
      "name": "BankMkting_featureengineering.ipynb",
      "provenance": [],
      "authorship_tag": "ABX9TyMwS63DkObeqDrP3sTm8Cg1",
      "include_colab_link": true
    },
    "kernelspec": {
      "name": "python3",
      "display_name": "Python 3"
    },
    "language_info": {
      "name": "python"
    }
  },
  "cells": [
    {
      "cell_type": "markdown",
      "metadata": {
        "id": "view-in-github",
        "colab_type": "text"
      },
      "source": [
        "<a href=\"https://colab.research.google.com/github/ShawnLiu119/CapstoneProject_BankingMarketing/blob/main/BankMkting_classificationmodelling.ipynb\" target=\"_parent\"><img src=\"https://colab.research.google.com/assets/colab-badge.svg\" alt=\"Open In Colab\"/></a>"
      ]
    },
    {
      "cell_type": "code",
      "source": [
        "from sklearn.metrics import accuracy_score\n",
        "from sklearn.metrics import roc_auc_score\n",
        "import numpy as np\n",
        "import pandas as pd \n",
        "import os\n",
        "from sklearn.tree import DecisionTreeClassifier\n",
        "from sklearn.tree import plot_tree\n",
        "from sklearn.model_selection import train_test_split\n",
        "from sklearn.model_selection import cross_val_score\n",
        "from sklearn.metrics import confusion_matrix\n",
        "from sklearn.metrics import plot_confusion_matrix\n",
        "from sklearn.model_selection import train_test_split\n",
        "from sklearn.model_selection import RandomizedSearchCV\n",
        "from sklearn.neighbors import KNeighborsClassifier\n",
        "from sklearn.preprocessing import StandardScaler\n",
        "from sklearn.ensemble import RandomForestClassifier\n",
        "import seaborn as sns\n",
        "import matplotlib.pyplot as plt \n",
        "from sklearn import metrics\n",
        "from sklearn.metrics import accuracy_score, f1_score, precision_score, recall_score, classification_report, confusion_matrix,r2_score\n",
        "from sklearn import model_selection\n",
        "from sklearn.ensemble import BaggingClassifier\n",
        "import warnings\n",
        "from imblearn.over_sampling import SMOTE\n",
        "warnings.filterwarnings('ignore')\n",
        "import tensorflow as tf\n",
        "from tensorflow import keras \n",
        "from tensorflow import keras\n",
        "from tensorflow.keras.models import Sequential\n",
        "from tensorflow.keras.layers import Dense, Dropout\n",
        "from tensorflow.keras.optimizers import Adam \n",
        "from sklearn.metrics import accuracy_score\n",
        "from sklearn.metrics import confusion_matrix"
      ],
      "metadata": {
        "id": "8TvW0SUbKssy"
      },
      "execution_count": 26,
      "outputs": []
    },
    {
      "cell_type": "code",
      "execution_count": 3,
      "metadata": {
        "id": "fRRsWXUecCNl"
      },
      "outputs": [],
      "source": [
        "import pandas as pd"
      ]
    },
    {
      "cell_type": "code",
      "source": [
        "url = 'https://raw.githubusercontent.com/ShawnLiu119/CapstoneProject_BankingMarketing/main/rawdata/bank-additional-full.csv'\n",
        "data = pd.read_csv(url, sep=';')"
      ],
      "metadata": {
        "id": "1FiIE4lzcJcW"
      },
      "execution_count": 4,
      "outputs": []
    },
    {
      "cell_type": "markdown",
      "source": [
        "### General Function Setup"
      ],
      "metadata": {
        "id": "n1y0CKAMzN4C"
      }
    },
    {
      "cell_type": "code",
      "source": [
        "#one hot encoding function\n",
        "def one_hot(df):\n",
        "    y = df['y'].apply(lambda x: 0 if x=='no' else (1 if x=='yes' else -1))\n",
        "    x = df.drop('y', axis=1)\n",
        "    x_dum = pd.get_dummies(x)\n",
        "    return x, y\n",
        "\n",
        "\n",
        "#train_test_split\n",
        "def scale_split(x, y, test_size):\n",
        "    scaler = MinMaxScaler()\n",
        "    df_sca = scaler.fit_transform(x)\n",
        "    x_train,x_test,y_train,y_test = train_test_split(x, y, test_size = test_size, random_state=42)\n",
        "    print(x_train.shape, x_test.shape,y_train.shape,y_test.shape)\n",
        "    return x_train,x_test,y_train,y_test\n",
        "   \n",
        "\n"
      ],
      "metadata": {
        "id": "XatZocuozMSm"
      },
      "execution_count": 5,
      "outputs": []
    },
    {
      "cell_type": "markdown",
      "source": [
        "### Data Transformation - V1 (Agreed on Team Discussion)"
      ],
      "metadata": {
        "id": "BeRBJ8ZMc345"
      }
    },
    {
      "cell_type": "code",
      "source": [
        "data['education'].value_counts()\n",
        "\n",
        "data_1 = data.copy()\n",
        "data_1 = data_1[data_1['education'] != 'illiterate']\n",
        "\n",
        "data_1['edu_new'] = data_1['education'].map({'basic.4y': 'pre_high', \n",
        "                                         'basic.9y': 'pre_high',\n",
        "                                         'basic.6y': 'pre_high',\n",
        "                                         'university.degree' : 'post_high',\n",
        "                                         'professional.course':'post_high',\n",
        "                                         'high.school' : 'high',\n",
        "                                         'unknown' :'unknown' })"
      ],
      "metadata": {
        "id": "bbhSCh5ncQmI"
      },
      "execution_count": 6,
      "outputs": []
    },
    {
      "cell_type": "code",
      "source": [
        "def map_job(row):\n",
        "    if row['job'] in ['admin.', 'management', 'entrepreneur','self-employed']:\n",
        "        cat = 'white_collar'\n",
        "    elif row['job'] in ['housemaid', 'blue-collar', 'technician', 'services']:\n",
        "        cat = 'blue_collar'\n",
        "    elif row['job'] in ['student', 'retired', 'unemployed']:\n",
        "        cat = 'not_working'\n",
        "    else:\n",
        "        cat = 'unknown'\n",
        "    return cat\n",
        "\n",
        "data_1['job_new'] = data_1.apply(map_job, axis=1)\n",
        "data_1['job_new'].value_counts(dropna = False)"
      ],
      "metadata": {
        "colab": {
          "base_uri": "https://localhost:8080/"
        },
        "id": "eHGAdfSkcS5b",
        "outputId": "e9ac721f-6353-4793-b130-8310cea2e745"
      },
      "execution_count": 7,
      "outputs": [
        {
          "output_type": "execute_result",
          "data": {
            "text/plain": [
              "blue_collar     21017\n",
              "white_collar    16217\n",
              "not_working      3606\n",
              "unknown           330\n",
              "Name: job_new, dtype: int64"
            ]
          },
          "metadata": {},
          "execution_count": 7
        }
      ]
    },
    {
      "cell_type": "code",
      "source": [
        "def map_month(row):\n",
        "    if row['month'] in ['mar', 'apr', 'may']:\n",
        "        cat = 'spring'\n",
        "    elif row['month'] in ['jun', 'jul', 'aug']:\n",
        "        cat = 'summer'\n",
        "    elif row['month'] in ['sep', 'oct', 'nov']:\n",
        "        cat = 'fall'\n",
        "    else:\n",
        "        cat = 'winter'\n",
        "    return cat\n",
        "\n",
        "data_1['season'] = data_1.apply(map_month, axis=1)\n",
        "data_1['season'].value_counts(dropna = False)"
      ],
      "metadata": {
        "colab": {
          "base_uri": "https://localhost:8080/"
        },
        "id": "94-u-jWxcU_5",
        "outputId": "64311e41-5be8-481c-bdba-e33bd28d0185"
      },
      "execution_count": 8,
      "outputs": [
        {
          "output_type": "execute_result",
          "data": {
            "text/plain": [
              "summer    18660\n",
              "spring    16942\n",
              "fall       5386\n",
              "winter      182\n",
              "Name: season, dtype: int64"
            ]
          },
          "metadata": {},
          "execution_count": 8
        }
      ]
    },
    {
      "cell_type": "code",
      "source": [
        "data_1.columns"
      ],
      "metadata": {
        "colab": {
          "base_uri": "https://localhost:8080/"
        },
        "id": "MTQZAXjLcXVU",
        "outputId": "612a5b34-eeba-413a-84a1-bbd4d4ac0c62"
      },
      "execution_count": 9,
      "outputs": [
        {
          "output_type": "execute_result",
          "data": {
            "text/plain": [
              "Index(['age', 'job', 'marital', 'education', 'default', 'housing', 'loan',\n",
              "       'contact', 'month', 'day_of_week', 'duration', 'campaign', 'pdays',\n",
              "       'previous', 'poutcome', 'emp.var.rate', 'cons.price.idx',\n",
              "       'cons.conf.idx', 'euribor3m', 'nr.employed', 'y', 'edu_new', 'job_new',\n",
              "       'season'],\n",
              "      dtype='object')"
            ]
          },
          "metadata": {},
          "execution_count": 9
        }
      ]
    },
    {
      "cell_type": "code",
      "source": [
        "#This transformed dataframe is based on group discussion on 7/23\n",
        "# - keep all numerical features as they are\n",
        "# - consolidate categorical features (education, job, season) and drop originial ones\n",
        "\n",
        "df_tran_1 = data_1[['age', 'marital', 'default', 'housing', 'loan',\n",
        "       'contact', 'day_of_week', 'duration', 'campaign', 'pdays',\n",
        "       'previous', 'poutcome', 'emp.var.rate', 'cons.price.idx',\n",
        "       'cons.conf.idx', 'euribor3m', 'nr.employed', 'y', 'edu_new', 'job_new', 'season']]"
      ],
      "metadata": {
        "id": "AdtaLk4ycY_5"
      },
      "execution_count": 10,
      "outputs": []
    },
    {
      "cell_type": "code",
      "source": [
        "df_tran_1.shape\n",
        "#this is because we removed illiterate"
      ],
      "metadata": {
        "colab": {
          "base_uri": "https://localhost:8080/"
        },
        "id": "glqegqalI_rs",
        "outputId": "eee5f5ae-2f36-4cdd-a9a6-c18313a093e1"
      },
      "execution_count": 11,
      "outputs": [
        {
          "output_type": "execute_result",
          "data": {
            "text/plain": [
              "(41170, 21)"
            ]
          },
          "metadata": {},
          "execution_count": 11
        }
      ]
    },
    {
      "cell_type": "code",
      "source": [
        "df_tran_1 = df_tran_1.drop(['duration'], axis=1)\n",
        "df_tran_1.columns"
      ],
      "metadata": {
        "colab": {
          "base_uri": "https://localhost:8080/"
        },
        "id": "FfhleyPscknX",
        "outputId": "a7d7e23f-7d06-4847-857b-11bbecbcedd2"
      },
      "execution_count": 12,
      "outputs": [
        {
          "output_type": "execute_result",
          "data": {
            "text/plain": [
              "Index(['age', 'marital', 'default', 'housing', 'loan', 'contact',\n",
              "       'day_of_week', 'campaign', 'pdays', 'previous', 'poutcome',\n",
              "       'emp.var.rate', 'cons.price.idx', 'cons.conf.idx', 'euribor3m',\n",
              "       'nr.employed', 'y', 'edu_new', 'job_new', 'season'],\n",
              "      dtype='object')"
            ]
          },
          "metadata": {},
          "execution_count": 12
        }
      ]
    },
    {
      "cell_type": "markdown",
      "source": [
        "### One Hot Encoding For Categorical Features"
      ],
      "metadata": {
        "id": "2F1p0tiPHKJC"
      }
    },
    {
      "cell_type": "code",
      "source": [
        "y = df_tran_1['y'].apply(lambda x: 0 if x=='no' else (1 if x=='yes' else -1))\n",
        "y.value_counts()"
      ],
      "metadata": {
        "colab": {
          "base_uri": "https://localhost:8080/"
        },
        "id": "9C3ghJDEIJYU",
        "outputId": "2e87d480-5622-4138-880c-213f594a1d46"
      },
      "execution_count": 13,
      "outputs": [
        {
          "output_type": "execute_result",
          "data": {
            "text/plain": [
              "0    36534\n",
              "1     4636\n",
              "Name: y, dtype: int64"
            ]
          },
          "metadata": {},
          "execution_count": 13
        }
      ]
    },
    {
      "cell_type": "code",
      "source": [
        "x = df_tran_1.drop('y', axis=1)"
      ],
      "metadata": {
        "id": "8k4PWWzGIuaQ"
      },
      "execution_count": 14,
      "outputs": []
    },
    {
      "cell_type": "code",
      "source": [
        "df_raw = pd.get_dummies(x)\n",
        "df_raw.columns"
      ],
      "metadata": {
        "colab": {
          "base_uri": "https://localhost:8080/"
        },
        "id": "H4k_fjhNHJPi",
        "outputId": "74bcb015-cbd5-41df-d4a4-0192dd3bcbb6"
      },
      "execution_count": 15,
      "outputs": [
        {
          "output_type": "execute_result",
          "data": {
            "text/plain": [
              "Index(['age', 'campaign', 'pdays', 'previous', 'emp.var.rate',\n",
              "       'cons.price.idx', 'cons.conf.idx', 'euribor3m', 'nr.employed',\n",
              "       'marital_divorced', 'marital_married', 'marital_single',\n",
              "       'marital_unknown', 'default_no', 'default_unknown', 'default_yes',\n",
              "       'housing_no', 'housing_unknown', 'housing_yes', 'loan_no',\n",
              "       'loan_unknown', 'loan_yes', 'contact_cellular', 'contact_telephone',\n",
              "       'day_of_week_fri', 'day_of_week_mon', 'day_of_week_thu',\n",
              "       'day_of_week_tue', 'day_of_week_wed', 'poutcome_failure',\n",
              "       'poutcome_nonexistent', 'poutcome_success', 'edu_new_high',\n",
              "       'edu_new_post_high', 'edu_new_pre_high', 'edu_new_unknown',\n",
              "       'job_new_blue_collar', 'job_new_not_working', 'job_new_unknown',\n",
              "       'job_new_white_collar', 'season_fall', 'season_spring', 'season_summer',\n",
              "       'season_winter'],\n",
              "      dtype='object')"
            ]
          },
          "metadata": {},
          "execution_count": 15
        }
      ]
    },
    {
      "cell_type": "code",
      "source": [
        "#drop the unknow columns as they are correlated to other categories\n",
        "\n",
        "df_raw = df_raw.drop(['marital_unknown', 'default_unknown', 'housing_unknown', 'loan_unknown', 'edu_new_unknown', 'job_new_unknown'], axis=1)\n",
        "df_raw.shape"
      ],
      "metadata": {
        "colab": {
          "base_uri": "https://localhost:8080/"
        },
        "id": "gq3rt2OsHrSS",
        "outputId": "88e13cc0-3475-453a-83f5-4fa1a2ce1cae"
      },
      "execution_count": 16,
      "outputs": [
        {
          "output_type": "execute_result",
          "data": {
            "text/plain": [
              "(41170, 38)"
            ]
          },
          "metadata": {},
          "execution_count": 16
        }
      ]
    },
    {
      "cell_type": "markdown",
      "source": [
        "### Train-Test Split & Data Normalization"
      ],
      "metadata": {
        "id": "7ieyi_1SKBZX"
      }
    },
    {
      "cell_type": "code",
      "source": [
        "from sklearn.preprocessing import MinMaxScaler\n",
        "\n",
        "scaler = MinMaxScaler()\n",
        "df_raw = scaler.fit_transform(df_raw)"
      ],
      "metadata": {
        "id": "Y6xc2akgNZCK"
      },
      "execution_count": 17,
      "outputs": []
    },
    {
      "cell_type": "code",
      "source": [
        "df_raw"
      ],
      "metadata": {
        "colab": {
          "base_uri": "https://localhost:8080/"
        },
        "id": "g7Qo1fvEXtGW",
        "outputId": "c1b6bac2-21bf-4749-da93-0a0b4fad562e"
      },
      "execution_count": 18,
      "outputs": [
        {
          "output_type": "execute_result",
          "data": {
            "text/plain": [
              "array([[0.48148148, 0.        , 1.        , ..., 1.        , 0.        ,\n",
              "        0.        ],\n",
              "       [0.49382716, 0.        , 1.        , ..., 1.        , 0.        ,\n",
              "        0.        ],\n",
              "       [0.24691358, 0.        , 1.        , ..., 1.        , 0.        ,\n",
              "        0.        ],\n",
              "       ...,\n",
              "       [0.48148148, 0.01818182, 1.        , ..., 0.        , 0.        ,\n",
              "        0.        ],\n",
              "       [0.33333333, 0.        , 1.        , ..., 0.        , 0.        ,\n",
              "        0.        ],\n",
              "       [0.7037037 , 0.03636364, 1.        , ..., 0.        , 0.        ,\n",
              "        0.        ]])"
            ]
          },
          "metadata": {},
          "execution_count": 18
        }
      ]
    },
    {
      "cell_type": "code",
      "source": [
        "#here i used stratified sampling approach, since the raw data is not balanced distributed\n",
        "x_train,x_test,y_train,y_test = train_test_split(df_raw, y, test_size = 0.2, stratify=y, random_state=42)\n",
        "print(x_train.shape,\n",
        "      x_test.shape,\n",
        "      y_train.shape,\n",
        "      y_test.shape)"
      ],
      "metadata": {
        "colab": {
          "base_uri": "https://localhost:8080/"
        },
        "id": "BrdyrKTrHrPd",
        "outputId": "33fce2fb-f07b-4d67-d560-c437bda62605"
      },
      "execution_count": 19,
      "outputs": [
        {
          "output_type": "stream",
          "name": "stdout",
          "text": [
            "(32936, 38) (8234, 38) (32936,) (8234,)\n"
          ]
        }
      ]
    },
    {
      "cell_type": "markdown",
      "source": [
        "### Balancing the data using SMOTE\n",
        "\n",
        "https://towardsdatascience.com/all-about-imbalanced-machine-learning-classifiers-60563014d2b3\n"
      ],
      "metadata": {
        "id": "7MQKTaWlzPA3"
      }
    },
    {
      "cell_type": "code",
      "source": [
        "pip install -U imbalanced-learn"
      ],
      "metadata": {
        "colab": {
          "base_uri": "https://localhost:8080/",
          "height": 439
        },
        "id": "tbj26liCxuxL",
        "outputId": "e12b2c9f-5e7a-4b81-83f9-287707bc60d6"
      },
      "execution_count": 20,
      "outputs": [
        {
          "output_type": "stream",
          "name": "stdout",
          "text": [
            "Looking in indexes: https://pypi.org/simple, https://us-python.pkg.dev/colab-wheels/public/simple/\n",
            "Requirement already satisfied: imbalanced-learn in /usr/local/lib/python3.7/dist-packages (0.8.1)\n",
            "Collecting imbalanced-learn\n",
            "  Downloading imbalanced_learn-0.9.1-py3-none-any.whl (199 kB)\n",
            "\u001b[K     |████████████████████████████████| 199 kB 16.0 MB/s \n",
            "\u001b[?25h  Downloading imbalanced_learn-0.9.0-py3-none-any.whl (199 kB)\n",
            "\u001b[K     |████████████████████████████████| 199 kB 41.3 MB/s \n",
            "\u001b[?25hRequirement already satisfied: numpy>=1.14.6 in /usr/local/lib/python3.7/dist-packages (from imbalanced-learn) (1.21.6)\n",
            "Requirement already satisfied: scipy>=1.1.0 in /usr/local/lib/python3.7/dist-packages (from imbalanced-learn) (1.7.3)\n",
            "Requirement already satisfied: scikit-learn>=1.0.1 in /usr/local/lib/python3.7/dist-packages (from imbalanced-learn) (1.0.2)\n",
            "Requirement already satisfied: joblib>=0.11 in /usr/local/lib/python3.7/dist-packages (from imbalanced-learn) (1.1.0)\n",
            "Requirement already satisfied: threadpoolctl>=2.0.0 in /usr/local/lib/python3.7/dist-packages (from imbalanced-learn) (3.1.0)\n",
            "Installing collected packages: imbalanced-learn\n",
            "  Attempting uninstall: imbalanced-learn\n",
            "    Found existing installation: imbalanced-learn 0.8.1\n",
            "    Uninstalling imbalanced-learn-0.8.1:\n",
            "      Successfully uninstalled imbalanced-learn-0.8.1\n",
            "Successfully installed imbalanced-learn-0.9.0\n"
          ]
        },
        {
          "output_type": "display_data",
          "data": {
            "application/vnd.colab-display-data+json": {
              "pip_warning": {
                "packages": [
                  "imblearn"
                ]
              }
            }
          },
          "metadata": {}
        }
      ]
    },
    {
      "cell_type": "code",
      "source": [
        "import imblearn\n",
        "\n",
        "smote = SMOTE()\n",
        "\n",
        "x_s, y_s = smote.fit_resample(x_train, y_train)\n",
        "\n",
        "print('Original dataset shape', len(x_train))\n",
        "print('Resampled dataset shape', len(x_s))"
      ],
      "metadata": {
        "colab": {
          "base_uri": "https://localhost:8080/"
        },
        "id": "oNyXi6IBxuum",
        "outputId": "c7f9fb51-ae21-4ffb-bce9-de2a9b04d114"
      },
      "execution_count": 21,
      "outputs": [
        {
          "output_type": "stream",
          "name": "stdout",
          "text": [
            "Original dataset shape 32936\n",
            "Resampled dataset shape 58454\n"
          ]
        }
      ]
    },
    {
      "cell_type": "code",
      "source": [
        "y_s.value_counts()"
      ],
      "metadata": {
        "colab": {
          "base_uri": "https://localhost:8080/"
        },
        "id": "eSwRKjw5Nvjo",
        "outputId": "6e6b8212-ec5f-4a1f-c049-4b979f967969"
      },
      "execution_count": 22,
      "outputs": [
        {
          "output_type": "execute_result",
          "data": {
            "text/plain": [
              "0    29227\n",
              "1    29227\n",
              "Name: y, dtype: int64"
            ]
          },
          "metadata": {},
          "execution_count": 22
        }
      ]
    },
    {
      "cell_type": "markdown",
      "source": [
        "### Classification with Neural Network"
      ],
      "metadata": {
        "id": "bTJhsSl5N3Fl"
      }
    },
    {
      "cell_type": "code",
      "source": [
        "model = Sequential()\n",
        "model.add(Dense(units = 16, kernel_initializer = 'he_uniform',activation='relu',input_dim = x_s.shape[1]))\n",
        "model.add(Dense(units = 8, kernel_initializer = 'he_uniform',activation='relu', kernel_regularizer=tf.keras.regularizers.L2(0.001)))\n",
        "model.add(Dropout(0.2))\n",
        "model.add(Dense(units = 1, kernel_initializer = 'glorot_uniform', activation = 'sigmoid'))"
      ],
      "metadata": {
        "id": "ZfR0lfaFMZWW"
      },
      "execution_count": 27,
      "outputs": []
    },
    {
      "cell_type": "markdown",
      "source": [
        "may need to revisit the kernel initialization and tweaking the model\n",
        "here is the reference:https://www.kaggle.com/code/trolukovich/glorot-vs-he-weight-initialization-experiment/notebook"
      ],
      "metadata": {
        "id": "N2hLHHLlUmD2"
      }
    },
    {
      "cell_type": "code",
      "source": [
        "model.compile(optimizer = 'adamax', loss = 'binary_crossentropy', metrics = ['accuracy'])\n",
        "model.summary()"
      ],
      "metadata": {
        "colab": {
          "base_uri": "https://localhost:8080/"
        },
        "id": "uhdkDf94U3Bp",
        "outputId": "8f0f6738-375d-4dba-e8f7-221938431664"
      },
      "execution_count": 28,
      "outputs": [
        {
          "output_type": "stream",
          "name": "stdout",
          "text": [
            "Model: \"sequential_1\"\n",
            "_________________________________________________________________\n",
            " Layer (type)                Output Shape              Param #   \n",
            "=================================================================\n",
            " dense_3 (Dense)             (None, 16)                624       \n",
            "                                                                 \n",
            " dense_4 (Dense)             (None, 8)                 136       \n",
            "                                                                 \n",
            " dropout (Dropout)           (None, 8)                 0         \n",
            "                                                                 \n",
            " dense_5 (Dense)             (None, 1)                 9         \n",
            "                                                                 \n",
            "=================================================================\n",
            "Total params: 769\n",
            "Trainable params: 769\n",
            "Non-trainable params: 0\n",
            "_________________________________________________________________\n"
          ]
        }
      ]
    },
    {
      "cell_type": "code",
      "source": [
        "model_history = model.fit(x_s, y_s,validation_split=0.33, batch_size = 10, epochs = 100)"
      ],
      "metadata": {
        "colab": {
          "base_uri": "https://localhost:8080/"
        },
        "id": "ZP5G2rjdxurw",
        "outputId": "d47353db-e240-4bb0-c936-89112ed0c80f"
      },
      "execution_count": 29,
      "outputs": [
        {
          "output_type": "stream",
          "name": "stdout",
          "text": [
            "Epoch 1/100\n",
            "3917/3917 [==============================] - 9s 2ms/step - loss: 0.5205 - accuracy: 0.7703 - val_loss: 1.1190 - val_accuracy: 0.4023\n",
            "Epoch 2/100\n",
            "3917/3917 [==============================] - 9s 2ms/step - loss: 0.4738 - accuracy: 0.8019 - val_loss: 1.0952 - val_accuracy: 0.4083\n",
            "Epoch 3/100\n",
            "3917/3917 [==============================] - 9s 2ms/step - loss: 0.4668 - accuracy: 0.8035 - val_loss: 1.0569 - val_accuracy: 0.4253\n",
            "Epoch 4/100\n",
            "3917/3917 [==============================] - 8s 2ms/step - loss: 0.4635 - accuracy: 0.8047 - val_loss: 1.0573 - val_accuracy: 0.4261\n",
            "Epoch 5/100\n",
            "3917/3917 [==============================] - 9s 2ms/step - loss: 0.4603 - accuracy: 0.8052 - val_loss: 1.0669 - val_accuracy: 0.4300\n",
            "Epoch 6/100\n",
            "3917/3917 [==============================] - 9s 2ms/step - loss: 0.4586 - accuracy: 0.8070 - val_loss: 1.0200 - val_accuracy: 0.4484\n",
            "Epoch 7/100\n",
            "3917/3917 [==============================] - 9s 2ms/step - loss: 0.4571 - accuracy: 0.8065 - val_loss: 1.0939 - val_accuracy: 0.4152\n",
            "Epoch 8/100\n",
            "3917/3917 [==============================] - 8s 2ms/step - loss: 0.4562 - accuracy: 0.8066 - val_loss: 1.0715 - val_accuracy: 0.4186\n",
            "Epoch 9/100\n",
            "3917/3917 [==============================] - 9s 2ms/step - loss: 0.4539 - accuracy: 0.8084 - val_loss: 1.0276 - val_accuracy: 0.4558\n",
            "Epoch 10/100\n",
            "3917/3917 [==============================] - 19s 5ms/step - loss: 0.4536 - accuracy: 0.8070 - val_loss: 1.0097 - val_accuracy: 0.4640\n",
            "Epoch 11/100\n",
            "3917/3917 [==============================] - 17s 4ms/step - loss: 0.4525 - accuracy: 0.8075 - val_loss: 1.0367 - val_accuracy: 0.4413\n",
            "Epoch 12/100\n",
            "3917/3917 [==============================] - 8s 2ms/step - loss: 0.4515 - accuracy: 0.8071 - val_loss: 1.0854 - val_accuracy: 0.4421\n",
            "Epoch 13/100\n",
            "3917/3917 [==============================] - 11s 3ms/step - loss: 0.4523 - accuracy: 0.8077 - val_loss: 1.0193 - val_accuracy: 0.4637\n",
            "Epoch 14/100\n",
            "3917/3917 [==============================] - 11s 3ms/step - loss: 0.4499 - accuracy: 0.8073 - val_loss: 0.9833 - val_accuracy: 0.4562\n",
            "Epoch 15/100\n",
            "3917/3917 [==============================] - 10s 3ms/step - loss: 0.4501 - accuracy: 0.8087 - val_loss: 1.0165 - val_accuracy: 0.4545\n",
            "Epoch 16/100\n",
            "3917/3917 [==============================] - 8s 2ms/step - loss: 0.4485 - accuracy: 0.8084 - val_loss: 1.0276 - val_accuracy: 0.4403\n",
            "Epoch 17/100\n",
            "3917/3917 [==============================] - 9s 2ms/step - loss: 0.4479 - accuracy: 0.8091 - val_loss: 1.1218 - val_accuracy: 0.4354\n",
            "Epoch 18/100\n",
            "3917/3917 [==============================] - 8s 2ms/step - loss: 0.4483 - accuracy: 0.8096 - val_loss: 1.0063 - val_accuracy: 0.4545\n",
            "Epoch 19/100\n",
            "3917/3917 [==============================] - 9s 2ms/step - loss: 0.4473 - accuracy: 0.8090 - val_loss: 1.0901 - val_accuracy: 0.4346\n",
            "Epoch 20/100\n",
            "3917/3917 [==============================] - 9s 2ms/step - loss: 0.4471 - accuracy: 0.8089 - val_loss: 1.0507 - val_accuracy: 0.4480\n",
            "Epoch 21/100\n",
            "3917/3917 [==============================] - 9s 2ms/step - loss: 0.4454 - accuracy: 0.8108 - val_loss: 1.0144 - val_accuracy: 0.4614\n",
            "Epoch 22/100\n",
            "3917/3917 [==============================] - 8s 2ms/step - loss: 0.4461 - accuracy: 0.8101 - val_loss: 0.9850 - val_accuracy: 0.4788\n",
            "Epoch 23/100\n",
            "3917/3917 [==============================] - 13s 3ms/step - loss: 0.4451 - accuracy: 0.8106 - val_loss: 1.0840 - val_accuracy: 0.4386\n",
            "Epoch 24/100\n",
            "3917/3917 [==============================] - 16s 4ms/step - loss: 0.4462 - accuracy: 0.8107 - val_loss: 1.0552 - val_accuracy: 0.4532\n",
            "Epoch 25/100\n",
            "3917/3917 [==============================] - 8s 2ms/step - loss: 0.4450 - accuracy: 0.8108 - val_loss: 0.9655 - val_accuracy: 0.4623\n",
            "Epoch 26/100\n",
            "3917/3917 [==============================] - 8s 2ms/step - loss: 0.4453 - accuracy: 0.8101 - val_loss: 0.9908 - val_accuracy: 0.4600\n",
            "Epoch 27/100\n",
            "3917/3917 [==============================] - 9s 2ms/step - loss: 0.4435 - accuracy: 0.8116 - val_loss: 1.0697 - val_accuracy: 0.4580\n",
            "Epoch 28/100\n",
            "3917/3917 [==============================] - 16s 4ms/step - loss: 0.4434 - accuracy: 0.8110 - val_loss: 1.0110 - val_accuracy: 0.4605\n",
            "Epoch 29/100\n",
            "3917/3917 [==============================] - 9s 2ms/step - loss: 0.4440 - accuracy: 0.8107 - val_loss: 0.9773 - val_accuracy: 0.4635\n",
            "Epoch 30/100\n",
            "3917/3917 [==============================] - 9s 2ms/step - loss: 0.4429 - accuracy: 0.8108 - val_loss: 1.0521 - val_accuracy: 0.4492\n",
            "Epoch 31/100\n",
            "3917/3917 [==============================] - 9s 2ms/step - loss: 0.4434 - accuracy: 0.8107 - val_loss: 0.9999 - val_accuracy: 0.4666\n",
            "Epoch 32/100\n",
            "3917/3917 [==============================] - 8s 2ms/step - loss: 0.4434 - accuracy: 0.8101 - val_loss: 1.0419 - val_accuracy: 0.4429\n",
            "Epoch 33/100\n",
            "3917/3917 [==============================] - 11s 3ms/step - loss: 0.4422 - accuracy: 0.8111 - val_loss: 0.9942 - val_accuracy: 0.4614\n",
            "Epoch 34/100\n",
            "3917/3917 [==============================] - 9s 2ms/step - loss: 0.4406 - accuracy: 0.8119 - val_loss: 1.0439 - val_accuracy: 0.4545\n",
            "Epoch 35/100\n",
            "3917/3917 [==============================] - 8s 2ms/step - loss: 0.4415 - accuracy: 0.8119 - val_loss: 1.0084 - val_accuracy: 0.4615\n",
            "Epoch 36/100\n",
            "3917/3917 [==============================] - 9s 2ms/step - loss: 0.4422 - accuracy: 0.8119 - val_loss: 1.1058 - val_accuracy: 0.4105\n",
            "Epoch 37/100\n",
            "3917/3917 [==============================] - 9s 2ms/step - loss: 0.4410 - accuracy: 0.8132 - val_loss: 1.0447 - val_accuracy: 0.4720\n",
            "Epoch 38/100\n",
            "3917/3917 [==============================] - 8s 2ms/step - loss: 0.4409 - accuracy: 0.8129 - val_loss: 0.9110 - val_accuracy: 0.4857\n",
            "Epoch 39/100\n",
            "3917/3917 [==============================] - 9s 2ms/step - loss: 0.4415 - accuracy: 0.8124 - val_loss: 1.0553 - val_accuracy: 0.4627\n",
            "Epoch 40/100\n",
            "3917/3917 [==============================] - 8s 2ms/step - loss: 0.4411 - accuracy: 0.8124 - val_loss: 1.0808 - val_accuracy: 0.4333\n",
            "Epoch 41/100\n",
            "3917/3917 [==============================] - 9s 2ms/step - loss: 0.4411 - accuracy: 0.8128 - val_loss: 1.0570 - val_accuracy: 0.4511\n",
            "Epoch 42/100\n",
            "3917/3917 [==============================] - 9s 2ms/step - loss: 0.4404 - accuracy: 0.8115 - val_loss: 1.0248 - val_accuracy: 0.4688\n",
            "Epoch 43/100\n",
            "3917/3917 [==============================] - 9s 2ms/step - loss: 0.4405 - accuracy: 0.8131 - val_loss: 1.0934 - val_accuracy: 0.4456\n",
            "Epoch 44/100\n",
            "3917/3917 [==============================] - 8s 2ms/step - loss: 0.4395 - accuracy: 0.8118 - val_loss: 1.0007 - val_accuracy: 0.4698\n",
            "Epoch 45/100\n",
            "3917/3917 [==============================] - 9s 2ms/step - loss: 0.4407 - accuracy: 0.8117 - val_loss: 1.0163 - val_accuracy: 0.4666\n",
            "Epoch 46/100\n",
            "3917/3917 [==============================] - 9s 2ms/step - loss: 0.4400 - accuracy: 0.8124 - val_loss: 1.0319 - val_accuracy: 0.4458\n",
            "Epoch 47/100\n",
            "3917/3917 [==============================] - 9s 2ms/step - loss: 0.4395 - accuracy: 0.8135 - val_loss: 1.0361 - val_accuracy: 0.4540\n",
            "Epoch 48/100\n",
            "3917/3917 [==============================] - 9s 2ms/step - loss: 0.4402 - accuracy: 0.8125 - val_loss: 1.0335 - val_accuracy: 0.4609\n",
            "Epoch 49/100\n",
            "3917/3917 [==============================] - 8s 2ms/step - loss: 0.4398 - accuracy: 0.8124 - val_loss: 0.9801 - val_accuracy: 0.4720\n",
            "Epoch 50/100\n",
            "3917/3917 [==============================] - 8s 2ms/step - loss: 0.4396 - accuracy: 0.8131 - val_loss: 1.0550 - val_accuracy: 0.4389\n",
            "Epoch 51/100\n",
            "3917/3917 [==============================] - 8s 2ms/step - loss: 0.4397 - accuracy: 0.8125 - val_loss: 1.0041 - val_accuracy: 0.4471\n",
            "Epoch 52/100\n",
            "3917/3917 [==============================] - 9s 2ms/step - loss: 0.4398 - accuracy: 0.8129 - val_loss: 1.0038 - val_accuracy: 0.4488\n",
            "Epoch 53/100\n",
            "3917/3917 [==============================] - 9s 2ms/step - loss: 0.4402 - accuracy: 0.8134 - val_loss: 1.0563 - val_accuracy: 0.4449\n",
            "Epoch 54/100\n",
            "3917/3917 [==============================] - 8s 2ms/step - loss: 0.4386 - accuracy: 0.8138 - val_loss: 0.9939 - val_accuracy: 0.4588\n",
            "Epoch 55/100\n",
            "3917/3917 [==============================] - 8s 2ms/step - loss: 0.4384 - accuracy: 0.8127 - val_loss: 0.9294 - val_accuracy: 0.4758\n",
            "Epoch 56/100\n",
            "3917/3917 [==============================] - 9s 2ms/step - loss: 0.4387 - accuracy: 0.8133 - val_loss: 1.0129 - val_accuracy: 0.4556\n",
            "Epoch 57/100\n",
            "3917/3917 [==============================] - 8s 2ms/step - loss: 0.4397 - accuracy: 0.8131 - val_loss: 0.9885 - val_accuracy: 0.4674\n",
            "Epoch 58/100\n",
            "3917/3917 [==============================] - 9s 2ms/step - loss: 0.4380 - accuracy: 0.8148 - val_loss: 0.9850 - val_accuracy: 0.4890\n",
            "Epoch 59/100\n",
            "3917/3917 [==============================] - 9s 2ms/step - loss: 0.4383 - accuracy: 0.8135 - val_loss: 1.0706 - val_accuracy: 0.4527\n",
            "Epoch 60/100\n",
            "3917/3917 [==============================] - 9s 2ms/step - loss: 0.4384 - accuracy: 0.8126 - val_loss: 1.0227 - val_accuracy: 0.4413\n",
            "Epoch 61/100\n",
            "3917/3917 [==============================] - 8s 2ms/step - loss: 0.4387 - accuracy: 0.8149 - val_loss: 0.9544 - val_accuracy: 0.4568\n",
            "Epoch 62/100\n",
            "3917/3917 [==============================] - 8s 2ms/step - loss: 0.4388 - accuracy: 0.8152 - val_loss: 0.9737 - val_accuracy: 0.4821\n",
            "Epoch 63/100\n",
            "3917/3917 [==============================] - 8s 2ms/step - loss: 0.4391 - accuracy: 0.8133 - val_loss: 1.0048 - val_accuracy: 0.4530\n",
            "Epoch 64/100\n",
            "3917/3917 [==============================] - 8s 2ms/step - loss: 0.4390 - accuracy: 0.8138 - val_loss: 0.9595 - val_accuracy: 0.4751\n",
            "Epoch 65/100\n",
            "3917/3917 [==============================] - 8s 2ms/step - loss: 0.4382 - accuracy: 0.8138 - val_loss: 1.0015 - val_accuracy: 0.4437\n",
            "Epoch 66/100\n",
            "3917/3917 [==============================] - 8s 2ms/step - loss: 0.4367 - accuracy: 0.8141 - val_loss: 1.0053 - val_accuracy: 0.4599\n",
            "Epoch 67/100\n",
            "3917/3917 [==============================] - 9s 2ms/step - loss: 0.4363 - accuracy: 0.8134 - val_loss: 0.9829 - val_accuracy: 0.4745\n",
            "Epoch 68/100\n",
            "3917/3917 [==============================] - 8s 2ms/step - loss: 0.4370 - accuracy: 0.8144 - val_loss: 1.0150 - val_accuracy: 0.4552\n",
            "Epoch 69/100\n",
            "3917/3917 [==============================] - 9s 2ms/step - loss: 0.4378 - accuracy: 0.8150 - val_loss: 1.0354 - val_accuracy: 0.4564\n",
            "Epoch 70/100\n",
            "3917/3917 [==============================] - 9s 2ms/step - loss: 0.4379 - accuracy: 0.8139 - val_loss: 1.1193 - val_accuracy: 0.4649\n",
            "Epoch 71/100\n",
            "3917/3917 [==============================] - 8s 2ms/step - loss: 0.4375 - accuracy: 0.8149 - val_loss: 1.0501 - val_accuracy: 0.4555\n",
            "Epoch 72/100\n",
            "3917/3917 [==============================] - 8s 2ms/step - loss: 0.4387 - accuracy: 0.8137 - val_loss: 1.0342 - val_accuracy: 0.4676\n",
            "Epoch 73/100\n",
            "3917/3917 [==============================] - 9s 2ms/step - loss: 0.4377 - accuracy: 0.8142 - val_loss: 0.9673 - val_accuracy: 0.4860\n",
            "Epoch 74/100\n",
            "3917/3917 [==============================] - 9s 2ms/step - loss: 0.4366 - accuracy: 0.8143 - val_loss: 1.1043 - val_accuracy: 0.4244\n",
            "Epoch 75/100\n",
            "3917/3917 [==============================] - 9s 2ms/step - loss: 0.4376 - accuracy: 0.8144 - val_loss: 0.9881 - val_accuracy: 0.4771\n",
            "Epoch 76/100\n",
            "3917/3917 [==============================] - 8s 2ms/step - loss: 0.4371 - accuracy: 0.8142 - val_loss: 1.1218 - val_accuracy: 0.4461\n",
            "Epoch 77/100\n",
            "3917/3917 [==============================] - 9s 2ms/step - loss: 0.4374 - accuracy: 0.8142 - val_loss: 0.9995 - val_accuracy: 0.4575\n",
            "Epoch 78/100\n",
            "3917/3917 [==============================] - 9s 2ms/step - loss: 0.4371 - accuracy: 0.8142 - val_loss: 1.0221 - val_accuracy: 0.4716\n",
            "Epoch 79/100\n",
            "3917/3917 [==============================] - 9s 2ms/step - loss: 0.4364 - accuracy: 0.8142 - val_loss: 1.0317 - val_accuracy: 0.4463\n",
            "Epoch 80/100\n",
            "3917/3917 [==============================] - 9s 2ms/step - loss: 0.4361 - accuracy: 0.8142 - val_loss: 1.0214 - val_accuracy: 0.4511\n",
            "Epoch 81/100\n",
            "3917/3917 [==============================] - 9s 2ms/step - loss: 0.4355 - accuracy: 0.8154 - val_loss: 0.9675 - val_accuracy: 0.4923\n",
            "Epoch 82/100\n",
            "3917/3917 [==============================] - 9s 2ms/step - loss: 0.4360 - accuracy: 0.8150 - val_loss: 0.9889 - val_accuracy: 0.4820\n",
            "Epoch 83/100\n",
            "3917/3917 [==============================] - 8s 2ms/step - loss: 0.4354 - accuracy: 0.8153 - val_loss: 0.9422 - val_accuracy: 0.5046\n",
            "Epoch 84/100\n",
            "3917/3917 [==============================] - 8s 2ms/step - loss: 0.4366 - accuracy: 0.8149 - val_loss: 1.0074 - val_accuracy: 0.4474\n",
            "Epoch 85/100\n",
            "3917/3917 [==============================] - 8s 2ms/step - loss: 0.4361 - accuracy: 0.8155 - val_loss: 1.0594 - val_accuracy: 0.4245\n",
            "Epoch 86/100\n",
            "3917/3917 [==============================] - 9s 2ms/step - loss: 0.4361 - accuracy: 0.8144 - val_loss: 1.0508 - val_accuracy: 0.4433\n",
            "Epoch 87/100\n",
            "3917/3917 [==============================] - 9s 2ms/step - loss: 0.4379 - accuracy: 0.8138 - val_loss: 1.0548 - val_accuracy: 0.4462\n",
            "Epoch 88/100\n",
            "3917/3917 [==============================] - 8s 2ms/step - loss: 0.4358 - accuracy: 0.8147 - val_loss: 0.9721 - val_accuracy: 0.4595\n",
            "Epoch 89/100\n",
            "3917/3917 [==============================] - 9s 2ms/step - loss: 0.4360 - accuracy: 0.8155 - val_loss: 1.0410 - val_accuracy: 0.4330\n",
            "Epoch 90/100\n",
            "3917/3917 [==============================] - 9s 2ms/step - loss: 0.4346 - accuracy: 0.8150 - val_loss: 0.9899 - val_accuracy: 0.4403\n",
            "Epoch 91/100\n",
            "3917/3917 [==============================] - 8s 2ms/step - loss: 0.4349 - accuracy: 0.8158 - val_loss: 1.1140 - val_accuracy: 0.4163\n",
            "Epoch 92/100\n",
            "3917/3917 [==============================] - 9s 2ms/step - loss: 0.4350 - accuracy: 0.8157 - val_loss: 1.0337 - val_accuracy: 0.4667\n",
            "Epoch 93/100\n",
            "3917/3917 [==============================] - 8s 2ms/step - loss: 0.4353 - accuracy: 0.8139 - val_loss: 1.1237 - val_accuracy: 0.4417\n",
            "Epoch 94/100\n",
            "3917/3917 [==============================] - 8s 2ms/step - loss: 0.4349 - accuracy: 0.8152 - val_loss: 0.9578 - val_accuracy: 0.4745\n",
            "Epoch 95/100\n",
            "3917/3917 [==============================] - 9s 2ms/step - loss: 0.4348 - accuracy: 0.8158 - val_loss: 1.0406 - val_accuracy: 0.4729\n",
            "Epoch 96/100\n",
            "3917/3917 [==============================] - 9s 2ms/step - loss: 0.4341 - accuracy: 0.8168 - val_loss: 1.0881 - val_accuracy: 0.4401\n",
            "Epoch 97/100\n",
            "3917/3917 [==============================] - 8s 2ms/step - loss: 0.4351 - accuracy: 0.8152 - val_loss: 1.0395 - val_accuracy: 0.4407\n",
            "Epoch 98/100\n",
            "3917/3917 [==============================] - 8s 2ms/step - loss: 0.4359 - accuracy: 0.8151 - val_loss: 0.9663 - val_accuracy: 0.4708\n",
            "Epoch 99/100\n",
            "3917/3917 [==============================] - 9s 2ms/step - loss: 0.4346 - accuracy: 0.8159 - val_loss: 1.0932 - val_accuracy: 0.4621\n",
            "Epoch 100/100\n",
            "3917/3917 [==============================] - 8s 2ms/step - loss: 0.4355 - accuracy: 0.8148 - val_loss: 1.0241 - val_accuracy: 0.4709\n"
          ]
        }
      ]
    },
    {
      "cell_type": "code",
      "source": [
        "from sklearn.metrics import mean_squared_error as MSE\n",
        "# define functions for model performance evaluation\n",
        "def print_validation_report(y_test, predictions):\n",
        "    print(\"Classification Report\")\n",
        "    print(classification_report(y_test, predictions))\n",
        "    print('Accuracy Score: {}'.format(accuracy_score(y_test, predictions)))\n",
        "    print('Root Mean Square Error: {}'.format(np.sqrt(MSE(y_test, predictions)))) "
      ],
      "metadata": {
        "id": "8HWA6hOPiKvC"
      },
      "execution_count": 43,
      "outputs": []
    },
    {
      "cell_type": "code",
      "source": [
        "def plot_confusion_matrix(y_true, y_pred):\n",
        "    mtx = confusion_matrix(y_true, y_pred)\n",
        "    fig, ax = plt.subplots(figsize=(8,8))\n",
        "    sns.heatmap(mtx, annot=True, fmt='d', linewidths=.75,  cbar=False, ax=ax,cmap='Blues',linecolor='white')\n",
        "    #  square=True,\n",
        "    plt.ylabel('true label')\n",
        "    plt.xlabel('predicted label')"
      ],
      "metadata": {
        "id": "jqlhchNuiL83"
      },
      "execution_count": 31,
      "outputs": []
    },
    {
      "cell_type": "code",
      "source": [
        "plt.plot(model_history.history['accuracy'])\n",
        "plt.plot(model_history.history['val_accuracy'])\n",
        "plt.title('Model accuracy Vs Epochs')\n",
        "plt.ylabel('Accuracy')\n",
        "plt.xlabel('Epoch')\n",
        "plt.legend(['Train', 'Validation'], loc='upper left')\n",
        "plt.show()\n",
        "\n",
        "# summarize history for loss\n",
        "plt.plot(model_history.history['loss'])\n",
        "plt.plot(model_history.history['val_loss'])\n",
        "plt.title('Model loss Vs Loss')\n",
        "plt.ylabel('Loss')\n",
        "plt.xlabel('Epoch')\n",
        "plt.legend(['Train', 'Validation'], loc='upper left')\n",
        "plt.show()"
      ],
      "metadata": {
        "colab": {
          "base_uri": "https://localhost:8080/",
          "height": 573
        },
        "id": "laylygLdKv-4",
        "outputId": "9e21e752-a01c-4c99-ec2b-cb60ce1178a0"
      },
      "execution_count": 32,
      "outputs": [
        {
          "output_type": "display_data",
          "data": {
            "text/plain": [
              "<Figure size 432x288 with 1 Axes>"
            ],
            "image/png": "[encoded data removed]"
          },
          "metadata": {
            "needs_background": "light"
          }
        },
        {
          "output_type": "display_data",
          "data": {
            "text/plain": [
              "<Figure size 432x288 with 1 Axes>"
            ],
            "image/png": "[encoded data removed]"
          },
          "metadata": {
            "needs_background": "light"
          }
        }
      ]
    },
    {
      "cell_type": "code",
      "source": [
        "loss, accuracy = model.evaluate(x_test, y_test)"
      ],
      "metadata": {
        "colab": {
          "base_uri": "https://localhost:8080/"
        },
        "id": "LiW2cV7ZhcjF",
        "outputId": "6dff8e2e-8708-4e97-b76d-2364fcd5c54a"
      },
      "execution_count": 33,
      "outputs": [
        {
          "output_type": "stream",
          "name": "stdout",
          "text": [
            "258/258 [==============================] - 1s 2ms/step - loss: 0.3167 - accuracy: 0.8888\n"
          ]
        }
      ]
    },
    {
      "cell_type": "code",
      "source": [
        "preds = model.predict(x_test)\n",
        "preds=np.argmax(preds, axis=1)\n",
        "print('shape of preds: ', preds.shape)"
      ],
      "metadata": {
        "colab": {
          "base_uri": "https://localhost:8080/"
        },
        "id": "LWB8jKmVho2n",
        "outputId": "5aba47b4-eb9c-454f-8a0d-f8c87ddf8d72"
      },
      "execution_count": 40,
      "outputs": [
        {
          "output_type": "stream",
          "name": "stdout",
          "text": [
            "shape of preds:  (8234,)\n"
          ]
        }
      ]
    },
    {
      "cell_type": "code",
      "source": [
        "print_validation_report(y_test, preds)"
      ],
      "metadata": {
        "colab": {
          "base_uri": "https://localhost:8080/"
        },
        "id": "4fn2k4adiDH2",
        "outputId": "cab7df49-56b5-40a3-b5ed-eed6b23bd78d"
      },
      "execution_count": 44,
      "outputs": [
        {
          "output_type": "stream",
          "name": "stdout",
          "text": [
            "Classification Report\n",
            "              precision    recall  f1-score   support\n",
            "\n",
            "           0       0.89      1.00      0.94      7307\n",
            "           1       0.00      0.00      0.00       927\n",
            "\n",
            "    accuracy                           0.89      8234\n",
            "   macro avg       0.44      0.50      0.47      8234\n",
            "weighted avg       0.79      0.89      0.83      8234\n",
            "\n",
            "Accuracy Score: 0.8874180228321593\n",
            "Root Mean Square Error: 0.33553237871752506\n"
          ]
        }
      ]
    },
    {
      "cell_type": "code",
      "source": [
        "plot_confusion_matrix(y_test,preds)"
      ],
      "metadata": {
        "colab": {
          "base_uri": "https://localhost:8080/",
          "height": 497
        },
        "id": "CfALp25EiCZj",
        "outputId": "0fcb485e-446e-40be-f3ec-8cb2a94da879"
      },
      "execution_count": 46,
      "outputs": [
        {
          "output_type": "display_data",
          "data": {
            "text/plain": [
              "<Figure size 576x576 with 1 Axes>"
            ],
            "image/png": "[encoded data removed]"
          },
          "metadata": {
            "needs_background": "light"
          }
        }
      ]
    },
    {
      "cell_type": "markdown",
      "source": [
        "### train NN on the dataset by removing unknowns and days-of-week"
      ],
      "metadata": {
        "id": "p7d0wbt-pD31"
      }
    },
    {
      "cell_type": "code",
      "source": [
        "df_raw_2 = pd.get_dummies(x)\n",
        "\n",
        "df_raw_2 = df_raw_2.drop(['marital_unknown', 'default_unknown', 'housing_unknown', \n",
        "                        'loan_unknown', 'edu_new_unknown', 'job_new_unknown',\n",
        "                        'day_of_week_fri', 'day_of_week_mon', 'day_of_week_thu',\n",
        "                        'day_of_week_tue', 'day_of_week_wed', 'season_winter'], axis=1)\n",
        "df_raw_2.shape"
      ],
      "metadata": {
        "id": "wgVWz8JnxupQ",
        "colab": {
          "base_uri": "https://localhost:8080/"
        },
        "outputId": "d98bffb3-bd44-413c-f7a6-c0b773889fc6"
      },
      "execution_count": 47,
      "outputs": [
        {
          "output_type": "execute_result",
          "data": {
            "text/plain": [
              "(41170, 32)"
            ]
          },
          "metadata": {},
          "execution_count": 47
        }
      ]
    },
    {
      "cell_type": "code",
      "source": [
        "scaler = MinMaxScaler()\n",
        "x_2 = scaler.fit_transform(df_raw_2)"
      ],
      "metadata": {
        "id": "3IYAMEnuxuh7"
      },
      "execution_count": 48,
      "outputs": []
    },
    {
      "cell_type": "code",
      "source": [
        "x_train2,x_test2,y_train2,y_test2 = train_test_split(x_2, y, test_size = 0.2, random_state=42)\n",
        "#take out stratify approach\n",
        "print(x_train2.shape,\n",
        "      x_test2.shape,\n",
        "      y_train2.shape,\n",
        "      y_test2.shape)"
      ],
      "metadata": {
        "id": "6A9S3Bw8xufV",
        "colab": {
          "base_uri": "https://localhost:8080/"
        },
        "outputId": "27dbdc6b-76e2-4179-cd02-041dfef5ce1a"
      },
      "execution_count": 49,
      "outputs": [
        {
          "output_type": "stream",
          "name": "stdout",
          "text": [
            "(32936, 32) (8234, 32) (32936,) (8234,)\n"
          ]
        }
      ]
    },
    {
      "cell_type": "code",
      "source": [
        "smote = SMOTE()\n",
        "\n",
        "x_s2, y_s2 = smote.fit_resample(x_train2, y_train2)\n",
        "\n",
        "print('Original dataset shape', len(x_train2))\n",
        "print('Resampled dataset shape', len(x_s2))"
      ],
      "metadata": {
        "id": "Ik5Knb6cxucf",
        "colab": {
          "base_uri": "https://localhost:8080/"
        },
        "outputId": "9e8a935e-0e5e-47ed-da13-61fb1e64f043"
      },
      "execution_count": 50,
      "outputs": [
        {
          "output_type": "stream",
          "name": "stdout",
          "text": [
            "Original dataset shape 32936\n",
            "Resampled dataset shape 58454\n"
          ]
        }
      ]
    },
    {
      "cell_type": "code",
      "source": [
        "model2 = Sequential()\n",
        "model2.add(Dense(units = 16, activation='relu',input_dim = x_s2.shape[1]))\n",
        "model2.add(Dense(units = 8 ,activation='relu', kernel_regularizer=tf.keras.regularizers.L2(0.001)))\n",
        "model.add(Dropout(0.2))\n",
        "model2.add(Dense(units = 1, activation = 'sigmoid'))"
      ],
      "metadata": {
        "id": "HWka2I2XxuSp"
      },
      "execution_count": 55,
      "outputs": []
    },
    {
      "cell_type": "code",
      "source": [
        "model2.compile(optimizer = 'rmsprop', loss = 'binary_crossentropy', metrics = ['accuracy'])\n",
        "model2.summary()"
      ],
      "metadata": {
        "colab": {
          "base_uri": "https://localhost:8080/"
        },
        "id": "FDkIWEyUPLJL",
        "outputId": "57755fab-f3f9-41b9-af17-1e10baef5ff8"
      },
      "execution_count": 56,
      "outputs": [
        {
          "output_type": "stream",
          "name": "stdout",
          "text": [
            "Model: \"sequential_4\"\n",
            "_________________________________________________________________\n",
            " Layer (type)                Output Shape              Param #   \n",
            "=================================================================\n",
            " dense_11 (Dense)            (None, 16)                528       \n",
            "                                                                 \n",
            " dense_12 (Dense)            (None, 8)                 136       \n",
            "                                                                 \n",
            " dense_13 (Dense)            (None, 1)                 9         \n",
            "                                                                 \n",
            "=================================================================\n",
            "Total params: 673\n",
            "Trainable params: 673\n",
            "Non-trainable params: 0\n",
            "_________________________________________________________________\n"
          ]
        }
      ]
    },
    {
      "cell_type": "code",
      "source": [
        "model_history = model2.fit(x_s2, y_s2,validation_split=0.33, batch_size = 10, epochs = 100)"
      ],
      "metadata": {
        "colab": {
          "base_uri": "https://localhost:8080/"
        },
        "id": "CzNsCGG1PLGl",
        "outputId": "8eb6f750-7bb4-42cb-a81c-bad4f2b8e315"
      },
      "execution_count": 57,
      "outputs": [
        {
          "output_type": "stream",
          "name": "stdout",
          "text": [
            "Epoch 1/100\n",
            "3917/3917 [==============================] - 11s 2ms/step - loss: 0.4633 - accuracy: 0.8043 - val_loss: 0.9655 - val_accuracy: 0.4600\n",
            "Epoch 2/100\n",
            "3917/3917 [==============================] - 9s 2ms/step - loss: 0.4501 - accuracy: 0.8125 - val_loss: 1.1008 - val_accuracy: 0.4426\n",
            "Epoch 3/100\n",
            "3917/3917 [==============================] - 9s 2ms/step - loss: 0.4474 - accuracy: 0.8142 - val_loss: 1.0383 - val_accuracy: 0.4555\n",
            "Epoch 4/100\n",
            "3917/3917 [==============================] - 8s 2ms/step - loss: 0.4467 - accuracy: 0.8139 - val_loss: 1.0613 - val_accuracy: 0.4445\n",
            "Epoch 5/100\n",
            "3917/3917 [==============================] - 10s 2ms/step - loss: 0.4465 - accuracy: 0.8141 - val_loss: 1.1734 - val_accuracy: 0.4137\n",
            "Epoch 6/100\n",
            "3917/3917 [==============================] - 11s 3ms/step - loss: 0.4459 - accuracy: 0.8144 - val_loss: 1.0619 - val_accuracy: 0.4361\n",
            "Epoch 7/100\n",
            "3917/3917 [==============================] - 9s 2ms/step - loss: 0.4451 - accuracy: 0.8154 - val_loss: 0.9872 - val_accuracy: 0.4723\n",
            "Epoch 8/100\n",
            "3917/3917 [==============================] - 8s 2ms/step - loss: 0.4452 - accuracy: 0.8148 - val_loss: 1.0875 - val_accuracy: 0.4618\n",
            "Epoch 9/100\n",
            "3917/3917 [==============================] - 10s 2ms/step - loss: 0.4445 - accuracy: 0.8154 - val_loss: 1.0082 - val_accuracy: 0.4714\n",
            "Epoch 10/100\n",
            "3917/3917 [==============================] - 8s 2ms/step - loss: 0.4446 - accuracy: 0.8149 - val_loss: 1.1027 - val_accuracy: 0.4512\n",
            "Epoch 11/100\n",
            "3917/3917 [==============================] - 8s 2ms/step - loss: 0.4442 - accuracy: 0.8155 - val_loss: 0.9460 - val_accuracy: 0.4786\n",
            "Epoch 12/100\n",
            "3917/3917 [==============================] - 13s 3ms/step - loss: 0.4444 - accuracy: 0.8152 - val_loss: 1.1487 - val_accuracy: 0.4293\n",
            "Epoch 13/100\n",
            "3917/3917 [==============================] - 13s 3ms/step - loss: 0.4447 - accuracy: 0.8157 - val_loss: 1.0288 - val_accuracy: 0.4813\n",
            "Epoch 14/100\n",
            "3917/3917 [==============================] - 8s 2ms/step - loss: 0.4450 - accuracy: 0.8149 - val_loss: 1.0622 - val_accuracy: 0.4659\n",
            "Epoch 15/100\n",
            "3917/3917 [==============================] - 9s 2ms/step - loss: 0.4443 - accuracy: 0.8160 - val_loss: 1.0903 - val_accuracy: 0.4522\n",
            "Epoch 16/100\n",
            "3917/3917 [==============================] - 8s 2ms/step - loss: 0.4445 - accuracy: 0.8162 - val_loss: 0.9853 - val_accuracy: 0.4889\n",
            "Epoch 17/100\n",
            "3917/3917 [==============================] - 9s 2ms/step - loss: 0.4450 - accuracy: 0.8157 - val_loss: 1.0030 - val_accuracy: 0.4769\n",
            "Epoch 18/100\n",
            "3917/3917 [==============================] - 8s 2ms/step - loss: 0.4449 - accuracy: 0.8158 - val_loss: 0.9691 - val_accuracy: 0.4801\n",
            "Epoch 19/100\n",
            "3917/3917 [==============================] - 8s 2ms/step - loss: 0.4454 - accuracy: 0.8168 - val_loss: 0.9616 - val_accuracy: 0.4843\n",
            "Epoch 20/100\n",
            "3917/3917 [==============================] - 9s 2ms/step - loss: 0.4452 - accuracy: 0.8181 - val_loss: 0.9753 - val_accuracy: 0.4734\n",
            "Epoch 21/100\n",
            "3917/3917 [==============================] - 9s 2ms/step - loss: 0.4446 - accuracy: 0.8182 - val_loss: 1.1136 - val_accuracy: 0.4758\n",
            "Epoch 22/100\n",
            "3917/3917 [==============================] - 9s 2ms/step - loss: 0.4449 - accuracy: 0.8187 - val_loss: 0.9868 - val_accuracy: 0.4860\n",
            "Epoch 23/100\n",
            "3917/3917 [==============================] - 8s 2ms/step - loss: 0.4446 - accuracy: 0.8194 - val_loss: 0.8142 - val_accuracy: 0.5387\n",
            "Epoch 24/100\n",
            "3917/3917 [==============================] - 11s 3ms/step - loss: 0.4454 - accuracy: 0.8187 - val_loss: 0.9966 - val_accuracy: 0.4794\n",
            "Epoch 25/100\n",
            "3917/3917 [==============================] - 11s 3ms/step - loss: 0.4450 - accuracy: 0.8180 - val_loss: 0.9497 - val_accuracy: 0.4938\n",
            "Epoch 26/100\n",
            "3917/3917 [==============================] - 9s 2ms/step - loss: 0.4456 - accuracy: 0.8185 - val_loss: 0.9643 - val_accuracy: 0.5103\n",
            "Epoch 27/100\n",
            "3917/3917 [==============================] - 9s 2ms/step - loss: 0.4454 - accuracy: 0.8196 - val_loss: 0.9936 - val_accuracy: 0.5077\n",
            "Epoch 28/100\n",
            "3917/3917 [==============================] - 9s 2ms/step - loss: 0.4450 - accuracy: 0.8191 - val_loss: 1.0644 - val_accuracy: 0.4665\n",
            "Epoch 29/100\n",
            "3917/3917 [==============================] - 9s 2ms/step - loss: 0.4453 - accuracy: 0.8197 - val_loss: 1.0535 - val_accuracy: 0.4956\n",
            "Epoch 30/100\n",
            "3917/3917 [==============================] - 8s 2ms/step - loss: 0.4470 - accuracy: 0.8196 - val_loss: 0.9804 - val_accuracy: 0.4876\n",
            "Epoch 31/100\n",
            "3917/3917 [==============================] - 9s 2ms/step - loss: 0.4459 - accuracy: 0.8186 - val_loss: 0.8768 - val_accuracy: 0.5436\n",
            "Epoch 32/100\n",
            "3917/3917 [==============================] - 8s 2ms/step - loss: 0.4462 - accuracy: 0.8188 - val_loss: 1.2092 - val_accuracy: 0.4422\n",
            "Epoch 33/100\n",
            "3917/3917 [==============================] - 9s 2ms/step - loss: 0.4462 - accuracy: 0.8205 - val_loss: 1.1211 - val_accuracy: 0.4749\n",
            "Epoch 34/100\n",
            "3917/3917 [==============================] - 8s 2ms/step - loss: 0.4460 - accuracy: 0.8188 - val_loss: 0.9228 - val_accuracy: 0.5170\n",
            "Epoch 35/100\n",
            "3917/3917 [==============================] - 9s 2ms/step - loss: 0.4471 - accuracy: 0.8196 - val_loss: 0.8784 - val_accuracy: 0.4999\n",
            "Epoch 36/100\n",
            "3917/3917 [==============================] - 9s 2ms/step - loss: 0.4475 - accuracy: 0.8196 - val_loss: 1.1773 - val_accuracy: 0.4550\n",
            "Epoch 37/100\n",
            "3917/3917 [==============================] - 9s 2ms/step - loss: 0.4473 - accuracy: 0.8197 - val_loss: 1.1248 - val_accuracy: 0.4600\n",
            "Epoch 38/100\n",
            "3917/3917 [==============================] - 8s 2ms/step - loss: 0.4461 - accuracy: 0.8200 - val_loss: 1.0020 - val_accuracy: 0.5070\n",
            "Epoch 39/100\n",
            "3917/3917 [==============================] - 9s 2ms/step - loss: 0.4462 - accuracy: 0.8200 - val_loss: 0.9743 - val_accuracy: 0.4880\n",
            "Epoch 40/100\n",
            "3917/3917 [==============================] - 8s 2ms/step - loss: 0.4467 - accuracy: 0.8197 - val_loss: 0.7793 - val_accuracy: 0.5433\n",
            "Epoch 41/100\n",
            "3917/3917 [==============================] - 9s 2ms/step - loss: 0.4471 - accuracy: 0.8202 - val_loss: 0.8701 - val_accuracy: 0.4967\n",
            "Epoch 42/100\n",
            "3917/3917 [==============================] - 8s 2ms/step - loss: 0.4470 - accuracy: 0.8202 - val_loss: 0.7759 - val_accuracy: 0.5529\n",
            "Epoch 43/100\n",
            "3917/3917 [==============================] - 8s 2ms/step - loss: 0.4473 - accuracy: 0.8205 - val_loss: 1.1323 - val_accuracy: 0.4538\n",
            "Epoch 44/100\n",
            "3917/3917 [==============================] - 9s 2ms/step - loss: 0.4467 - accuracy: 0.8213 - val_loss: 1.0106 - val_accuracy: 0.4873\n",
            "Epoch 45/100\n",
            "3917/3917 [==============================] - 9s 2ms/step - loss: 0.4468 - accuracy: 0.8204 - val_loss: 1.1878 - val_accuracy: 0.4519\n",
            "Epoch 46/100\n",
            "3917/3917 [==============================] - 9s 2ms/step - loss: 0.4464 - accuracy: 0.8203 - val_loss: 0.7620 - val_accuracy: 0.5744\n",
            "Epoch 47/100\n",
            "3917/3917 [==============================] - 8s 2ms/step - loss: 0.4464 - accuracy: 0.8203 - val_loss: 0.9509 - val_accuracy: 0.4750\n",
            "Epoch 48/100\n",
            "3917/3917 [==============================] - 9s 2ms/step - loss: 0.4465 - accuracy: 0.8201 - val_loss: 1.0455 - val_accuracy: 0.4658\n",
            "Epoch 49/100\n",
            "3917/3917 [==============================] - 9s 2ms/step - loss: 0.4461 - accuracy: 0.8201 - val_loss: 1.3444 - val_accuracy: 0.4171\n",
            "Epoch 50/100\n",
            "3917/3917 [==============================] - 9s 2ms/step - loss: 0.4476 - accuracy: 0.8198 - val_loss: 0.9099 - val_accuracy: 0.5116\n",
            "Epoch 51/100\n",
            "3917/3917 [==============================] - 9s 2ms/step - loss: 0.4456 - accuracy: 0.8208 - val_loss: 0.8904 - val_accuracy: 0.5267\n",
            "Epoch 52/100\n",
            "3917/3917 [==============================] - 9s 2ms/step - loss: 0.4465 - accuracy: 0.8203 - val_loss: 1.1428 - val_accuracy: 0.4528\n",
            "Epoch 53/100\n",
            "3917/3917 [==============================] - 9s 2ms/step - loss: 0.4463 - accuracy: 0.8208 - val_loss: 1.0083 - val_accuracy: 0.4895\n",
            "Epoch 54/100\n",
            "3917/3917 [==============================] - 9s 2ms/step - loss: 0.4456 - accuracy: 0.8200 - val_loss: 0.7818 - val_accuracy: 0.5702\n",
            "Epoch 55/100\n",
            "3917/3917 [==============================] - 9s 2ms/step - loss: 0.4464 - accuracy: 0.8211 - val_loss: 1.1838 - val_accuracy: 0.4534\n",
            "Epoch 56/100\n",
            "3917/3917 [==============================] - 9s 2ms/step - loss: 0.4456 - accuracy: 0.8200 - val_loss: 0.8049 - val_accuracy: 0.5574\n",
            "Epoch 57/100\n",
            "3917/3917 [==============================] - 9s 2ms/step - loss: 0.4456 - accuracy: 0.8207 - val_loss: 0.9789 - val_accuracy: 0.4862\n",
            "Epoch 58/100\n",
            "3917/3917 [==============================] - 9s 2ms/step - loss: 0.4471 - accuracy: 0.8202 - val_loss: 1.1518 - val_accuracy: 0.4526\n",
            "Epoch 59/100\n",
            "3917/3917 [==============================] - 9s 2ms/step - loss: 0.4456 - accuracy: 0.8194 - val_loss: 1.1873 - val_accuracy: 0.4665\n",
            "Epoch 60/100\n",
            "3917/3917 [==============================] - 9s 2ms/step - loss: 0.4473 - accuracy: 0.8203 - val_loss: 1.2464 - val_accuracy: 0.4688\n",
            "Epoch 61/100\n",
            "3917/3917 [==============================] - 9s 2ms/step - loss: 0.4472 - accuracy: 0.8198 - val_loss: 0.8027 - val_accuracy: 0.5642\n",
            "Epoch 62/100\n",
            "3917/3917 [==============================] - 9s 2ms/step - loss: 0.4470 - accuracy: 0.8203 - val_loss: 1.2605 - val_accuracy: 0.4483\n",
            "Epoch 63/100\n",
            "3917/3917 [==============================] - 8s 2ms/step - loss: 0.4475 - accuracy: 0.8202 - val_loss: 0.8575 - val_accuracy: 0.5666\n",
            "Epoch 64/100\n",
            "3917/3917 [==============================] - 9s 2ms/step - loss: 0.4477 - accuracy: 0.8189 - val_loss: 0.8747 - val_accuracy: 0.5440\n",
            "Epoch 65/100\n",
            "3917/3917 [==============================] - 8s 2ms/step - loss: 0.4466 - accuracy: 0.8205 - val_loss: 0.8688 - val_accuracy: 0.5596\n",
            "Epoch 66/100\n",
            "3917/3917 [==============================] - 9s 2ms/step - loss: 0.4472 - accuracy: 0.8201 - val_loss: 1.2497 - val_accuracy: 0.4422\n",
            "Epoch 67/100\n",
            "3917/3917 [==============================] - 9s 2ms/step - loss: 0.4479 - accuracy: 0.8198 - val_loss: 1.1031 - val_accuracy: 0.4799\n",
            "Epoch 68/100\n",
            "3917/3917 [==============================] - 9s 2ms/step - loss: 0.4471 - accuracy: 0.8204 - val_loss: 1.1668 - val_accuracy: 0.4634\n",
            "Epoch 69/100\n",
            "3917/3917 [==============================] - 9s 2ms/step - loss: 0.4474 - accuracy: 0.8189 - val_loss: 1.2905 - val_accuracy: 0.4449\n",
            "Epoch 70/100\n",
            "3917/3917 [==============================] - 9s 2ms/step - loss: 0.4470 - accuracy: 0.8212 - val_loss: 1.0628 - val_accuracy: 0.4653\n",
            "Epoch 71/100\n",
            "3917/3917 [==============================] - 9s 2ms/step - loss: 0.4473 - accuracy: 0.8211 - val_loss: 0.9760 - val_accuracy: 0.5078\n",
            "Epoch 72/100\n",
            "3917/3917 [==============================] - 9s 2ms/step - loss: 0.4473 - accuracy: 0.8203 - val_loss: 1.1984 - val_accuracy: 0.4774\n",
            "Epoch 73/100\n",
            "3917/3917 [==============================] - 9s 2ms/step - loss: 0.4477 - accuracy: 0.8205 - val_loss: 1.0667 - val_accuracy: 0.4900\n",
            "Epoch 74/100\n",
            "3917/3917 [==============================] - 9s 2ms/step - loss: 0.4468 - accuracy: 0.8209 - val_loss: 1.5007 - val_accuracy: 0.4128\n",
            "Epoch 75/100\n",
            "3917/3917 [==============================] - 9s 2ms/step - loss: 0.4483 - accuracy: 0.8195 - val_loss: 1.0310 - val_accuracy: 0.5039\n",
            "Epoch 76/100\n",
            "3917/3917 [==============================] - 9s 2ms/step - loss: 0.4478 - accuracy: 0.8209 - val_loss: 1.1412 - val_accuracy: 0.4668\n",
            "Epoch 77/100\n",
            "3917/3917 [==============================] - 8s 2ms/step - loss: 0.4463 - accuracy: 0.8209 - val_loss: 1.1304 - val_accuracy: 0.4307\n",
            "Epoch 78/100\n",
            "3917/3917 [==============================] - 9s 2ms/step - loss: 0.4480 - accuracy: 0.8207 - val_loss: 1.0918 - val_accuracy: 0.4865\n",
            "Epoch 79/100\n",
            "3917/3917 [==============================] - 9s 2ms/step - loss: 0.4474 - accuracy: 0.8213 - val_loss: 1.2208 - val_accuracy: 0.4805\n",
            "Epoch 80/100\n",
            "3917/3917 [==============================] - 9s 2ms/step - loss: 0.4475 - accuracy: 0.8215 - val_loss: 1.1855 - val_accuracy: 0.4670\n",
            "Epoch 81/100\n",
            "3917/3917 [==============================] - 9s 2ms/step - loss: 0.4478 - accuracy: 0.8206 - val_loss: 1.2414 - val_accuracy: 0.4376\n",
            "Epoch 82/100\n",
            "3917/3917 [==============================] - 9s 2ms/step - loss: 0.4479 - accuracy: 0.8227 - val_loss: 0.8403 - val_accuracy: 0.5724\n",
            "Epoch 83/100\n",
            "3917/3917 [==============================] - 9s 2ms/step - loss: 0.4468 - accuracy: 0.8212 - val_loss: 0.8617 - val_accuracy: 0.5529\n",
            "Epoch 84/100\n",
            "3917/3917 [==============================] - 9s 2ms/step - loss: 0.4469 - accuracy: 0.8207 - val_loss: 0.9255 - val_accuracy: 0.5122\n",
            "Epoch 85/100\n",
            "3917/3917 [==============================] - 8s 2ms/step - loss: 0.4471 - accuracy: 0.8208 - val_loss: 1.1991 - val_accuracy: 0.4529\n",
            "Epoch 86/100\n",
            "3917/3917 [==============================] - 9s 2ms/step - loss: 0.4470 - accuracy: 0.8207 - val_loss: 1.2747 - val_accuracy: 0.4595\n",
            "Epoch 87/100\n",
            "3917/3917 [==============================] - 8s 2ms/step - loss: 0.4468 - accuracy: 0.8208 - val_loss: 1.0319 - val_accuracy: 0.5064\n",
            "Epoch 88/100\n",
            "3917/3917 [==============================] - 9s 2ms/step - loss: 0.4479 - accuracy: 0.8215 - val_loss: 1.2511 - val_accuracy: 0.4538\n",
            "Epoch 89/100\n",
            "3917/3917 [==============================] - 9s 2ms/step - loss: 0.4481 - accuracy: 0.8203 - val_loss: 0.9751 - val_accuracy: 0.4960\n",
            "Epoch 90/100\n",
            "3917/3917 [==============================] - 9s 2ms/step - loss: 0.4477 - accuracy: 0.8209 - val_loss: 0.8194 - val_accuracy: 0.5870\n",
            "Epoch 91/100\n",
            "3917/3917 [==============================] - 14s 4ms/step - loss: 0.4478 - accuracy: 0.8210 - val_loss: 1.0155 - val_accuracy: 0.5256\n",
            "Epoch 92/100\n",
            "3917/3917 [==============================] - 15s 4ms/step - loss: 0.4482 - accuracy: 0.8203 - val_loss: 1.4288 - val_accuracy: 0.4242\n",
            "Epoch 93/100\n",
            "3917/3917 [==============================] - 16s 4ms/step - loss: 0.4475 - accuracy: 0.8204 - val_loss: 1.0057 - val_accuracy: 0.5474\n",
            "Epoch 94/100\n",
            "3917/3917 [==============================] - 16s 4ms/step - loss: 0.4481 - accuracy: 0.8209 - val_loss: 0.9081 - val_accuracy: 0.5277\n",
            "Epoch 95/100\n",
            "3917/3917 [==============================] - 16s 4ms/step - loss: 0.4481 - accuracy: 0.8207 - val_loss: 0.9335 - val_accuracy: 0.5252\n",
            "Epoch 96/100\n",
            "3917/3917 [==============================] - 8s 2ms/step - loss: 0.4483 - accuracy: 0.8196 - val_loss: 0.9864 - val_accuracy: 0.5416\n",
            "Epoch 97/100\n",
            "3917/3917 [==============================] - 8s 2ms/step - loss: 0.4485 - accuracy: 0.8202 - val_loss: 0.9066 - val_accuracy: 0.5274\n",
            "Epoch 98/100\n",
            "3917/3917 [==============================] - 8s 2ms/step - loss: 0.4476 - accuracy: 0.8207 - val_loss: 1.1236 - val_accuracy: 0.4473\n",
            "Epoch 99/100\n",
            "3917/3917 [==============================] - 8s 2ms/step - loss: 0.4483 - accuracy: 0.8197 - val_loss: 1.0487 - val_accuracy: 0.4657\n",
            "Epoch 100/100\n",
            "3917/3917 [==============================] - 9s 2ms/step - loss: 0.4486 - accuracy: 0.8180 - val_loss: 1.0355 - val_accuracy: 0.5128\n"
          ]
        }
      ]
    },
    {
      "cell_type": "code",
      "source": [
        "plt.plot(model_history.history['accuracy'])\n",
        "plt.plot(model_history.history['val_accuracy'])\n",
        "plt.title('Model accuracy Vs Epochs')\n",
        "plt.ylabel('Accuracy')\n",
        "plt.xlabel('Epoch')\n",
        "plt.legend(['Train', 'Validation'], loc='upper left')\n",
        "plt.show()\n",
        "\n",
        "# summarize history for loss\n",
        "plt.plot(model_history.history['loss'])\n",
        "plt.plot(model_history.history['val_loss'])\n",
        "plt.title('Model loss Vs Loss')\n",
        "plt.ylabel('Loss')\n",
        "plt.xlabel('Epoch')\n",
        "plt.legend(['Train', 'Validation'], loc='upper left')\n",
        "plt.show()"
      ],
      "metadata": {
        "colab": {
          "base_uri": "https://localhost:8080/",
          "height": 573
        },
        "id": "bK77u8LpPLDq",
        "outputId": "095e94a6-20fe-4030-bb96-141203724302"
      },
      "execution_count": 58,
      "outputs": [
        {
          "output_type": "display_data",
          "data": {
            "text/plain": [
              "<Figure size 432x288 with 1 Axes>"
            ],
            "image/png": "[encoded data removed]"
          },
          "metadata": {
            "needs_background": "light"
          }
        },
        {
          "output_type": "display_data",
          "data": {
            "text/plain": [
              "<Figure size 432x288 with 1 Axes>"
            ],
            "image/png": "[encoded data removed]"
          },
          "metadata": {
            "needs_background": "light"
          }
        }
      ]
    },
    {
      "cell_type": "code",
      "source": [
        "loss, accuracy = model2.evaluate(x_test2, y_test2)"
      ],
      "metadata": {
        "outputId": "b4ea406a-f0ef-4be1-b937-0739fd62ff89",
        "colab": {
          "base_uri": "https://localhost:8080/"
        },
        "id": "dWZgumwkoxZh"
      },
      "execution_count": 60,
      "outputs": [
        {
          "output_type": "stream",
          "name": "stdout",
          "text": [
            "258/258 [==============================] - 1s 4ms/step - loss: 0.3298 - accuracy: 0.8816\n"
          ]
        }
      ]
    },
    {
      "cell_type": "code",
      "source": [
        "preds2 = model2.predict(x_test2)\n",
        "preds2=np.argmax(preds2, axis=1)\n",
        "print('shape of preds: ', preds.shape)"
      ],
      "metadata": {
        "outputId": "50c8f0b2-4a1a-4947-e056-ade0954e4784",
        "colab": {
          "base_uri": "https://localhost:8080/"
        },
        "id": "ZNKKffqmoxZh"
      },
      "execution_count": 61,
      "outputs": [
        {
          "output_type": "stream",
          "name": "stdout",
          "text": [
            "shape of preds:  (8234,)\n"
          ]
        }
      ]
    },
    {
      "cell_type": "code",
      "source": [
        "print_validation_report(y_test2, preds2)"
      ],
      "metadata": {
        "outputId": "ef7b1999-fc36-4e34-b302-587feb7b6b0f",
        "colab": {
          "base_uri": "https://localhost:8080/"
        },
        "id": "4O1dFZZXoxZi"
      },
      "execution_count": 62,
      "outputs": [
        {
          "output_type": "stream",
          "name": "stdout",
          "text": [
            "Classification Report\n",
            "              precision    recall  f1-score   support\n",
            "\n",
            "           0       0.89      1.00      0.94      7307\n",
            "           1       0.00      0.00      0.00       927\n",
            "\n",
            "    accuracy                           0.89      8234\n",
            "   macro avg       0.44      0.50      0.47      8234\n",
            "weighted avg       0.79      0.89      0.83      8234\n",
            "\n",
            "Accuracy Score: 0.8874180228321593\n",
            "Root Mean Square Error: 0.33553237871752506\n"
          ]
        }
      ]
    },
    {
      "cell_type": "code",
      "source": [
        "plot_confusion_matrix(y_test2,preds2)"
      ],
      "metadata": {
        "outputId": "bf852781-6e3f-4cbc-b47e-0528dac985e4",
        "colab": {
          "base_uri": "https://localhost:8080/",
          "height": 497
        },
        "id": "yXqh5xUfoxZi"
      },
      "execution_count": 63,
      "outputs": [
        {
          "output_type": "display_data",
          "data": {
            "text/plain": [
              "<Figure size 576x576 with 1 Axes>"
            ],
            "image/png": "[encoded data removed]"
          },
          "metadata": {
            "needs_background": "light"
          }
        }
      ]
    },
    {
      "cell_type": "markdown",
      "source": [
        "###Train the model with duration feature - comparison purpose"
      ],
      "metadata": {
        "id": "4d3HgKIZoyuL"
      }
    },
    {
      "cell_type": "code",
      "source": [
        "data_dur = data_1.copy()"
      ],
      "metadata": {
        "id": "vcVhlgDjTi_N"
      },
      "execution_count": 64,
      "outputs": []
    },
    {
      "cell_type": "code",
      "source": [
        "df_dur = data_dur[['age', 'marital', 'default', 'housing', 'loan',\n",
        "       'contact', 'day_of_week', 'duration', 'campaign', 'pdays',\n",
        "       'previous', 'poutcome', 'emp.var.rate', 'cons.price.idx',\n",
        "       'cons.conf.idx', 'euribor3m', 'nr.employed', 'y', 'edu_new', 'job_new', 'season']]"
      ],
      "metadata": {
        "id": "wLXfPrt-VJvb"
      },
      "execution_count": 65,
      "outputs": []
    },
    {
      "cell_type": "code",
      "source": [
        "y = df_dur['y'].apply(lambda x: 0 if x=='no' else (1 if x=='yes' else -1))\n",
        "y.value_counts()"
      ],
      "metadata": {
        "id": "MbeVWpWkUE0T"
      },
      "execution_count": null,
      "outputs": []
    },
    {
      "cell_type": "code",
      "source": [
        "x = df_dur.drop('y', axis=1)"
      ],
      "metadata": {
        "id": "mzDat0xBUE0Y"
      },
      "execution_count": 67,
      "outputs": []
    },
    {
      "cell_type": "code",
      "source": [
        "df_raw_3 = pd.get_dummies(x)\n",
        "df_raw_3.columns"
      ],
      "metadata": {
        "colab": {
          "base_uri": "https://localhost:8080/"
        },
        "outputId": "de1bfe75-f5d3-45aa-c83f-303e12029f3e",
        "id": "NFqU45YXUE0Y"
      },
      "execution_count": 68,
      "outputs": [
        {
          "output_type": "execute_result",
          "data": {
            "text/plain": [
              "Index(['age', 'duration', 'campaign', 'pdays', 'previous', 'emp.var.rate',\n",
              "       'cons.price.idx', 'cons.conf.idx', 'euribor3m', 'nr.employed',\n",
              "       'marital_divorced', 'marital_married', 'marital_single',\n",
              "       'marital_unknown', 'default_no', 'default_unknown', 'default_yes',\n",
              "       'housing_no', 'housing_unknown', 'housing_yes', 'loan_no',\n",
              "       'loan_unknown', 'loan_yes', 'contact_cellular', 'contact_telephone',\n",
              "       'day_of_week_fri', 'day_of_week_mon', 'day_of_week_thu',\n",
              "       'day_of_week_tue', 'day_of_week_wed', 'poutcome_failure',\n",
              "       'poutcome_nonexistent', 'poutcome_success', 'edu_new_high',\n",
              "       'edu_new_post_high', 'edu_new_pre_high', 'edu_new_unknown',\n",
              "       'job_new_blue_collar', 'job_new_not_working', 'job_new_unknown',\n",
              "       'job_new_white_collar', 'season_fall', 'season_spring', 'season_summer',\n",
              "       'season_winter'],\n",
              "      dtype='object')"
            ]
          },
          "metadata": {},
          "execution_count": 68
        }
      ]
    },
    {
      "cell_type": "code",
      "source": [
        "#drop the unknow columns as they are correlated to other categories\n",
        "\n",
        "df_raw_3 = df_raw_3.drop(['marital_unknown', 'default_unknown', 'housing_unknown', \n",
        "                        'loan_unknown', 'edu_new_unknown', 'job_new_unknown',\n",
        "                        'day_of_week_fri', 'day_of_week_mon', 'day_of_week_thu',\n",
        "                        'day_of_week_tue', 'day_of_week_wed', 'season_winter'], axis=1)\n",
        "df_raw_3.shape"
      ],
      "metadata": {
        "colab": {
          "base_uri": "https://localhost:8080/"
        },
        "outputId": "c21d40fd-461a-401a-c7f6-c4dc87044615",
        "id": "wO62Mes-UE0Y"
      },
      "execution_count": 69,
      "outputs": [
        {
          "output_type": "execute_result",
          "data": {
            "text/plain": [
              "(41170, 33)"
            ]
          },
          "metadata": {},
          "execution_count": 69
        }
      ]
    },
    {
      "cell_type": "code",
      "source": [
        "from sklearn.preprocessing import MinMaxScaler\n",
        "\n",
        "scaler = MinMaxScaler()\n",
        "x_3 = scaler.fit_transform(df_raw_3)"
      ],
      "metadata": {
        "id": "neeP31eoUE0Y"
      },
      "execution_count": 70,
      "outputs": []
    },
    {
      "cell_type": "code",
      "source": [
        "x_3"
      ],
      "metadata": {
        "colab": {
          "base_uri": "https://localhost:8080/"
        },
        "outputId": "aa14bf51-eb7c-4175-db54-6581b7836410",
        "id": "kQ6VYWXvUE0Y"
      },
      "execution_count": 71,
      "outputs": [
        {
          "output_type": "execute_result",
          "data": {
            "text/plain": [
              "array([[0.48148148, 0.05307035, 0.        , ..., 0.        , 1.        ,\n",
              "        0.        ],\n",
              "       [0.49382716, 0.03029687, 0.        , ..., 0.        , 1.        ,\n",
              "        0.        ],\n",
              "       [0.24691358, 0.04595364, 0.        , ..., 0.        , 1.        ,\n",
              "        0.        ],\n",
              "       ...,\n",
              "       [0.48148148, 0.03843026, 0.01818182, ..., 1.        , 0.        ,\n",
              "        0.        ],\n",
              "       [0.33333333, 0.08987393, 0.        , ..., 1.        , 0.        ,\n",
              "        0.        ],\n",
              "       [0.7037037 , 0.04859699, 0.03636364, ..., 1.        , 0.        ,\n",
              "        0.        ]])"
            ]
          },
          "metadata": {},
          "execution_count": 71
        }
      ]
    },
    {
      "cell_type": "code",
      "source": [
        "#here i used stratified sampling approach, since the raw data is not balanced distributed\n",
        "x_train3,x_test3,y_train3,y_test3 = train_test_split(x_3, y, test_size = 0.2, stratify=y, random_state=42)\n",
        "print(x_train3.shape,\n",
        "      x_test3.shape,\n",
        "      y_train3.shape,\n",
        "      y_test3.shape)"
      ],
      "metadata": {
        "colab": {
          "base_uri": "https://localhost:8080/"
        },
        "outputId": "885ffa4d-fa30-493b-9679-ec6c8db3b17d",
        "id": "saWxXeLYUE0Y"
      },
      "execution_count": 72,
      "outputs": [
        {
          "output_type": "stream",
          "name": "stdout",
          "text": [
            "(32936, 33) (8234, 33) (32936,) (8234,)\n"
          ]
        }
      ]
    },
    {
      "cell_type": "code",
      "source": [
        "import imblearn\n",
        "\n",
        "smote = SMOTE()\n",
        "\n",
        "x_s3, y_s3 = smote.fit_resample(x_train3, y_train3)\n",
        "\n",
        "print('Original dataset shape', len(x_train3))\n",
        "print('Resampled dataset shape', len(x_s3))"
      ],
      "metadata": {
        "colab": {
          "base_uri": "https://localhost:8080/"
        },
        "outputId": "848a75cb-72bd-46e4-d5ac-ea31f8c75942",
        "id": "uO6WCWboUE0Y"
      },
      "execution_count": 73,
      "outputs": [
        {
          "output_type": "stream",
          "name": "stdout",
          "text": [
            "Original dataset shape 32936\n",
            "Resampled dataset shape 58454\n"
          ]
        }
      ]
    },
    {
      "cell_type": "code",
      "source": [
        "y_s3.value_counts()"
      ],
      "metadata": {
        "colab": {
          "base_uri": "https://localhost:8080/"
        },
        "outputId": "66de5839-b721-4011-a135-c361e4a8643a",
        "id": "JTql9XhgUE0Z"
      },
      "execution_count": 74,
      "outputs": [
        {
          "output_type": "execute_result",
          "data": {
            "text/plain": [
              "0    29227\n",
              "1    29227\n",
              "Name: y, dtype: int64"
            ]
          },
          "metadata": {},
          "execution_count": 74
        }
      ]
    },
    {
      "cell_type": "code",
      "source": [
        "model3 = Sequential()\n",
        "model3.add(Dense(units = 16, kernel_initializer = 'he_uniform',activation='relu',input_dim = x_s3.shape[1]))\n",
        "model3.add(Dense(units = 8, kernel_initializer = 'he_uniform',activation='relu', kernel_regularizer=tf.keras.regularizers.L2(0.001)))\n",
        "model3.add(Dropout(0.2))\n",
        "model3.add(Dense(units = 1, kernel_initializer = 'glorot_uniform', activation = 'sigmoid'))"
      ],
      "metadata": {
        "id": "0S1ZU2mSUE0Z"
      },
      "execution_count": 77,
      "outputs": []
    },
    {
      "cell_type": "code",
      "source": [
        "model3.compile(optimizer = 'adamax', loss = 'binary_crossentropy', metrics = ['accuracy'])\n",
        "model3.summary()"
      ],
      "metadata": {
        "colab": {
          "base_uri": "https://localhost:8080/"
        },
        "outputId": "fe2fc04e-1981-472a-82e1-47cb821460f3",
        "id": "SSC4xbnoUE0Z"
      },
      "execution_count": 79,
      "outputs": [
        {
          "output_type": "stream",
          "name": "stdout",
          "text": [
            "Model: \"sequential_6\"\n",
            "_________________________________________________________________\n",
            " Layer (type)                Output Shape              Param #   \n",
            "=================================================================\n",
            " dense_17 (Dense)            (None, 16)                544       \n",
            "                                                                 \n",
            " dense_18 (Dense)            (None, 8)                 136       \n",
            "                                                                 \n",
            " dropout_2 (Dropout)         (None, 8)                 0         \n",
            "                                                                 \n",
            " dense_19 (Dense)            (None, 1)                 9         \n",
            "                                                                 \n",
            "=================================================================\n",
            "Total params: 689\n",
            "Trainable params: 689\n",
            "Non-trainable params: 0\n",
            "_________________________________________________________________\n"
          ]
        }
      ]
    },
    {
      "cell_type": "code",
      "source": [
        "model_history = model3.fit(x_s3, y_s3,validation_split=0.33, batch_size = 10, epochs = 100)"
      ],
      "metadata": {
        "colab": {
          "base_uri": "https://localhost:8080/"
        },
        "outputId": "e9c05fc3-8a00-4b8f-df7f-38479d95f9cb",
        "id": "l3NcDBIeUE0Z"
      },
      "execution_count": 80,
      "outputs": [
        {
          "output_type": "stream",
          "name": "stdout",
          "text": [
            "Epoch 1/100\n",
            "3917/3917 [==============================] - 9s 2ms/step - loss: 0.4902 - accuracy: 0.7890 - val_loss: 0.9856 - val_accuracy: 0.4475\n",
            "Epoch 2/100\n",
            "3917/3917 [==============================] - 9s 2ms/step - loss: 0.4224 - accuracy: 0.8160 - val_loss: 0.8085 - val_accuracy: 0.5251\n",
            "Epoch 3/100\n",
            "3917/3917 [==============================] - 9s 2ms/step - loss: 0.3583 - accuracy: 0.8400 - val_loss: 0.6859 - val_accuracy: 0.6417\n",
            "Epoch 4/100\n",
            "3917/3917 [==============================] - 9s 2ms/step - loss: 0.3228 - accuracy: 0.8588 - val_loss: 0.6096 - val_accuracy: 0.7239\n",
            "Epoch 5/100\n",
            "3917/3917 [==============================] - 9s 2ms/step - loss: 0.3100 - accuracy: 0.8656 - val_loss: 0.6349 - val_accuracy: 0.7250\n",
            "Epoch 6/100\n",
            "3917/3917 [==============================] - 10s 3ms/step - loss: 0.3033 - accuracy: 0.8698 - val_loss: 0.5197 - val_accuracy: 0.8158\n",
            "Epoch 7/100\n",
            "3917/3917 [==============================] - 8s 2ms/step - loss: 0.2993 - accuracy: 0.8706 - val_loss: 0.6350 - val_accuracy: 0.7471\n",
            "Epoch 8/100\n",
            "3917/3917 [==============================] - 8s 2ms/step - loss: 0.2968 - accuracy: 0.8717 - val_loss: 0.4894 - val_accuracy: 0.8516\n",
            "Epoch 9/100\n",
            "3917/3917 [==============================] - 8s 2ms/step - loss: 0.2934 - accuracy: 0.8716 - val_loss: 0.5525 - val_accuracy: 0.8064\n",
            "Epoch 10/100\n",
            "3917/3917 [==============================] - 9s 2ms/step - loss: 0.2908 - accuracy: 0.8740 - val_loss: 0.5581 - val_accuracy: 0.8082\n",
            "Epoch 11/100\n",
            "3917/3917 [==============================] - 8s 2ms/step - loss: 0.2885 - accuracy: 0.8729 - val_loss: 0.5546 - val_accuracy: 0.8073\n",
            "Epoch 12/100\n",
            "3917/3917 [==============================] - 9s 2ms/step - loss: 0.2876 - accuracy: 0.8735 - val_loss: 0.5602 - val_accuracy: 0.8062\n",
            "Epoch 13/100\n",
            "3917/3917 [==============================] - 11s 3ms/step - loss: 0.2859 - accuracy: 0.8747 - val_loss: 0.5234 - val_accuracy: 0.8317\n",
            "Epoch 14/100\n",
            "3917/3917 [==============================] - 18s 5ms/step - loss: 0.2842 - accuracy: 0.8743 - val_loss: 0.4924 - val_accuracy: 0.8531\n",
            "Epoch 15/100\n",
            "3917/3917 [==============================] - 16s 4ms/step - loss: 0.2815 - accuracy: 0.8751 - val_loss: 0.4596 - val_accuracy: 0.8720\n",
            "Epoch 16/100\n",
            "3917/3917 [==============================] - 15s 4ms/step - loss: 0.2790 - accuracy: 0.8761 - val_loss: 0.5334 - val_accuracy: 0.8086\n",
            "Epoch 17/100\n",
            "3917/3917 [==============================] - 12s 3ms/step - loss: 0.2785 - accuracy: 0.8758 - val_loss: 0.5471 - val_accuracy: 0.8012\n",
            "Epoch 18/100\n",
            "3917/3917 [==============================] - 9s 2ms/step - loss: 0.2771 - accuracy: 0.8758 - val_loss: 0.5147 - val_accuracy: 0.8309\n",
            "Epoch 19/100\n",
            "3917/3917 [==============================] - 8s 2ms/step - loss: 0.2747 - accuracy: 0.8786 - val_loss: 0.5833 - val_accuracy: 0.7941\n",
            "Epoch 20/100\n",
            "3917/3917 [==============================] - 8s 2ms/step - loss: 0.2743 - accuracy: 0.8771 - val_loss: 0.5260 - val_accuracy: 0.8304\n",
            "Epoch 21/100\n",
            "3917/3917 [==============================] - 8s 2ms/step - loss: 0.2727 - accuracy: 0.8773 - val_loss: 0.5319 - val_accuracy: 0.8204\n",
            "Epoch 22/100\n",
            "3917/3917 [==============================] - 9s 2ms/step - loss: 0.2722 - accuracy: 0.8780 - val_loss: 0.4837 - val_accuracy: 0.8455\n",
            "Epoch 23/100\n",
            "3917/3917 [==============================] - 9s 2ms/step - loss: 0.2713 - accuracy: 0.8777 - val_loss: 0.5025 - val_accuracy: 0.8282\n",
            "Epoch 24/100\n",
            "3917/3917 [==============================] - 9s 2ms/step - loss: 0.2709 - accuracy: 0.8774 - val_loss: 0.4545 - val_accuracy: 0.8785\n",
            "Epoch 25/100\n",
            "3917/3917 [==============================] - 8s 2ms/step - loss: 0.2697 - accuracy: 0.8780 - val_loss: 0.5837 - val_accuracy: 0.7872\n",
            "Epoch 26/100\n",
            "3917/3917 [==============================] - 9s 2ms/step - loss: 0.2683 - accuracy: 0.8784 - val_loss: 0.6015 - val_accuracy: 0.7832\n",
            "Epoch 27/100\n",
            "3917/3917 [==============================] - 9s 2ms/step - loss: 0.2688 - accuracy: 0.8801 - val_loss: 0.4533 - val_accuracy: 0.8665\n",
            "Epoch 28/100\n",
            "3917/3917 [==============================] - 8s 2ms/step - loss: 0.2675 - accuracy: 0.8788 - val_loss: 0.3987 - val_accuracy: 0.9040\n",
            "Epoch 29/100\n",
            "3917/3917 [==============================] - 8s 2ms/step - loss: 0.2661 - accuracy: 0.8787 - val_loss: 0.4872 - val_accuracy: 0.8441\n",
            "Epoch 30/100\n",
            "3917/3917 [==============================] - 8s 2ms/step - loss: 0.2652 - accuracy: 0.8810 - val_loss: 0.5247 - val_accuracy: 0.8208\n",
            "Epoch 31/100\n",
            "3917/3917 [==============================] - 8s 2ms/step - loss: 0.2667 - accuracy: 0.8793 - val_loss: 0.5834 - val_accuracy: 0.7783\n",
            "Epoch 32/100\n",
            "3917/3917 [==============================] - 9s 2ms/step - loss: 0.2652 - accuracy: 0.8787 - val_loss: 0.4989 - val_accuracy: 0.8378\n",
            "Epoch 33/100\n",
            "3917/3917 [==============================] - 9s 2ms/step - loss: 0.2647 - accuracy: 0.8799 - val_loss: 0.5193 - val_accuracy: 0.8202\n",
            "Epoch 34/100\n",
            "3917/3917 [==============================] - 8s 2ms/step - loss: 0.2662 - accuracy: 0.8779 - val_loss: 0.4447 - val_accuracy: 0.8737\n",
            "Epoch 35/100\n",
            "3917/3917 [==============================] - 8s 2ms/step - loss: 0.2646 - accuracy: 0.8786 - val_loss: 0.4451 - val_accuracy: 0.8729\n",
            "Epoch 36/100\n",
            "3917/3917 [==============================] - 9s 2ms/step - loss: 0.2637 - accuracy: 0.8814 - val_loss: 0.4609 - val_accuracy: 0.8533\n",
            "Epoch 37/100\n",
            "3917/3917 [==============================] - 9s 2ms/step - loss: 0.2630 - accuracy: 0.8793 - val_loss: 0.4253 - val_accuracy: 0.8819\n",
            "Epoch 38/100\n",
            "3917/3917 [==============================] - 9s 2ms/step - loss: 0.2636 - accuracy: 0.8799 - val_loss: 0.4322 - val_accuracy: 0.8774\n",
            "Epoch 39/100\n",
            "3917/3917 [==============================] - 9s 2ms/step - loss: 0.2637 - accuracy: 0.8799 - val_loss: 0.4388 - val_accuracy: 0.8681\n",
            "Epoch 40/100\n",
            "3917/3917 [==============================] - 8s 2ms/step - loss: 0.2625 - accuracy: 0.8794 - val_loss: 0.4918 - val_accuracy: 0.8328\n",
            "Epoch 41/100\n",
            "3917/3917 [==============================] - 8s 2ms/step - loss: 0.2623 - accuracy: 0.8809 - val_loss: 0.4516 - val_accuracy: 0.8597\n",
            "Epoch 42/100\n",
            "3917/3917 [==============================] - 8s 2ms/step - loss: 0.2625 - accuracy: 0.8796 - val_loss: 0.4050 - val_accuracy: 0.9075\n",
            "Epoch 43/100\n",
            "3917/3917 [==============================] - 8s 2ms/step - loss: 0.2619 - accuracy: 0.8806 - val_loss: 0.4518 - val_accuracy: 0.8720\n",
            "Epoch 44/100\n",
            "3917/3917 [==============================] - 8s 2ms/step - loss: 0.2607 - accuracy: 0.8811 - val_loss: 0.4676 - val_accuracy: 0.8533\n",
            "Epoch 45/100\n",
            "3917/3917 [==============================] - 9s 2ms/step - loss: 0.2609 - accuracy: 0.8807 - val_loss: 0.4594 - val_accuracy: 0.8685\n",
            "Epoch 46/100\n",
            "3917/3917 [==============================] - 8s 2ms/step - loss: 0.2606 - accuracy: 0.8802 - val_loss: 0.4343 - val_accuracy: 0.8844\n",
            "Epoch 47/100\n",
            "3917/3917 [==============================] - 9s 2ms/step - loss: 0.2618 - accuracy: 0.8804 - val_loss: 0.4307 - val_accuracy: 0.8882\n",
            "Epoch 48/100\n",
            "3917/3917 [==============================] - 8s 2ms/step - loss: 0.2611 - accuracy: 0.8799 - val_loss: 0.4346 - val_accuracy: 0.8866\n",
            "Epoch 49/100\n",
            "3917/3917 [==============================] - 8s 2ms/step - loss: 0.2601 - accuracy: 0.8823 - val_loss: 0.5272 - val_accuracy: 0.8289\n",
            "Epoch 50/100\n",
            "3917/3917 [==============================] - 8s 2ms/step - loss: 0.2605 - accuracy: 0.8812 - val_loss: 0.5470 - val_accuracy: 0.8135\n",
            "Epoch 51/100\n",
            "3917/3917 [==============================] - 9s 2ms/step - loss: 0.2611 - accuracy: 0.8812 - val_loss: 0.4564 - val_accuracy: 0.8657\n",
            "Epoch 52/100\n",
            "3917/3917 [==============================] - 9s 2ms/step - loss: 0.2596 - accuracy: 0.8818 - val_loss: 0.4953 - val_accuracy: 0.8488\n",
            "Epoch 53/100\n",
            "3917/3917 [==============================] - 9s 2ms/step - loss: 0.2585 - accuracy: 0.8828 - val_loss: 0.5051 - val_accuracy: 0.8356\n",
            "Epoch 54/100\n",
            "3917/3917 [==============================] - 9s 2ms/step - loss: 0.2605 - accuracy: 0.8805 - val_loss: 0.5133 - val_accuracy: 0.8323\n",
            "Epoch 55/100\n",
            "3917/3917 [==============================] - 8s 2ms/step - loss: 0.2603 - accuracy: 0.8794 - val_loss: 0.5143 - val_accuracy: 0.8131\n",
            "Epoch 56/100\n",
            "3917/3917 [==============================] - 8s 2ms/step - loss: 0.2590 - accuracy: 0.8809 - val_loss: 0.4244 - val_accuracy: 0.8788\n",
            "Epoch 57/100\n",
            "3917/3917 [==============================] - 8s 2ms/step - loss: 0.2595 - accuracy: 0.8813 - val_loss: 0.4534 - val_accuracy: 0.8597\n",
            "Epoch 58/100\n",
            "3917/3917 [==============================] - 9s 2ms/step - loss: 0.2574 - accuracy: 0.8825 - val_loss: 0.4536 - val_accuracy: 0.8707\n",
            "Epoch 59/100\n",
            "3917/3917 [==============================] - 8s 2ms/step - loss: 0.2579 - accuracy: 0.8812 - val_loss: 0.4518 - val_accuracy: 0.8701\n",
            "Epoch 60/100\n",
            "3917/3917 [==============================] - 8s 2ms/step - loss: 0.2584 - accuracy: 0.8832 - val_loss: 0.4634 - val_accuracy: 0.8657\n",
            "Epoch 61/100\n",
            "3917/3917 [==============================] - 8s 2ms/step - loss: 0.2583 - accuracy: 0.8828 - val_loss: 0.5863 - val_accuracy: 0.7868\n",
            "Epoch 62/100\n",
            "3917/3917 [==============================] - 9s 2ms/step - loss: 0.2579 - accuracy: 0.8848 - val_loss: 0.4243 - val_accuracy: 0.8785\n",
            "Epoch 63/100\n",
            "3917/3917 [==============================] - 8s 2ms/step - loss: 0.2574 - accuracy: 0.8832 - val_loss: 0.4364 - val_accuracy: 0.8757\n",
            "Epoch 64/100\n",
            "3917/3917 [==============================] - 10s 2ms/step - loss: 0.2588 - accuracy: 0.8810 - val_loss: 0.4150 - val_accuracy: 0.8838\n",
            "Epoch 65/100\n",
            "3917/3917 [==============================] - 8s 2ms/step - loss: 0.2578 - accuracy: 0.8819 - val_loss: 0.5272 - val_accuracy: 0.8221\n",
            "Epoch 66/100\n",
            "3917/3917 [==============================] - 9s 2ms/step - loss: 0.2574 - accuracy: 0.8829 - val_loss: 0.4671 - val_accuracy: 0.8636\n",
            "Epoch 67/100\n",
            "3917/3917 [==============================] - 8s 2ms/step - loss: 0.2573 - accuracy: 0.8817 - val_loss: 0.4672 - val_accuracy: 0.8416\n",
            "Epoch 68/100\n",
            "3917/3917 [==============================] - 9s 2ms/step - loss: 0.2572 - accuracy: 0.8819 - val_loss: 0.4681 - val_accuracy: 0.8667\n",
            "Epoch 69/100\n",
            "3917/3917 [==============================] - 9s 2ms/step - loss: 0.2563 - accuracy: 0.8823 - val_loss: 0.4360 - val_accuracy: 0.8866\n",
            "Epoch 70/100\n",
            "3917/3917 [==============================] - 8s 2ms/step - loss: 0.2571 - accuracy: 0.8824 - val_loss: 0.4470 - val_accuracy: 0.8749\n",
            "Epoch 71/100\n",
            "3917/3917 [==============================] - 9s 2ms/step - loss: 0.2572 - accuracy: 0.8823 - val_loss: 0.3949 - val_accuracy: 0.9047\n",
            "Epoch 72/100\n",
            "3917/3917 [==============================] - 8s 2ms/step - loss: 0.2551 - accuracy: 0.8820 - val_loss: 0.4352 - val_accuracy: 0.8805\n",
            "Epoch 73/100\n",
            "3917/3917 [==============================] - 9s 2ms/step - loss: 0.2567 - accuracy: 0.8808 - val_loss: 0.4273 - val_accuracy: 0.8863\n",
            "Epoch 74/100\n",
            "3917/3917 [==============================] - 8s 2ms/step - loss: 0.2570 - accuracy: 0.8822 - val_loss: 0.4179 - val_accuracy: 0.8837\n",
            "Epoch 75/100\n",
            "3917/3917 [==============================] - 9s 2ms/step - loss: 0.2556 - accuracy: 0.8829 - val_loss: 0.6104 - val_accuracy: 0.7516\n",
            "Epoch 76/100\n",
            "3917/3917 [==============================] - 8s 2ms/step - loss: 0.2561 - accuracy: 0.8826 - val_loss: 0.4589 - val_accuracy: 0.8689\n",
            "Epoch 77/100\n",
            "3917/3917 [==============================] - 9s 2ms/step - loss: 0.2558 - accuracy: 0.8832 - val_loss: 0.4269 - val_accuracy: 0.8765\n",
            "Epoch 78/100\n",
            "3917/3917 [==============================] - 9s 2ms/step - loss: 0.2557 - accuracy: 0.8818 - val_loss: 0.4958 - val_accuracy: 0.8284\n",
            "Epoch 79/100\n",
            "3917/3917 [==============================] - 9s 2ms/step - loss: 0.2565 - accuracy: 0.8833 - val_loss: 0.4723 - val_accuracy: 0.8594\n",
            "Epoch 80/100\n",
            "3917/3917 [==============================] - 8s 2ms/step - loss: 0.2550 - accuracy: 0.8828 - val_loss: 0.4203 - val_accuracy: 0.8822\n",
            "Epoch 81/100\n",
            "3917/3917 [==============================] - 9s 2ms/step - loss: 0.2548 - accuracy: 0.8825 - val_loss: 0.4276 - val_accuracy: 0.8731\n",
            "Epoch 82/100\n",
            "3917/3917 [==============================] - 9s 2ms/step - loss: 0.2559 - accuracy: 0.8821 - val_loss: 0.4938 - val_accuracy: 0.8474\n",
            "Epoch 83/100\n",
            "3917/3917 [==============================] - 9s 2ms/step - loss: 0.2556 - accuracy: 0.8824 - val_loss: 0.4983 - val_accuracy: 0.8405\n",
            "Epoch 84/100\n",
            "3917/3917 [==============================] - 8s 2ms/step - loss: 0.2561 - accuracy: 0.8823 - val_loss: 0.4349 - val_accuracy: 0.8766\n",
            "Epoch 85/100\n",
            "3917/3917 [==============================] - 8s 2ms/step - loss: 0.2543 - accuracy: 0.8829 - val_loss: 0.5387 - val_accuracy: 0.8062\n",
            "Epoch 86/100\n",
            "3917/3917 [==============================] - 8s 2ms/step - loss: 0.2556 - accuracy: 0.8833 - val_loss: 0.3778 - val_accuracy: 0.9109\n",
            "Epoch 87/100\n",
            "3917/3917 [==============================] - 9s 2ms/step - loss: 0.2545 - accuracy: 0.8813 - val_loss: 0.4132 - val_accuracy: 0.8889\n",
            "Epoch 88/100\n",
            "3917/3917 [==============================] - 8s 2ms/step - loss: 0.2550 - accuracy: 0.8829 - val_loss: 0.3986 - val_accuracy: 0.8961\n",
            "Epoch 89/100\n",
            "3917/3917 [==============================] - 8s 2ms/step - loss: 0.2546 - accuracy: 0.8825 - val_loss: 0.4827 - val_accuracy: 0.8418\n",
            "Epoch 90/100\n",
            "3917/3917 [==============================] - 8s 2ms/step - loss: 0.2548 - accuracy: 0.8825 - val_loss: 0.4208 - val_accuracy: 0.8887\n",
            "Epoch 91/100\n",
            "3917/3917 [==============================] - 9s 2ms/step - loss: 0.2547 - accuracy: 0.8836 - val_loss: 0.4709 - val_accuracy: 0.8460\n",
            "Epoch 92/100\n",
            "3917/3917 [==============================] - 8s 2ms/step - loss: 0.2541 - accuracy: 0.8833 - val_loss: 0.4632 - val_accuracy: 0.8484\n",
            "Epoch 93/100\n",
            "3917/3917 [==============================] - 9s 2ms/step - loss: 0.2540 - accuracy: 0.8834 - val_loss: 0.4605 - val_accuracy: 0.8586\n",
            "Epoch 94/100\n",
            "3917/3917 [==============================] - 8s 2ms/step - loss: 0.2549 - accuracy: 0.8830 - val_loss: 0.4916 - val_accuracy: 0.8328\n",
            "Epoch 95/100\n",
            "3917/3917 [==============================] - 9s 2ms/step - loss: 0.2541 - accuracy: 0.8839 - val_loss: 0.5048 - val_accuracy: 0.8294\n",
            "Epoch 96/100\n",
            "3917/3917 [==============================] - 8s 2ms/step - loss: 0.2540 - accuracy: 0.8837 - val_loss: 0.4815 - val_accuracy: 0.8348\n",
            "Epoch 97/100\n",
            "3917/3917 [==============================] - 8s 2ms/step - loss: 0.2542 - accuracy: 0.8846 - val_loss: 0.4659 - val_accuracy: 0.8514\n",
            "Epoch 98/100\n",
            "3917/3917 [==============================] - 8s 2ms/step - loss: 0.2536 - accuracy: 0.8836 - val_loss: 0.3959 - val_accuracy: 0.9061\n",
            "Epoch 99/100\n",
            "3917/3917 [==============================] - 9s 2ms/step - loss: 0.2536 - accuracy: 0.8838 - val_loss: 0.5224 - val_accuracy: 0.7930\n",
            "Epoch 100/100\n",
            "3917/3917 [==============================] - 9s 2ms/step - loss: 0.2544 - accuracy: 0.8830 - val_loss: 0.4415 - val_accuracy: 0.8581\n"
          ]
        }
      ]
    },
    {
      "cell_type": "code",
      "source": [
        "plt.plot(model_history.history['accuracy'])\n",
        "plt.plot(model_history.history['val_accuracy'])\n",
        "plt.title('Model accuracy Vs Epochs')\n",
        "plt.ylabel('Accuracy')\n",
        "plt.xlabel('Epoch')\n",
        "plt.legend(['Train', 'Validation'], loc='upper left')\n",
        "plt.show()\n",
        "\n",
        "# summarize history for loss\n",
        "plt.plot(model_history.history['loss'])\n",
        "plt.plot(model_history.history['val_loss'])\n",
        "plt.title('Model loss Vs Loss')\n",
        "plt.ylabel('Loss')\n",
        "plt.xlabel('Epoch')\n",
        "plt.legend(['Train', 'Validation'], loc='upper left')\n",
        "plt.show()"
      ],
      "metadata": {
        "colab": {
          "base_uri": "https://localhost:8080/",
          "height": 573
        },
        "id": "V7Vvo2WBZFXJ",
        "outputId": "688e7f40-ba82-4fea-fffa-e37558c5eab4"
      },
      "execution_count": 81,
      "outputs": [
        {
          "output_type": "display_data",
          "data": {
            "text/plain": [
              "<Figure size 432x288 with 1 Axes>"
            ],
            "image/png": "[encoded data removed]"
          },
          "metadata": {
            "needs_background": "light"
          }
        },
        {
          "output_type": "display_data",
          "data": {
            "text/plain": [
              "<Figure size 432x288 with 1 Axes>"
            ],
            "image/png": "[encoded data removed]"
          },
          "metadata": {
            "needs_background": "light"
          }
        }
      ]
    },
    {
      "cell_type": "code",
      "source": [
        "loss, accuracy = model3.evaluate(x_test3, y_test3)"
      ],
      "metadata": {
        "outputId": "99d39078-b41b-4c65-b8a6-4d7915447cba",
        "colab": {
          "base_uri": "https://localhost:8080/"
        },
        "id": "SFpLXdDvs7jQ"
      },
      "execution_count": 82,
      "outputs": [
        {
          "output_type": "stream",
          "name": "stdout",
          "text": [
            "258/258 [==============================] - 1s 4ms/step - loss: 0.2146 - accuracy: 0.8911\n"
          ]
        }
      ]
    },
    {
      "cell_type": "code",
      "source": [
        "preds3 = model3.predict(x_test3)\n",
        "preds3=np.argmax(preds3, axis=1)\n",
        "print('shape of preds: ', preds.shape)"
      ],
      "metadata": {
        "outputId": "b1b5ee08-58c3-4a9b-e109-2950b47c364d",
        "colab": {
          "base_uri": "https://localhost:8080/"
        },
        "id": "nKwf7HoMs7jR"
      },
      "execution_count": 83,
      "outputs": [
        {
          "output_type": "stream",
          "name": "stdout",
          "text": [
            "shape of preds:  (8234,)\n"
          ]
        }
      ]
    },
    {
      "cell_type": "code",
      "source": [
        "print_validation_report(y_test3, preds3)"
      ],
      "metadata": {
        "outputId": "dec739c7-2056-4d7b-c690-694be9d2c7bd",
        "colab": {
          "base_uri": "https://localhost:8080/"
        },
        "id": "xgrfkZfYs7jR"
      },
      "execution_count": 84,
      "outputs": [
        {
          "output_type": "stream",
          "name": "stdout",
          "text": [
            "Classification Report\n",
            "              precision    recall  f1-score   support\n",
            "\n",
            "           0       0.89      1.00      0.94      7307\n",
            "           1       0.00      0.00      0.00       927\n",
            "\n",
            "    accuracy                           0.89      8234\n",
            "   macro avg       0.44      0.50      0.47      8234\n",
            "weighted avg       0.79      0.89      0.83      8234\n",
            "\n",
            "Accuracy Score: 0.8874180228321593\n",
            "Root Mean Square Error: 0.33553237871752506\n"
          ]
        }
      ]
    },
    {
      "cell_type": "code",
      "source": [
        "plot_confusion_matrix(y_test3,preds3)"
      ],
      "metadata": {
        "outputId": "0067afa9-8ae9-43b4-dc76-30a3e1d32e4f",
        "colab": {
          "base_uri": "https://localhost:8080/",
          "height": 497
        },
        "id": "KY3YRcHDs7jR"
      },
      "execution_count": 85,
      "outputs": [
        {
          "output_type": "display_data",
          "data": {
            "text/plain": [
              "<Figure size 576x576 with 1 Axes>"
            ],
            "image/png": "[encoded data removed]"
          },
          "metadata": {
            "needs_background": "light"
          }
        }
      ]
    },
    {
      "cell_type": "markdown",
      "source": [
        "### Train NN based on original dataset for comparison purpose without duration"
      ],
      "metadata": {
        "id": "A0QnNl1twaz1"
      }
    },
    {
      "cell_type": "code",
      "source": [
        "data_2 = data.copy()\n",
        "df_tran_2 = data_2.drop(['duration'], axis=1)\n",
        "df_tran_2.columns"
      ],
      "metadata": {
        "id": "5JyihGxnwaeg"
      },
      "execution_count": null,
      "outputs": []
    },
    {
      "cell_type": "code",
      "source": [
        "y = df_tran_2['y'].apply(lambda x: 0 if x=='no' else (1 if x=='yes' else -1))\n",
        "y.value_counts()"
      ],
      "metadata": {
        "id": "JHrpF_QNwabr"
      },
      "execution_count": null,
      "outputs": []
    },
    {
      "cell_type": "code",
      "source": [
        "x = df_tran_2.drop('y', axis=1)"
      ],
      "metadata": {
        "id": "QdniRrnlymRr"
      },
      "execution_count": null,
      "outputs": []
    },
    {
      "cell_type": "code",
      "source": [
        "df_raw_3 = pd.get_dummies(x)\n",
        "df_raw_3.columns"
      ],
      "metadata": {
        "id": "gMemO39fymRr"
      },
      "execution_count": null,
      "outputs": []
    },
    {
      "cell_type": "code",
      "source": [
        "#drop the unknow columns as they are correlated to other categories\n",
        "\n",
        "df_raw_3 = df_raw_3.drop(['job_unknown','marital_unknown','education_unknown', 'default_unknown', 'housing_unknown', 'loan_unknown'], axis=1)\n",
        "df_raw_3.shape"
      ],
      "metadata": {
        "id": "jMqOY6S9ymRr"
      },
      "execution_count": null,
      "outputs": []
    },
    {
      "cell_type": "code",
      "source": [
        "from sklearn.preprocessing import MinMaxScaler\n",
        "\n",
        "scaler = MinMaxScaler()\n",
        "df_raw_3 = scaler.fit_transform(df_raw_3)"
      ],
      "metadata": {
        "id": "PHbQA_H-ymRr"
      },
      "execution_count": null,
      "outputs": []
    },
    {
      "cell_type": "code",
      "source": [
        "df_raw_3"
      ],
      "metadata": {
        "id": "vcnF1W_lymRr"
      },
      "execution_count": null,
      "outputs": []
    },
    {
      "cell_type": "code",
      "source": [
        "#here i used stratified sampling approach, since the raw data is not balanced distributed\n",
        "x_train3,x_test3,y_train3,y_test3 = train_test_split(df_raw_3, y, test_size = 0.2, stratify=y, random_state=42)\n",
        "print(x_train3.shape,\n",
        "      x_test3.shape,\n",
        "      y_train3.shape,\n",
        "      y_test3.shape)"
      ],
      "metadata": {
        "id": "hpeRIBRnymRr"
      },
      "execution_count": null,
      "outputs": []
    },
    {
      "cell_type": "code",
      "source": [
        "import imblearn\n",
        "\n",
        "smote = SMOTE()\n",
        "\n",
        "x_s3, y_s3 = smote.fit_resample(x_train3, y_train3)\n",
        "\n",
        "print('Original dataset shape', len(x_train3))\n",
        "print('Resampled dataset shape', len(x_s3))"
      ],
      "metadata": {
        "id": "r2mTKlZMVIpY"
      },
      "execution_count": null,
      "outputs": []
    },
    {
      "cell_type": "code",
      "source": [
        "model3 = Sequential()\n",
        "model3.add(Dense(units = 16, kernel_initializer = 'he_uniform',activation='relu',input_dim = x_s3.shape[1]))\n",
        "model3.add(Dense(units = 8, kernel_initializer = 'he_uniform',activation='relu'))\n",
        "model3.add(Dense(units = 1, kernel_initializer = 'glorot_uniform', activation = 'sigmoid'))"
      ],
      "metadata": {
        "id": "gaSYJZMVVIpc"
      },
      "execution_count": null,
      "outputs": []
    },
    {
      "cell_type": "code",
      "source": [
        "model3.compile(optimizer = 'adamax', loss = 'binary_crossentropy', metrics = ['accuracy'])\n",
        "model3.summary()"
      ],
      "metadata": {
        "id": "mvE8DwyUVIpc"
      },
      "execution_count": null,
      "outputs": []
    },
    {
      "cell_type": "code",
      "source": [
        "model_history = model3.fit(x_s3, y_s3,validation_split=0.33, batch_size = 10, epochs = 100)"
      ],
      "metadata": {
        "id": "DrbFY6UsVIpc"
      },
      "execution_count": null,
      "outputs": []
    },
    {
      "cell_type": "code",
      "source": [
        "plt.plot(model_history.history['accuracy'])\n",
        "plt.plot(model_history.history['val_accuracy'])\n",
        "plt.title('Model accuracy Vs Epochs')\n",
        "plt.ylabel('Accuracy')\n",
        "plt.xlabel('Epoch')\n",
        "plt.legend(['Train', 'Validation'], loc='upper left')\n",
        "plt.show()\n",
        "\n",
        "# summarize history for loss\n",
        "plt.plot(model_history.history['loss'])\n",
        "plt.plot(model_history.history['val_loss'])\n",
        "plt.title('Model loss Vs Loss')\n",
        "plt.ylabel('Loss')\n",
        "plt.xlabel('Epoch')\n",
        "plt.legend(['Train', 'Validation'], loc='upper left')\n",
        "plt.show()"
      ],
      "metadata": {
        "id": "3Xb3nVVsVIpd"
      },
      "execution_count": null,
      "outputs": []
    },
    {
      "cell_type": "code",
      "source": [
        ""
      ],
      "metadata": {
        "id": "Mebie1q7waWT"
      },
      "execution_count": null,
      "outputs": []
    },
    {
      "cell_type": "code",
      "source": [
        "numerics = ['int16', 'int32', 'int64', 'float16', 'float32', 'float64']\n",
        "df_num = data_1.select_dtypes(include=numerics)"
      ],
      "metadata": {
        "id": "r48VhcFCwaTs"
      },
      "execution_count": 89,
      "outputs": []
    },
    {
      "cell_type": "code",
      "source": [
        "df = pd.DataFrame(df_num.describe())\n",
        "df = df.reset_index()\n",
        "\n",
        "# Use Sisense for Cloud Data Teams to visualize a dataframe by passing the data to periscope.output()\n",
        "\n",
        "df\n"
      ],
      "metadata": {
        "colab": {
          "base_uri": "https://localhost:8080/",
          "height": 300
        },
        "id": "uu1T_2sgwaQ8",
        "outputId": "b842f236-9642-4f4a-a832-eb754dc7596b"
      },
      "execution_count": 99,
      "outputs": [
        {
          "output_type": "execute_result",
          "data": {
            "text/plain": [
              "   index           age      duration      campaign         pdays  \\\n",
              "0  count  41170.000000  41170.000000  41170.000000  41170.000000   \n",
              "1   mean     40.020355    258.276925      2.567719    962.483605   \n",
              "2    std     10.419647    259.262586      2.770421    186.890849   \n",
              "3    min     17.000000      0.000000      1.000000      0.000000   \n",
              "4    25%     32.000000    102.000000      1.000000    999.000000   \n",
              "5    50%     38.000000    180.000000      2.000000    999.000000   \n",
              "6    75%     47.000000    319.000000      3.000000    999.000000   \n",
              "7    max     98.000000   4918.000000     56.000000    999.000000   \n",
              "\n",
              "       previous  emp.var.rate  cons.price.idx  cons.conf.idx     euribor3m  \\\n",
              "0  41170.000000  41170.000000    41170.000000   41170.000000  41170.000000   \n",
              "1      0.172990      0.081980       93.575777     -40.502842      3.621337   \n",
              "2      0.494964      1.570904        0.578798       4.627973      1.734444   \n",
              "3      0.000000     -3.400000       92.201000     -50.800000      0.634000   \n",
              "4      0.000000     -1.800000       93.075000     -42.700000      1.344000   \n",
              "5      0.000000      1.100000       93.749000     -41.800000      4.857000   \n",
              "6      0.000000      1.400000       93.994000     -36.400000      4.961000   \n",
              "7      7.000000      1.400000       94.767000     -26.900000      5.045000   \n",
              "\n",
              "    nr.employed  \n",
              "0  41170.000000  \n",
              "1   5167.033838  \n",
              "2     72.255836  \n",
              "3   4963.600000  \n",
              "4   5099.100000  \n",
              "5   5191.000000  \n",
              "6   5228.100000  \n",
              "7   5228.100000  "
            ],
            "text/html": [
              "\n",
              "  <div id=\"df-c5c618b4-dcfe-44f6-ba89-81d6cafa36e3\">\n",
              "    <div class=\"colab-df-container\">\n",
              "      <div>\n",
              "<style scoped>\n",
              "    .dataframe tbody tr th:only-of-type {\n",
              "        vertical-align: middle;\n",
              "    }\n",
              "\n",
              "    .dataframe tbody tr th {\n",
              "        vertical-align: top;\n",
              "    }\n",
              "\n",
              "    .dataframe thead th {\n",
              "        text-align: right;\n",
              "    }\n",
              "</style>\n",
              "<table border=\"1\" class=\"dataframe\">\n",
              "  <thead>\n",
              "    <tr style=\"text-align: right;\">\n",
              "      <th></th>\n",
              "      <th>index</th>\n",
              "      <th>age</th>\n",
              "      <th>duration</th>\n",
              "      <th>campaign</th>\n",
              "      <th>pdays</th>\n",
              "      <th>previous</th>\n",
              "      <th>emp.var.rate</th>\n",
              "      <th>cons.price.idx</th>\n",
              "      <th>cons.conf.idx</th>\n",
              "      <th>euribor3m</th>\n",
              "      <th>nr.employed</th>\n",
              "    </tr>\n",
              "  </thead>\n",
              "  <tbody>\n",
              "    <tr>\n",
              "      <th>0</th>\n",
              "      <td>count</td>\n",
              "      <td>41170.000000</td>\n",
              "      <td>41170.000000</td>\n",
              "      <td>41170.000000</td>\n",
              "      <td>41170.000000</td>\n",
              "      <td>41170.000000</td>\n",
              "      <td>41170.000000</td>\n",
              "      <td>41170.000000</td>\n",
              "      <td>41170.000000</td>\n",
              "      <td>41170.000000</td>\n",
              "      <td>41170.000000</td>\n",
              "    </tr>\n",
              "    <tr>\n",
              "      <th>1</th>\n",
              "      <td>mean</td>\n",
              "      <td>40.020355</td>\n",
              "      <td>258.276925</td>\n",
              "      <td>2.567719</td>\n",
              "      <td>962.483605</td>\n",
              "      <td>0.172990</td>\n",
              "      <td>0.081980</td>\n",
              "      <td>93.575777</td>\n",
              "      <td>-40.502842</td>\n",
              "      <td>3.621337</td>\n",
              "      <td>5167.033838</td>\n",
              "    </tr>\n",
              "    <tr>\n",
              "      <th>2</th>\n",
              "      <td>std</td>\n",
              "      <td>10.419647</td>\n",
              "      <td>259.262586</td>\n",
              "      <td>2.770421</td>\n",
              "      <td>186.890849</td>\n",
              "      <td>0.494964</td>\n",
              "      <td>1.570904</td>\n",
              "      <td>0.578798</td>\n",
              "      <td>4.627973</td>\n",
              "      <td>1.734444</td>\n",
              "      <td>72.255836</td>\n",
              "    </tr>\n",
              "    <tr>\n",
              "      <th>3</th>\n",
              "      <td>min</td>\n",
              "      <td>17.000000</td>\n",
              "      <td>0.000000</td>\n",
              "      <td>1.000000</td>\n",
              "      <td>0.000000</td>\n",
              "      <td>0.000000</td>\n",
              "      <td>-3.400000</td>\n",
              "      <td>92.201000</td>\n",
              "      <td>-50.800000</td>\n",
              "      <td>0.634000</td>\n",
              "      <td>4963.600000</td>\n",
              "    </tr>\n",
              "    <tr>\n",
              "      <th>4</th>\n",
              "      <td>25%</td>\n",
              "      <td>32.000000</td>\n",
              "      <td>102.000000</td>\n",
              "      <td>1.000000</td>\n",
              "      <td>999.000000</td>\n",
              "      <td>0.000000</td>\n",
              "      <td>-1.800000</td>\n",
              "      <td>93.075000</td>\n",
              "      <td>-42.700000</td>\n",
              "      <td>1.344000</td>\n",
              "      <td>5099.100000</td>\n",
              "    </tr>\n",
              "    <tr>\n",
              "      <th>5</th>\n",
              "      <td>50%</td>\n",
              "      <td>38.000000</td>\n",
              "      <td>180.000000</td>\n",
              "      <td>2.000000</td>\n",
              "      <td>999.000000</td>\n",
              "      <td>0.000000</td>\n",
              "      <td>1.100000</td>\n",
              "      <td>93.749000</td>\n",
              "      <td>-41.800000</td>\n",
              "      <td>4.857000</td>\n",
              "      <td>5191.000000</td>\n",
              "    </tr>\n",
              "    <tr>\n",
              "      <th>6</th>\n",
              "      <td>75%</td>\n",
              "      <td>47.000000</td>\n",
              "      <td>319.000000</td>\n",
              "      <td>3.000000</td>\n",
              "      <td>999.000000</td>\n",
              "      <td>0.000000</td>\n",
              "      <td>1.400000</td>\n",
              "      <td>93.994000</td>\n",
              "      <td>-36.400000</td>\n",
              "      <td>4.961000</td>\n",
              "      <td>5228.100000</td>\n",
              "    </tr>\n",
              "    <tr>\n",
              "      <th>7</th>\n",
              "      <td>max</td>\n",
              "      <td>98.000000</td>\n",
              "      <td>4918.000000</td>\n",
              "      <td>56.000000</td>\n",
              "      <td>999.000000</td>\n",
              "      <td>7.000000</td>\n",
              "      <td>1.400000</td>\n",
              "      <td>94.767000</td>\n",
              "      <td>-26.900000</td>\n",
              "      <td>5.045000</td>\n",
              "      <td>5228.100000</td>\n",
              "    </tr>\n",
              "  </tbody>\n",
              "</table>\n",
              "</div>\n",
              "      <button class=\"colab-df-convert\" onclick=\"convertToInteractive('df-c5c618b4-dcfe-44f6-ba89-81d6cafa36e3')\"\n",
              "              title=\"Convert this dataframe to an interactive table.\"\n",
              "              style=\"display:none;\">\n",
              "        \n",
              "  <svg xmlns=\"http://www.w3.org/2000/svg\" height=\"24px\"viewBox=\"0 0 24 24\"\n",
              "       width=\"24px\">\n",
              "    <path d=\"M0 0h24v24H0V0z\" fill=\"none\"/>\n",
              "    <path d=\"M18.56 5.44l.94 2.06.94-2.06 2.06-.94-2.06-.94-.94-2.06-.94 2.06-2.06.94zm-11 1L8.5 8.5l.94-2.06 2.06-.94-2.06-.94L8.5 2.5l-.94 2.06-2.06.94zm10 10l.94 2.06.94-2.06 2.06-.94-2.06-.94-.94-2.06-.94 2.06-2.06.94z\"/><path d=\"M17.41 7.96l-1.37-1.37c-.4-.4-.92-.59-1.43-.59-.52 0-1.04.2-1.43.59L10.3 9.45l-7.72 7.72c-.78.78-.78 2.05 0 2.83L4 21.41c.39.39.9.59 1.41.59.51 0 1.02-.2 1.41-.59l7.78-7.78 2.81-2.81c.8-.78.8-2.07 0-2.86zM5.41 20L4 18.59l7.72-7.72 1.47 1.35L5.41 20z\"/>\n",
              "  </svg>\n",
              "      </button>\n",
              "      \n",
              "  <style>\n",
              "    .colab-df-container {\n",
              "      display:flex;\n",
              "      flex-wrap:wrap;\n",
              "      gap: 12px;\n",
              "    }\n",
              "\n",
              "    .colab-df-convert {\n",
              "      background-color: #E8F0FE;\n",
              "      border: none;\n",
              "      border-radius: 50%;\n",
              "      cursor: pointer;\n",
              "      display: none;\n",
              "      fill: #1967D2;\n",
              "      height: 32px;\n",
              "      padding: 0 0 0 0;\n",
              "      width: 32px;\n",
              "    }\n",
              "\n",
              "    .colab-df-convert:hover {\n",
              "      background-color: #E2EBFA;\n",
              "      box-shadow: 0px 1px 2px rgba(60, 64, 67, 0.3), 0px 1px 3px 1px rgba(60, 64, 67, 0.15);\n",
              "      fill: #174EA6;\n",
              "    }\n",
              "\n",
              "    [theme=dark] .colab-df-convert {\n",
              "      background-color: #3B4455;\n",
              "      fill: #D2E3FC;\n",
              "    }\n",
              "\n",
              "    [theme=dark] .colab-df-convert:hover {\n",
              "      background-color: #434B5C;\n",
              "      box-shadow: 0px 1px 3px 1px rgba(0, 0, 0, 0.15);\n",
              "      filter: drop-shadow(0px 1px 2px rgba(0, 0, 0, 0.3));\n",
              "      fill: #FFFFFF;\n",
              "    }\n",
              "  </style>\n",
              "\n",
              "      <script>\n",
              "        const buttonEl =\n",
              "          document.querySelector('#df-c5c618b4-dcfe-44f6-ba89-81d6cafa36e3 button.colab-df-convert');\n",
              "        buttonEl.style.display =\n",
              "          google.colab.kernel.accessAllowed ? 'block' : 'none';\n",
              "\n",
              "        async function convertToInteractive(key) {\n",
              "          const element = document.querySelector('#df-c5c618b4-dcfe-44f6-ba89-81d6cafa36e3');\n",
              "          const dataTable =\n",
              "            await google.colab.kernel.invokeFunction('convertToInteractive',\n",
              "                                                     [key], {});\n",
              "          if (!dataTable) return;\n",
              "\n",
              "          const docLinkHtml = 'Like what you see? Visit the ' +\n",
              "            '<a target=\"_blank\" href=https://colab.research.google.com/notebooks/data_table.ipynb>data table notebook</a>'\n",
              "            + ' to learn more about interactive tables.';\n",
              "          element.innerHTML = '';\n",
              "          dataTable['output_type'] = 'display_data';\n",
              "          await google.colab.output.renderOutput(dataTable, element);\n",
              "          const docLink = document.createElement('div');\n",
              "          docLink.innerHTML = docLinkHtml;\n",
              "          element.appendChild(docLink);\n",
              "        }\n",
              "      </script>\n",
              "    </div>\n",
              "  </div>\n",
              "  "
            ]
          },
          "metadata": {},
          "execution_count": 99
        }
      ]
    },
    {
      "cell_type": "code",
      "source": [
        ""
      ],
      "metadata": {
        "id": "G-3wwSm3waOR"
      },
      "execution_count": null,
      "outputs": []
    },
    {
      "cell_type": "markdown",
      "source": [
        "### Data Transformation - V2 (Shawn's attempt based on FAMDD analysis)\n",
        "##### if you are focusing on the agreed v1, feel free to skip this part, just want to experiment, may not have too signficant impact"
      ],
      "metadata": {
        "id": "iKeAt0u-dBqG"
      }
    },
    {
      "cell_type": "code",
      "source": [
        "data_2 = data.copy()"
      ],
      "metadata": {
        "id": "ELvn6Bt2cxhJ"
      },
      "execution_count": null,
      "outputs": []
    },
    {
      "cell_type": "code",
      "source": [
        "#findings from FAMD analysis\n",
        "# there is significant distinguishablity for feature - poutcome / contact / default, so no need to combine any features\n",
        "# job -> separate student and retired stand alone as they are distinguished from others\n",
        "# housing, loan are alomost overlapping for all segment, not meaningful to consolidate"
      ],
      "metadata": {
        "id": "RScox9ZLd0au"
      },
      "execution_count": null,
      "outputs": []
    },
    {
      "cell_type": "code",
      "source": [
        "data_2['edu_new'] = data_2['education'].map({'basic.4y': 'pre_colleage', \n",
        "                                         'basic.9y': 'pre_colleage',\n",
        "                                         'basic.6y': 'pre_colleage',\n",
        "                                         'university.degree' : 'post_colleage',\n",
        "                                         'professional.course':'post_colleage',\n",
        "                                         'illiterate': 'illiterate',\n",
        "                                         'high.school' : 'pre_colleage',\n",
        "                                         'unknown' :'unknown' })\n",
        "\n",
        "data_2['edu_new'].value_counts(dropna = False)"
      ],
      "metadata": {
        "id": "5SbiP-TcdkBc"
      },
      "execution_count": null,
      "outputs": []
    },
    {
      "cell_type": "code",
      "source": [
        "def map_job_2(row):\n",
        "    if row['job'] in ['admin.', 'management', 'entrepreneur','self-employed', 'housemaid', 'blue-collar', 'technician', 'services', 'unemployed']:\n",
        "        cat = 'others'\n",
        "    elif row['job'] in ['retired']:\n",
        "        cat = 'retired'\n",
        "    elif row['job'] in ['student']:\n",
        "        cat = 'student'\n",
        "    else:\n",
        "        cat = 'unknown'\n",
        "    return cat\n",
        "\n",
        "data_2['job_new'] = data_2.apply(map_job_2, axis=1)\n",
        "data_2['job_new'].value_counts(dropna = False)"
      ],
      "metadata": {
        "id": "bKtVzvLcdj-z"
      },
      "execution_count": null,
      "outputs": []
    },
    {
      "cell_type": "code",
      "source": [
        "def map_marri(row):\n",
        "    if row['job'] in ['divorced', 'married', 'unknown']:\n",
        "        cat = 'not_single'\n",
        "    else:\n",
        "        cat = 'single'\n",
        "    return cat\n",
        "\n",
        "data_2['marr_new'] = data_2.apply(map_marri, axis=1)\n",
        "data_2['marr_new'].value_counts(dropna = False)"
      ],
      "metadata": {
        "id": "vH-Od9nCdj8N"
      },
      "execution_count": null,
      "outputs": []
    },
    {
      "cell_type": "code",
      "source": [
        "def map_month_2(row):\n",
        "    if row['month'] in ['mar', 'apr', 'may', 'jun', 'jul', 'aug', 'sep', 'oct', 'nov']:\n",
        "        cat = 'non_winter'\n",
        "    else:\n",
        "        cat = 'winter'\n",
        "    return cat\n",
        "\n",
        "data_2['season_new'] = data_2.apply(map_month_2, axis=1)\n",
        "data_2['season_new'].value_counts(dropna = False)"
      ],
      "metadata": {
        "id": "qL36vVE8dj5c"
      },
      "execution_count": null,
      "outputs": []
    },
    {
      "cell_type": "code",
      "source": [
        "df_tran_2 = data_2.drop(['job', 'marital', 'education', 'month'], axis=1)"
      ],
      "metadata": {
        "id": "0ZP6wv7CkXz2"
      },
      "execution_count": null,
      "outputs": []
    }
  ]
}