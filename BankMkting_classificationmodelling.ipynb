{
  "nbformat": 4,
  "nbformat_minor": 0,
  "metadata": {
    "colab": {
      "name": "BankMkting_featureengineering.ipynb",
      "provenance": [],
      "authorship_tag": "ABX9TyM9p59cXBDDbdVnA5BFu4+l",
      "include_colab_link": true
    },
    "kernelspec": {
      "name": "python3",
      "display_name": "Python 3"
    },
    "language_info": {
      "name": "python"
    }
  },
  "cells": [
    {
      "cell_type": "markdown",
      "metadata": {
        "id": "view-in-github",
        "colab_type": "text"
      },
      "source": [
        "<a href=\"https://colab.research.google.com/github/ShawnLiu119/CapstoneProject_BankingMarketing/blob/main/BankMkting_classificationmodelling.ipynb\" target=\"_parent\"><img src=\"https://colab.research.google.com/assets/colab-badge.svg\" alt=\"Open In Colab\"/></a>"
      ]
    },
    {
      "cell_type": "code",
      "source": [
        "from sklearn.metrics import accuracy_score\n",
        "from sklearn.metrics import roc_auc_score\n",
        "import numpy as np\n",
        "import pandas as pd \n",
        "import os\n",
        "from sklearn.tree import DecisionTreeClassifier\n",
        "from sklearn.tree import plot_tree\n",
        "from sklearn.model_selection import train_test_split\n",
        "from sklearn.model_selection import cross_val_score\n",
        "from sklearn.metrics import confusion_matrix\n",
        "from sklearn.metrics import plot_confusion_matrix\n",
        "from sklearn.model_selection import train_test_split\n",
        "from sklearn.model_selection import RandomizedSearchCV\n",
        "from sklearn.neighbors import KNeighborsClassifier\n",
        "from sklearn.preprocessing import StandardScaler\n",
        "from sklearn.ensemble import RandomForestClassifier\n",
        "import seaborn as sns\n",
        "import matplotlib.pyplot as plt \n",
        "from sklearn import metrics\n",
        "from sklearn.metrics import accuracy_score, f1_score, precision_score, recall_score, classification_report, confusion_matrix,r2_score\n",
        "from sklearn import model_selection\n",
        "from sklearn.ensemble import BaggingClassifier\n",
        "import warnings\n",
        "from imblearn.over_sampling import SMOTE\n",
        "warnings.filterwarnings('ignore')\n",
        "import tensorflow as tf\n",
        "from tensorflow import keras \n",
        "from tensorflow import keras\n",
        "from tensorflow.keras.models import Sequential\n",
        "from tensorflow.keras.layers import Dense\n",
        "from tensorflow.keras.optimizers import Adam \n",
        "from sklearn.metrics import accuracy_score\n",
        "from sklearn.metrics import confusion_matrix"
      ],
      "metadata": {
        "id": "8TvW0SUbKssy"
      },
      "execution_count": 34,
      "outputs": []
    },
    {
      "cell_type": "code",
      "execution_count": 1,
      "metadata": {
        "id": "fRRsWXUecCNl"
      },
      "outputs": [],
      "source": [
        "import pandas as pd"
      ]
    },
    {
      "cell_type": "code",
      "source": [
        "url = 'https://raw.githubusercontent.com/ShawnLiu119/CapstoneProject_BankingMarketing/main/rawdata/bank-additional-full.csv'\n",
        "data = pd.read_csv(url, sep=';')"
      ],
      "metadata": {
        "id": "1FiIE4lzcJcW"
      },
      "execution_count": 2,
      "outputs": []
    },
    {
      "cell_type": "code",
      "source": [
        "data['education'].value_counts()\n",
        "\n",
        "data_1 = data.copy()\n",
        "data_1 = data_1[data_1['education'] != 'illiterate']\n",
        "\n",
        "data_1['edu_new'] = data_1['education'].map({'basic.4y': 'pre_high', \n",
        "                                         'basic.9y': 'pre_high',\n",
        "                                         'basic.6y': 'pre_high',\n",
        "                                         'university.degree' : 'post_high',\n",
        "                                         'professional.course':'post_high',\n",
        "                                         'high.school' : 'high',\n",
        "                                         'unknown' :'unknown' })"
      ],
      "metadata": {
        "id": "bbhSCh5ncQmI"
      },
      "execution_count": 3,
      "outputs": []
    },
    {
      "cell_type": "code",
      "source": [
        "def map_job(row):\n",
        "    if row['job'] in ['admin.', 'management', 'entrepreneur','self-employed']:\n",
        "        cat = 'white_collar'\n",
        "    elif row['job'] in ['housemaid', 'blue-collar', 'technician', 'services']:\n",
        "        cat = 'blue_collar'\n",
        "    elif row['job'] in ['student', 'retired', 'unemployed']:\n",
        "        cat = 'not_working'\n",
        "    else:\n",
        "        cat = 'unknown'\n",
        "    return cat\n",
        "\n",
        "data_1['job_new'] = data_1.apply(map_job, axis=1)\n",
        "data_1['job_new'].value_counts(dropna = False)"
      ],
      "metadata": {
        "colab": {
          "base_uri": "https://localhost:8080/"
        },
        "id": "eHGAdfSkcS5b",
        "outputId": "17a9f641-cca7-42c6-be09-b96f293648d5"
      },
      "execution_count": 4,
      "outputs": [
        {
          "output_type": "execute_result",
          "data": {
            "text/plain": [
              "blue_collar     21017\n",
              "white_collar    16217\n",
              "not_working      3606\n",
              "unknown           330\n",
              "Name: job_new, dtype: int64"
            ]
          },
          "metadata": {},
          "execution_count": 4
        }
      ]
    },
    {
      "cell_type": "code",
      "source": [
        "def map_month(row):\n",
        "    if row['month'] in ['mar', 'apr', 'may']:\n",
        "        cat = 'spring'\n",
        "    elif row['month'] in ['jun', 'jul', 'aug']:\n",
        "        cat = 'summer'\n",
        "    elif row['month'] in ['sep', 'oct', 'nov']:\n",
        "        cat = 'fall'\n",
        "    else:\n",
        "        cat = 'winter'\n",
        "    return cat\n",
        "\n",
        "data_1['season'] = data_1.apply(map_month, axis=1)\n",
        "data_1['season'].value_counts(dropna = False)"
      ],
      "metadata": {
        "colab": {
          "base_uri": "https://localhost:8080/"
        },
        "id": "94-u-jWxcU_5",
        "outputId": "5bab1612-751d-4bf6-bf39-077069bef02a"
      },
      "execution_count": 5,
      "outputs": [
        {
          "output_type": "execute_result",
          "data": {
            "text/plain": [
              "summer    18660\n",
              "spring    16942\n",
              "fall       5386\n",
              "winter      182\n",
              "Name: season, dtype: int64"
            ]
          },
          "metadata": {},
          "execution_count": 5
        }
      ]
    },
    {
      "cell_type": "code",
      "source": [
        "data_1.columns"
      ],
      "metadata": {
        "colab": {
          "base_uri": "https://localhost:8080/"
        },
        "id": "MTQZAXjLcXVU",
        "outputId": "64c735c3-e063-4254-d04a-772738ffeefb"
      },
      "execution_count": 6,
      "outputs": [
        {
          "output_type": "execute_result",
          "data": {
            "text/plain": [
              "Index(['age', 'job', 'marital', 'education', 'default', 'housing', 'loan',\n",
              "       'contact', 'month', 'day_of_week', 'duration', 'campaign', 'pdays',\n",
              "       'previous', 'poutcome', 'emp.var.rate', 'cons.price.idx',\n",
              "       'cons.conf.idx', 'euribor3m', 'nr.employed', 'y', 'edu_new', 'job_new',\n",
              "       'season'],\n",
              "      dtype='object')"
            ]
          },
          "metadata": {},
          "execution_count": 6
        }
      ]
    },
    {
      "cell_type": "markdown",
      "source": [
        "### Data Transformation - V1 (Agreed on Team Discussion)"
      ],
      "metadata": {
        "id": "BeRBJ8ZMc345"
      }
    },
    {
      "cell_type": "code",
      "source": [
        "#This transformed dataframe is based on group discussion on 7/23\n",
        "# - keep all numerical features as they are\n",
        "# - consolidate categorical features (education, job, season) and drop originial ones\n",
        "\n",
        "df_tran_1 = data_1[['age', 'marital', 'default', 'housing', 'loan',\n",
        "       'contact', 'day_of_week', 'duration', 'campaign', 'pdays',\n",
        "       'previous', 'poutcome', 'emp.var.rate', 'cons.price.idx',\n",
        "       'cons.conf.idx', 'euribor3m', 'nr.employed', 'y', 'edu_new', 'job_new', 'season']]"
      ],
      "metadata": {
        "id": "AdtaLk4ycY_5"
      },
      "execution_count": 7,
      "outputs": []
    },
    {
      "cell_type": "code",
      "source": [
        "df_tran_1.shape\n",
        "#this is because we removed illiterate"
      ],
      "metadata": {
        "colab": {
          "base_uri": "https://localhost:8080/"
        },
        "id": "glqegqalI_rs",
        "outputId": "49e60799-8413-4caf-ed4d-d24e0291adc1"
      },
      "execution_count": 23,
      "outputs": [
        {
          "output_type": "execute_result",
          "data": {
            "text/plain": [
              "(41170, 20)"
            ]
          },
          "metadata": {},
          "execution_count": 23
        }
      ]
    },
    {
      "cell_type": "code",
      "source": [
        "df_tran_1 = df_tran_1.drop(['duration'], axis=1)\n",
        "df_tran_1.columns"
      ],
      "metadata": {
        "colab": {
          "base_uri": "https://localhost:8080/"
        },
        "id": "FfhleyPscknX",
        "outputId": "53cc5716-287a-4fc8-be4e-f8994e22e434"
      },
      "execution_count": 8,
      "outputs": [
        {
          "output_type": "execute_result",
          "data": {
            "text/plain": [
              "Index(['age', 'marital', 'default', 'housing', 'loan', 'contact',\n",
              "       'day_of_week', 'campaign', 'pdays', 'previous', 'poutcome',\n",
              "       'emp.var.rate', 'cons.price.idx', 'cons.conf.idx', 'euribor3m',\n",
              "       'nr.employed', 'y', 'edu_new', 'job_new', 'season'],\n",
              "      dtype='object')"
            ]
          },
          "metadata": {},
          "execution_count": 8
        }
      ]
    },
    {
      "cell_type": "markdown",
      "source": [
        "### One Hot Encoding For Categorical Features"
      ],
      "metadata": {
        "id": "2F1p0tiPHKJC"
      }
    },
    {
      "cell_type": "code",
      "source": [
        "y = df_tran_1['y'].apply(lambda x: 0 if x=='no' else (1 if x=='yes' else -1))\n",
        "y.value_counts()"
      ],
      "metadata": {
        "colab": {
          "base_uri": "https://localhost:8080/"
        },
        "id": "9C3ghJDEIJYU",
        "outputId": "8765eed3-021f-4367-8eb9-b5ea009aa62e"
      },
      "execution_count": 55,
      "outputs": [
        {
          "output_type": "execute_result",
          "data": {
            "text/plain": [
              "0    36534\n",
              "1     4636\n",
              "Name: y, dtype: int64"
            ]
          },
          "metadata": {},
          "execution_count": 55
        }
      ]
    },
    {
      "cell_type": "code",
      "source": [
        "x = df_tran_1.drop('y', axis=1)"
      ],
      "metadata": {
        "id": "8k4PWWzGIuaQ"
      },
      "execution_count": 56,
      "outputs": []
    },
    {
      "cell_type": "code",
      "source": [
        "df_raw = pd.get_dummies(x)\n",
        "df_raw.columns"
      ],
      "metadata": {
        "colab": {
          "base_uri": "https://localhost:8080/"
        },
        "id": "H4k_fjhNHJPi",
        "outputId": "bc2a6717-8939-4684-ad84-6f398784a7eb"
      },
      "execution_count": 57,
      "outputs": [
        {
          "output_type": "execute_result",
          "data": {
            "text/plain": [
              "Index(['age', 'campaign', 'pdays', 'previous', 'emp.var.rate',\n",
              "       'cons.price.idx', 'cons.conf.idx', 'euribor3m', 'nr.employed',\n",
              "       'marital_divorced', 'marital_married', 'marital_single',\n",
              "       'marital_unknown', 'default_no', 'default_unknown', 'default_yes',\n",
              "       'housing_no', 'housing_unknown', 'housing_yes', 'loan_no',\n",
              "       'loan_unknown', 'loan_yes', 'contact_cellular', 'contact_telephone',\n",
              "       'day_of_week_fri', 'day_of_week_mon', 'day_of_week_thu',\n",
              "       'day_of_week_tue', 'day_of_week_wed', 'poutcome_failure',\n",
              "       'poutcome_nonexistent', 'poutcome_success', 'edu_new_high',\n",
              "       'edu_new_post_high', 'edu_new_pre_high', 'edu_new_unknown',\n",
              "       'job_new_blue_collar', 'job_new_not_working', 'job_new_unknown',\n",
              "       'job_new_white_collar', 'season_fall', 'season_spring', 'season_summer',\n",
              "       'season_winter'],\n",
              "      dtype='object')"
            ]
          },
          "metadata": {},
          "execution_count": 57
        }
      ]
    },
    {
      "cell_type": "code",
      "source": [
        "#drop the unknow columns as they are correlated to other categories\n",
        "\n",
        "df_raw = df_raw.drop(['marital_unknown', 'default_unknown', 'housing_unknown', 'loan_unknown', 'edu_new_unknown', 'job_new_unknown'], axis=1)\n",
        "df_raw.shape"
      ],
      "metadata": {
        "colab": {
          "base_uri": "https://localhost:8080/"
        },
        "id": "gq3rt2OsHrSS",
        "outputId": "22ba84df-b26f-4228-c368-d778dd980058"
      },
      "execution_count": 58,
      "outputs": [
        {
          "output_type": "execute_result",
          "data": {
            "text/plain": [
              "(41170, 38)"
            ]
          },
          "metadata": {},
          "execution_count": 58
        }
      ]
    },
    {
      "cell_type": "markdown",
      "source": [
        "### Train-Test Split & Data Normalization"
      ],
      "metadata": {
        "id": "7ieyi_1SKBZX"
      }
    },
    {
      "cell_type": "code",
      "source": [
        "from sklearn.preprocessing import MinMaxScaler\n",
        "\n",
        "scaler = MinMaxScaler()\n",
        "df_raw = scaler.fit_transform(df_raw)"
      ],
      "metadata": {
        "id": "Y6xc2akgNZCK"
      },
      "execution_count": 61,
      "outputs": []
    },
    {
      "cell_type": "code",
      "source": [
        "df_raw"
      ],
      "metadata": {
        "colab": {
          "base_uri": "https://localhost:8080/"
        },
        "id": "g7Qo1fvEXtGW",
        "outputId": "a9c97ea2-6123-4710-9394-9ace9149aeac"
      },
      "execution_count": 62,
      "outputs": [
        {
          "output_type": "execute_result",
          "data": {
            "text/plain": [
              "array([[0.48148148, 0.        , 1.        , ..., 1.        , 0.        ,\n",
              "        0.        ],\n",
              "       [0.49382716, 0.        , 1.        , ..., 1.        , 0.        ,\n",
              "        0.        ],\n",
              "       [0.24691358, 0.        , 1.        , ..., 1.        , 0.        ,\n",
              "        0.        ],\n",
              "       ...,\n",
              "       [0.48148148, 0.01818182, 1.        , ..., 0.        , 0.        ,\n",
              "        0.        ],\n",
              "       [0.33333333, 0.        , 1.        , ..., 0.        , 0.        ,\n",
              "        0.        ],\n",
              "       [0.7037037 , 0.03636364, 1.        , ..., 0.        , 0.        ,\n",
              "        0.        ]])"
            ]
          },
          "metadata": {},
          "execution_count": 62
        }
      ]
    },
    {
      "cell_type": "code",
      "source": [
        "#here i used stratified sampling approach, since the raw data is not balanced distributed\n",
        "x_train,x_test,y_train,y_test = train_test_split(df_raw, y, test_size = 0.2, stratify=y, random_state=42)\n",
        "print(x_train.shape,\n",
        "      x_test.shape,\n",
        "      y_train.shape,\n",
        "      y_test.shape)"
      ],
      "metadata": {
        "colab": {
          "base_uri": "https://localhost:8080/"
        },
        "id": "BrdyrKTrHrPd",
        "outputId": "63b7def6-ce44-4b91-89c5-30856d6e9360"
      },
      "execution_count": 63,
      "outputs": [
        {
          "output_type": "stream",
          "name": "stdout",
          "text": [
            "(32936, 38) (8234, 38) (32936,) (8234,)\n"
          ]
        }
      ]
    },
    {
      "cell_type": "markdown",
      "source": [
        "### Balancing the data using SMOTE\n",
        "\n",
        "https://towardsdatascience.com/all-about-imbalanced-machine-learning-classifiers-60563014d2b3\n"
      ],
      "metadata": {
        "id": "7MQKTaWlzPA3"
      }
    },
    {
      "cell_type": "code",
      "source": [
        "pip install -U imbalanced-learn"
      ],
      "metadata": {
        "colab": {
          "base_uri": "https://localhost:8080/"
        },
        "id": "tbj26liCxuxL",
        "outputId": "5f0db4d9-e418-4c88-b58e-744908e89fad"
      },
      "execution_count": 14,
      "outputs": [
        {
          "output_type": "stream",
          "name": "stdout",
          "text": [
            "Looking in indexes: https://pypi.org/simple, https://us-python.pkg.dev/colab-wheels/public/simple/\n",
            "Requirement already satisfied: imbalanced-learn in /usr/local/lib/python3.7/dist-packages (0.8.1)\n",
            "Collecting imbalanced-learn\n",
            "  Downloading imbalanced_learn-0.9.1-py3-none-any.whl (199 kB)\n",
            "\u001b[K     |████████████████████████████████| 199 kB 27.6 MB/s \n",
            "\u001b[?25hRequirement already satisfied: threadpoolctl>=2.0.0 in /usr/local/lib/python3.7/dist-packages (from imbalanced-learn) (3.1.0)\n",
            "  Downloading imbalanced_learn-0.9.0-py3-none-any.whl (199 kB)\n",
            "\u001b[K     |████████████████████████████████| 199 kB 65.7 MB/s \n",
            "\u001b[?25hRequirement already satisfied: numpy>=1.14.6 in /usr/local/lib/python3.7/dist-packages (from imbalanced-learn) (1.21.6)\n",
            "Requirement already satisfied: scikit-learn>=1.0.1 in /usr/local/lib/python3.7/dist-packages (from imbalanced-learn) (1.0.2)\n",
            "Requirement already satisfied: scipy>=1.1.0 in /usr/local/lib/python3.7/dist-packages (from imbalanced-learn) (1.7.3)\n",
            "Requirement already satisfied: joblib>=0.11 in /usr/local/lib/python3.7/dist-packages (from imbalanced-learn) (1.1.0)\n",
            "Installing collected packages: imbalanced-learn\n",
            "  Attempting uninstall: imbalanced-learn\n",
            "    Found existing installation: imbalanced-learn 0.8.1\n",
            "    Uninstalling imbalanced-learn-0.8.1:\n",
            "      Successfully uninstalled imbalanced-learn-0.8.1\n",
            "Successfully installed imbalanced-learn-0.9.0\n"
          ]
        }
      ]
    },
    {
      "cell_type": "code",
      "source": [
        "import imblearn\n",
        "\n",
        "smote = SMOTE()\n",
        "\n",
        "x_s, y_s = smote.fit_resample(x_train, y_train)\n",
        "\n",
        "print('Original dataset shape', len(x_train))\n",
        "print('Resampled dataset shape', len(x_s))"
      ],
      "metadata": {
        "colab": {
          "base_uri": "https://localhost:8080/"
        },
        "id": "oNyXi6IBxuum",
        "outputId": "2d869600-aee7-4fb9-d687-e1fbbea7b60e"
      },
      "execution_count": 64,
      "outputs": [
        {
          "output_type": "stream",
          "name": "stdout",
          "text": [
            "Original dataset shape 32936\n",
            "Resampled dataset shape 58454\n"
          ]
        }
      ]
    },
    {
      "cell_type": "code",
      "source": [
        "y_s.value_counts()"
      ],
      "metadata": {
        "colab": {
          "base_uri": "https://localhost:8080/"
        },
        "id": "eSwRKjw5Nvjo",
        "outputId": "33d1629e-985b-471c-cb72-131a598a9d20"
      },
      "execution_count": 65,
      "outputs": [
        {
          "output_type": "execute_result",
          "data": {
            "text/plain": [
              "0    29227\n",
              "1    29227\n",
              "Name: y, dtype: int64"
            ]
          },
          "metadata": {},
          "execution_count": 65
        }
      ]
    },
    {
      "cell_type": "markdown",
      "source": [
        "### Classification with Neural Network"
      ],
      "metadata": {
        "id": "bTJhsSl5N3Fl"
      }
    },
    {
      "cell_type": "code",
      "source": [
        "model = Sequential()\n",
        "model.add(Dense(units = 32, kernel_initializer = 'he_uniform',activation='relu',input_dim = x_s.shape[1]))\n",
        "model.add(Dense(units = 8, kernel_initializer = 'he_uniform',activation='relu'))\n",
        "model.add(Dense(units = 1, kernel_initializer = 'glorot_uniform', activation = 'sigmoid'))"
      ],
      "metadata": {
        "id": "ZfR0lfaFMZWW"
      },
      "execution_count": 69,
      "outputs": []
    },
    {
      "cell_type": "markdown",
      "source": [
        "may need to revisit the kernel initialization and tweaking the model\n",
        "here is the reference:https://www.kaggle.com/code/trolukovich/glorot-vs-he-weight-initialization-experiment/notebook"
      ],
      "metadata": {
        "id": "N2hLHHLlUmD2"
      }
    },
    {
      "cell_type": "code",
      "source": [
        "model.compile(optimizer = 'adamax', loss = 'binary_crossentropy', metrics = ['accuracy'])\n",
        "model.summary()"
      ],
      "metadata": {
        "colab": {
          "base_uri": "https://localhost:8080/"
        },
        "id": "uhdkDf94U3Bp",
        "outputId": "f52c851f-3450-44eb-ba0f-e81a4abc89bb"
      },
      "execution_count": 71,
      "outputs": [
        {
          "output_type": "stream",
          "name": "stdout",
          "text": [
            "Model: \"sequential_4\"\n",
            "_________________________________________________________________\n",
            " Layer (type)                Output Shape              Param #   \n",
            "=================================================================\n",
            " dense_7 (Dense)             (None, 32)                1248      \n",
            "                                                                 \n",
            " dense_8 (Dense)             (None, 8)                 264       \n",
            "                                                                 \n",
            " dense_9 (Dense)             (None, 1)                 9         \n",
            "                                                                 \n",
            "=================================================================\n",
            "Total params: 1,521\n",
            "Trainable params: 1,521\n",
            "Non-trainable params: 0\n",
            "_________________________________________________________________\n"
          ]
        }
      ]
    },
    {
      "cell_type": "code",
      "source": [
        "model_history = model.fit(x_s, y_s,validation_split=0.33, batch_size = 10, epochs = 100)"
      ],
      "metadata": {
        "colab": {
          "base_uri": "https://localhost:8080/"
        },
        "id": "ZP5G2rjdxurw",
        "outputId": "e820e733-7df2-40d6-cc97-43c47c756401"
      },
      "execution_count": null,
      "outputs": [
        {
          "output_type": "stream",
          "name": "stdout",
          "text": [
            "Epoch 1/100\n",
            "3917/3917 [==============================] - 9s 2ms/step - loss: 0.4786 - accuracy: 0.7836 - val_loss: 1.0817 - val_accuracy: 0.3974\n",
            "Epoch 2/100\n",
            "3917/3917 [==============================] - 10s 2ms/step - loss: 0.4447 - accuracy: 0.8090 - val_loss: 1.0076 - val_accuracy: 0.4510\n",
            "Epoch 3/100\n",
            "3917/3917 [==============================] - 8s 2ms/step - loss: 0.4413 - accuracy: 0.8104 - val_loss: 1.0696 - val_accuracy: 0.4322\n",
            "Epoch 4/100\n",
            "3917/3917 [==============================] - 9s 2ms/step - loss: 0.4389 - accuracy: 0.8114 - val_loss: 0.9885 - val_accuracy: 0.4766\n",
            "Epoch 5/100\n",
            "3917/3917 [==============================] - 8s 2ms/step - loss: 0.4372 - accuracy: 0.8124 - val_loss: 1.0262 - val_accuracy: 0.4694\n",
            "Epoch 6/100\n",
            "3917/3917 [==============================] - 8s 2ms/step - loss: 0.4355 - accuracy: 0.8128 - val_loss: 1.1607 - val_accuracy: 0.4060\n",
            "Epoch 7/100\n",
            "3917/3917 [==============================] - 8s 2ms/step - loss: 0.4339 - accuracy: 0.8135 - val_loss: 1.0603 - val_accuracy: 0.4462\n",
            "Epoch 8/100\n",
            "3917/3917 [==============================] - 8s 2ms/step - loss: 0.4325 - accuracy: 0.8136 - val_loss: 1.0274 - val_accuracy: 0.4468\n",
            "Epoch 9/100\n",
            "3917/3917 [==============================] - 8s 2ms/step - loss: 0.4313 - accuracy: 0.8145 - val_loss: 1.0020 - val_accuracy: 0.4792\n",
            "Epoch 10/100\n",
            "3917/3917 [==============================] - 9s 2ms/step - loss: 0.4303 - accuracy: 0.8165 - val_loss: 1.0165 - val_accuracy: 0.4667\n",
            "Epoch 11/100\n",
            "3917/3917 [==============================] - 8s 2ms/step - loss: 0.4295 - accuracy: 0.8164 - val_loss: 1.0554 - val_accuracy: 0.4335\n",
            "Epoch 12/100\n",
            "3917/3917 [==============================] - 8s 2ms/step - loss: 0.4286 - accuracy: 0.8157 - val_loss: 1.0506 - val_accuracy: 0.4513\n",
            "Epoch 13/100\n",
            "3917/3917 [==============================] - 9s 2ms/step - loss: 0.4275 - accuracy: 0.8159 - val_loss: 0.9660 - val_accuracy: 0.4788\n",
            "Epoch 14/100\n",
            "3917/3917 [==============================] - 8s 2ms/step - loss: 0.4266 - accuracy: 0.8163 - val_loss: 1.1458 - val_accuracy: 0.4107\n",
            "Epoch 15/100\n",
            "3917/3917 [==============================] - 8s 2ms/step - loss: 0.4261 - accuracy: 0.8174 - val_loss: 1.0041 - val_accuracy: 0.4823\n",
            "Epoch 16/100\n",
            "3917/3917 [==============================] - 9s 2ms/step - loss: 0.4253 - accuracy: 0.8171 - val_loss: 0.9750 - val_accuracy: 0.4841\n",
            "Epoch 17/100\n",
            "3917/3917 [==============================] - 11s 3ms/step - loss: 0.4248 - accuracy: 0.8180 - val_loss: 1.0424 - val_accuracy: 0.4735\n",
            "Epoch 18/100\n",
            "3917/3917 [==============================] - 8s 2ms/step - loss: 0.4237 - accuracy: 0.8180 - val_loss: 1.0411 - val_accuracy: 0.4535\n",
            "Epoch 19/100\n",
            "3917/3917 [==============================] - 9s 2ms/step - loss: 0.4230 - accuracy: 0.8184 - val_loss: 1.0494 - val_accuracy: 0.4368\n",
            "Epoch 20/100\n",
            "3917/3917 [==============================] - 10s 3ms/step - loss: 0.4224 - accuracy: 0.8195 - val_loss: 1.0252 - val_accuracy: 0.4735\n",
            "Epoch 21/100\n",
            "3917/3917 [==============================] - 9s 2ms/step - loss: 0.4216 - accuracy: 0.8196 - val_loss: 0.8778 - val_accuracy: 0.5177\n",
            "Epoch 22/100\n",
            "3917/3917 [==============================] - 8s 2ms/step - loss: 0.4211 - accuracy: 0.8194 - val_loss: 1.0188 - val_accuracy: 0.4835\n",
            "Epoch 23/100\n",
            "3917/3917 [==============================] - 8s 2ms/step - loss: 0.4206 - accuracy: 0.8203 - val_loss: 0.9593 - val_accuracy: 0.4916\n",
            "Epoch 24/100\n",
            "3917/3917 [==============================] - 8s 2ms/step - loss: 0.4198 - accuracy: 0.8201 - val_loss: 0.9655 - val_accuracy: 0.4879\n",
            "Epoch 25/100\n",
            "3917/3917 [==============================] - 8s 2ms/step - loss: 0.4191 - accuracy: 0.8204 - val_loss: 0.8992 - val_accuracy: 0.5212\n",
            "Epoch 26/100\n",
            "3917/3917 [==============================] - 8s 2ms/step - loss: 0.4183 - accuracy: 0.8209 - val_loss: 0.9559 - val_accuracy: 0.5033\n",
            "Epoch 27/100\n",
            "3917/3917 [==============================] - 8s 2ms/step - loss: 0.4176 - accuracy: 0.8211 - val_loss: 0.8450 - val_accuracy: 0.5345\n",
            "Epoch 28/100\n",
            "3917/3917 [==============================] - 8s 2ms/step - loss: 0.4173 - accuracy: 0.8209 - val_loss: 1.0024 - val_accuracy: 0.4780\n",
            "Epoch 29/100\n",
            "3917/3917 [==============================] - 8s 2ms/step - loss: 0.4162 - accuracy: 0.8224 - val_loss: 0.9078 - val_accuracy: 0.4988\n",
            "Epoch 30/100\n",
            "3917/3917 [==============================] - 8s 2ms/step - loss: 0.4159 - accuracy: 0.8224 - val_loss: 1.0214 - val_accuracy: 0.4641\n",
            "Epoch 31/100\n",
            "3917/3917 [==============================] - 8s 2ms/step - loss: 0.4151 - accuracy: 0.8222 - val_loss: 0.9664 - val_accuracy: 0.4894\n",
            "Epoch 32/100\n",
            "3917/3917 [==============================] - 8s 2ms/step - loss: 0.4147 - accuracy: 0.8226 - val_loss: 0.9374 - val_accuracy: 0.5023\n",
            "Epoch 33/100\n",
            "3917/3917 [==============================] - 9s 2ms/step - loss: 0.4138 - accuracy: 0.8232 - val_loss: 0.9646 - val_accuracy: 0.4735\n",
            "Epoch 34/100\n",
            "3917/3917 [==============================] - 9s 2ms/step - loss: 0.4135 - accuracy: 0.8243 - val_loss: 0.8937 - val_accuracy: 0.5307\n",
            "Epoch 35/100\n",
            "3917/3917 [==============================] - 8s 2ms/step - loss: 0.4129 - accuracy: 0.8233 - val_loss: 0.9665 - val_accuracy: 0.4969\n",
            "Epoch 36/100\n",
            "3917/3917 [==============================] - 8s 2ms/step - loss: 0.4121 - accuracy: 0.8243 - val_loss: 0.9757 - val_accuracy: 0.4827\n",
            "Epoch 37/100\n",
            "3917/3917 [==============================] - 9s 2ms/step - loss: 0.4112 - accuracy: 0.8252 - val_loss: 0.9727 - val_accuracy: 0.4840\n",
            "Epoch 38/100\n",
            "3917/3917 [==============================] - 8s 2ms/step - loss: 0.4109 - accuracy: 0.8249 - val_loss: 1.0191 - val_accuracy: 0.4729\n",
            "Epoch 39/100\n",
            "3917/3917 [==============================] - 8s 2ms/step - loss: 0.4104 - accuracy: 0.8243 - val_loss: 0.8688 - val_accuracy: 0.5410\n",
            "Epoch 40/100\n",
            "3917/3917 [==============================] - 9s 2ms/step - loss: 0.4101 - accuracy: 0.8263 - val_loss: 0.9004 - val_accuracy: 0.5044\n",
            "Epoch 41/100\n",
            "3917/3917 [==============================] - 8s 2ms/step - loss: 0.4093 - accuracy: 0.8265 - val_loss: 0.9481 - val_accuracy: 0.5120\n",
            "Epoch 42/100\n",
            "3917/3917 [==============================] - 8s 2ms/step - loss: 0.4088 - accuracy: 0.8252 - val_loss: 0.9222 - val_accuracy: 0.4985\n",
            "Epoch 43/100\n",
            "3917/3917 [==============================] - 8s 2ms/step - loss: 0.4081 - accuracy: 0.8261 - val_loss: 0.9696 - val_accuracy: 0.4854\n",
            "Epoch 44/100\n",
            "3917/3917 [==============================] - 8s 2ms/step - loss: 0.4075 - accuracy: 0.8260 - val_loss: 0.9813 - val_accuracy: 0.5002\n",
            "Epoch 45/100\n",
            "3917/3917 [==============================] - 8s 2ms/step - loss: 0.4074 - accuracy: 0.8265 - val_loss: 1.0075 - val_accuracy: 0.4531\n",
            "Epoch 46/100\n",
            "3917/3917 [==============================] - 8s 2ms/step - loss: 0.4068 - accuracy: 0.8268 - val_loss: 0.9184 - val_accuracy: 0.5180\n",
            "Epoch 47/100\n",
            "3917/3917 [==============================] - 9s 2ms/step - loss: 0.4063 - accuracy: 0.8269 - val_loss: 0.9608 - val_accuracy: 0.4905\n",
            "Epoch 48/100\n",
            "3917/3917 [==============================] - 8s 2ms/step - loss: 0.4061 - accuracy: 0.8283 - val_loss: 0.9733 - val_accuracy: 0.4878\n",
            "Epoch 49/100\n",
            "3917/3917 [==============================] - 9s 2ms/step - loss: 0.4056 - accuracy: 0.8286 - val_loss: 0.9744 - val_accuracy: 0.4930\n",
            "Epoch 50/100\n",
            "3917/3917 [==============================] - 8s 2ms/step - loss: 0.4048 - accuracy: 0.8282 - val_loss: 1.0065 - val_accuracy: 0.5164\n",
            "Epoch 51/100\n",
            "3917/3917 [==============================] - 8s 2ms/step - loss: 0.4052 - accuracy: 0.8275 - val_loss: 0.8140 - val_accuracy: 0.5544\n",
            "Epoch 52/100\n",
            "3917/3917 [==============================] - 8s 2ms/step - loss: 0.4044 - accuracy: 0.8287 - val_loss: 1.0256 - val_accuracy: 0.4595\n",
            "Epoch 53/100\n",
            "3917/3917 [==============================] - 9s 2ms/step - loss: 0.4044 - accuracy: 0.8288 - val_loss: 0.9622 - val_accuracy: 0.4735\n",
            "Epoch 54/100\n",
            "3917/3917 [==============================] - 9s 2ms/step - loss: 0.4033 - accuracy: 0.8288 - val_loss: 1.0240 - val_accuracy: 0.4780\n",
            "Epoch 55/100\n",
            "3917/3917 [==============================] - 8s 2ms/step - loss: 0.4034 - accuracy: 0.8287 - val_loss: 0.7656 - val_accuracy: 0.5884\n",
            "Epoch 56/100\n",
            "3917/3917 [==============================] - 9s 2ms/step - loss: 0.4028 - accuracy: 0.8292 - val_loss: 0.9760 - val_accuracy: 0.4910\n",
            "Epoch 57/100\n",
            "3917/3917 [==============================] - 8s 2ms/step - loss: 0.4027 - accuracy: 0.8288 - val_loss: 0.9601 - val_accuracy: 0.4921\n",
            "Epoch 58/100\n",
            "3917/3917 [==============================] - 8s 2ms/step - loss: 0.4023 - accuracy: 0.8294 - val_loss: 0.9101 - val_accuracy: 0.5239\n",
            "Epoch 59/100\n",
            "3917/3917 [==============================] - 8s 2ms/step - loss: 0.4023 - accuracy: 0.8292 - val_loss: 0.8170 - val_accuracy: 0.5609\n",
            "Epoch 60/100\n",
            "3917/3917 [==============================] - 8s 2ms/step - loss: 0.4016 - accuracy: 0.8304 - val_loss: 0.9846 - val_accuracy: 0.4855\n",
            "Epoch 61/100\n",
            "3917/3917 [==============================] - 9s 2ms/step - loss: 0.4011 - accuracy: 0.8296 - val_loss: 0.8908 - val_accuracy: 0.5318\n",
            "Epoch 62/100\n",
            "3917/3917 [==============================] - 8s 2ms/step - loss: 0.4007 - accuracy: 0.8305 - val_loss: 0.9266 - val_accuracy: 0.5225\n",
            "Epoch 63/100\n",
            "3917/3917 [==============================] - 9s 2ms/step - loss: 0.4011 - accuracy: 0.8308 - val_loss: 0.9482 - val_accuracy: 0.4924\n",
            "Epoch 64/100\n",
            "3917/3917 [==============================] - 9s 2ms/step - loss: 0.4007 - accuracy: 0.8300 - val_loss: 0.8423 - val_accuracy: 0.5386\n",
            "Epoch 65/100\n",
            "3917/3917 [==============================] - 8s 2ms/step - loss: 0.4005 - accuracy: 0.8313 - val_loss: 1.0240 - val_accuracy: 0.4538\n",
            "Epoch 66/100\n",
            "3917/3917 [==============================] - 9s 2ms/step - loss: 0.3999 - accuracy: 0.8311 - val_loss: 0.8724 - val_accuracy: 0.5284\n",
            "Epoch 67/100\n",
            "3917/3917 [==============================] - 9s 2ms/step - loss: 0.3998 - accuracy: 0.8311 - val_loss: 0.8760 - val_accuracy: 0.5181\n",
            "Epoch 68/100\n",
            "3917/3917 [==============================] - 8s 2ms/step - loss: 0.3996 - accuracy: 0.8311 - val_loss: 0.9281 - val_accuracy: 0.5119\n",
            "Epoch 69/100\n",
            "3917/3917 [==============================] - 8s 2ms/step - loss: 0.3995 - accuracy: 0.8315 - val_loss: 0.8941 - val_accuracy: 0.5217\n",
            "Epoch 70/100\n",
            "3917/3917 [==============================] - 8s 2ms/step - loss: 0.3987 - accuracy: 0.8316 - val_loss: 0.8925 - val_accuracy: 0.5435\n",
            "Epoch 71/100\n",
            "3917/3917 [==============================] - 8s 2ms/step - loss: 0.3984 - accuracy: 0.8320 - val_loss: 0.9456 - val_accuracy: 0.5153\n",
            "Epoch 72/100\n",
            "3917/3917 [==============================] - 9s 2ms/step - loss: 0.3988 - accuracy: 0.8307 - val_loss: 0.8975 - val_accuracy: 0.5362\n",
            "Epoch 73/100\n",
            "3917/3917 [==============================] - 8s 2ms/step - loss: 0.3982 - accuracy: 0.8316 - val_loss: 0.9404 - val_accuracy: 0.5192\n",
            "Epoch 74/100\n",
            "3917/3917 [==============================] - 8s 2ms/step - loss: 0.3983 - accuracy: 0.8319 - val_loss: 0.9240 - val_accuracy: 0.5060\n",
            "Epoch 75/100\n",
            "3917/3917 [==============================] - 9s 2ms/step - loss: 0.3974 - accuracy: 0.8316 - val_loss: 0.8992 - val_accuracy: 0.5379\n",
            "Epoch 76/100\n",
            "3917/3917 [==============================] - 8s 2ms/step - loss: 0.3971 - accuracy: 0.8323 - val_loss: 1.0380 - val_accuracy: 0.4695\n",
            "Epoch 77/100\n",
            "3917/3917 [==============================] - 8s 2ms/step - loss: 0.3973 - accuracy: 0.8328 - val_loss: 1.0608 - val_accuracy: 0.4564\n",
            "Epoch 78/100\n",
            "3917/3917 [==============================] - 8s 2ms/step - loss: 0.3968 - accuracy: 0.8321 - val_loss: 1.0265 - val_accuracy: 0.4842\n",
            "Epoch 79/100\n",
            "3917/3917 [==============================] - 8s 2ms/step - loss: 0.3964 - accuracy: 0.8320 - val_loss: 0.8494 - val_accuracy: 0.5706\n",
            "Epoch 80/100\n",
            "3917/3917 [==============================] - 9s 2ms/step - loss: 0.3963 - accuracy: 0.8330 - val_loss: 1.0464 - val_accuracy: 0.4673\n",
            "Epoch 81/100\n",
            "3917/3917 [==============================] - 8s 2ms/step - loss: 0.3960 - accuracy: 0.8325 - val_loss: 0.9815 - val_accuracy: 0.4962\n",
            "Epoch 82/100\n",
            "3917/3917 [==============================] - 8s 2ms/step - loss: 0.3961 - accuracy: 0.8335 - val_loss: 0.8669 - val_accuracy: 0.5478\n",
            "Epoch 83/100\n",
            "3917/3917 [==============================] - 8s 2ms/step - loss: 0.3956 - accuracy: 0.8326 - val_loss: 1.0258 - val_accuracy: 0.4833\n",
            "Epoch 84/100\n",
            "3917/3917 [==============================] - 8s 2ms/step - loss: 0.3955 - accuracy: 0.8326 - val_loss: 0.8456 - val_accuracy: 0.5506\n",
            "Epoch 85/100\n",
            "3917/3917 [==============================] - 8s 2ms/step - loss: 0.3948 - accuracy: 0.8330 - val_loss: 0.7882 - val_accuracy: 0.5903\n",
            "Epoch 86/100\n",
            "3917/3917 [==============================] - 8s 2ms/step - loss: 0.3948 - accuracy: 0.8326 - val_loss: 0.8890 - val_accuracy: 0.5534\n",
            "Epoch 87/100\n",
            "3917/3917 [==============================] - 8s 2ms/step - loss: 0.3943 - accuracy: 0.8342 - val_loss: 0.9137 - val_accuracy: 0.5138\n",
            "Epoch 88/100\n",
            "3917/3917 [==============================] - 9s 2ms/step - loss: 0.3945 - accuracy: 0.8337 - val_loss: 0.9262 - val_accuracy: 0.5117\n",
            "Epoch 89/100\n",
            "3917/3917 [==============================] - 9s 2ms/step - loss: 0.3941 - accuracy: 0.8336 - val_loss: 0.9729 - val_accuracy: 0.4984\n",
            "Epoch 90/100\n",
            "3917/3917 [==============================] - 8s 2ms/step - loss: 0.3937 - accuracy: 0.8334 - val_loss: 0.9412 - val_accuracy: 0.4957\n",
            "Epoch 91/100\n",
            "3917/3917 [==============================] - 9s 2ms/step - loss: 0.3937 - accuracy: 0.8337 - val_loss: 0.8750 - val_accuracy: 0.5323\n",
            "Epoch 92/100\n",
            "3917/3917 [==============================] - 8s 2ms/step - loss: 0.3932 - accuracy: 0.8342 - val_loss: 0.9404 - val_accuracy: 0.5195\n",
            "Epoch 93/100\n",
            "3917/3917 [==============================] - 8s 2ms/step - loss: 0.3931 - accuracy: 0.8334 - val_loss: 0.9511 - val_accuracy: 0.5201\n",
            "Epoch 94/100\n",
            "3917/3917 [==============================] - 8s 2ms/step - loss: 0.3927 - accuracy: 0.8343 - val_loss: 0.8540 - val_accuracy: 0.5473\n",
            "Epoch 95/100\n",
            "3917/3917 [==============================] - 8s 2ms/step - loss: 0.3926 - accuracy: 0.8347 - val_loss: 0.8496 - val_accuracy: 0.5461\n",
            "Epoch 96/100\n",
            "3917/3917 [==============================] - 9s 2ms/step - loss: 0.3921 - accuracy: 0.8347 - val_loss: 0.8754 - val_accuracy: 0.5372\n",
            "Epoch 97/100\n",
            "2912/3917 [=====================>........] - ETA: 1s - loss: 0.3922 - accuracy: 0.8337"
          ]
        }
      ]
    },
    {
      "cell_type": "code",
      "source": [
        ""
      ],
      "metadata": {
        "id": "wgVWz8JnxupQ"
      },
      "execution_count": null,
      "outputs": []
    },
    {
      "cell_type": "code",
      "source": [
        ""
      ],
      "metadata": {
        "id": "t08TPsCfxukm"
      },
      "execution_count": null,
      "outputs": []
    },
    {
      "cell_type": "code",
      "source": [
        ""
      ],
      "metadata": {
        "id": "3IYAMEnuxuh7"
      },
      "execution_count": null,
      "outputs": []
    },
    {
      "cell_type": "code",
      "source": [
        ""
      ],
      "metadata": {
        "id": "6A9S3Bw8xufV"
      },
      "execution_count": null,
      "outputs": []
    },
    {
      "cell_type": "code",
      "source": [
        ""
      ],
      "metadata": {
        "id": "Ik5Knb6cxucf"
      },
      "execution_count": null,
      "outputs": []
    },
    {
      "cell_type": "code",
      "source": [
        ""
      ],
      "metadata": {
        "id": "HWka2I2XxuSp"
      },
      "execution_count": null,
      "outputs": []
    },
    {
      "cell_type": "markdown",
      "source": [
        "### Data Transformation - V2 (Shawn's attempt based on FAMDD analysis)\n",
        "##### if you are focusing on the agreed v1, feel free to skip this part, just want to experiment, may not have too signficant impact"
      ],
      "metadata": {
        "id": "iKeAt0u-dBqG"
      }
    },
    {
      "cell_type": "code",
      "source": [
        "data_2 = data.copy()"
      ],
      "metadata": {
        "id": "ELvn6Bt2cxhJ"
      },
      "execution_count": null,
      "outputs": []
    },
    {
      "cell_type": "code",
      "source": [
        "#findings from FAMD analysis\n",
        "# there is significant distinguishablity for feature - poutcome / contact / default, so no need to combine any features\n",
        "# job -> separate student and retired stand alone as they are distinguished from others\n",
        "# housing, loan are alomost overlapping for all segment, not meaningful to consolidate"
      ],
      "metadata": {
        "id": "RScox9ZLd0au"
      },
      "execution_count": null,
      "outputs": []
    },
    {
      "cell_type": "code",
      "source": [
        "data_2['edu_new'] = data_2['education'].map({'basic.4y': 'pre_colleage', \n",
        "                                         'basic.9y': 'pre_colleage',\n",
        "                                         'basic.6y': 'pre_colleage',\n",
        "                                         'university.degree' : 'post_colleage',\n",
        "                                         'professional.course':'post_colleage',\n",
        "                                         'illiterate': 'illiterate',\n",
        "                                         'high.school' : 'pre_colleage',\n",
        "                                         'unknown' :'unknown' })\n",
        "\n",
        "data_2['edu_new'].value_counts(dropna = False)"
      ],
      "metadata": {
        "colab": {
          "base_uri": "https://localhost:8080/"
        },
        "id": "5SbiP-TcdkBc",
        "outputId": "3dd27012-0129-4a8f-a02e-93f61cccb2ce"
      },
      "execution_count": null,
      "outputs": [
        {
          "output_type": "execute_result",
          "data": {
            "text/plain": [
              "pre_colleage     22028\n",
              "post_colleage    17411\n",
              "unknown           1731\n",
              "illiterate          18\n",
              "Name: edu_new, dtype: int64"
            ]
          },
          "metadata": {},
          "execution_count": 23
        }
      ]
    },
    {
      "cell_type": "code",
      "source": [
        "def map_job_2(row):\n",
        "    if row['job'] in ['admin.', 'management', 'entrepreneur','self-employed', 'housemaid', 'blue-collar', 'technician', 'services', 'unemployed']:\n",
        "        cat = 'others'\n",
        "    elif row['job'] in ['retired']:\n",
        "        cat = 'retired'\n",
        "    elif row['job'] in ['student']:\n",
        "        cat = 'student'\n",
        "    else:\n",
        "        cat = 'unknown'\n",
        "    return cat\n",
        "\n",
        "data_2['job_new'] = data_2.apply(map_job_2, axis=1)\n",
        "data_2['job_new'].value_counts(dropna = False)"
      ],
      "metadata": {
        "colab": {
          "base_uri": "https://localhost:8080/"
        },
        "id": "bKtVzvLcdj-z",
        "outputId": "a5172cea-8cee-4ca9-abde-dffedf3f923b"
      },
      "execution_count": null,
      "outputs": [
        {
          "output_type": "execute_result",
          "data": {
            "text/plain": [
              "others     38263\n",
              "retired     1720\n",
              "student      875\n",
              "unknown      330\n",
              "Name: job_new, dtype: int64"
            ]
          },
          "metadata": {},
          "execution_count": 24
        }
      ]
    },
    {
      "cell_type": "code",
      "source": [
        "def map_marri(row):\n",
        "    if row['job'] in ['divorced', 'married', 'unknown']:\n",
        "        cat = 'not_single'\n",
        "    else:\n",
        "        cat = 'single'\n",
        "    return cat\n",
        "\n",
        "data_2['marr_new'] = data_2.apply(map_marri, axis=1)\n",
        "data_2['marr_new'].value_counts(dropna = False)"
      ],
      "metadata": {
        "colab": {
          "base_uri": "https://localhost:8080/"
        },
        "id": "vH-Od9nCdj8N",
        "outputId": "79c3e67b-2818-4d6e-dc39-4cd8e69ca1ec"
      },
      "execution_count": null,
      "outputs": [
        {
          "output_type": "execute_result",
          "data": {
            "text/plain": [
              "single        40858\n",
              "not_single      330\n",
              "Name: marr_new, dtype: int64"
            ]
          },
          "metadata": {},
          "execution_count": 28
        }
      ]
    },
    {
      "cell_type": "code",
      "source": [
        "def map_month_2(row):\n",
        "    if row['month'] in ['mar', 'apr', 'may', 'jun', 'jul', 'aug', 'sep', 'oct', 'nov']:\n",
        "        cat = 'non_winter'\n",
        "    else:\n",
        "        cat = 'winter'\n",
        "    return cat\n",
        "\n",
        "data_2['season_new'] = data_2.apply(map_month_2, axis=1)\n",
        "data_2['season_new'].value_counts(dropna = False)"
      ],
      "metadata": {
        "colab": {
          "base_uri": "https://localhost:8080/"
        },
        "id": "qL36vVE8dj5c",
        "outputId": "fe90f974-d752-4d8e-9d91-0a68ff148a3f"
      },
      "execution_count": null,
      "outputs": [
        {
          "output_type": "execute_result",
          "data": {
            "text/plain": [
              "non_winter    41006\n",
              "winter          182\n",
              "Name: season_new, dtype: int64"
            ]
          },
          "metadata": {},
          "execution_count": 29
        }
      ]
    },
    {
      "cell_type": "code",
      "source": [
        "df_tran_2 = data_2.drop(['job', 'marital', 'education', 'month'], axis=1)"
      ],
      "metadata": {
        "id": "0ZP6wv7CkXz2"
      },
      "execution_count": null,
      "outputs": []
    }
  ]
}