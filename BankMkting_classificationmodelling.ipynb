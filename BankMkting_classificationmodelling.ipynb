{
  "nbformat": 4,
  "nbformat_minor": 0,
  "metadata": {
    "colab": {
      "name": "BankMkting_featureengineering.ipynb",
      "provenance": [],
      "authorship_tag": "ABX9TyNylOa1wMJBOmZEn507d02B",
      "include_colab_link": true
    },
    "kernelspec": {
      "name": "python3",
      "display_name": "Python 3"
    },
    "language_info": {
      "name": "python"
    }
  },
  "cells": [
    {
      "cell_type": "markdown",
      "metadata": {
        "id": "view-in-github",
        "colab_type": "text"
      },
      "source": [
        "<a href=\"https://colab.research.google.com/github/ShawnLiu119/CapstoneProject_BankingMarketing/blob/main/BankMkting_classificationmodelling.ipynb\" target=\"_parent\"><img src=\"https://colab.research.google.com/assets/colab-badge.svg\" alt=\"Open In Colab\"/></a>"
      ]
    },
    {
      "cell_type": "code",
      "source": [
        "from sklearn.metrics import accuracy_score\n",
        "from sklearn.metrics import roc_auc_score\n",
        "import numpy as np\n",
        "import pandas as pd \n",
        "import os\n",
        "from sklearn.tree import DecisionTreeClassifier\n",
        "from sklearn.tree import plot_tree\n",
        "from sklearn.model_selection import train_test_split\n",
        "from sklearn.model_selection import cross_val_score\n",
        "from sklearn.metrics import confusion_matrix\n",
        "from sklearn.metrics import plot_confusion_matrix\n",
        "from sklearn.model_selection import train_test_split\n",
        "from sklearn.model_selection import RandomizedSearchCV\n",
        "from sklearn.neighbors import KNeighborsClassifier\n",
        "from sklearn.preprocessing import StandardScaler\n",
        "from sklearn.ensemble import RandomForestClassifier\n",
        "import seaborn as sns\n",
        "import matplotlib.pyplot as plt \n",
        "from sklearn import metrics\n",
        "from sklearn.metrics import accuracy_score, f1_score, precision_score, recall_score, classification_report, confusion_matrix,r2_score\n",
        "from sklearn import model_selection\n",
        "from sklearn.ensemble import BaggingClassifier\n",
        "import warnings\n",
        "from imblearn.over_sampling import SMOTE\n",
        "warnings.filterwarnings('ignore')\n",
        "import tensorflow as tf\n",
        "from tensorflow import keras \n",
        "from tensorflow import keras\n",
        "from tensorflow.keras.models import Sequential\n",
        "from tensorflow.keras.layers import Dense\n",
        "from tensorflow.keras.optimizers import Adam \n",
        "from sklearn.metrics import accuracy_score\n",
        "from sklearn.metrics import confusion_matrix"
      ],
      "metadata": {
        "id": "8TvW0SUbKssy"
      },
      "execution_count": 1,
      "outputs": []
    },
    {
      "cell_type": "code",
      "execution_count": 2,
      "metadata": {
        "id": "fRRsWXUecCNl"
      },
      "outputs": [],
      "source": [
        "import pandas as pd"
      ]
    },
    {
      "cell_type": "code",
      "source": [
        "url = 'https://raw.githubusercontent.com/ShawnLiu119/CapstoneProject_BankingMarketing/main/rawdata/bank-additional-full.csv'\n",
        "data = pd.read_csv(url, sep=';')"
      ],
      "metadata": {
        "id": "1FiIE4lzcJcW"
      },
      "execution_count": 3,
      "outputs": []
    },
    {
      "cell_type": "code",
      "source": [
        "data['education'].value_counts()\n",
        "\n",
        "data_1 = data.copy()\n",
        "data_1 = data_1[data_1['education'] != 'illiterate']\n",
        "\n",
        "data_1['edu_new'] = data_1['education'].map({'basic.4y': 'pre_high', \n",
        "                                         'basic.9y': 'pre_high',\n",
        "                                         'basic.6y': 'pre_high',\n",
        "                                         'university.degree' : 'post_high',\n",
        "                                         'professional.course':'post_high',\n",
        "                                         'high.school' : 'high',\n",
        "                                         'unknown' :'unknown' })"
      ],
      "metadata": {
        "id": "bbhSCh5ncQmI"
      },
      "execution_count": 4,
      "outputs": []
    },
    {
      "cell_type": "code",
      "source": [
        "def map_job(row):\n",
        "    if row['job'] in ['admin.', 'management', 'entrepreneur','self-employed']:\n",
        "        cat = 'white_collar'\n",
        "    elif row['job'] in ['housemaid', 'blue-collar', 'technician', 'services']:\n",
        "        cat = 'blue_collar'\n",
        "    elif row['job'] in ['student', 'retired', 'unemployed']:\n",
        "        cat = 'not_working'\n",
        "    else:\n",
        "        cat = 'unknown'\n",
        "    return cat\n",
        "\n",
        "data_1['job_new'] = data_1.apply(map_job, axis=1)\n",
        "data_1['job_new'].value_counts(dropna = False)"
      ],
      "metadata": {
        "colab": {
          "base_uri": "https://localhost:8080/"
        },
        "id": "eHGAdfSkcS5b",
        "outputId": "1e055206-6788-43c1-e7be-d14bf1d458e0"
      },
      "execution_count": 5,
      "outputs": [
        {
          "output_type": "execute_result",
          "data": {
            "text/plain": [
              "blue_collar     21017\n",
              "white_collar    16217\n",
              "not_working      3606\n",
              "unknown           330\n",
              "Name: job_new, dtype: int64"
            ]
          },
          "metadata": {},
          "execution_count": 5
        }
      ]
    },
    {
      "cell_type": "code",
      "source": [
        "def map_month(row):\n",
        "    if row['month'] in ['mar', 'apr', 'may']:\n",
        "        cat = 'spring'\n",
        "    elif row['month'] in ['jun', 'jul', 'aug']:\n",
        "        cat = 'summer'\n",
        "    elif row['month'] in ['sep', 'oct', 'nov']:\n",
        "        cat = 'fall'\n",
        "    else:\n",
        "        cat = 'winter'\n",
        "    return cat\n",
        "\n",
        "data_1['season'] = data_1.apply(map_month, axis=1)\n",
        "data_1['season'].value_counts(dropna = False)"
      ],
      "metadata": {
        "colab": {
          "base_uri": "https://localhost:8080/"
        },
        "id": "94-u-jWxcU_5",
        "outputId": "e24d1cc5-c0a5-4bab-a7aa-85d054c3de1a"
      },
      "execution_count": 6,
      "outputs": [
        {
          "output_type": "execute_result",
          "data": {
            "text/plain": [
              "summer    18660\n",
              "spring    16942\n",
              "fall       5386\n",
              "winter      182\n",
              "Name: season, dtype: int64"
            ]
          },
          "metadata": {},
          "execution_count": 6
        }
      ]
    },
    {
      "cell_type": "code",
      "source": [
        "data_1.columns"
      ],
      "metadata": {
        "colab": {
          "base_uri": "https://localhost:8080/"
        },
        "id": "MTQZAXjLcXVU",
        "outputId": "049b7aa0-80b8-4bf5-8af4-39bda28bfd7c"
      },
      "execution_count": 7,
      "outputs": [
        {
          "output_type": "execute_result",
          "data": {
            "text/plain": [
              "Index(['age', 'job', 'marital', 'education', 'default', 'housing', 'loan',\n",
              "       'contact', 'month', 'day_of_week', 'duration', 'campaign', 'pdays',\n",
              "       'previous', 'poutcome', 'emp.var.rate', 'cons.price.idx',\n",
              "       'cons.conf.idx', 'euribor3m', 'nr.employed', 'y', 'edu_new', 'job_new',\n",
              "       'season'],\n",
              "      dtype='object')"
            ]
          },
          "metadata": {},
          "execution_count": 7
        }
      ]
    },
    {
      "cell_type": "markdown",
      "source": [
        "### Data Transformation - V1 (Agreed on Team Discussion)"
      ],
      "metadata": {
        "id": "BeRBJ8ZMc345"
      }
    },
    {
      "cell_type": "code",
      "source": [
        "#This transformed dataframe is based on group discussion on 7/23\n",
        "# - keep all numerical features as they are\n",
        "# - consolidate categorical features (education, job, season) and drop originial ones\n",
        "\n",
        "df_tran_1 = data_1[['age', 'marital', 'default', 'housing', 'loan',\n",
        "       'contact', 'day_of_week', 'duration', 'campaign', 'pdays',\n",
        "       'previous', 'poutcome', 'emp.var.rate', 'cons.price.idx',\n",
        "       'cons.conf.idx', 'euribor3m', 'nr.employed', 'y', 'edu_new', 'job_new', 'season']]"
      ],
      "metadata": {
        "id": "AdtaLk4ycY_5"
      },
      "execution_count": 8,
      "outputs": []
    },
    {
      "cell_type": "code",
      "source": [
        "df_tran_1.shape\n",
        "#this is because we removed illiterate"
      ],
      "metadata": {
        "colab": {
          "base_uri": "https://localhost:8080/"
        },
        "id": "glqegqalI_rs",
        "outputId": "0be10c58-d48c-4c54-fe6c-03f8b4471afc"
      },
      "execution_count": 9,
      "outputs": [
        {
          "output_type": "execute_result",
          "data": {
            "text/plain": [
              "(41170, 21)"
            ]
          },
          "metadata": {},
          "execution_count": 9
        }
      ]
    },
    {
      "cell_type": "code",
      "source": [
        "df_tran_1 = df_tran_1.drop(['duration'], axis=1)\n",
        "df_tran_1.columns"
      ],
      "metadata": {
        "colab": {
          "base_uri": "https://localhost:8080/"
        },
        "id": "FfhleyPscknX",
        "outputId": "d06c6ad1-3e57-4f36-ba13-82abb5f1db20"
      },
      "execution_count": 10,
      "outputs": [
        {
          "output_type": "execute_result",
          "data": {
            "text/plain": [
              "Index(['age', 'marital', 'default', 'housing', 'loan', 'contact',\n",
              "       'day_of_week', 'campaign', 'pdays', 'previous', 'poutcome',\n",
              "       'emp.var.rate', 'cons.price.idx', 'cons.conf.idx', 'euribor3m',\n",
              "       'nr.employed', 'y', 'edu_new', 'job_new', 'season'],\n",
              "      dtype='object')"
            ]
          },
          "metadata": {},
          "execution_count": 10
        }
      ]
    },
    {
      "cell_type": "markdown",
      "source": [
        "### One Hot Encoding For Categorical Features"
      ],
      "metadata": {
        "id": "2F1p0tiPHKJC"
      }
    },
    {
      "cell_type": "code",
      "source": [
        "y = df_tran_1['y'].apply(lambda x: 0 if x=='no' else (1 if x=='yes' else -1))\n",
        "y.value_counts()"
      ],
      "metadata": {
        "colab": {
          "base_uri": "https://localhost:8080/"
        },
        "id": "9C3ghJDEIJYU",
        "outputId": "046c2a13-bd54-481d-94f6-ee1e4e60c99b"
      },
      "execution_count": 11,
      "outputs": [
        {
          "output_type": "execute_result",
          "data": {
            "text/plain": [
              "0    36534\n",
              "1     4636\n",
              "Name: y, dtype: int64"
            ]
          },
          "metadata": {},
          "execution_count": 11
        }
      ]
    },
    {
      "cell_type": "code",
      "source": [
        "x = df_tran_1.drop('y', axis=1)"
      ],
      "metadata": {
        "id": "8k4PWWzGIuaQ"
      },
      "execution_count": 12,
      "outputs": []
    },
    {
      "cell_type": "code",
      "source": [
        "df_raw = pd.get_dummies(x)\n",
        "df_raw.columns"
      ],
      "metadata": {
        "colab": {
          "base_uri": "https://localhost:8080/"
        },
        "id": "H4k_fjhNHJPi",
        "outputId": "4d76a593-caf3-481e-e104-1b515efa4077"
      },
      "execution_count": 13,
      "outputs": [
        {
          "output_type": "execute_result",
          "data": {
            "text/plain": [
              "Index(['age', 'campaign', 'pdays', 'previous', 'emp.var.rate',\n",
              "       'cons.price.idx', 'cons.conf.idx', 'euribor3m', 'nr.employed',\n",
              "       'marital_divorced', 'marital_married', 'marital_single',\n",
              "       'marital_unknown', 'default_no', 'default_unknown', 'default_yes',\n",
              "       'housing_no', 'housing_unknown', 'housing_yes', 'loan_no',\n",
              "       'loan_unknown', 'loan_yes', 'contact_cellular', 'contact_telephone',\n",
              "       'day_of_week_fri', 'day_of_week_mon', 'day_of_week_thu',\n",
              "       'day_of_week_tue', 'day_of_week_wed', 'poutcome_failure',\n",
              "       'poutcome_nonexistent', 'poutcome_success', 'edu_new_high',\n",
              "       'edu_new_post_high', 'edu_new_pre_high', 'edu_new_unknown',\n",
              "       'job_new_blue_collar', 'job_new_not_working', 'job_new_unknown',\n",
              "       'job_new_white_collar', 'season_fall', 'season_spring', 'season_summer',\n",
              "       'season_winter'],\n",
              "      dtype='object')"
            ]
          },
          "metadata": {},
          "execution_count": 13
        }
      ]
    },
    {
      "cell_type": "code",
      "source": [
        "#drop the unknow columns as they are correlated to other categories\n",
        "\n",
        "df_raw = df_raw.drop(['marital_unknown', 'default_unknown', 'housing_unknown', 'loan_unknown', 'edu_new_unknown', 'job_new_unknown'], axis=1)\n",
        "df_raw.shape"
      ],
      "metadata": {
        "colab": {
          "base_uri": "https://localhost:8080/"
        },
        "id": "gq3rt2OsHrSS",
        "outputId": "52ee3a6e-b1d2-40e4-c2d3-da53f1ce98cd"
      },
      "execution_count": 14,
      "outputs": [
        {
          "output_type": "execute_result",
          "data": {
            "text/plain": [
              "(41170, 38)"
            ]
          },
          "metadata": {},
          "execution_count": 14
        }
      ]
    },
    {
      "cell_type": "markdown",
      "source": [
        "### Train-Test Split & Data Normalization"
      ],
      "metadata": {
        "id": "7ieyi_1SKBZX"
      }
    },
    {
      "cell_type": "code",
      "source": [
        "from sklearn.preprocessing import MinMaxScaler\n",
        "\n",
        "scaler = MinMaxScaler()\n",
        "df_raw = scaler.fit_transform(df_raw)"
      ],
      "metadata": {
        "id": "Y6xc2akgNZCK"
      },
      "execution_count": 15,
      "outputs": []
    },
    {
      "cell_type": "code",
      "source": [
        "df_raw"
      ],
      "metadata": {
        "colab": {
          "base_uri": "https://localhost:8080/"
        },
        "id": "g7Qo1fvEXtGW",
        "outputId": "93afddf5-9f76-452f-8058-b34850fc0860"
      },
      "execution_count": 16,
      "outputs": [
        {
          "output_type": "execute_result",
          "data": {
            "text/plain": [
              "array([[0.48148148, 0.        , 1.        , ..., 1.        , 0.        ,\n",
              "        0.        ],\n",
              "       [0.49382716, 0.        , 1.        , ..., 1.        , 0.        ,\n",
              "        0.        ],\n",
              "       [0.24691358, 0.        , 1.        , ..., 1.        , 0.        ,\n",
              "        0.        ],\n",
              "       ...,\n",
              "       [0.48148148, 0.01818182, 1.        , ..., 0.        , 0.        ,\n",
              "        0.        ],\n",
              "       [0.33333333, 0.        , 1.        , ..., 0.        , 0.        ,\n",
              "        0.        ],\n",
              "       [0.7037037 , 0.03636364, 1.        , ..., 0.        , 0.        ,\n",
              "        0.        ]])"
            ]
          },
          "metadata": {},
          "execution_count": 16
        }
      ]
    },
    {
      "cell_type": "code",
      "source": [
        "#here i used stratified sampling approach, since the raw data is not balanced distributed\n",
        "x_train,x_test,y_train,y_test = train_test_split(df_raw, y, test_size = 0.2, stratify=y, random_state=42)\n",
        "print(x_train.shape,\n",
        "      x_test.shape,\n",
        "      y_train.shape,\n",
        "      y_test.shape)"
      ],
      "metadata": {
        "colab": {
          "base_uri": "https://localhost:8080/"
        },
        "id": "BrdyrKTrHrPd",
        "outputId": "8fff363d-e3c6-47f1-e1ef-9625221c83fe"
      },
      "execution_count": 17,
      "outputs": [
        {
          "output_type": "stream",
          "name": "stdout",
          "text": [
            "(32936, 38) (8234, 38) (32936,) (8234,)\n"
          ]
        }
      ]
    },
    {
      "cell_type": "markdown",
      "source": [
        "### Balancing the data using SMOTE\n",
        "\n",
        "https://towardsdatascience.com/all-about-imbalanced-machine-learning-classifiers-60563014d2b3\n"
      ],
      "metadata": {
        "id": "7MQKTaWlzPA3"
      }
    },
    {
      "cell_type": "code",
      "source": [
        "pip install -U imbalanced-learn"
      ],
      "metadata": {
        "colab": {
          "base_uri": "https://localhost:8080/",
          "height": 435
        },
        "id": "tbj26liCxuxL",
        "outputId": "902ad5e7-6de0-453e-c1ef-f86fbe2eb4e9"
      },
      "execution_count": 18,
      "outputs": [
        {
          "output_type": "stream",
          "name": "stdout",
          "text": [
            "Looking in indexes: https://pypi.org/simple, https://us-python.pkg.dev/colab-wheels/public/simple/\n",
            "Requirement already satisfied: imbalanced-learn in /usr/local/lib/python3.7/dist-packages (0.8.1)\n",
            "Collecting imbalanced-learn\n",
            "  Downloading imbalanced_learn-0.9.1-py3-none-any.whl (199 kB)\n",
            "\u001b[K     |████████████████████████████████| 199 kB 12.1 MB/s \n",
            "\u001b[?25hRequirement already satisfied: numpy>=1.17.3 in /usr/local/lib/python3.7/dist-packages (from imbalanced-learn) (1.21.6)\n",
            "  Downloading imbalanced_learn-0.9.0-py3-none-any.whl (199 kB)\n",
            "\u001b[K     |████████████████████████████████| 199 kB 52.1 MB/s \n",
            "\u001b[?25hRequirement already satisfied: scikit-learn>=1.0.1 in /usr/local/lib/python3.7/dist-packages (from imbalanced-learn) (1.0.2)\n",
            "Requirement already satisfied: scipy>=1.1.0 in /usr/local/lib/python3.7/dist-packages (from imbalanced-learn) (1.7.3)\n",
            "Requirement already satisfied: threadpoolctl>=2.0.0 in /usr/local/lib/python3.7/dist-packages (from imbalanced-learn) (3.1.0)\n",
            "Requirement already satisfied: joblib>=0.11 in /usr/local/lib/python3.7/dist-packages (from imbalanced-learn) (1.1.0)\n",
            "Installing collected packages: imbalanced-learn\n",
            "  Attempting uninstall: imbalanced-learn\n",
            "    Found existing installation: imbalanced-learn 0.8.1\n",
            "    Uninstalling imbalanced-learn-0.8.1:\n",
            "      Successfully uninstalled imbalanced-learn-0.8.1\n",
            "Successfully installed imbalanced-learn-0.9.0\n"
          ]
        },
        {
          "output_type": "display_data",
          "data": {
            "application/vnd.colab-display-data+json": {
              "pip_warning": {
                "packages": [
                  "imblearn"
                ]
              }
            }
          },
          "metadata": {}
        }
      ]
    },
    {
      "cell_type": "code",
      "source": [
        "import imblearn\n",
        "\n",
        "smote = SMOTE()\n",
        "\n",
        "x_s, y_s = smote.fit_resample(x_train, y_train)\n",
        "\n",
        "print('Original dataset shape', len(x_train))\n",
        "print('Resampled dataset shape', len(x_s))"
      ],
      "metadata": {
        "colab": {
          "base_uri": "https://localhost:8080/"
        },
        "id": "oNyXi6IBxuum",
        "outputId": "b0a11c36-0d5d-4f6e-fe5f-dd128e757f96"
      },
      "execution_count": 19,
      "outputs": [
        {
          "output_type": "stream",
          "name": "stdout",
          "text": [
            "Original dataset shape 32936\n",
            "Resampled dataset shape 58454\n"
          ]
        }
      ]
    },
    {
      "cell_type": "code",
      "source": [
        "y_s.value_counts()"
      ],
      "metadata": {
        "colab": {
          "base_uri": "https://localhost:8080/"
        },
        "id": "eSwRKjw5Nvjo",
        "outputId": "c4958045-3df8-471f-a328-45aeb6ba4711"
      },
      "execution_count": 20,
      "outputs": [
        {
          "output_type": "execute_result",
          "data": {
            "text/plain": [
              "0    29227\n",
              "1    29227\n",
              "Name: y, dtype: int64"
            ]
          },
          "metadata": {},
          "execution_count": 20
        }
      ]
    },
    {
      "cell_type": "markdown",
      "source": [
        "### Classification with Neural Network"
      ],
      "metadata": {
        "id": "bTJhsSl5N3Fl"
      }
    },
    {
      "cell_type": "code",
      "source": [
        "model = Sequential()\n",
        "model.add(Dense(units = 32, kernel_initializer = 'he_uniform',activation='relu',input_dim = x_s.shape[1]))\n",
        "model.add(Dense(units = 8, kernel_initializer = 'he_uniform',activation='relu'))\n",
        "model.add(Dense(units = 1, kernel_initializer = 'glorot_uniform', activation = 'sigmoid'))"
      ],
      "metadata": {
        "id": "ZfR0lfaFMZWW"
      },
      "execution_count": 21,
      "outputs": []
    },
    {
      "cell_type": "markdown",
      "source": [
        "may need to revisit the kernel initialization and tweaking the model\n",
        "here is the reference:https://www.kaggle.com/code/trolukovich/glorot-vs-he-weight-initialization-experiment/notebook"
      ],
      "metadata": {
        "id": "N2hLHHLlUmD2"
      }
    },
    {
      "cell_type": "code",
      "source": [
        "model.compile(optimizer = 'adamax', loss = 'binary_crossentropy', metrics = ['accuracy'])\n",
        "model.summary()"
      ],
      "metadata": {
        "colab": {
          "base_uri": "https://localhost:8080/"
        },
        "id": "uhdkDf94U3Bp",
        "outputId": "c14582ea-f43a-475d-98b1-72c072c28dcc"
      },
      "execution_count": 22,
      "outputs": [
        {
          "output_type": "stream",
          "name": "stdout",
          "text": [
            "Model: \"sequential\"\n",
            "_________________________________________________________________\n",
            " Layer (type)                Output Shape              Param #   \n",
            "=================================================================\n",
            " dense (Dense)               (None, 32)                1248      \n",
            "                                                                 \n",
            " dense_1 (Dense)             (None, 8)                 264       \n",
            "                                                                 \n",
            " dense_2 (Dense)             (None, 1)                 9         \n",
            "                                                                 \n",
            "=================================================================\n",
            "Total params: 1,521\n",
            "Trainable params: 1,521\n",
            "Non-trainable params: 0\n",
            "_________________________________________________________________\n"
          ]
        }
      ]
    },
    {
      "cell_type": "code",
      "source": [
        "model_history = model.fit(x_s, y_s,validation_split=0.33, batch_size = 10, epochs = 100)"
      ],
      "metadata": {
        "colab": {
          "base_uri": "https://localhost:8080/"
        },
        "id": "ZP5G2rjdxurw",
        "outputId": "b5f09166-a80b-40b4-f8b6-1347c0db8b7d"
      },
      "execution_count": 23,
      "outputs": [
        {
          "output_type": "stream",
          "name": "stdout",
          "text": [
            "Epoch 1/100\n",
            "3917/3917 [==============================] - 20s 5ms/step - loss: 0.4655 - accuracy: 0.7968 - val_loss: 1.0482 - val_accuracy: 0.4146\n",
            "Epoch 2/100\n",
            "3917/3917 [==============================] - 14s 4ms/step - loss: 0.4458 - accuracy: 0.8105 - val_loss: 1.0609 - val_accuracy: 0.4314\n",
            "Epoch 3/100\n",
            "3917/3917 [==============================] - 9s 2ms/step - loss: 0.4428 - accuracy: 0.8111 - val_loss: 1.0568 - val_accuracy: 0.4142\n",
            "Epoch 4/100\n",
            "3917/3917 [==============================] - 9s 2ms/step - loss: 0.4408 - accuracy: 0.8130 - val_loss: 1.1204 - val_accuracy: 0.4021\n",
            "Epoch 5/100\n",
            "3917/3917 [==============================] - 10s 2ms/step - loss: 0.4389 - accuracy: 0.8122 - val_loss: 1.1403 - val_accuracy: 0.3750\n",
            "Epoch 6/100\n",
            "3917/3917 [==============================] - 9s 2ms/step - loss: 0.4374 - accuracy: 0.8133 - val_loss: 0.9660 - val_accuracy: 0.4674\n",
            "Epoch 7/100\n",
            "3917/3917 [==============================] - 9s 2ms/step - loss: 0.4359 - accuracy: 0.8146 - val_loss: 1.0265 - val_accuracy: 0.4540\n",
            "Epoch 8/100\n",
            "3917/3917 [==============================] - 10s 2ms/step - loss: 0.4346 - accuracy: 0.8144 - val_loss: 1.1173 - val_accuracy: 0.4136\n",
            "Epoch 9/100\n",
            "3917/3917 [==============================] - 9s 2ms/step - loss: 0.4333 - accuracy: 0.8157 - val_loss: 0.9614 - val_accuracy: 0.4810\n",
            "Epoch 10/100\n",
            "3917/3917 [==============================] - 9s 2ms/step - loss: 0.4319 - accuracy: 0.8161 - val_loss: 1.1135 - val_accuracy: 0.4099\n",
            "Epoch 11/100\n",
            "3917/3917 [==============================] - 13s 3ms/step - loss: 0.4309 - accuracy: 0.8157 - val_loss: 0.9411 - val_accuracy: 0.4801\n",
            "Epoch 12/100\n",
            "3917/3917 [==============================] - 19s 5ms/step - loss: 0.4298 - accuracy: 0.8172 - val_loss: 1.0798 - val_accuracy: 0.4205\n",
            "Epoch 13/100\n",
            "3917/3917 [==============================] - 17s 4ms/step - loss: 0.4285 - accuracy: 0.8181 - val_loss: 0.9601 - val_accuracy: 0.4832\n",
            "Epoch 14/100\n",
            "3917/3917 [==============================] - 9s 2ms/step - loss: 0.4275 - accuracy: 0.8183 - val_loss: 0.9896 - val_accuracy: 0.4759\n",
            "Epoch 15/100\n",
            "3917/3917 [==============================] - 9s 2ms/step - loss: 0.4264 - accuracy: 0.8178 - val_loss: 1.1199 - val_accuracy: 0.4123\n",
            "Epoch 16/100\n",
            "3917/3917 [==============================] - 9s 2ms/step - loss: 0.4256 - accuracy: 0.8178 - val_loss: 1.0169 - val_accuracy: 0.4791\n",
            "Epoch 17/100\n",
            "3917/3917 [==============================] - 9s 2ms/step - loss: 0.4248 - accuracy: 0.8189 - val_loss: 0.9324 - val_accuracy: 0.5121\n",
            "Epoch 18/100\n",
            "3917/3917 [==============================] - 9s 2ms/step - loss: 0.4239 - accuracy: 0.8195 - val_loss: 1.1045 - val_accuracy: 0.4065\n",
            "Epoch 19/100\n",
            "3917/3917 [==============================] - 8s 2ms/step - loss: 0.4229 - accuracy: 0.8192 - val_loss: 1.1129 - val_accuracy: 0.4260\n",
            "Epoch 20/100\n",
            "3917/3917 [==============================] - 9s 2ms/step - loss: 0.4221 - accuracy: 0.8201 - val_loss: 0.8729 - val_accuracy: 0.5257\n",
            "Epoch 21/100\n",
            "3917/3917 [==============================] - 10s 3ms/step - loss: 0.4217 - accuracy: 0.8200 - val_loss: 1.0604 - val_accuracy: 0.4477\n",
            "Epoch 22/100\n",
            "3917/3917 [==============================] - 9s 2ms/step - loss: 0.4203 - accuracy: 0.8219 - val_loss: 0.9587 - val_accuracy: 0.5010\n",
            "Epoch 23/100\n",
            "3917/3917 [==============================] - 9s 2ms/step - loss: 0.4196 - accuracy: 0.8205 - val_loss: 0.8983 - val_accuracy: 0.5096\n",
            "Epoch 24/100\n",
            "3917/3917 [==============================] - 10s 3ms/step - loss: 0.4191 - accuracy: 0.8207 - val_loss: 0.9330 - val_accuracy: 0.5065\n",
            "Epoch 25/100\n",
            "3917/3917 [==============================] - 9s 2ms/step - loss: 0.4181 - accuracy: 0.8208 - val_loss: 0.9923 - val_accuracy: 0.4725\n",
            "Epoch 26/100\n",
            "3917/3917 [==============================] - 9s 2ms/step - loss: 0.4175 - accuracy: 0.8223 - val_loss: 1.0281 - val_accuracy: 0.4754\n",
            "Epoch 27/100\n",
            "3917/3917 [==============================] - 9s 2ms/step - loss: 0.4172 - accuracy: 0.8219 - val_loss: 0.9282 - val_accuracy: 0.5035\n",
            "Epoch 28/100\n",
            "3917/3917 [==============================] - 15s 4ms/step - loss: 0.4164 - accuracy: 0.8224 - val_loss: 0.9020 - val_accuracy: 0.5199\n",
            "Epoch 29/100\n",
            "3917/3917 [==============================] - 17s 4ms/step - loss: 0.4158 - accuracy: 0.8235 - val_loss: 0.9275 - val_accuracy: 0.5064\n",
            "Epoch 30/100\n",
            "3917/3917 [==============================] - 9s 2ms/step - loss: 0.4155 - accuracy: 0.8210 - val_loss: 1.0718 - val_accuracy: 0.4306\n",
            "Epoch 31/100\n",
            "3917/3917 [==============================] - 9s 2ms/step - loss: 0.4146 - accuracy: 0.8240 - val_loss: 0.8912 - val_accuracy: 0.5176\n",
            "Epoch 32/100\n",
            "3917/3917 [==============================] - 9s 2ms/step - loss: 0.4140 - accuracy: 0.8249 - val_loss: 1.0171 - val_accuracy: 0.4632\n",
            "Epoch 33/100\n",
            "3917/3917 [==============================] - 9s 2ms/step - loss: 0.4133 - accuracy: 0.8244 - val_loss: 0.8077 - val_accuracy: 0.5630\n",
            "Epoch 34/100\n",
            "3917/3917 [==============================] - 10s 3ms/step - loss: 0.4126 - accuracy: 0.8246 - val_loss: 0.8897 - val_accuracy: 0.5187\n",
            "Epoch 35/100\n",
            "3917/3917 [==============================] - 9s 2ms/step - loss: 0.4123 - accuracy: 0.8243 - val_loss: 0.9860 - val_accuracy: 0.4564\n",
            "Epoch 36/100\n",
            "3917/3917 [==============================] - 9s 2ms/step - loss: 0.4115 - accuracy: 0.8246 - val_loss: 0.8647 - val_accuracy: 0.5350\n",
            "Epoch 37/100\n",
            "3917/3917 [==============================] - 9s 2ms/step - loss: 0.4109 - accuracy: 0.8254 - val_loss: 0.9000 - val_accuracy: 0.5212\n",
            "Epoch 38/100\n",
            "3917/3917 [==============================] - 9s 2ms/step - loss: 0.4104 - accuracy: 0.8259 - val_loss: 0.9843 - val_accuracy: 0.4895\n",
            "Epoch 39/100\n",
            "3917/3917 [==============================] - 9s 2ms/step - loss: 0.4098 - accuracy: 0.8259 - val_loss: 0.9561 - val_accuracy: 0.4877\n",
            "Epoch 40/100\n",
            "3917/3917 [==============================] - 9s 2ms/step - loss: 0.4091 - accuracy: 0.8261 - val_loss: 1.0236 - val_accuracy: 0.4514\n",
            "Epoch 41/100\n",
            "3917/3917 [==============================] - 11s 3ms/step - loss: 0.4089 - accuracy: 0.8273 - val_loss: 1.0148 - val_accuracy: 0.4843\n",
            "Epoch 42/100\n",
            "3917/3917 [==============================] - 9s 2ms/step - loss: 0.4086 - accuracy: 0.8278 - val_loss: 0.8532 - val_accuracy: 0.5484\n",
            "Epoch 43/100\n",
            "3917/3917 [==============================] - 9s 2ms/step - loss: 0.4075 - accuracy: 0.8283 - val_loss: 1.0079 - val_accuracy: 0.4729\n",
            "Epoch 44/100\n",
            "3917/3917 [==============================] - 9s 2ms/step - loss: 0.4075 - accuracy: 0.8271 - val_loss: 0.9231 - val_accuracy: 0.5203\n",
            "Epoch 45/100\n",
            "3917/3917 [==============================] - 9s 2ms/step - loss: 0.4073 - accuracy: 0.8262 - val_loss: 0.9119 - val_accuracy: 0.5184\n",
            "Epoch 46/100\n",
            "3917/3917 [==============================] - 9s 2ms/step - loss: 0.4063 - accuracy: 0.8277 - val_loss: 0.9606 - val_accuracy: 0.5097\n",
            "Epoch 47/100\n",
            "3917/3917 [==============================] - 9s 2ms/step - loss: 0.4058 - accuracy: 0.8276 - val_loss: 0.9548 - val_accuracy: 0.4883\n",
            "Epoch 48/100\n",
            "3917/3917 [==============================] - 9s 2ms/step - loss: 0.4053 - accuracy: 0.8284 - val_loss: 0.9257 - val_accuracy: 0.5069\n",
            "Epoch 49/100\n",
            "3917/3917 [==============================] - 9s 2ms/step - loss: 0.4046 - accuracy: 0.8275 - val_loss: 0.8396 - val_accuracy: 0.5609\n",
            "Epoch 50/100\n",
            "3917/3917 [==============================] - 9s 2ms/step - loss: 0.4041 - accuracy: 0.8284 - val_loss: 1.0412 - val_accuracy: 0.4537\n",
            "Epoch 51/100\n",
            "3917/3917 [==============================] - 9s 2ms/step - loss: 0.4041 - accuracy: 0.8292 - val_loss: 0.9933 - val_accuracy: 0.4645\n",
            "Epoch 52/100\n",
            "3917/3917 [==============================] - 9s 2ms/step - loss: 0.4035 - accuracy: 0.8293 - val_loss: 0.9291 - val_accuracy: 0.4985\n",
            "Epoch 53/100\n",
            "3917/3917 [==============================] - 9s 2ms/step - loss: 0.4027 - accuracy: 0.8289 - val_loss: 1.0401 - val_accuracy: 0.4515\n",
            "Epoch 54/100\n",
            "3917/3917 [==============================] - 9s 2ms/step - loss: 0.4027 - accuracy: 0.8291 - val_loss: 0.9805 - val_accuracy: 0.4841\n",
            "Epoch 55/100\n",
            "3917/3917 [==============================] - 9s 2ms/step - loss: 0.4022 - accuracy: 0.8300 - val_loss: 0.9327 - val_accuracy: 0.5240\n",
            "Epoch 56/100\n",
            "3917/3917 [==============================] - 10s 2ms/step - loss: 0.4020 - accuracy: 0.8294 - val_loss: 0.9254 - val_accuracy: 0.5052\n",
            "Epoch 57/100\n",
            "3917/3917 [==============================] - 9s 2ms/step - loss: 0.4016 - accuracy: 0.8306 - val_loss: 1.0654 - val_accuracy: 0.4530\n",
            "Epoch 58/100\n",
            "3917/3917 [==============================] - 9s 2ms/step - loss: 0.4010 - accuracy: 0.8297 - val_loss: 0.8675 - val_accuracy: 0.5351\n",
            "Epoch 59/100\n",
            "3917/3917 [==============================] - 9s 2ms/step - loss: 0.4005 - accuracy: 0.8303 - val_loss: 0.8239 - val_accuracy: 0.5480\n",
            "Epoch 60/100\n",
            "3917/3917 [==============================] - 9s 2ms/step - loss: 0.4004 - accuracy: 0.8307 - val_loss: 0.8414 - val_accuracy: 0.5356\n",
            "Epoch 61/100\n",
            "3917/3917 [==============================] - 9s 2ms/step - loss: 0.4000 - accuracy: 0.8308 - val_loss: 0.8967 - val_accuracy: 0.5102\n",
            "Epoch 62/100\n",
            "3917/3917 [==============================] - 9s 2ms/step - loss: 0.3996 - accuracy: 0.8307 - val_loss: 0.9437 - val_accuracy: 0.4834\n",
            "Epoch 63/100\n",
            "3917/3917 [==============================] - 10s 2ms/step - loss: 0.3993 - accuracy: 0.8302 - val_loss: 0.9292 - val_accuracy: 0.5092\n",
            "Epoch 64/100\n",
            "3917/3917 [==============================] - 9s 2ms/step - loss: 0.3987 - accuracy: 0.8325 - val_loss: 0.8903 - val_accuracy: 0.5069\n",
            "Epoch 65/100\n",
            "3917/3917 [==============================] - 9s 2ms/step - loss: 0.3987 - accuracy: 0.8311 - val_loss: 0.9318 - val_accuracy: 0.5147\n",
            "Epoch 66/100\n",
            "3917/3917 [==============================] - 9s 2ms/step - loss: 0.3979 - accuracy: 0.8309 - val_loss: 0.7467 - val_accuracy: 0.5889\n",
            "Epoch 67/100\n",
            "3917/3917 [==============================] - 9s 2ms/step - loss: 0.3979 - accuracy: 0.8313 - val_loss: 0.7977 - val_accuracy: 0.5646\n",
            "Epoch 68/100\n",
            "3917/3917 [==============================] - 9s 2ms/step - loss: 0.3973 - accuracy: 0.8315 - val_loss: 1.0538 - val_accuracy: 0.4542\n",
            "Epoch 69/100\n",
            "3917/3917 [==============================] - 9s 2ms/step - loss: 0.3967 - accuracy: 0.8320 - val_loss: 0.8778 - val_accuracy: 0.5275\n",
            "Epoch 70/100\n",
            "3917/3917 [==============================] - 12s 3ms/step - loss: 0.3966 - accuracy: 0.8318 - val_loss: 0.9353 - val_accuracy: 0.5018\n",
            "Epoch 71/100\n",
            "3917/3917 [==============================] - 9s 2ms/step - loss: 0.3961 - accuracy: 0.8320 - val_loss: 0.9038 - val_accuracy: 0.5129\n",
            "Epoch 72/100\n",
            "3917/3917 [==============================] - 9s 2ms/step - loss: 0.3960 - accuracy: 0.8321 - val_loss: 0.7709 - val_accuracy: 0.5720\n",
            "Epoch 73/100\n",
            "3917/3917 [==============================] - 9s 2ms/step - loss: 0.3953 - accuracy: 0.8333 - val_loss: 0.9024 - val_accuracy: 0.5179\n",
            "Epoch 74/100\n",
            "3917/3917 [==============================] - 9s 2ms/step - loss: 0.3961 - accuracy: 0.8320 - val_loss: 0.7991 - val_accuracy: 0.5615\n",
            "Epoch 75/100\n",
            "3917/3917 [==============================] - 9s 2ms/step - loss: 0.3956 - accuracy: 0.8331 - val_loss: 0.9146 - val_accuracy: 0.5060\n",
            "Epoch 76/100\n",
            "3917/3917 [==============================] - 9s 2ms/step - loss: 0.3947 - accuracy: 0.8331 - val_loss: 0.8153 - val_accuracy: 0.5650\n",
            "Epoch 77/100\n",
            "3917/3917 [==============================] - 10s 3ms/step - loss: 0.3948 - accuracy: 0.8344 - val_loss: 0.9135 - val_accuracy: 0.5272\n",
            "Epoch 78/100\n",
            "3917/3917 [==============================] - 9s 2ms/step - loss: 0.3939 - accuracy: 0.8333 - val_loss: 0.7720 - val_accuracy: 0.5675\n",
            "Epoch 79/100\n",
            "3917/3917 [==============================] - 10s 2ms/step - loss: 0.3939 - accuracy: 0.8329 - val_loss: 0.9722 - val_accuracy: 0.4927\n",
            "Epoch 80/100\n",
            "3917/3917 [==============================] - 9s 2ms/step - loss: 0.3934 - accuracy: 0.8335 - val_loss: 0.9684 - val_accuracy: 0.5046\n",
            "Epoch 81/100\n",
            "3917/3917 [==============================] - 10s 2ms/step - loss: 0.3934 - accuracy: 0.8336 - val_loss: 0.7222 - val_accuracy: 0.5872\n",
            "Epoch 82/100\n",
            "3917/3917 [==============================] - 9s 2ms/step - loss: 0.3930 - accuracy: 0.8343 - val_loss: 0.8354 - val_accuracy: 0.5419\n",
            "Epoch 83/100\n",
            "3917/3917 [==============================] - 10s 2ms/step - loss: 0.3928 - accuracy: 0.8345 - val_loss: 0.8716 - val_accuracy: 0.5466\n",
            "Epoch 84/100\n",
            "3917/3917 [==============================] - 10s 3ms/step - loss: 0.3924 - accuracy: 0.8340 - val_loss: 0.8000 - val_accuracy: 0.5609\n",
            "Epoch 85/100\n",
            "3917/3917 [==============================] - 9s 2ms/step - loss: 0.3923 - accuracy: 0.8343 - val_loss: 0.8829 - val_accuracy: 0.5300\n",
            "Epoch 86/100\n",
            "3917/3917 [==============================] - 9s 2ms/step - loss: 0.3916 - accuracy: 0.8343 - val_loss: 0.8506 - val_accuracy: 0.5442\n",
            "Epoch 87/100\n",
            "3917/3917 [==============================] - 9s 2ms/step - loss: 0.3918 - accuracy: 0.8346 - val_loss: 0.8326 - val_accuracy: 0.5388\n",
            "Epoch 88/100\n",
            "3917/3917 [==============================] - 9s 2ms/step - loss: 0.3918 - accuracy: 0.8358 - val_loss: 0.8598 - val_accuracy: 0.5186\n",
            "Epoch 89/100\n",
            "3917/3917 [==============================] - 9s 2ms/step - loss: 0.3908 - accuracy: 0.8347 - val_loss: 0.8123 - val_accuracy: 0.5637\n",
            "Epoch 90/100\n",
            "3917/3917 [==============================] - 9s 2ms/step - loss: 0.3910 - accuracy: 0.8355 - val_loss: 0.8657 - val_accuracy: 0.5430\n",
            "Epoch 91/100\n",
            "3917/3917 [==============================] - 9s 2ms/step - loss: 0.3906 - accuracy: 0.8358 - val_loss: 0.7879 - val_accuracy: 0.5654\n",
            "Epoch 92/100\n",
            "3917/3917 [==============================] - 9s 2ms/step - loss: 0.3903 - accuracy: 0.8355 - val_loss: 0.8554 - val_accuracy: 0.5225\n",
            "Epoch 93/100\n",
            "3917/3917 [==============================] - 9s 2ms/step - loss: 0.3901 - accuracy: 0.8354 - val_loss: 0.8849 - val_accuracy: 0.5182\n",
            "Epoch 94/100\n",
            "3917/3917 [==============================] - 9s 2ms/step - loss: 0.3899 - accuracy: 0.8358 - val_loss: 0.8665 - val_accuracy: 0.5339\n",
            "Epoch 95/100\n",
            "3917/3917 [==============================] - 9s 2ms/step - loss: 0.3892 - accuracy: 0.8354 - val_loss: 1.0429 - val_accuracy: 0.4960\n",
            "Epoch 96/100\n",
            "3917/3917 [==============================] - 9s 2ms/step - loss: 0.3894 - accuracy: 0.8363 - val_loss: 0.7812 - val_accuracy: 0.5782\n",
            "Epoch 97/100\n",
            "3917/3917 [==============================] - 9s 2ms/step - loss: 0.3891 - accuracy: 0.8364 - val_loss: 0.9740 - val_accuracy: 0.4966\n",
            "Epoch 98/100\n",
            "3917/3917 [==============================] - 9s 2ms/step - loss: 0.3892 - accuracy: 0.8356 - val_loss: 0.9066 - val_accuracy: 0.5218\n",
            "Epoch 99/100\n",
            "3917/3917 [==============================] - 10s 2ms/step - loss: 0.3889 - accuracy: 0.8359 - val_loss: 0.8094 - val_accuracy: 0.5699\n",
            "Epoch 100/100\n",
            "3917/3917 [==============================] - 9s 2ms/step - loss: 0.3884 - accuracy: 0.8365 - val_loss: 0.9199 - val_accuracy: 0.5153\n"
          ]
        }
      ]
    },
    {
      "cell_type": "code",
      "source": [
        "plt.plot(model_history.history['accuracy'])\n",
        "plt.plot(model_history.history['val_accuracy'])\n",
        "plt.title('Model accuracy Vs Epochs')\n",
        "plt.ylabel('Accuracy')\n",
        "plt.xlabel('Epoch')\n",
        "plt.legend(['Train', 'Validation'], loc='upper left')\n",
        "plt.show()\n",
        "\n",
        "# summarize history for loss\n",
        "plt.plot(model_history.history['loss'])\n",
        "plt.plot(model_history.history['val_loss'])\n",
        "plt.title('Model loss Vs Loss')\n",
        "plt.ylabel('Loss')\n",
        "plt.xlabel('Epoch')\n",
        "plt.legend(['Train', 'Validation'], loc='upper left')\n",
        "plt.show()"
      ],
      "metadata": {
        "id": "laylygLdKv-4",
        "outputId": "1a08d0e8-1c50-4df4-dc48-0f8506efbf13",
        "colab": {
          "base_uri": "https://localhost:8080/",
          "height": 573
        }
      },
      "execution_count": 24,
      "outputs": [
        {
          "output_type": "display_data",
          "data": {
            "text/plain": [
              "<Figure size 432x288 with 1 Axes>"
            ],
            "image/png": "[encoded data removed]"
          },
          "metadata": {
            "needs_background": "light"
          }
        },
        {
          "output_type": "display_data",
          "data": {
            "text/plain": [
              "<Figure size 432x288 with 1 Axes>"
            ],
            "image/png": "[encoded data removed]"
          },
          "metadata": {
            "needs_background": "light"
          }
        }
      ]
    },
    {
      "cell_type": "code",
      "source": [
        "df_raw_2 = pd.get_dummies(x)\n",
        "\n",
        "df_raw_2 = df_raw_2.drop(['marital_unknown', 'default_unknown', 'housing_unknown', \n",
        "                        'loan_unknown', 'edu_new_unknown', 'job_new_unknown',\n",
        "                        'day_of_week_fri', 'day_of_week_mon', 'day_of_week_thu',\n",
        "                        'day_of_week_tue', 'day_of_week_wed', 'season_winter'], axis=1)\n",
        "df_raw_2.shape"
      ],
      "metadata": {
        "id": "wgVWz8JnxupQ",
        "outputId": "ed2e90d2-4223-4a6f-8512-c442069d2ecb",
        "colab": {
          "base_uri": "https://localhost:8080/"
        }
      },
      "execution_count": 31,
      "outputs": [
        {
          "output_type": "execute_result",
          "data": {
            "text/plain": [
              "(41170, 32)"
            ]
          },
          "metadata": {},
          "execution_count": 31
        }
      ]
    },
    {
      "cell_type": "code",
      "source": [
        "scaler = MinMaxScaler()\n",
        "x_2 = scaler.fit_transform(df_raw_2)"
      ],
      "metadata": {
        "id": "3IYAMEnuxuh7"
      },
      "execution_count": 32,
      "outputs": []
    },
    {
      "cell_type": "code",
      "source": [
        "x_train2,x_test2,y_train2,y_test2 = train_test_split(x_2, y, test_size = 0.2, random_state=42)\n",
        "#take out stratify approach\n",
        "print(x_train2.shape,\n",
        "      x_test2.shape,\n",
        "      y_train2.shape,\n",
        "      y_test2.shape)"
      ],
      "metadata": {
        "id": "6A9S3Bw8xufV",
        "outputId": "bd0ae2a2-6f14-4859-b8cd-7765ed7de127",
        "colab": {
          "base_uri": "https://localhost:8080/"
        }
      },
      "execution_count": 33,
      "outputs": [
        {
          "output_type": "stream",
          "name": "stdout",
          "text": [
            "(32936, 32) (8234, 32) (32936,) (8234,)\n"
          ]
        }
      ]
    },
    {
      "cell_type": "code",
      "source": [
        "smote = SMOTE()\n",
        "\n",
        "x_s2, y_s2 = smote.fit_resample(x_train2, y_train2)\n",
        "\n",
        "print('Original dataset shape', len(x_train2))\n",
        "print('Resampled dataset shape', len(x_s2))"
      ],
      "metadata": {
        "id": "Ik5Knb6cxucf",
        "outputId": "88d105f2-b6a5-48d6-9e59-9309532eae11",
        "colab": {
          "base_uri": "https://localhost:8080/"
        }
      },
      "execution_count": 34,
      "outputs": [
        {
          "output_type": "stream",
          "name": "stdout",
          "text": [
            "Original dataset shape 32936\n",
            "Resampled dataset shape 58454\n"
          ]
        }
      ]
    },
    {
      "cell_type": "code",
      "source": [
        "model2 = Sequential()\n",
        "model2.add(Dense(units = 32, activation='relu',input_dim = x_s2.shape[1]))\n",
        "model2.add(Dense(units = 8 ,activation='relu'))\n",
        "model2.add(Dense(units = 1, activation = 'sigmoid'))"
      ],
      "metadata": {
        "id": "HWka2I2XxuSp"
      },
      "execution_count": 35,
      "outputs": []
    },
    {
      "cell_type": "code",
      "source": [
        "model2.compile(optimizer = 'rmsprop', loss = 'binary_crossentropy', metrics = ['accuracy'])\n",
        "model2.summary()"
      ],
      "metadata": {
        "id": "FDkIWEyUPLJL",
        "outputId": "d27efca9-eb2f-4848-c2fc-226354160c72",
        "colab": {
          "base_uri": "https://localhost:8080/"
        }
      },
      "execution_count": 37,
      "outputs": [
        {
          "output_type": "stream",
          "name": "stdout",
          "text": [
            "Model: \"sequential_1\"\n",
            "_________________________________________________________________\n",
            " Layer (type)                Output Shape              Param #   \n",
            "=================================================================\n",
            " dense_3 (Dense)             (None, 32)                1056      \n",
            "                                                                 \n",
            " dense_4 (Dense)             (None, 8)                 264       \n",
            "                                                                 \n",
            " dense_5 (Dense)             (None, 1)                 9         \n",
            "                                                                 \n",
            "=================================================================\n",
            "Total params: 1,329\n",
            "Trainable params: 1,329\n",
            "Non-trainable params: 0\n",
            "_________________________________________________________________\n"
          ]
        }
      ]
    },
    {
      "cell_type": "code",
      "source": [
        "model_history = model2.fit(x_s2, y_s2,validation_split=0.33, batch_size = 10, epochs = 100)"
      ],
      "metadata": {
        "id": "CzNsCGG1PLGl",
        "outputId": "2f08b3dc-5fd9-47ec-faec-6152908f16b2",
        "colab": {
          "base_uri": "https://localhost:8080/"
        }
      },
      "execution_count": 39,
      "outputs": [
        {
          "output_type": "stream",
          "name": "stdout",
          "text": [
            "Epoch 1/100\n",
            "3917/3917 [==============================] - 11s 3ms/step - loss: 0.4553 - accuracy: 0.8039 - val_loss: 1.0788 - val_accuracy: 0.4351\n",
            "Epoch 2/100\n",
            "3917/3917 [==============================] - 9s 2ms/step - loss: 0.4455 - accuracy: 0.8123 - val_loss: 1.0900 - val_accuracy: 0.4706\n",
            "Epoch 3/100\n",
            "3917/3917 [==============================] - 9s 2ms/step - loss: 0.4442 - accuracy: 0.8136 - val_loss: 1.0664 - val_accuracy: 0.4440\n",
            "Epoch 4/100\n",
            "3917/3917 [==============================] - 9s 2ms/step - loss: 0.4431 - accuracy: 0.8146 - val_loss: 0.9814 - val_accuracy: 0.4891\n",
            "Epoch 5/100\n",
            "3917/3917 [==============================] - 9s 2ms/step - loss: 0.4434 - accuracy: 0.8145 - val_loss: 0.9772 - val_accuracy: 0.4958\n",
            "Epoch 6/100\n",
            "3917/3917 [==============================] - 9s 2ms/step - loss: 0.4430 - accuracy: 0.8152 - val_loss: 1.1326 - val_accuracy: 0.4478\n",
            "Epoch 7/100\n",
            "3917/3917 [==============================] - 9s 2ms/step - loss: 0.4425 - accuracy: 0.8149 - val_loss: 1.0255 - val_accuracy: 0.4448\n",
            "Epoch 8/100\n",
            "3917/3917 [==============================] - 10s 3ms/step - loss: 0.4415 - accuracy: 0.8154 - val_loss: 1.0195 - val_accuracy: 0.4950\n",
            "Epoch 9/100\n",
            "3917/3917 [==============================] - 10s 2ms/step - loss: 0.4419 - accuracy: 0.8166 - val_loss: 0.9156 - val_accuracy: 0.5182\n",
            "Epoch 10/100\n",
            "3917/3917 [==============================] - 9s 2ms/step - loss: 0.4414 - accuracy: 0.8159 - val_loss: 1.1296 - val_accuracy: 0.4722\n",
            "Epoch 11/100\n",
            "3917/3917 [==============================] - 9s 2ms/step - loss: 0.4414 - accuracy: 0.8152 - val_loss: 0.9779 - val_accuracy: 0.4988\n",
            "Epoch 12/100\n",
            "3917/3917 [==============================] - 9s 2ms/step - loss: 0.4412 - accuracy: 0.8162 - val_loss: 0.9629 - val_accuracy: 0.5089\n",
            "Epoch 13/100\n",
            "3917/3917 [==============================] - 9s 2ms/step - loss: 0.4414 - accuracy: 0.8168 - val_loss: 1.0315 - val_accuracy: 0.4603\n",
            "Epoch 14/100\n",
            "3917/3917 [==============================] - 9s 2ms/step - loss: 0.4405 - accuracy: 0.8169 - val_loss: 0.9694 - val_accuracy: 0.4699\n",
            "Epoch 15/100\n",
            "3917/3917 [==============================] - 9s 2ms/step - loss: 0.4401 - accuracy: 0.8165 - val_loss: 1.1467 - val_accuracy: 0.4214\n",
            "Epoch 16/100\n",
            "3917/3917 [==============================] - 9s 2ms/step - loss: 0.4398 - accuracy: 0.8169 - val_loss: 1.0920 - val_accuracy: 0.4378\n",
            "Epoch 17/100\n",
            "3917/3917 [==============================] - 9s 2ms/step - loss: 0.4400 - accuracy: 0.8182 - val_loss: 1.0735 - val_accuracy: 0.4377\n",
            "Epoch 18/100\n",
            "3917/3917 [==============================] - 9s 2ms/step - loss: 0.4400 - accuracy: 0.8172 - val_loss: 0.9407 - val_accuracy: 0.4614\n",
            "Epoch 19/100\n",
            "3917/3917 [==============================] - 9s 2ms/step - loss: 0.4391 - accuracy: 0.8178 - val_loss: 1.0489 - val_accuracy: 0.4453\n",
            "Epoch 20/100\n",
            "3917/3917 [==============================] - 9s 2ms/step - loss: 0.4394 - accuracy: 0.8178 - val_loss: 1.0469 - val_accuracy: 0.4689\n",
            "Epoch 21/100\n",
            "3917/3917 [==============================] - 9s 2ms/step - loss: 0.4385 - accuracy: 0.8189 - val_loss: 1.0165 - val_accuracy: 0.4713\n",
            "Epoch 22/100\n",
            "3917/3917 [==============================] - 9s 2ms/step - loss: 0.4388 - accuracy: 0.8178 - val_loss: 1.0051 - val_accuracy: 0.4829\n",
            "Epoch 23/100\n",
            "3917/3917 [==============================] - 11s 3ms/step - loss: 0.4387 - accuracy: 0.8198 - val_loss: 1.1025 - val_accuracy: 0.4325\n",
            "Epoch 24/100\n",
            "3917/3917 [==============================] - 9s 2ms/step - loss: 0.4383 - accuracy: 0.8195 - val_loss: 0.9548 - val_accuracy: 0.4998\n",
            "Epoch 25/100\n",
            "3917/3917 [==============================] - 9s 2ms/step - loss: 0.4389 - accuracy: 0.8204 - val_loss: 1.1222 - val_accuracy: 0.4325\n",
            "Epoch 26/100\n",
            "3917/3917 [==============================] - 9s 2ms/step - loss: 0.4385 - accuracy: 0.8188 - val_loss: 1.1077 - val_accuracy: 0.4180\n",
            "Epoch 27/100\n",
            "3917/3917 [==============================] - 9s 2ms/step - loss: 0.4380 - accuracy: 0.8198 - val_loss: 1.0530 - val_accuracy: 0.4703\n",
            "Epoch 28/100\n",
            "3917/3917 [==============================] - 9s 2ms/step - loss: 0.4378 - accuracy: 0.8198 - val_loss: 1.0734 - val_accuracy: 0.4809\n",
            "Epoch 29/100\n",
            "3917/3917 [==============================] - 9s 2ms/step - loss: 0.4372 - accuracy: 0.8203 - val_loss: 1.1328 - val_accuracy: 0.4446\n",
            "Epoch 30/100\n",
            "3917/3917 [==============================] - 12s 3ms/step - loss: 0.4374 - accuracy: 0.8204 - val_loss: 1.0659 - val_accuracy: 0.4580\n",
            "Epoch 31/100\n",
            "3917/3917 [==============================] - 9s 2ms/step - loss: 0.4377 - accuracy: 0.8222 - val_loss: 0.9603 - val_accuracy: 0.4954\n",
            "Epoch 32/100\n",
            "3917/3917 [==============================] - 9s 2ms/step - loss: 0.4372 - accuracy: 0.8210 - val_loss: 1.0736 - val_accuracy: 0.4334\n",
            "Epoch 33/100\n",
            "3917/3917 [==============================] - 9s 2ms/step - loss: 0.4368 - accuracy: 0.8212 - val_loss: 1.0610 - val_accuracy: 0.4463\n",
            "Epoch 34/100\n",
            "3917/3917 [==============================] - 9s 2ms/step - loss: 0.4365 - accuracy: 0.8221 - val_loss: 0.9603 - val_accuracy: 0.4962\n",
            "Epoch 35/100\n",
            "3917/3917 [==============================] - 9s 2ms/step - loss: 0.4360 - accuracy: 0.8225 - val_loss: 1.0034 - val_accuracy: 0.4543\n",
            "Epoch 36/100\n",
            "3917/3917 [==============================] - 9s 2ms/step - loss: 0.4358 - accuracy: 0.8230 - val_loss: 0.8899 - val_accuracy: 0.5250\n",
            "Epoch 37/100\n",
            "3917/3917 [==============================] - 9s 2ms/step - loss: 0.4363 - accuracy: 0.8225 - val_loss: 1.0035 - val_accuracy: 0.4997\n",
            "Epoch 38/100\n",
            "3917/3917 [==============================] - 10s 2ms/step - loss: 0.4356 - accuracy: 0.8229 - val_loss: 1.0599 - val_accuracy: 0.4614\n",
            "Epoch 39/100\n",
            "3917/3917 [==============================] - 9s 2ms/step - loss: 0.4360 - accuracy: 0.8221 - val_loss: 0.8581 - val_accuracy: 0.5470\n",
            "Epoch 40/100\n",
            "3917/3917 [==============================] - 9s 2ms/step - loss: 0.4362 - accuracy: 0.8223 - val_loss: 0.9371 - val_accuracy: 0.5552\n",
            "Epoch 41/100\n",
            "3917/3917 [==============================] - 9s 2ms/step - loss: 0.4353 - accuracy: 0.8228 - val_loss: 1.1278 - val_accuracy: 0.4368\n",
            "Epoch 42/100\n",
            "3917/3917 [==============================] - 9s 2ms/step - loss: 0.4355 - accuracy: 0.8246 - val_loss: 1.0100 - val_accuracy: 0.4459\n",
            "Epoch 43/100\n",
            "3917/3917 [==============================] - 10s 3ms/step - loss: 0.4353 - accuracy: 0.8236 - val_loss: 0.9878 - val_accuracy: 0.5135\n",
            "Epoch 44/100\n",
            "3917/3917 [==============================] - 10s 2ms/step - loss: 0.4362 - accuracy: 0.8247 - val_loss: 0.9760 - val_accuracy: 0.4890\n",
            "Epoch 45/100\n",
            "3917/3917 [==============================] - 10s 3ms/step - loss: 0.4359 - accuracy: 0.8229 - val_loss: 1.0580 - val_accuracy: 0.4775\n",
            "Epoch 46/100\n",
            "3917/3917 [==============================] - 10s 2ms/step - loss: 0.4371 - accuracy: 0.8243 - val_loss: 0.9063 - val_accuracy: 0.5531\n",
            "Epoch 47/100\n",
            "3917/3917 [==============================] - 9s 2ms/step - loss: 0.4364 - accuracy: 0.8241 - val_loss: 1.0959 - val_accuracy: 0.4345\n",
            "Epoch 48/100\n",
            "3917/3917 [==============================] - 9s 2ms/step - loss: 0.4362 - accuracy: 0.8245 - val_loss: 1.0575 - val_accuracy: 0.4446\n",
            "Epoch 49/100\n",
            "3917/3917 [==============================] - 9s 2ms/step - loss: 0.4354 - accuracy: 0.8240 - val_loss: 0.8835 - val_accuracy: 0.5508\n",
            "Epoch 50/100\n",
            "3917/3917 [==============================] - 9s 2ms/step - loss: 0.4362 - accuracy: 0.8230 - val_loss: 0.9609 - val_accuracy: 0.4650\n",
            "Epoch 51/100\n",
            "3917/3917 [==============================] - 9s 2ms/step - loss: 0.4361 - accuracy: 0.8248 - val_loss: 0.9528 - val_accuracy: 0.4591\n",
            "Epoch 52/100\n",
            "3917/3917 [==============================] - 9s 2ms/step - loss: 0.4361 - accuracy: 0.8239 - val_loss: 1.1164 - val_accuracy: 0.4880\n",
            "Epoch 53/100\n",
            "3917/3917 [==============================] - 10s 3ms/step - loss: 0.4377 - accuracy: 0.8247 - val_loss: 0.9647 - val_accuracy: 0.5207\n",
            "Epoch 54/100\n",
            "3917/3917 [==============================] - 9s 2ms/step - loss: 0.4369 - accuracy: 0.8245 - val_loss: 0.9421 - val_accuracy: 0.5244\n",
            "Epoch 55/100\n",
            "3917/3917 [==============================] - 9s 2ms/step - loss: 0.4366 - accuracy: 0.8252 - val_loss: 0.9357 - val_accuracy: 0.5248\n",
            "Epoch 56/100\n",
            "3917/3917 [==============================] - 9s 2ms/step - loss: 0.4361 - accuracy: 0.8251 - val_loss: 0.9322 - val_accuracy: 0.5446\n",
            "Epoch 57/100\n",
            "3917/3917 [==============================] - 9s 2ms/step - loss: 0.4367 - accuracy: 0.8244 - val_loss: 0.8606 - val_accuracy: 0.5419\n",
            "Epoch 58/100\n",
            "3917/3917 [==============================] - 9s 2ms/step - loss: 0.4361 - accuracy: 0.8245 - val_loss: 1.1088 - val_accuracy: 0.4884\n",
            "Epoch 59/100\n",
            "3917/3917 [==============================] - 9s 2ms/step - loss: 0.4360 - accuracy: 0.8249 - val_loss: 0.9054 - val_accuracy: 0.5150\n",
            "Epoch 60/100\n",
            "3917/3917 [==============================] - 10s 3ms/step - loss: 0.4367 - accuracy: 0.8247 - val_loss: 1.1334 - val_accuracy: 0.4474\n",
            "Epoch 61/100\n",
            "3917/3917 [==============================] - 9s 2ms/step - loss: 0.4366 - accuracy: 0.8245 - val_loss: 0.9378 - val_accuracy: 0.5253\n",
            "Epoch 62/100\n",
            "3917/3917 [==============================] - 10s 2ms/step - loss: 0.4368 - accuracy: 0.8247 - val_loss: 0.9409 - val_accuracy: 0.5347\n",
            "Epoch 63/100\n",
            "3917/3917 [==============================] - 9s 2ms/step - loss: 0.4368 - accuracy: 0.8245 - val_loss: 1.0679 - val_accuracy: 0.4632\n",
            "Epoch 64/100\n",
            "3917/3917 [==============================] - 9s 2ms/step - loss: 0.4380 - accuracy: 0.8237 - val_loss: 1.0502 - val_accuracy: 0.4881\n",
            "Epoch 65/100\n",
            "3917/3917 [==============================] - 9s 2ms/step - loss: 0.4377 - accuracy: 0.8239 - val_loss: 1.0792 - val_accuracy: 0.4697\n",
            "Epoch 66/100\n",
            "3917/3917 [==============================] - 9s 2ms/step - loss: 0.4381 - accuracy: 0.8244 - val_loss: 0.9074 - val_accuracy: 0.4963\n",
            "Epoch 67/100\n",
            "3917/3917 [==============================] - 12s 3ms/step - loss: 0.4386 - accuracy: 0.8246 - val_loss: 1.0069 - val_accuracy: 0.4837\n",
            "Epoch 68/100\n",
            "3917/3917 [==============================] - 9s 2ms/step - loss: 0.4387 - accuracy: 0.8247 - val_loss: 1.0638 - val_accuracy: 0.4712\n",
            "Epoch 69/100\n",
            "3917/3917 [==============================] - 9s 2ms/step - loss: 0.4389 - accuracy: 0.8233 - val_loss: 1.0233 - val_accuracy: 0.5186\n",
            "Epoch 70/100\n",
            "3917/3917 [==============================] - 9s 2ms/step - loss: 0.4373 - accuracy: 0.8244 - val_loss: 1.0249 - val_accuracy: 0.4943\n",
            "Epoch 71/100\n",
            "3917/3917 [==============================] - 9s 2ms/step - loss: 0.4383 - accuracy: 0.8247 - val_loss: 0.9764 - val_accuracy: 0.4782\n",
            "Epoch 72/100\n",
            "3917/3917 [==============================] - 9s 2ms/step - loss: 0.4384 - accuracy: 0.8240 - val_loss: 0.9485 - val_accuracy: 0.5062\n",
            "Epoch 73/100\n",
            "3917/3917 [==============================] - 9s 2ms/step - loss: 0.4395 - accuracy: 0.8247 - val_loss: 0.9867 - val_accuracy: 0.4843\n",
            "Epoch 74/100\n",
            "3917/3917 [==============================] - 9s 2ms/step - loss: 0.4376 - accuracy: 0.8247 - val_loss: 1.0086 - val_accuracy: 0.5197\n",
            "Epoch 75/100\n",
            "3917/3917 [==============================] - 11s 3ms/step - loss: 0.4387 - accuracy: 0.8253 - val_loss: 1.0869 - val_accuracy: 0.4548\n",
            "Epoch 76/100\n",
            "3917/3917 [==============================] - 9s 2ms/step - loss: 0.4393 - accuracy: 0.8243 - val_loss: 0.9307 - val_accuracy: 0.4636\n",
            "Epoch 77/100\n",
            "3917/3917 [==============================] - 9s 2ms/step - loss: 0.4383 - accuracy: 0.8247 - val_loss: 1.0543 - val_accuracy: 0.4764\n",
            "Epoch 78/100\n",
            "3917/3917 [==============================] - 9s 2ms/step - loss: 0.4393 - accuracy: 0.8250 - val_loss: 1.0702 - val_accuracy: 0.4646\n",
            "Epoch 79/100\n",
            "3917/3917 [==============================] - 9s 2ms/step - loss: 0.4381 - accuracy: 0.8245 - val_loss: 1.1439 - val_accuracy: 0.4772\n",
            "Epoch 80/100\n",
            "3917/3917 [==============================] - 9s 2ms/step - loss: 0.4380 - accuracy: 0.8251 - val_loss: 1.0353 - val_accuracy: 0.5117\n",
            "Epoch 81/100\n",
            "3917/3917 [==============================] - 9s 2ms/step - loss: 0.4384 - accuracy: 0.8248 - val_loss: 1.0576 - val_accuracy: 0.4617\n",
            "Epoch 82/100\n",
            "3917/3917 [==============================] - 10s 3ms/step - loss: 0.4398 - accuracy: 0.8254 - val_loss: 0.9940 - val_accuracy: 0.5152\n",
            "Epoch 83/100\n",
            "3917/3917 [==============================] - 10s 2ms/step - loss: 0.4368 - accuracy: 0.8245 - val_loss: 1.0808 - val_accuracy: 0.4809\n",
            "Epoch 84/100\n",
            "3917/3917 [==============================] - 10s 2ms/step - loss: 0.4372 - accuracy: 0.8253 - val_loss: 1.0567 - val_accuracy: 0.5044\n",
            "Epoch 85/100\n",
            "3917/3917 [==============================] - 9s 2ms/step - loss: 0.4383 - accuracy: 0.8254 - val_loss: 1.0321 - val_accuracy: 0.4691\n",
            "Epoch 86/100\n",
            "3917/3917 [==============================] - 9s 2ms/step - loss: 0.4381 - accuracy: 0.8253 - val_loss: 1.0202 - val_accuracy: 0.4905\n",
            "Epoch 87/100\n",
            "3917/3917 [==============================] - 9s 2ms/step - loss: 0.4388 - accuracy: 0.8253 - val_loss: 1.0453 - val_accuracy: 0.5086\n",
            "Epoch 88/100\n",
            "3917/3917 [==============================] - 9s 2ms/step - loss: 0.4376 - accuracy: 0.8259 - val_loss: 0.9961 - val_accuracy: 0.4559\n",
            "Epoch 89/100\n",
            "3917/3917 [==============================] - 9s 2ms/step - loss: 0.4387 - accuracy: 0.8248 - val_loss: 0.9421 - val_accuracy: 0.5081\n",
            "Epoch 90/100\n",
            "3917/3917 [==============================] - 10s 3ms/step - loss: 0.4404 - accuracy: 0.8257 - val_loss: 0.9938 - val_accuracy: 0.4713\n",
            "Epoch 91/100\n",
            "3917/3917 [==============================] - 10s 2ms/step - loss: 0.4405 - accuracy: 0.8250 - val_loss: 1.0137 - val_accuracy: 0.4700\n",
            "Epoch 92/100\n",
            "3917/3917 [==============================] - 10s 2ms/step - loss: 0.4410 - accuracy: 0.8247 - val_loss: 1.0202 - val_accuracy: 0.5047\n",
            "Epoch 93/100\n",
            "3917/3917 [==============================] - 9s 2ms/step - loss: 0.4397 - accuracy: 0.8253 - val_loss: 0.9030 - val_accuracy: 0.5262\n",
            "Epoch 94/100\n",
            "3917/3917 [==============================] - 9s 2ms/step - loss: 0.4386 - accuracy: 0.8256 - val_loss: 1.0432 - val_accuracy: 0.4612\n",
            "Epoch 95/100\n",
            "3917/3917 [==============================] - 9s 2ms/step - loss: 0.4410 - accuracy: 0.8250 - val_loss: 1.1068 - val_accuracy: 0.4828\n",
            "Epoch 96/100\n",
            "3917/3917 [==============================] - 9s 2ms/step - loss: 0.4392 - accuracy: 0.8258 - val_loss: 1.1999 - val_accuracy: 0.4045\n",
            "Epoch 97/100\n",
            "3917/3917 [==============================] - 10s 3ms/step - loss: 0.4409 - accuracy: 0.8251 - val_loss: 0.8737 - val_accuracy: 0.5590\n",
            "Epoch 98/100\n",
            "3917/3917 [==============================] - 18s 5ms/step - loss: 0.4395 - accuracy: 0.8252 - val_loss: 1.0198 - val_accuracy: 0.5020\n",
            "Epoch 99/100\n",
            "3917/3917 [==============================] - 15s 4ms/step - loss: 0.4397 - accuracy: 0.8253 - val_loss: 0.9248 - val_accuracy: 0.5112\n",
            "Epoch 100/100\n",
            "3917/3917 [==============================] - 11s 3ms/step - loss: 0.4409 - accuracy: 0.8264 - val_loss: 1.1172 - val_accuracy: 0.4997\n"
          ]
        }
      ]
    },
    {
      "cell_type": "code",
      "source": [
        "plt.plot(model_history.history['accuracy'])\n",
        "plt.plot(model_history.history['val_accuracy'])\n",
        "plt.title('Model accuracy Vs Epochs')\n",
        "plt.ylabel('Accuracy')\n",
        "plt.xlabel('Epoch')\n",
        "plt.legend(['Train', 'Validation'], loc='upper left')\n",
        "plt.show()\n",
        "\n",
        "# summarize history for loss\n",
        "plt.plot(model_history.history['loss'])\n",
        "plt.plot(model_history.history['val_loss'])\n",
        "plt.title('Model loss Vs Loss')\n",
        "plt.ylabel('Loss')\n",
        "plt.xlabel('Epoch')\n",
        "plt.legend(['Train', 'Validation'], loc='upper left')\n",
        "plt.show()"
      ],
      "metadata": {
        "id": "bK77u8LpPLDq",
        "outputId": "762dbcb3-246d-43fc-c97f-bb7d3787c4a4",
        "colab": {
          "base_uri": "https://localhost:8080/",
          "height": 573
        }
      },
      "execution_count": 40,
      "outputs": [
        {
          "output_type": "display_data",
          "data": {
            "text/plain": [
              "<Figure size 432x288 with 1 Axes>"
            ],
            "image/png": "[encoded data removed]"
          },
          "metadata": {
            "needs_background": "light"
          }
        },
        {
          "output_type": "display_data",
          "data": {
            "text/plain": [
              "<Figure size 432x288 with 1 Axes>"
            ],
            "image/png": "[encoded data removed]"
          },
          "metadata": {
            "needs_background": "light"
          }
        }
      ]
    },
    {
      "cell_type": "code",
      "source": [
        "data_dur = data_1.copy()"
      ],
      "metadata": {
        "id": "vcVhlgDjTi_N"
      },
      "execution_count": 41,
      "outputs": []
    },
    {
      "cell_type": "code",
      "source": [
        "df_dur = data_dur[['age', 'marital', 'default', 'housing', 'loan',\n",
        "       'contact', 'day_of_week', 'duration', 'campaign', 'pdays',\n",
        "       'previous', 'poutcome', 'emp.var.rate', 'cons.price.idx',\n",
        "       'cons.conf.idx', 'euribor3m', 'nr.employed', 'y', 'edu_new', 'job_new', 'season']]"
      ],
      "metadata": {
        "id": "wLXfPrt-VJvb"
      },
      "execution_count": 46,
      "outputs": []
    },
    {
      "cell_type": "code",
      "source": [
        "y = df_dur['y'].apply(lambda x: 0 if x=='no' else (1 if x=='yes' else -1))\n",
        "y.value_counts()"
      ],
      "metadata": {
        "colab": {
          "base_uri": "https://localhost:8080/"
        },
        "outputId": "eee43ac1-4f69-4a69-d291-e2a8649c76a8",
        "id": "MbeVWpWkUE0T"
      },
      "execution_count": 47,
      "outputs": [
        {
          "output_type": "execute_result",
          "data": {
            "text/plain": [
              "0    36534\n",
              "1     4636\n",
              "Name: y, dtype: int64"
            ]
          },
          "metadata": {},
          "execution_count": 47
        }
      ]
    },
    {
      "cell_type": "code",
      "source": [
        "x = df_dur.drop('y', axis=1)"
      ],
      "metadata": {
        "id": "mzDat0xBUE0Y"
      },
      "execution_count": 48,
      "outputs": []
    },
    {
      "cell_type": "code",
      "source": [
        "df_raw_3 = pd.get_dummies(x)\n",
        "df_raw_3.columns"
      ],
      "metadata": {
        "colab": {
          "base_uri": "https://localhost:8080/"
        },
        "outputId": "a1629540-9cd2-460a-f87b-568bdc6982a5",
        "id": "NFqU45YXUE0Y"
      },
      "execution_count": 49,
      "outputs": [
        {
          "output_type": "execute_result",
          "data": {
            "text/plain": [
              "Index(['age', 'duration', 'campaign', 'pdays', 'previous', 'emp.var.rate',\n",
              "       'cons.price.idx', 'cons.conf.idx', 'euribor3m', 'nr.employed',\n",
              "       'marital_divorced', 'marital_married', 'marital_single',\n",
              "       'marital_unknown', 'default_no', 'default_unknown', 'default_yes',\n",
              "       'housing_no', 'housing_unknown', 'housing_yes', 'loan_no',\n",
              "       'loan_unknown', 'loan_yes', 'contact_cellular', 'contact_telephone',\n",
              "       'day_of_week_fri', 'day_of_week_mon', 'day_of_week_thu',\n",
              "       'day_of_week_tue', 'day_of_week_wed', 'poutcome_failure',\n",
              "       'poutcome_nonexistent', 'poutcome_success', 'edu_new_high',\n",
              "       'edu_new_post_high', 'edu_new_pre_high', 'edu_new_unknown',\n",
              "       'job_new_blue_collar', 'job_new_not_working', 'job_new_unknown',\n",
              "       'job_new_white_collar', 'season_fall', 'season_spring', 'season_summer',\n",
              "       'season_winter'],\n",
              "      dtype='object')"
            ]
          },
          "metadata": {},
          "execution_count": 49
        }
      ]
    },
    {
      "cell_type": "code",
      "source": [
        "#drop the unknow columns as they are correlated to other categories\n",
        "\n",
        "df_raw_3 = df_raw_3.drop(['marital_unknown', 'default_unknown', 'housing_unknown', \n",
        "                        'loan_unknown', 'edu_new_unknown', 'job_new_unknown',\n",
        "                        'day_of_week_fri', 'day_of_week_mon', 'day_of_week_thu',\n",
        "                        'day_of_week_tue', 'day_of_week_wed', 'season_winter'], axis=1)\n",
        "df_raw_3.shape"
      ],
      "metadata": {
        "colab": {
          "base_uri": "https://localhost:8080/"
        },
        "outputId": "b0a4becd-521f-4e9d-ccd0-fe473eb9bdae",
        "id": "wO62Mes-UE0Y"
      },
      "execution_count": 50,
      "outputs": [
        {
          "output_type": "execute_result",
          "data": {
            "text/plain": [
              "(41170, 33)"
            ]
          },
          "metadata": {},
          "execution_count": 50
        }
      ]
    },
    {
      "cell_type": "code",
      "source": [
        "from sklearn.preprocessing import MinMaxScaler\n",
        "\n",
        "scaler = MinMaxScaler()\n",
        "x_3 = scaler.fit_transform(df_raw_3)"
      ],
      "metadata": {
        "id": "neeP31eoUE0Y"
      },
      "execution_count": 51,
      "outputs": []
    },
    {
      "cell_type": "code",
      "source": [
        "x_3"
      ],
      "metadata": {
        "colab": {
          "base_uri": "https://localhost:8080/"
        },
        "outputId": "13cb92c2-7d2e-4604-a800-ebc6fb8f9c2a",
        "id": "kQ6VYWXvUE0Y"
      },
      "execution_count": 52,
      "outputs": [
        {
          "output_type": "execute_result",
          "data": {
            "text/plain": [
              "array([[0.48148148, 0.05307035, 0.        , ..., 0.        , 1.        ,\n",
              "        0.        ],\n",
              "       [0.49382716, 0.03029687, 0.        , ..., 0.        , 1.        ,\n",
              "        0.        ],\n",
              "       [0.24691358, 0.04595364, 0.        , ..., 0.        , 1.        ,\n",
              "        0.        ],\n",
              "       ...,\n",
              "       [0.48148148, 0.03843026, 0.01818182, ..., 1.        , 0.        ,\n",
              "        0.        ],\n",
              "       [0.33333333, 0.08987393, 0.        , ..., 1.        , 0.        ,\n",
              "        0.        ],\n",
              "       [0.7037037 , 0.04859699, 0.03636364, ..., 1.        , 0.        ,\n",
              "        0.        ]])"
            ]
          },
          "metadata": {},
          "execution_count": 52
        }
      ]
    },
    {
      "cell_type": "code",
      "source": [
        "#here i used stratified sampling approach, since the raw data is not balanced distributed\n",
        "x_train3,x_test3,y_train3,y_test3 = train_test_split(x_3, y, test_size = 0.2, stratify=y, random_state=42)\n",
        "print(x_train3.shape,\n",
        "      x_test3.shape,\n",
        "      y_train3.shape,\n",
        "      y_test3.shape)"
      ],
      "metadata": {
        "colab": {
          "base_uri": "https://localhost:8080/"
        },
        "outputId": "b68f634a-9fea-4bae-c9cc-8440098b1f6d",
        "id": "saWxXeLYUE0Y"
      },
      "execution_count": 54,
      "outputs": [
        {
          "output_type": "stream",
          "name": "stdout",
          "text": [
            "(32936, 33) (8234, 33) (32936,) (8234,)\n"
          ]
        }
      ]
    },
    {
      "cell_type": "code",
      "source": [
        "import imblearn\n",
        "\n",
        "smote = SMOTE()\n",
        "\n",
        "x_s3, y_s3 = smote.fit_resample(x_train3, y_train3)\n",
        "\n",
        "print('Original dataset shape', len(x_train3))\n",
        "print('Resampled dataset shape', len(x_s3))"
      ],
      "metadata": {
        "colab": {
          "base_uri": "https://localhost:8080/"
        },
        "outputId": "2573ba0b-2a97-414e-ee48-b398cc9bdfe7",
        "id": "uO6WCWboUE0Y"
      },
      "execution_count": 55,
      "outputs": [
        {
          "output_type": "stream",
          "name": "stdout",
          "text": [
            "Original dataset shape 32936\n",
            "Resampled dataset shape 58454\n"
          ]
        }
      ]
    },
    {
      "cell_type": "code",
      "source": [
        "y_s3.value_counts()"
      ],
      "metadata": {
        "colab": {
          "base_uri": "https://localhost:8080/"
        },
        "outputId": "e4896ada-0a99-43a5-d079-3423b60958ab",
        "id": "JTql9XhgUE0Z"
      },
      "execution_count": 56,
      "outputs": [
        {
          "output_type": "execute_result",
          "data": {
            "text/plain": [
              "0    29227\n",
              "1    29227\n",
              "Name: y, dtype: int64"
            ]
          },
          "metadata": {},
          "execution_count": 56
        }
      ]
    },
    {
      "cell_type": "code",
      "source": [
        "model3 = Sequential()\n",
        "model3.add(Dense(units = 32, kernel_initializer = 'he_uniform',activation='relu',input_dim = x_s3.shape[1]))\n",
        "model3.add(Dense(units = 8, kernel_initializer = 'he_uniform',activation='relu'))\n",
        "model3.add(Dense(units = 1, kernel_initializer = 'glorot_uniform', activation = 'sigmoid'))"
      ],
      "metadata": {
        "id": "0S1ZU2mSUE0Z"
      },
      "execution_count": 57,
      "outputs": []
    },
    {
      "cell_type": "code",
      "source": [
        "model3.compile(optimizer = 'adamax', loss = 'binary_crossentropy', metrics = ['accuracy'])\n",
        "model3.summary()"
      ],
      "metadata": {
        "colab": {
          "base_uri": "https://localhost:8080/"
        },
        "outputId": "98a8c6d3-3350-4af2-8360-7270560567ec",
        "id": "SSC4xbnoUE0Z"
      },
      "execution_count": 58,
      "outputs": [
        {
          "output_type": "stream",
          "name": "stdout",
          "text": [
            "Model: \"sequential_2\"\n",
            "_________________________________________________________________\n",
            " Layer (type)                Output Shape              Param #   \n",
            "=================================================================\n",
            " dense_6 (Dense)             (None, 32)                1088      \n",
            "                                                                 \n",
            " dense_7 (Dense)             (None, 8)                 264       \n",
            "                                                                 \n",
            " dense_8 (Dense)             (None, 1)                 9         \n",
            "                                                                 \n",
            "=================================================================\n",
            "Total params: 1,361\n",
            "Trainable params: 1,361\n",
            "Non-trainable params: 0\n",
            "_________________________________________________________________\n"
          ]
        }
      ]
    },
    {
      "cell_type": "code",
      "source": [
        "model_history = model3.fit(x_s3, y_s3,validation_split=0.33, batch_size = 10, epochs = 100)"
      ],
      "metadata": {
        "colab": {
          "base_uri": "https://localhost:8080/"
        },
        "outputId": "d4d636c2-c159-48a7-d009-7d46a879a45f",
        "id": "l3NcDBIeUE0Z"
      },
      "execution_count": 59,
      "outputs": [
        {
          "output_type": "stream",
          "name": "stdout",
          "text": [
            "Epoch 1/100\n",
            "3917/3917 [==============================] - 10s 2ms/step - loss: 0.4405 - accuracy: 0.8008 - val_loss: 0.9075 - val_accuracy: 0.4571\n",
            "Epoch 2/100\n",
            "3917/3917 [==============================] - 9s 2ms/step - loss: 0.3598 - accuracy: 0.8285 - val_loss: 0.6827 - val_accuracy: 0.5924\n",
            "Epoch 3/100\n",
            "3917/3917 [==============================] - 9s 2ms/step - loss: 0.3084 - accuracy: 0.8588 - val_loss: 0.5271 - val_accuracy: 0.7297\n",
            "Epoch 4/100\n",
            "3917/3917 [==============================] - 10s 2ms/step - loss: 0.2905 - accuracy: 0.8705 - val_loss: 0.5001 - val_accuracy: 0.7663\n",
            "Epoch 5/100\n",
            "3917/3917 [==============================] - 12s 3ms/step - loss: 0.2830 - accuracy: 0.8744 - val_loss: 0.5311 - val_accuracy: 0.7497\n",
            "Epoch 6/100\n",
            "3917/3917 [==============================] - 9s 2ms/step - loss: 0.2771 - accuracy: 0.8764 - val_loss: 0.5308 - val_accuracy: 0.7509\n",
            "Epoch 7/100\n",
            "3917/3917 [==============================] - 9s 2ms/step - loss: 0.2736 - accuracy: 0.8767 - val_loss: 0.4727 - val_accuracy: 0.7933\n",
            "Epoch 8/100\n",
            "3917/3917 [==============================] - 9s 2ms/step - loss: 0.2701 - accuracy: 0.8773 - val_loss: 0.5699 - val_accuracy: 0.7300\n",
            "Epoch 9/100\n",
            "3917/3917 [==============================] - 9s 2ms/step - loss: 0.2676 - accuracy: 0.8786 - val_loss: 0.4858 - val_accuracy: 0.7904\n",
            "Epoch 10/100\n",
            "3917/3917 [==============================] - 9s 2ms/step - loss: 0.2647 - accuracy: 0.8802 - val_loss: 0.5482 - val_accuracy: 0.7596\n",
            "Epoch 11/100\n",
            "3917/3917 [==============================] - 8s 2ms/step - loss: 0.2630 - accuracy: 0.8809 - val_loss: 0.4512 - val_accuracy: 0.8182\n",
            "Epoch 12/100\n",
            "3917/3917 [==============================] - 9s 2ms/step - loss: 0.2607 - accuracy: 0.8805 - val_loss: 0.4651 - val_accuracy: 0.8125\n",
            "Epoch 13/100\n",
            "3917/3917 [==============================] - 9s 2ms/step - loss: 0.2588 - accuracy: 0.8810 - val_loss: 0.3305 - val_accuracy: 0.9088\n",
            "Epoch 14/100\n",
            "3917/3917 [==============================] - 9s 2ms/step - loss: 0.2571 - accuracy: 0.8813 - val_loss: 0.3873 - val_accuracy: 0.8669\n",
            "Epoch 15/100\n",
            "3917/3917 [==============================] - 9s 2ms/step - loss: 0.2559 - accuracy: 0.8809 - val_loss: 0.4967 - val_accuracy: 0.7939\n",
            "Epoch 16/100\n",
            "3917/3917 [==============================] - 9s 2ms/step - loss: 0.2546 - accuracy: 0.8831 - val_loss: 0.4398 - val_accuracy: 0.8296\n",
            "Epoch 17/100\n",
            "3917/3917 [==============================] - 9s 2ms/step - loss: 0.2530 - accuracy: 0.8831 - val_loss: 0.3852 - val_accuracy: 0.8691\n",
            "Epoch 18/100\n",
            "3917/3917 [==============================] - 9s 2ms/step - loss: 0.2522 - accuracy: 0.8822 - val_loss: 0.4581 - val_accuracy: 0.8174\n",
            "Epoch 19/100\n",
            "3917/3917 [==============================] - 9s 2ms/step - loss: 0.2512 - accuracy: 0.8826 - val_loss: 0.3991 - val_accuracy: 0.8589\n",
            "Epoch 20/100\n",
            "3917/3917 [==============================] - 10s 2ms/step - loss: 0.2506 - accuracy: 0.8845 - val_loss: 0.3920 - val_accuracy: 0.8615\n",
            "Epoch 21/100\n",
            "3917/3917 [==============================] - 9s 2ms/step - loss: 0.2500 - accuracy: 0.8839 - val_loss: 0.4694 - val_accuracy: 0.8104\n",
            "Epoch 22/100\n",
            "3917/3917 [==============================] - 9s 2ms/step - loss: 0.2488 - accuracy: 0.8842 - val_loss: 0.4096 - val_accuracy: 0.8591\n",
            "Epoch 23/100\n",
            "3917/3917 [==============================] - 9s 2ms/step - loss: 0.2482 - accuracy: 0.8845 - val_loss: 0.4618 - val_accuracy: 0.8164\n",
            "Epoch 24/100\n",
            "3917/3917 [==============================] - 10s 2ms/step - loss: 0.2480 - accuracy: 0.8844 - val_loss: 0.4726 - val_accuracy: 0.8158\n",
            "Epoch 25/100\n",
            "3917/3917 [==============================] - 9s 2ms/step - loss: 0.2467 - accuracy: 0.8858 - val_loss: 0.3836 - val_accuracy: 0.8615\n",
            "Epoch 26/100\n",
            "3917/3917 [==============================] - 10s 2ms/step - loss: 0.2467 - accuracy: 0.8849 - val_loss: 0.4735 - val_accuracy: 0.8124\n",
            "Epoch 27/100\n",
            "3917/3917 [==============================] - 9s 2ms/step - loss: 0.2456 - accuracy: 0.8851 - val_loss: 0.4482 - val_accuracy: 0.8210\n",
            "Epoch 28/100\n",
            "3917/3917 [==============================] - 10s 3ms/step - loss: 0.2452 - accuracy: 0.8855 - val_loss: 0.4005 - val_accuracy: 0.8572\n",
            "Epoch 29/100\n",
            "3917/3917 [==============================] - 9s 2ms/step - loss: 0.2445 - accuracy: 0.8856 - val_loss: 0.4445 - val_accuracy: 0.8298\n",
            "Epoch 30/100\n",
            "3917/3917 [==============================] - 9s 2ms/step - loss: 0.2440 - accuracy: 0.8867 - val_loss: 0.4311 - val_accuracy: 0.8340\n",
            "Epoch 31/100\n",
            "3917/3917 [==============================] - 9s 2ms/step - loss: 0.2438 - accuracy: 0.8863 - val_loss: 0.4085 - val_accuracy: 0.8531\n",
            "Epoch 32/100\n",
            "3917/3917 [==============================] - 9s 2ms/step - loss: 0.2430 - accuracy: 0.8865 - val_loss: 0.4380 - val_accuracy: 0.8299\n",
            "Epoch 33/100\n",
            "3917/3917 [==============================] - 9s 2ms/step - loss: 0.2430 - accuracy: 0.8856 - val_loss: 0.4021 - val_accuracy: 0.8564\n",
            "Epoch 34/100\n",
            "3917/3917 [==============================] - 9s 2ms/step - loss: 0.2423 - accuracy: 0.8872 - val_loss: 0.3196 - val_accuracy: 0.9146\n",
            "Epoch 35/100\n",
            "3917/3917 [==============================] - 9s 2ms/step - loss: 0.2426 - accuracy: 0.8878 - val_loss: 0.4334 - val_accuracy: 0.8345\n",
            "Epoch 36/100\n",
            "3917/3917 [==============================] - 10s 2ms/step - loss: 0.2423 - accuracy: 0.8881 - val_loss: 0.4412 - val_accuracy: 0.8291\n",
            "Epoch 37/100\n",
            "3917/3917 [==============================] - 9s 2ms/step - loss: 0.2414 - accuracy: 0.8880 - val_loss: 0.4009 - val_accuracy: 0.8598\n",
            "Epoch 38/100\n",
            "3917/3917 [==============================] - 9s 2ms/step - loss: 0.2411 - accuracy: 0.8889 - val_loss: 0.4177 - val_accuracy: 0.8471\n",
            "Epoch 39/100\n",
            "3917/3917 [==============================] - 9s 2ms/step - loss: 0.2407 - accuracy: 0.8884 - val_loss: 0.4799 - val_accuracy: 0.8104\n",
            "Epoch 40/100\n",
            "3917/3917 [==============================] - 9s 2ms/step - loss: 0.2405 - accuracy: 0.8883 - val_loss: 0.4528 - val_accuracy: 0.8224\n",
            "Epoch 41/100\n",
            "3917/3917 [==============================] - 9s 2ms/step - loss: 0.2404 - accuracy: 0.8884 - val_loss: 0.3995 - val_accuracy: 0.8610\n",
            "Epoch 42/100\n",
            "3917/3917 [==============================] - 9s 2ms/step - loss: 0.2397 - accuracy: 0.8888 - val_loss: 0.3913 - val_accuracy: 0.8659\n",
            "Epoch 43/100\n",
            "3917/3917 [==============================] - 9s 2ms/step - loss: 0.2394 - accuracy: 0.8892 - val_loss: 0.4931 - val_accuracy: 0.7927\n",
            "Epoch 44/100\n",
            "3917/3917 [==============================] - 10s 2ms/step - loss: 0.2395 - accuracy: 0.8886 - val_loss: 0.4866 - val_accuracy: 0.7980\n",
            "Epoch 45/100\n",
            "3917/3917 [==============================] - 9s 2ms/step - loss: 0.2387 - accuracy: 0.8889 - val_loss: 0.3920 - val_accuracy: 0.8661\n",
            "Epoch 46/100\n",
            "3917/3917 [==============================] - 9s 2ms/step - loss: 0.2384 - accuracy: 0.8898 - val_loss: 0.4042 - val_accuracy: 0.8622\n",
            "Epoch 47/100\n",
            "3917/3917 [==============================] - 9s 2ms/step - loss: 0.2379 - accuracy: 0.8908 - val_loss: 0.3811 - val_accuracy: 0.8734\n",
            "Epoch 48/100\n",
            "3917/3917 [==============================] - 9s 2ms/step - loss: 0.2383 - accuracy: 0.8897 - val_loss: 0.4101 - val_accuracy: 0.8520\n",
            "Epoch 49/100\n",
            "3917/3917 [==============================] - 9s 2ms/step - loss: 0.2377 - accuracy: 0.8901 - val_loss: 0.4141 - val_accuracy: 0.8514\n",
            "Epoch 50/100\n",
            "3917/3917 [==============================] - 9s 2ms/step - loss: 0.2371 - accuracy: 0.8909 - val_loss: 0.4077 - val_accuracy: 0.8569\n",
            "Epoch 51/100\n",
            "3917/3917 [==============================] - 10s 2ms/step - loss: 0.2369 - accuracy: 0.8905 - val_loss: 0.3355 - val_accuracy: 0.9015\n",
            "Epoch 52/100\n",
            "3917/3917 [==============================] - 9s 2ms/step - loss: 0.2365 - accuracy: 0.8904 - val_loss: 0.3832 - val_accuracy: 0.8686\n",
            "Epoch 53/100\n",
            "3917/3917 [==============================] - 9s 2ms/step - loss: 0.2360 - accuracy: 0.8914 - val_loss: 0.4663 - val_accuracy: 0.8080\n",
            "Epoch 54/100\n",
            "3917/3917 [==============================] - 9s 2ms/step - loss: 0.2359 - accuracy: 0.8905 - val_loss: 0.5013 - val_accuracy: 0.7977\n",
            "Epoch 55/100\n",
            "3917/3917 [==============================] - 9s 2ms/step - loss: 0.2361 - accuracy: 0.8904 - val_loss: 0.3824 - val_accuracy: 0.8716\n",
            "Epoch 56/100\n",
            "3917/3917 [==============================] - 9s 2ms/step - loss: 0.2351 - accuracy: 0.8918 - val_loss: 0.4476 - val_accuracy: 0.8258\n",
            "Epoch 57/100\n",
            "3917/3917 [==============================] - 9s 2ms/step - loss: 0.2354 - accuracy: 0.8916 - val_loss: 0.4045 - val_accuracy: 0.8533\n",
            "Epoch 58/100\n",
            "3917/3917 [==============================] - 9s 2ms/step - loss: 0.2352 - accuracy: 0.8913 - val_loss: 0.3624 - val_accuracy: 0.8873\n",
            "Epoch 59/100\n",
            "3917/3917 [==============================] - 10s 3ms/step - loss: 0.2348 - accuracy: 0.8912 - val_loss: 0.4796 - val_accuracy: 0.8046\n",
            "Epoch 60/100\n",
            "3917/3917 [==============================] - 9s 2ms/step - loss: 0.2345 - accuracy: 0.8917 - val_loss: 0.4106 - val_accuracy: 0.8529\n",
            "Epoch 61/100\n",
            "3917/3917 [==============================] - 9s 2ms/step - loss: 0.2340 - accuracy: 0.8921 - val_loss: 0.3734 - val_accuracy: 0.8742\n",
            "Epoch 62/100\n",
            "3917/3917 [==============================] - 9s 2ms/step - loss: 0.2343 - accuracy: 0.8921 - val_loss: 0.3521 - val_accuracy: 0.8843\n",
            "Epoch 63/100\n",
            "3917/3917 [==============================] - 9s 2ms/step - loss: 0.2343 - accuracy: 0.8925 - val_loss: 0.4350 - val_accuracy: 0.8370\n",
            "Epoch 64/100\n",
            "3917/3917 [==============================] - 9s 2ms/step - loss: 0.2335 - accuracy: 0.8922 - val_loss: 0.4056 - val_accuracy: 0.8528\n",
            "Epoch 65/100\n",
            "3917/3917 [==============================] - 9s 2ms/step - loss: 0.2338 - accuracy: 0.8919 - val_loss: 0.4020 - val_accuracy: 0.8585\n",
            "Epoch 66/100\n",
            "3917/3917 [==============================] - 9s 2ms/step - loss: 0.2333 - accuracy: 0.8918 - val_loss: 0.4317 - val_accuracy: 0.8343\n",
            "Epoch 67/100\n",
            "3917/3917 [==============================] - 10s 3ms/step - loss: 0.2332 - accuracy: 0.8921 - val_loss: 0.3736 - val_accuracy: 0.8754\n",
            "Epoch 68/100\n",
            "3917/3917 [==============================] - 9s 2ms/step - loss: 0.2331 - accuracy: 0.8921 - val_loss: 0.4115 - val_accuracy: 0.8480\n",
            "Epoch 69/100\n",
            "3917/3917 [==============================] - 9s 2ms/step - loss: 0.2326 - accuracy: 0.8929 - val_loss: 0.3737 - val_accuracy: 0.8757\n",
            "Epoch 70/100\n",
            "3917/3917 [==============================] - 9s 2ms/step - loss: 0.2319 - accuracy: 0.8927 - val_loss: 0.4306 - val_accuracy: 0.8337\n",
            "Epoch 71/100\n",
            "3917/3917 [==============================] - 9s 2ms/step - loss: 0.2322 - accuracy: 0.8920 - val_loss: 0.4288 - val_accuracy: 0.8388\n",
            "Epoch 72/100\n",
            "3917/3917 [==============================] - 9s 2ms/step - loss: 0.2323 - accuracy: 0.8914 - val_loss: 0.3608 - val_accuracy: 0.8829\n",
            "Epoch 73/100\n",
            "3917/3917 [==============================] - 9s 2ms/step - loss: 0.2322 - accuracy: 0.8927 - val_loss: 0.4380 - val_accuracy: 0.8326\n",
            "Epoch 74/100\n",
            "3917/3917 [==============================] - 10s 2ms/step - loss: 0.2319 - accuracy: 0.8932 - val_loss: 0.4391 - val_accuracy: 0.8310\n",
            "Epoch 75/100\n",
            "3917/3917 [==============================] - 10s 3ms/step - loss: 0.2313 - accuracy: 0.8943 - val_loss: 0.4565 - val_accuracy: 0.8181\n",
            "Epoch 76/100\n",
            "3917/3917 [==============================] - 9s 2ms/step - loss: 0.2317 - accuracy: 0.8942 - val_loss: 0.3591 - val_accuracy: 0.8900\n",
            "Epoch 77/100\n",
            "3917/3917 [==============================] - 9s 2ms/step - loss: 0.2309 - accuracy: 0.8940 - val_loss: 0.3660 - val_accuracy: 0.8796\n",
            "Epoch 78/100\n",
            "3917/3917 [==============================] - 9s 2ms/step - loss: 0.2312 - accuracy: 0.8933 - val_loss: 0.3570 - val_accuracy: 0.8896\n",
            "Epoch 79/100\n",
            "3917/3917 [==============================] - 9s 2ms/step - loss: 0.2308 - accuracy: 0.8931 - val_loss: 0.3675 - val_accuracy: 0.8804\n",
            "Epoch 80/100\n",
            "3917/3917 [==============================] - 9s 2ms/step - loss: 0.2304 - accuracy: 0.8936 - val_loss: 0.3662 - val_accuracy: 0.8804\n",
            "Epoch 81/100\n",
            "3917/3917 [==============================] - 9s 2ms/step - loss: 0.2305 - accuracy: 0.8941 - val_loss: 0.3528 - val_accuracy: 0.8815\n",
            "Epoch 82/100\n",
            "3917/3917 [==============================] - 12s 3ms/step - loss: 0.2307 - accuracy: 0.8936 - val_loss: 0.4084 - val_accuracy: 0.8579\n",
            "Epoch 83/100\n",
            "3917/3917 [==============================] - 9s 2ms/step - loss: 0.2305 - accuracy: 0.8939 - val_loss: 0.3523 - val_accuracy: 0.8868\n",
            "Epoch 84/100\n",
            "3917/3917 [==============================] - 9s 2ms/step - loss: 0.2300 - accuracy: 0.8941 - val_loss: 0.3346 - val_accuracy: 0.9020\n",
            "Epoch 85/100\n",
            "3917/3917 [==============================] - 9s 2ms/step - loss: 0.2301 - accuracy: 0.8944 - val_loss: 0.3272 - val_accuracy: 0.9101\n",
            "Epoch 86/100\n",
            "3917/3917 [==============================] - 9s 2ms/step - loss: 0.2296 - accuracy: 0.8938 - val_loss: 0.3798 - val_accuracy: 0.8731\n",
            "Epoch 87/100\n",
            "3917/3917 [==============================] - 9s 2ms/step - loss: 0.2294 - accuracy: 0.8954 - val_loss: 0.4509 - val_accuracy: 0.8233\n",
            "Epoch 88/100\n",
            "3917/3917 [==============================] - 9s 2ms/step - loss: 0.2294 - accuracy: 0.8948 - val_loss: 0.3760 - val_accuracy: 0.8697\n",
            "Epoch 89/100\n",
            "3917/3917 [==============================] - 9s 2ms/step - loss: 0.2293 - accuracy: 0.8945 - val_loss: 0.5103 - val_accuracy: 0.7815\n",
            "Epoch 90/100\n",
            "3917/3917 [==============================] - 10s 3ms/step - loss: 0.2291 - accuracy: 0.8942 - val_loss: 0.3643 - val_accuracy: 0.8806\n",
            "Epoch 91/100\n",
            "3917/3917 [==============================] - 9s 2ms/step - loss: 0.2292 - accuracy: 0.8948 - val_loss: 0.4258 - val_accuracy: 0.8377\n",
            "Epoch 92/100\n",
            "3917/3917 [==============================] - 9s 2ms/step - loss: 0.2290 - accuracy: 0.8944 - val_loss: 0.4524 - val_accuracy: 0.8198\n",
            "Epoch 93/100\n",
            "3917/3917 [==============================] - 9s 2ms/step - loss: 0.2289 - accuracy: 0.8935 - val_loss: 0.3950 - val_accuracy: 0.8565\n",
            "Epoch 94/100\n",
            "3917/3917 [==============================] - 9s 2ms/step - loss: 0.2284 - accuracy: 0.8955 - val_loss: 0.3856 - val_accuracy: 0.8697\n",
            "Epoch 95/100\n",
            "3917/3917 [==============================] - 9s 2ms/step - loss: 0.2282 - accuracy: 0.8949 - val_loss: 0.3521 - val_accuracy: 0.8907\n",
            "Epoch 96/100\n",
            "3917/3917 [==============================] - 9s 2ms/step - loss: 0.2282 - accuracy: 0.8946 - val_loss: 0.4321 - val_accuracy: 0.8380\n",
            "Epoch 97/100\n",
            "3917/3917 [==============================] - 9s 2ms/step - loss: 0.2281 - accuracy: 0.8961 - val_loss: 0.4198 - val_accuracy: 0.8478\n",
            "Epoch 98/100\n",
            "3917/3917 [==============================] - 10s 3ms/step - loss: 0.2281 - accuracy: 0.8946 - val_loss: 0.3972 - val_accuracy: 0.8571\n",
            "Epoch 99/100\n",
            "3917/3917 [==============================] - 9s 2ms/step - loss: 0.2279 - accuracy: 0.8963 - val_loss: 0.4906 - val_accuracy: 0.7943\n",
            "Epoch 100/100\n",
            "3917/3917 [==============================] - 9s 2ms/step - loss: 0.2280 - accuracy: 0.8957 - val_loss: 0.4125 - val_accuracy: 0.8469\n"
          ]
        }
      ]
    },
    {
      "cell_type": "code",
      "source": [
        "plt.plot(model_history.history['accuracy'])\n",
        "plt.plot(model_history.history['val_accuracy'])\n",
        "plt.title('Model accuracy Vs Epochs')\n",
        "plt.ylabel('Accuracy')\n",
        "plt.xlabel('Epoch')\n",
        "plt.legend(['Train', 'Validation'], loc='upper left')\n",
        "plt.show()\n",
        "\n",
        "# summarize history for loss\n",
        "plt.plot(model_history.history['loss'])\n",
        "plt.plot(model_history.history['val_loss'])\n",
        "plt.title('Model loss Vs Loss')\n",
        "plt.ylabel('Loss')\n",
        "plt.xlabel('Epoch')\n",
        "plt.legend(['Train', 'Validation'], loc='upper left')\n",
        "plt.show()"
      ],
      "metadata": {
        "id": "V7Vvo2WBZFXJ",
        "outputId": "66bb5bd8-d488-48ed-d693-f10f6c02bb7d",
        "colab": {
          "base_uri": "https://localhost:8080/",
          "height": 573
        }
      },
      "execution_count": 60,
      "outputs": [
        {
          "output_type": "display_data",
          "data": {
            "text/plain": [
              "<Figure size 432x288 with 1 Axes>"
            ],
            "image/png": "[encoded data removed]"
          },
          "metadata": {
            "needs_background": "light"
          }
        },
        {
          "output_type": "display_data",
          "data": {
            "text/plain": [
              "<Figure size 432x288 with 1 Axes>"
            ],
            "image/png": "[encoded data removed]"
          },
          "metadata": {
            "needs_background": "light"
          }
        }
      ]
    },
    {
      "cell_type": "markdown",
      "source": [
        "### Data Transformation - V2 (Shawn's attempt based on FAMDD analysis)\n",
        "##### if you are focusing on the agreed v1, feel free to skip this part, just want to experiment, may not have too signficant impact"
      ],
      "metadata": {
        "id": "iKeAt0u-dBqG"
      }
    },
    {
      "cell_type": "code",
      "source": [
        "data_2 = data.copy()"
      ],
      "metadata": {
        "id": "ELvn6Bt2cxhJ"
      },
      "execution_count": null,
      "outputs": []
    },
    {
      "cell_type": "code",
      "source": [
        "#findings from FAMD analysis\n",
        "# there is significant distinguishablity for feature - poutcome / contact / default, so no need to combine any features\n",
        "# job -> separate student and retired stand alone as they are distinguished from others\n",
        "# housing, loan are alomost overlapping for all segment, not meaningful to consolidate"
      ],
      "metadata": {
        "id": "RScox9ZLd0au"
      },
      "execution_count": null,
      "outputs": []
    },
    {
      "cell_type": "code",
      "source": [
        "data_2['edu_new'] = data_2['education'].map({'basic.4y': 'pre_colleage', \n",
        "                                         'basic.9y': 'pre_colleage',\n",
        "                                         'basic.6y': 'pre_colleage',\n",
        "                                         'university.degree' : 'post_colleage',\n",
        "                                         'professional.course':'post_colleage',\n",
        "                                         'illiterate': 'illiterate',\n",
        "                                         'high.school' : 'pre_colleage',\n",
        "                                         'unknown' :'unknown' })\n",
        "\n",
        "data_2['edu_new'].value_counts(dropna = False)"
      ],
      "metadata": {
        "colab": {
          "base_uri": "https://localhost:8080/"
        },
        "id": "5SbiP-TcdkBc",
        "outputId": "3dd27012-0129-4a8f-a02e-93f61cccb2ce"
      },
      "execution_count": null,
      "outputs": [
        {
          "output_type": "execute_result",
          "data": {
            "text/plain": [
              "pre_colleage     22028\n",
              "post_colleage    17411\n",
              "unknown           1731\n",
              "illiterate          18\n",
              "Name: edu_new, dtype: int64"
            ]
          },
          "metadata": {},
          "execution_count": 23
        }
      ]
    },
    {
      "cell_type": "code",
      "source": [
        "def map_job_2(row):\n",
        "    if row['job'] in ['admin.', 'management', 'entrepreneur','self-employed', 'housemaid', 'blue-collar', 'technician', 'services', 'unemployed']:\n",
        "        cat = 'others'\n",
        "    elif row['job'] in ['retired']:\n",
        "        cat = 'retired'\n",
        "    elif row['job'] in ['student']:\n",
        "        cat = 'student'\n",
        "    else:\n",
        "        cat = 'unknown'\n",
        "    return cat\n",
        "\n",
        "data_2['job_new'] = data_2.apply(map_job_2, axis=1)\n",
        "data_2['job_new'].value_counts(dropna = False)"
      ],
      "metadata": {
        "colab": {
          "base_uri": "https://localhost:8080/"
        },
        "id": "bKtVzvLcdj-z",
        "outputId": "a5172cea-8cee-4ca9-abde-dffedf3f923b"
      },
      "execution_count": null,
      "outputs": [
        {
          "output_type": "execute_result",
          "data": {
            "text/plain": [
              "others     38263\n",
              "retired     1720\n",
              "student      875\n",
              "unknown      330\n",
              "Name: job_new, dtype: int64"
            ]
          },
          "metadata": {},
          "execution_count": 24
        }
      ]
    },
    {
      "cell_type": "code",
      "source": [
        "def map_marri(row):\n",
        "    if row['job'] in ['divorced', 'married', 'unknown']:\n",
        "        cat = 'not_single'\n",
        "    else:\n",
        "        cat = 'single'\n",
        "    return cat\n",
        "\n",
        "data_2['marr_new'] = data_2.apply(map_marri, axis=1)\n",
        "data_2['marr_new'].value_counts(dropna = False)"
      ],
      "metadata": {
        "colab": {
          "base_uri": "https://localhost:8080/"
        },
        "id": "vH-Od9nCdj8N",
        "outputId": "79c3e67b-2818-4d6e-dc39-4cd8e69ca1ec"
      },
      "execution_count": null,
      "outputs": [
        {
          "output_type": "execute_result",
          "data": {
            "text/plain": [
              "single        40858\n",
              "not_single      330\n",
              "Name: marr_new, dtype: int64"
            ]
          },
          "metadata": {},
          "execution_count": 28
        }
      ]
    },
    {
      "cell_type": "code",
      "source": [
        "def map_month_2(row):\n",
        "    if row['month'] in ['mar', 'apr', 'may', 'jun', 'jul', 'aug', 'sep', 'oct', 'nov']:\n",
        "        cat = 'non_winter'\n",
        "    else:\n",
        "        cat = 'winter'\n",
        "    return cat\n",
        "\n",
        "data_2['season_new'] = data_2.apply(map_month_2, axis=1)\n",
        "data_2['season_new'].value_counts(dropna = False)"
      ],
      "metadata": {
        "colab": {
          "base_uri": "https://localhost:8080/"
        },
        "id": "qL36vVE8dj5c",
        "outputId": "fe90f974-d752-4d8e-9d91-0a68ff148a3f"
      },
      "execution_count": null,
      "outputs": [
        {
          "output_type": "execute_result",
          "data": {
            "text/plain": [
              "non_winter    41006\n",
              "winter          182\n",
              "Name: season_new, dtype: int64"
            ]
          },
          "metadata": {},
          "execution_count": 29
        }
      ]
    },
    {
      "cell_type": "code",
      "source": [
        "df_tran_2 = data_2.drop(['job', 'marital', 'education', 'month'], axis=1)"
      ],
      "metadata": {
        "id": "0ZP6wv7CkXz2"
      },
      "execution_count": null,
      "outputs": []
    }
  ]
}